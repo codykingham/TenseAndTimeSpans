{
 "cells": [
  {
   "cell_type": "markdown",
   "metadata": {},
   "source": [
    "<h1 style=\"text-align: center\"> Timex & Tense Associations in Biblical Hebrew</h1>\n",
    "<h3 style=\"text-align: center\">Cody Kingham, MA Biblical Studies & Digital Humanities, VU Amsterdam</h3>\n",
    "<div>\n",
    "<img src=\"../logos/ETCBC.png\" height=\"400\" width=\"400\">\n",
    "<img src=\"../logos/VU_theology.png\" height=\"400\" width=\"400\">\n",
    "</div>\n",
    "\n",
    "<hr>\n",
    "\n",
    "## Hypothesis\n",
    "Certain time expressions (\"timexes\") associate, positively and negatively, with certain tenses in Biblical Hebrew. \n",
    "\n",
    "## Motivation\n",
    "The association of time expressions with certain tenses have the potential to inform us about the semantic content of the elusive Hebrew verbal form.\n",
    "\n",
    "## Methodology\n",
    "This notebook proceeds in two steps: data analysis and inferential analysis.\n",
    "\n",
    "#### 1. Descriptive Analysis\n",
    "This entails describing the data in the HB for **A)** time phrases (i.e. a timex) and **B)** tenses in Biblical Hebrew. This is done through simple counts and visualizations that help get a sense of the data. What kinds of timexes are there in the HB? What kinds of groups can be observed amongst them? How are they distributed in terms of genre and clauses? Likewise, what are the occurrence statistics for all predicative verbs in the HB? How are they distributed? \n",
    "\n",
    "#### 2. Inferential Analysis\n",
    "The second step entails comparing the timexes with the tenses found in their enclosing clause to see if there are any statistically significant associations. For this step, the statistical method of χ^2 can be used. The analysis will consider additional complicating factors such as discourse structure, and the potentially complex interactions between timexes and other semantic entities (including the verb forms). \n",
    "\n",
    "## Theory\n",
    "Theories on the semantic content of the Hebrew verb range from tense/aspect theories (e.g. Cook 2012, Joosten 2012) to discourse theories that stress the absence of inherent tense/aspect (Schneider YEAR; Talstra YEAR; Kalkman 2014). \n",
    "\n",
    "This work proceeds from a theory neutral perspective. It adopts no position with regard to the debate over tense/aspect/discourse function, but it does seek to test those theories against the data.\n",
    "\n",
    "## Background\n",
    "There has only been minimal research on the combination of verb tenses with time expressions in Biblical Hebrew. This is typically limited to select time phrases in studies on verbal tense (e.g. עתה, אז, עוד. Cf. Joosten 2012; Cook 2012; Goldfaijn 1998; but see the helpful work of Van der Merwe 1997).\n",
    "\n",
    "By comparison, there have been several pieces published on the association between tense and time phrases in English (Levickij and Romanova 1997; Harkness 1989). Those studies provide some helpful methodological reflection on the complexity of correlating time phrases to tenses. \n",
    "\n",
    "Comrie's 1985 study provides guidance on the complex interactions between the verb and the timex in language:\n",
    "> Although collocation of tenses with time adverbials can be an important tool in investigating the meaning of tenses, it should again be emphasized that this tool cannot be applied mechanically, since the intervention of other factors may upset any simple association between tense and time adverbial.\n",
    "<br>...<br>\n",
    "> When one takes into account the interaction of tense with other facets of the syntax of a language...one can find a wide range of examples where there is apparent conflict between the time reference of a tense and a co-occurring adverbial. Thus in Portuguese...it is possible to have sentences like quando você chegar, eu já saí 'when you arrive, I will already have left' (Comrie 1985, 30, 31)\n",
    "\n",
    "Comrie also provides some interesting examples in English of seeming \"contradictions\" between a supposed tense and a time adverbial, namely with the perfect tense. These kinds of complicating factors must be kept in mind.\n",
    "\n",
    "\n",
    "## Limitations\n",
    "This study cannot fully explore the problem of timex taxonomy, nor can it account for all of the potential discourse factors that certainly complicate certain associations. Additional problems for further exploration can only be described.\n",
    "\n",
    "<hr>"
   ]
  },
  {
   "cell_type": "code",
   "execution_count": 3,
   "metadata": {
    "collapsed": true
   },
   "outputs": [],
   "source": [
    "# data import\n",
    "timexes <- read.csv('../data/time_phrases.csv')\n",
    "verbs <- read.csv('../data/verbs.csv')"
   ]
  },
  {
   "cell_type": "markdown",
   "metadata": {},
   "source": [
    "<hr>"
   ]
  },
  {
   "cell_type": "markdown",
   "metadata": {},
   "source": [
    "# 1. Data Description: Time Phrases\n",
    "\n",
    "## Simple Counts and Statistics"
   ]
  },
  {
   "cell_type": "code",
   "execution_count": 5,
   "metadata": {},
   "outputs": [
    {
     "data": {
      "text/html": [
       "<ol class=list-inline>\n",
       "\t<li>'book'</li>\n",
       "\t<li>'chapter'</li>\n",
       "\t<li>'verse'</li>\n",
       "\t<li>'clause.n'</li>\n",
       "\t<li>'phrase.n'</li>\n",
       "\t<li>'phrase.trans'</li>\n",
       "\t<li>'preps'</li>\n",
       "\t<li>'num.preps'</li>\n",
       "\t<li>'subs'</li>\n",
       "\t<li>'num.subs'</li>\n",
       "\t<li>'quants'</li>\n",
       "\t<li>'num.quants'</li>\n",
       "\t<li>'pdp.pattern'</li>\n",
       "\t<li>'domain'</li>\n",
       "\t<li>'verb.lex'</li>\n",
       "\t<li>'verb.tense'</li>\n",
       "\t<li>'position.at.vb'</li>\n",
       "\t<li>'position.at.cl'</li>\n",
       "\t<li>'cl.dependency'</li>\n",
       "</ol>\n"
      ],
      "text/latex": [
       "\\begin{enumerate*}\n",
       "\\item 'book'\n",
       "\\item 'chapter'\n",
       "\\item 'verse'\n",
       "\\item 'clause.n'\n",
       "\\item 'phrase.n'\n",
       "\\item 'phrase.trans'\n",
       "\\item 'preps'\n",
       "\\item 'num.preps'\n",
       "\\item 'subs'\n",
       "\\item 'num.subs'\n",
       "\\item 'quants'\n",
       "\\item 'num.quants'\n",
       "\\item 'pdp.pattern'\n",
       "\\item 'domain'\n",
       "\\item 'verb.lex'\n",
       "\\item 'verb.tense'\n",
       "\\item 'position.at.vb'\n",
       "\\item 'position.at.cl'\n",
       "\\item 'cl.dependency'\n",
       "\\end{enumerate*}\n"
      ],
      "text/markdown": [
       "1. 'book'\n",
       "2. 'chapter'\n",
       "3. 'verse'\n",
       "4. 'clause.n'\n",
       "5. 'phrase.n'\n",
       "6. 'phrase.trans'\n",
       "7. 'preps'\n",
       "8. 'num.preps'\n",
       "9. 'subs'\n",
       "10. 'num.subs'\n",
       "11. 'quants'\n",
       "12. 'num.quants'\n",
       "13. 'pdp.pattern'\n",
       "14. 'domain'\n",
       "15. 'verb.lex'\n",
       "16. 'verb.tense'\n",
       "17. 'position.at.vb'\n",
       "18. 'position.at.cl'\n",
       "19. 'cl.dependency'\n",
       "\n",
       "\n"
      ],
      "text/plain": [
       " [1] \"book\"           \"chapter\"        \"verse\"          \"clause.n\"      \n",
       " [5] \"phrase.n\"       \"phrase.trans\"   \"preps\"          \"num.preps\"     \n",
       " [9] \"subs\"           \"num.subs\"       \"quants\"         \"num.quants\"    \n",
       "[13] \"pdp.pattern\"    \"domain\"         \"verb.lex\"       \"verb.tense\"    \n",
       "[17] \"position.at.vb\" \"position.at.cl\" \"cl.dependency\" "
      ]
     },
     "metadata": {},
     "output_type": "display_data"
    }
   ],
   "source": [
    "colnames(timexes)"
   ]
  },
  {
   "cell_type": "code",
   "execution_count": null,
   "metadata": {
    "collapsed": true
   },
   "outputs": [],
   "source": []
  }
 ],
 "metadata": {
  "kernelspec": {
   "display_name": "R",
   "language": "R",
   "name": "ir"
  },
  "language_info": {
   "codemirror_mode": "r",
   "file_extension": ".r",
   "mimetype": "text/x-r-source",
   "name": "R",
   "pygments_lexer": "r",
   "version": "3.4.1"
  }
 },
 "nbformat": 4,
 "nbformat_minor": 2
}
