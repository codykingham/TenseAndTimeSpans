{
 "cells": [
  {
   "cell_type": "markdown",
   "metadata": {},
   "source": [
    "<h1 style=\"text-align: center\"> Timex & Tense Associations in Biblical Hebrew</h1>\n",
    "<h3 style=\"text-align: center\">Cody Kingham, MA Biblical Studies & Digital Humanities, VU Amsterdam</h3>\n",
    "<div>\n",
    "<img src=\"../logos/ETCBC.png\" height=\"400\" width=\"400\">\n",
    "<img src=\"../logos/VU_theology.png\" height=\"400\" width=\"400\">\n",
    "</div>\n",
    "\n",
    "<hr>\n",
    "\n",
    "## Research Question\n",
    "Do certain time expressions (\"timexes\") associate, positively or negatively, with certain tenses in Biblical Hebrew? \n",
    "\n",
    "## Motivation\n",
    "The association of time expressions with certain tenses have the potential to inform us about the semantic content of the elusive Hebrew verbal form.\n",
    "\n",
    "## Methodology\n",
    "This notebook proceeds in two steps: data description and statistical analysis.\n",
    "\n",
    "#### Data Description\n",
    "This entails describing the data in the HB for **A)** time phrases (i.e. a timex) and **B)** tenses in Biblical Hebrew. This is done through simple counts and visualizations that help get a sense of the data. What kinds of timexes are there in the HB? What kinds of groups can be observed amongst them? How are they distributed in terms of genre and clauses? Likewise, what are the occurrence statistics for all predicative verbs in the HB? How are they distributed? \n",
    "\n",
    "#### Statistical Analysis\n",
    "The second step entails comparing the timexes with the tenses found in their enclosing clause to see if there are any statistically significant associations. For this step, the statistical method of χ^2 can be used. The analysis will consider additional complicating factors such as discourse structure, and the potentially complex interactions between timexes and other semantic entities (including the verb forms). \n",
    "\n",
    "## Theory\n",
    "Theories on the semantic content of the Hebrew verb range from tense/aspect theories (e.g. Cook 2012, Joosten 2012) to discourse theories that stress the absence of inherent tense/aspect (Schneider YEAR; Talstra YEAR; Kalkman 2014). \n",
    "\n",
    "This work proceeds from a theory neutral perspective. It adopts no position with regard to the debate over tense/aspect/discourse function, but it does seek to test those theories against the data.\n",
    "\n",
    "## Background\n",
    "There has only been minimal research on the combination of verb tenses with time expressions in Biblical Hebrew. This is typically limited to select time phrases in studies on verbal tense (e.g. עתה, אז, עוד. Cf. Joosten 2012; Cook 2012; Goldfaijn 1998; but see the helpful work of Van der Merwe 1997).\n",
    "\n",
    "By comparison, there have been several pieces published on the association between tense and time phrases in English (Levickij and Romanova 1997; Harkness 1989). Those studies provide some helpful methodological reflection on the complexity of correlating time phrases to tenses. \n",
    "\n",
    "Comrie's 1985 study provides guidance on the complex interactions between the verb and the timex in language:\n",
    "> Although collocation of tenses with time adverbials can be an important tool in investigating the meaning of tenses, it should again be emphasized that this tool cannot be applied mechanically, since the intervention of other factors may upset any simple association between tense and time adverbial.\n",
    "<br>...<br>\n",
    "> When one takes into account the interaction of tense with other facets of the syntax of a language...one can find a wide range of examples where there is apparent conflict between the time reference of a tense and a co-occurring adverbial. Thus in Portuguese...it is possible to have sentences like quando você chegar, eu já saí 'when you arrive, I will already have left' (Comrie 1985, 30, 31)\n",
    "\n",
    "Comrie also provides some interesting examples in English of seeming \"contradictions\" between a supposed tense and a time adverbial, namely with the perfect tense. These kinds of complicating factors must be kept in mind.\n",
    "\n",
    "\n",
    "## Limitations\n",
    "This study cannot fully explore the problem of timex taxonomy, nor can it account for all of the potential discourse factors that certainly complicate certain associations. Additional problems for further exploration can only be described."
   ]
  },
  {
   "cell_type": "code",
   "execution_count": null,
   "metadata": {
    "collapsed": true
   },
   "outputs": [],
   "source": []
  }
 ],
 "metadata": {
  "kernelspec": {
   "display_name": "R",
   "language": "R",
   "name": "ir"
  },
  "language_info": {
   "codemirror_mode": "r",
   "file_extension": ".r",
   "mimetype": "text/x-r-source",
   "name": "R",
   "pygments_lexer": "r",
   "version": "3.4.1"
  }
 },
 "nbformat": 4,
 "nbformat_minor": 2
}
