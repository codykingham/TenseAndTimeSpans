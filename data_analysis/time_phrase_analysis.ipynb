{
 "cells": [
  {
   "cell_type": "markdown",
   "metadata": {},
   "source": [
    "<h1 style=\"text-align: center\"> Timex & Verb Associations in Biblical Hebrew</h1>\n",
    "<h3 style=\"text-align: center\">Cody Kingham, MA Biblical Studies & Digital Humanities, VU Amsterdam</h3>\n",
    "<div>\n",
    "<img src=\"../images/ETCBC.png\" height=\"400\" width=\"400\">\n",
    "<img src=\"../images/VU_theology.png\" height=\"400\" width=\"400\">\n",
    "</div>\n",
    "\n",
    "<hr>\n",
    "\n",
    "## Hypothesis\n",
    "Certain time expressions (\"timexes\") associate, positively and negatively, with certain verb forms in Biblical Hebrew. \n",
    "\n",
    "## Motivation\n",
    "The association of time expressions with certain verbs have the potential to inform us about the semantic content of the elusive Hebrew verbal form.\n",
    "\n",
    "## Methodology\n",
    "\n",
    "Note that the terms timex (time expression) and time phrases will be used interchangably throughout this notebook.\n",
    "\n",
    "This notebook proceeds in two steps: data analysis and inferential analysis.\n",
    "\n",
    "#### 1. Descriptive Analysis\n",
    "This entails describing the data in the HB for **A)** time phrases (i.e. a timex) and **B)** tenses in Biblical Hebrew. This is done through simple counts and visualizations that help get a sense of the data. What kinds of timexes are there in the HB? What kinds of groups can be observed amongst them? How are they distributed in terms of genre and clauses? Likewise, what are the occurrence statistics for all predicative verbs in the HB? How are they distributed? \n",
    "\n",
    "#### 2. Inferential Analysis\n",
    "The second step entails comparing the timexes with the tenses found in their enclosing clause to see if there are any statistically significant associations. For this step, the statistical method of χ^2 can be used. The analysis will consider additional complicating factors such as discourse structure, and the potentially complex interactions between timexes and other semantic entities (including the verb forms). \n",
    "\n",
    "## Theory\n",
    "Theories on the semantic content of the Hebrew verb range from tense/aspect theories (e.g. Cook 2012, Joosten 2012) to discourse theories that stress the absence of inherent tense/aspect (Schneider YEAR; Talstra YEAR; Kalkman 2014\n",
    "<br><span style=\"color: red\">[bibliographical information needs to be corrected and checked, 22-10-17]</span>. \n",
    "\n",
    "This work proceeds from a theory neutral perspective. It adopts no position with regard to the debate over tense/aspect/discourse function, but it does seek to test those theories against the data. In order to test tense/aspect theories, this notebook seeks to see whether there are any associations between semantic carriers of time/aspect (time phrases) and verb tenses.\n",
    "\n",
    "## Background\n",
    "There has only been minimal research on the combination of verb tenses with time expressions in Biblical Hebrew. This is typically limited to select time phrases in studies on verbal tense (e.g. עתה, אז, עוד. cf. Joosten 2012; Cook 2012; Goldfaijn 1998; but see the helpful work of Van der Merwe 1997).\n",
    "\n",
    "By comparison, there have been several pieces published on the association between tense and time phrases in English (Levickij and Romanova 1997; Harkness 1989). Those studies provide some helpful methodological reflection on the complexity of correlating time phrases to tenses. \n",
    "\n",
    "Comrie's 1985 study provides guidance on the complex interactions between the verb and the timex in language:\n",
    "> Although collocation of tenses with time adverbials can be an important tool in investigating the meaning of tenses, it should again be emphasized that this tool cannot be applied mechanically, since the intervention of other factors may upset any simple association between tense and time adverbial.\n",
    "<br>...<br>\n",
    "> When one takes into account the interaction of tense with other facets of the syntax of a language...one can find a wide range of examples where there is apparent conflict between the time reference of a tense and a co-occurring adverbial. Thus in Portuguese...it is possible to have sentences like quando você chegar, eu já saí 'when you arrive, I will already have left' (Comrie 1985, 30, 31)\n",
    "\n",
    "Comrie also provides some interesting examples in English of seeming \"contradictions\" between a supposed tense and a time adverbial, namely with the perfect tense. These kinds of complicating factors must be kept in mind.\n",
    "\n",
    "\n",
    "## Limitations\n",
    "This study cannot fully explore the problem of timex taxonomy, nor can it account for all of the potential discourse factors that certainly complicate certain associations. Additional problems for further exploration can only be described.\n",
    "\n",
    "<hr>"
   ]
  },
  {
   "cell_type": "code",
   "execution_count": 1,
   "metadata": {
    "collapsed": true
   },
   "outputs": [],
   "source": [
    "# data import\n",
    "timexes <- read.csv('../data/time_phrases.csv')\n",
    "verbs <- read.csv('../data/verbs.csv')\n",
    "clauses <- read.csv('../data/all_clauses.csv')"
   ]
  },
  {
   "cell_type": "markdown",
   "metadata": {},
   "source": [
    "<hr>"
   ]
  },
  {
   "cell_type": "markdown",
   "metadata": {},
   "source": [
    "# 1. Data Description: Time Phrases\n",
    "\n",
    "## 1.1. Data Discovery\n",
    "\n",
    "This initial section focuses on exploring and describing the `timexes` dataset, which contains time phrase data at phrase and clause levels for every time phrase that only occurs once in a clause. Time phrases which occur alongside another time phrase in a single clause are thus excluded.\n",
    "\n",
    "### How many different kinds of time phrases are there? \n",
    "\n",
    "Timexe surface forms are stored in the `phrase.trans` column."
   ]
  },
  {
   "cell_type": "code",
   "execution_count": 2,
   "metadata": {
    "scrolled": true
   },
   "outputs": [
    {
     "data": {
      "text/html": [
       "947"
      ],
      "text/latex": [
       "947"
      ],
      "text/markdown": [
       "947"
      ],
      "text/plain": [
       "[1] 947"
      ]
     },
     "metadata": {},
     "output_type": "display_data"
    }
   ],
   "source": [
    "tp.surfaces <- as.data.frame(table(timexes$phrase.trans))\n",
    "\n",
    "colnames(tp.surfaces) <- c('surface','occurrence')\n",
    "\n",
    "length(tp.surfaces$surface)"
   ]
  },
  {
   "cell_type": "markdown",
   "metadata": {},
   "source": [
    "There are `947` surface forms represented in the sample. Below is the top 50 time phrase surface forms:"
   ]
  },
  {
   "cell_type": "code",
   "execution_count": 3,
   "metadata": {},
   "outputs": [
    {
     "data": {
      "text/html": [
       "<table>\n",
       "<thead><tr><th></th><th scope=col>surface</th><th scope=col>occurrence</th></tr></thead>\n",
       "<tbody>\n",
       "\t<tr><th scope=row>75</th><td><span style=white-space:pre-wrap>&lt;TH             </span></td><td>342                                                        </td></tr>\n",
       "\t<tr><th scope=row>318</th><td><span style=white-space:pre-wrap>B H JWM H HW&gt;   </span></td><td>202                                                        </td></tr>\n",
       "\t<tr><th scope=row>615</th><td>H JWM           </td><td>189             </td></tr>\n",
       "\t<tr><th scope=row>720</th><td><span style=white-space:pre-wrap>L &lt;WLM          </span></td><td>101                                                        </td></tr>\n",
       "\t<tr><th scope=row>373</th><td>B JWM           </td><td> 88             </td></tr>\n",
       "\t<tr><th scope=row>676</th><td>KL H JWM        </td><td> 86             </td></tr>\n",
       "\t<tr><th scope=row>267</th><td>B H BQR         </td><td> 78             </td></tr>\n",
       "\t<tr><th scope=row>106</th><td><span style=white-space:pre-wrap>&gt;XR             </span></td><td> 67                                                        </td></tr>\n",
       "\t<tr><th scope=row>140</th><td><span style=white-space:pre-wrap>&gt;Z              </span></td><td> 64                                                        </td></tr>\n",
       "\t<tr><th scope=row>34</th><td><span style=white-space:pre-wrap>&lt;D H JWM H ZH   </span></td><td> 63                                                        </td></tr>\n",
       "\t<tr><th scope=row>538</th><td><span style=white-space:pre-wrap>CB&lt; JWM         </span></td><td> 62                                                        </td></tr>\n",
       "\t<tr><th scope=row>263</th><td><span style=white-space:pre-wrap>B H &lt;T H HJ&gt;    </span></td><td> 55                                                           </td></tr>\n",
       "\t<tr><th scope=row>9</th><td><span style=white-space:pre-wrap>&lt;D &lt;WLM         </span></td><td> 52                                                           </td></tr>\n",
       "\t<tr><th scope=row>122</th><td><span style=white-space:pre-wrap>&gt;XR KN          </span></td><td> 49                                                        </td></tr>\n",
       "\t<tr><th scope=row>23</th><td><span style=white-space:pre-wrap>&lt;D H &lt;RB        </span></td><td> 41                                                           </td></tr>\n",
       "\t<tr><th scope=row>800</th><td>LJLH            </td><td> 40             </td></tr>\n",
       "\t<tr><th scope=row>306</th><td>B H JWM H CBJ&lt;J </td><td> 37                </td></tr>\n",
       "\t<tr><th scope=row>908</th><td>MXR             </td><td> 31             </td></tr>\n",
       "\t<tr><th scope=row>924</th><td>TMJD            </td><td> 30             </td></tr>\n",
       "\t<tr><th scope=row>619</th><td>H JWM H ZH      </td><td> 29             </td></tr>\n",
       "\t<tr><th scope=row>308</th><td>B H JWM H CLJCJ </td><td> 25             </td></tr>\n",
       "\t<tr><th scope=row>778</th><td>L NYX           </td><td> 24             </td></tr>\n",
       "\t<tr><th scope=row>53</th><td><span style=white-space:pre-wrap>&lt;D MTJ          </span></td><td> 23                                                        </td></tr>\n",
       "\t<tr><th scope=row>89</th><td><span style=white-space:pre-wrap>&gt;RB&lt; CNH        </span></td><td> 22                                                           </td></tr>\n",
       "\t<tr><th scope=row>314</th><td>B H JWM H HM    </td><td> 22             </td></tr>\n",
       "\t<tr><th scope=row>684</th><td>KL JWM          </td><td> 22             </td></tr>\n",
       "\t<tr><th scope=row>700</th><td>KL JWM XJJM     </td><td> 22             </td></tr>\n",
       "\t<tr><th scope=row>621</th><td>H LJLH          </td><td> 21             </td></tr>\n",
       "\t<tr><th scope=row>328</th><td>B H LJLH        </td><td> 20             </td></tr>\n",
       "\t<tr><th scope=row>648</th><td>JWMM            </td><td> 20             </td></tr>\n",
       "\t<tr><th scope=row>781</th><td>L PNH           </td><td> 20             </td></tr>\n",
       "\t<tr><th scope=row>864</th><td>MN MXRT         </td><td> 19             </td></tr>\n",
       "\t<tr><th scope=row>144</th><td><span style=white-space:pre-wrap>B &lt;T            </span></td><td> 18                                                        </td></tr>\n",
       "\t<tr><th scope=row>259</th><td><span style=white-space:pre-wrap>B H &lt;RB         </span></td><td> 18                                                        </td></tr>\n",
       "\t<tr><th scope=row>532</th><td><span style=white-space:pre-wrap>CB&lt; CNH         </span></td><td> 17                                                        </td></tr>\n",
       "\t<tr><th scope=row>641</th><td>JWM RB          </td><td> 17             </td></tr>\n",
       "\t<tr><th scope=row>560</th><td>CLC JWM         </td><td> 16             </td></tr>\n",
       "\t<tr><th scope=row>649</th><td>JWMM W LJLH     </td><td> 16             </td></tr>\n",
       "\t<tr><th scope=row>329</th><td><span style=white-space:pre-wrap>B H LJLH H HW&gt;  </span></td><td> 15                                                        </td></tr>\n",
       "\t<tr><th scope=row>311</th><td>B H JWM H CMJNJ </td><td> 14             </td></tr>\n",
       "\t<tr><th scope=row>551</th><td>CC JWM          </td><td> 14             </td></tr>\n",
       "\t<tr><th scope=row>13</th><td><span style=white-space:pre-wrap>&lt;D &gt;N           </span></td><td> 13                                                           </td></tr>\n",
       "\t<tr><th scope=row>165</th><td>B &lt;YM H JWM H ZH</td><td> 13                </td></tr>\n",
       "\t<tr><th scope=row>417</th><td>B JWM H CBT     </td><td> 13             </td></tr>\n",
       "\t<tr><th scope=row>556</th><td>CLC CNH         </td><td> 13             </td></tr>\n",
       "\t<tr><th scope=row>183</th><td><span style=white-space:pre-wrap>B &gt;XRJT H JWM   </span></td><td> 12                                                        </td></tr>\n",
       "\t<tr><th scope=row>481</th><td><span style=white-space:pre-wrap>B KL &lt;T         </span></td><td> 12                                                        </td></tr>\n",
       "\t<tr><th scope=row>550</th><td>CC CNH          </td><td> 12             </td></tr>\n",
       "\t<tr><th scope=row>681</th><td>KL H LJLH       </td><td> 12             </td></tr>\n",
       "\t<tr><th scope=row>112</th><td>&gt;XR H DBR H &gt;LH </td><td> 11                   </td></tr>\n",
       "</tbody>\n",
       "</table>\n"
      ],
      "text/latex": [
       "\\begin{tabular}{r|ll}\n",
       "  & surface & occurrence\\\\\n",
       "\\hline\n",
       "\t75 & <TH              & 342             \\\\\n",
       "\t318 & B H JWM H HW>    & 202             \\\\\n",
       "\t615 & H JWM            & 189             \\\\\n",
       "\t720 & L <WLM           & 101             \\\\\n",
       "\t373 & B JWM            &  88             \\\\\n",
       "\t676 & KL H JWM         &  86             \\\\\n",
       "\t267 & B H BQR          &  78             \\\\\n",
       "\t106 & >XR              &  67             \\\\\n",
       "\t140 & >Z               &  64             \\\\\n",
       "\t34 & <D H JWM H ZH    &  63             \\\\\n",
       "\t538 & CB< JWM          &  62             \\\\\n",
       "\t263 & B H <T H HJ>     &  55             \\\\\n",
       "\t9 & <D <WLM          &  52             \\\\\n",
       "\t122 & >XR KN           &  49             \\\\\n",
       "\t23 & <D H <RB         &  41             \\\\\n",
       "\t800 & LJLH             &  40             \\\\\n",
       "\t306 & B H JWM H CBJ<J  &  37             \\\\\n",
       "\t908 & MXR              &  31             \\\\\n",
       "\t924 & TMJD             &  30             \\\\\n",
       "\t619 & H JWM H ZH       &  29             \\\\\n",
       "\t308 & B H JWM H CLJCJ  &  25             \\\\\n",
       "\t778 & L NYX            &  24             \\\\\n",
       "\t53 & <D MTJ           &  23             \\\\\n",
       "\t89 & >RB< CNH         &  22             \\\\\n",
       "\t314 & B H JWM H HM     &  22             \\\\\n",
       "\t684 & KL JWM           &  22             \\\\\n",
       "\t700 & KL JWM XJJM      &  22             \\\\\n",
       "\t621 & H LJLH           &  21             \\\\\n",
       "\t328 & B H LJLH         &  20             \\\\\n",
       "\t648 & JWMM             &  20             \\\\\n",
       "\t781 & L PNH            &  20             \\\\\n",
       "\t864 & MN MXRT          &  19             \\\\\n",
       "\t144 & B <T             &  18             \\\\\n",
       "\t259 & B H <RB          &  18             \\\\\n",
       "\t532 & CB< CNH          &  17             \\\\\n",
       "\t641 & JWM RB           &  17             \\\\\n",
       "\t560 & CLC JWM          &  16             \\\\\n",
       "\t649 & JWMM W LJLH      &  16             \\\\\n",
       "\t329 & B H LJLH H HW>   &  15             \\\\\n",
       "\t311 & B H JWM H CMJNJ  &  14             \\\\\n",
       "\t551 & CC JWM           &  14             \\\\\n",
       "\t13 & <D >N            &  13             \\\\\n",
       "\t165 & B <YM H JWM H ZH &  13             \\\\\n",
       "\t417 & B JWM H CBT      &  13             \\\\\n",
       "\t556 & CLC CNH          &  13             \\\\\n",
       "\t183 & B >XRJT H JWM    &  12             \\\\\n",
       "\t481 & B KL <T          &  12             \\\\\n",
       "\t550 & CC CNH           &  12             \\\\\n",
       "\t681 & KL H LJLH        &  12             \\\\\n",
       "\t112 & >XR H DBR H >LH  &  11             \\\\\n",
       "\\end{tabular}\n"
      ],
      "text/markdown": [
       "\n",
       "| <!--/--> | surface | occurrence | \n",
       "|---|---|---|---|---|---|---|---|---|---|---|---|---|---|---|---|---|---|---|---|---|---|---|---|---|---|---|---|---|---|---|---|---|---|---|---|---|---|---|---|---|---|---|---|---|---|---|---|---|---|\n",
       "| 75 | <TH              | 342              | \n",
       "| 318 | B H JWM H HW>    | 202              | \n",
       "| 615 | H JWM            | 189              | \n",
       "| 720 | L <WLM           | 101              | \n",
       "| 373 | B JWM            |  88              | \n",
       "| 676 | KL H JWM         |  86              | \n",
       "| 267 | B H BQR          |  78              | \n",
       "| 106 | >XR              |  67              | \n",
       "| 140 | >Z               |  64              | \n",
       "| 34 | <D H JWM H ZH    |  63              | \n",
       "| 538 | CB< JWM          |  62              | \n",
       "| 263 | B H <T H HJ>     |  55              | \n",
       "| 9 | <D <WLM          |  52              | \n",
       "| 122 | >XR KN           |  49              | \n",
       "| 23 | <D H <RB         |  41              | \n",
       "| 800 | LJLH             |  40              | \n",
       "| 306 | B H JWM H CBJ<J  |  37              | \n",
       "| 908 | MXR              |  31              | \n",
       "| 924 | TMJD             |  30              | \n",
       "| 619 | H JWM H ZH       |  29              | \n",
       "| 308 | B H JWM H CLJCJ  |  25              | \n",
       "| 778 | L NYX            |  24              | \n",
       "| 53 | <D MTJ           |  23              | \n",
       "| 89 | >RB< CNH         |  22              | \n",
       "| 314 | B H JWM H HM     |  22              | \n",
       "| 684 | KL JWM           |  22              | \n",
       "| 700 | KL JWM XJJM      |  22              | \n",
       "| 621 | H LJLH           |  21              | \n",
       "| 328 | B H LJLH         |  20              | \n",
       "| 648 | JWMM             |  20              | \n",
       "| 781 | L PNH            |  20              | \n",
       "| 864 | MN MXRT          |  19              | \n",
       "| 144 | B <T             |  18              | \n",
       "| 259 | B H <RB          |  18              | \n",
       "| 532 | CB< CNH          |  17              | \n",
       "| 641 | JWM RB           |  17              | \n",
       "| 560 | CLC JWM          |  16              | \n",
       "| 649 | JWMM W LJLH      |  16              | \n",
       "| 329 | B H LJLH H HW>   |  15              | \n",
       "| 311 | B H JWM H CMJNJ  |  14              | \n",
       "| 551 | CC JWM           |  14              | \n",
       "| 13 | <D >N            |  13              | \n",
       "| 165 | B <YM H JWM H ZH |  13              | \n",
       "| 417 | B JWM H CBT      |  13              | \n",
       "| 556 | CLC CNH          |  13              | \n",
       "| 183 | B >XRJT H JWM    |  12              | \n",
       "| 481 | B KL <T          |  12              | \n",
       "| 550 | CC CNH           |  12              | \n",
       "| 681 | KL H LJLH        |  12              | \n",
       "| 112 | >XR H DBR H >LH  |  11              | \n",
       "\n",
       "\n"
      ],
      "text/plain": [
       "    surface          occurrence\n",
       "75  <TH              342       \n",
       "318 B H JWM H HW>    202       \n",
       "615 H JWM            189       \n",
       "720 L <WLM           101       \n",
       "373 B JWM             88       \n",
       "676 KL H JWM          86       \n",
       "267 B H BQR           78       \n",
       "106 >XR               67       \n",
       "140 >Z                64       \n",
       "34  <D H JWM H ZH     63       \n",
       "538 CB< JWM           62       \n",
       "263 B H <T H HJ>      55       \n",
       "9   <D <WLM           52       \n",
       "122 >XR KN            49       \n",
       "23  <D H <RB          41       \n",
       "800 LJLH              40       \n",
       "306 B H JWM H CBJ<J   37       \n",
       "908 MXR               31       \n",
       "924 TMJD              30       \n",
       "619 H JWM H ZH        29       \n",
       "308 B H JWM H CLJCJ   25       \n",
       "778 L NYX             24       \n",
       "53  <D MTJ            23       \n",
       "89  >RB< CNH          22       \n",
       "314 B H JWM H HM      22       \n",
       "684 KL JWM            22       \n",
       "700 KL JWM XJJM       22       \n",
       "621 H LJLH            21       \n",
       "328 B H LJLH          20       \n",
       "648 JWMM              20       \n",
       "781 L PNH             20       \n",
       "864 MN MXRT           19       \n",
       "144 B <T              18       \n",
       "259 B H <RB           18       \n",
       "532 CB< CNH           17       \n",
       "641 JWM RB            17       \n",
       "560 CLC JWM           16       \n",
       "649 JWMM W LJLH       16       \n",
       "329 B H LJLH H HW>    15       \n",
       "311 B H JWM H CMJNJ   14       \n",
       "551 CC JWM            14       \n",
       "13  <D >N             13       \n",
       "165 B <YM H JWM H ZH  13       \n",
       "417 B JWM H CBT       13       \n",
       "556 CLC CNH           13       \n",
       "183 B >XRJT H JWM     12       \n",
       "481 B KL <T           12       \n",
       "550 CC CNH            12       \n",
       "681 KL H LJLH         12       \n",
       "112 >XR H DBR H >LH   11       "
      ]
     },
     "metadata": {},
     "output_type": "display_data"
    }
   ],
   "source": [
    "head(tp.surfaces[order(tp.surfaces$occurrence, decreasing=T),], 50) # ordered, head w/ top 50"
   ]
  },
  {
   "cell_type": "markdown",
   "metadata": {},
   "source": [
    "### How are surface forms' occurrences distributed?"
   ]
  },
  {
   "cell_type": "code",
   "execution_count": 4,
   "metadata": {
    "scrolled": true
   },
   "outputs": [
    {
     "data": {
      "text/plain": [
       "   Min. 1st Qu.  Median    Mean 3rd Qu.    Max. \n",
       "   1.00    1.00    1.00    3.92    2.00  342.00 "
      ]
     },
     "metadata": {},
     "output_type": "display_data"
    }
   ],
   "source": [
    "summary(tp.surfaces$occurrence) # summary of occurrence counts"
   ]
  },
  {
   "cell_type": "markdown",
   "metadata": {},
   "source": [
    "The summary data shows that there is wide margin between the mode of 342.0, and the mean of 3.92. **This data is therefore not distributed normally** (f. Levshina 2015, 56). The counts for surface forms are visualized below:"
   ]
  },
  {
   "cell_type": "code",
   "execution_count": 5,
   "metadata": {},
   "outputs": [
    {
     "data": {
      "image/png": "[encoded data removed]",
      "text/plain": [
       "Plot with title “Timex Surface Forms”"
      ]
     },
     "metadata": {},
     "output_type": "display_data"
    }
   ],
   "source": [
    "pretty_blue <- '#3686A1' # color is used throughout this nb\n",
    "\n",
    "hist(tp.surfaces$occurrence,\n",
    "     main='Timex Surface Forms',\n",
    "     ylab='Occurrence',\n",
    "     xlab='Rank',\n",
    "     col=pretty_blue\n",
    "    )"
   ]
  },
  {
   "cell_type": "markdown",
   "metadata": {},
   "source": [
    "The distribution of surface forms almost resembles **Zipf's law** for word frequencies, which is the observation that a word's frequency is inversely proportional to its rank in a corpus (Ibid., 62-63). The graph below illustrates this for time phrase surface form occurrences."
   ]
  },
  {
   "cell_type": "code",
   "execution_count": 6,
   "metadata": {},
   "outputs": [
    {
     "data": {
      "image/png": "[encoded data removed]",
      "text/plain": [
       "Plot with title “Surface Form Occurrences - Zipf's Law?”"
      ]
     },
     "metadata": {},
     "output_type": "display_data"
    }
   ],
   "source": [
    "options(repr.plot.width=5, repr.plot.height=5) # adjust plot size\n",
    "\n",
    "# plot time phrase surface form occurrences\n",
    "plot(x=log(1:nrow(tp.surfaces)), # apply log transformations\n",
    "     y=log(sort(tp.surfaces$occurrence, decreasing=T)), # sort\n",
    "     main=\"Surface Form Occurrences - Zipf's Law?\",\n",
    "     type='b', # add lines to plot\n",
    "     ylab='Frequency',\n",
    "     xlab='Surface Form Rank'\n",
    "    )"
   ]
  },
  {
   "cell_type": "markdown",
   "metadata": {},
   "source": [
    "As Zipf's law anticipates, the corpus contains a few (~50) surface forms which are strongly represented. Inversely, a lot of surface forms occur only once. The median occurrence is `1`, backed up by the Interquartile Range (`IQR`):"
   ]
  },
  {
   "cell_type": "code",
   "execution_count": 7,
   "metadata": {},
   "outputs": [
    {
     "data": {
      "text/html": [
       "1"
      ],
      "text/latex": [
       "1"
      ],
      "text/markdown": [
       "1"
      ],
      "text/plain": [
       "[1] 1"
      ]
     },
     "metadata": {},
     "output_type": "display_data"
    }
   ],
   "source": [
    "IQR(tp.surfaces$occurrence)"
   ]
  },
  {
   "cell_type": "markdown",
   "metadata": {},
   "source": [
    "**Just how much of the sample's surface forms are *hapax legomena*?**"
   ]
  },
  {
   "cell_type": "code",
   "execution_count": 8,
   "metadata": {},
   "outputs": [
    {
     "data": {
      "text/html": [
       "0.697993664202746"
      ],
      "text/latex": [
       "0.697993664202746"
      ],
      "text/markdown": [
       "0.697993664202746"
      ],
      "text/plain": [
       "[1] 0.6979937"
      ]
     },
     "metadata": {},
     "output_type": "display_data"
    }
   ],
   "source": [
    "sum(tp.surfaces$occurrence == 1) / length(tp.surfaces$occurrence) # get proportion of hapax"
   ]
  },
  {
   "cell_type": "markdown",
   "metadata": {},
   "source": [
    "So 70% (!) of time phrase surface forms occur only once."
   ]
  },
  {
   "cell_type": "markdown",
   "metadata": {},
   "source": [
    "### Surface Forms // Lexemes ?\n",
    "\n",
    "It is insightful that time phrase surface forms are distributed like lexemes in a corpus (Zipf). There is a lot of diversity reflected in the sample. \n",
    "\n",
    "### How are time phrases distributed throughout the HB?\n",
    "\n",
    "To test this question, **we will assemble time phrase counts by chapter** and then apply measures of dispersion on the counts. The `clauses` dataset contains a simple binary value, `1` or `2` for presence/absence of a time phrase, respectively. The dataset represents all clauses in the HB. We use all clauses in order to also count those chapters that do not contain a time phrase at all (these would otherwise be omitted if we used the `timex` dataset).\n",
    "\n",
    "First the number of clauses in the `clauses` dataset:"
   ]
  },
  {
   "cell_type": "code",
   "execution_count": 9,
   "metadata": {},
   "outputs": [
    {
     "data": {
      "text/html": [
       "86808"
      ],
      "text/latex": [
       "86808"
      ],
      "text/markdown": [
       "86808"
      ],
      "text/plain": [
       "[1] 86808"
      ]
     },
     "metadata": {},
     "output_type": "display_data"
    }
   ],
   "source": [
    "nrow(clauses)"
   ]
  },
  {
   "cell_type": "markdown",
   "metadata": {},
   "source": [
    "There are 86808 Hebrew clauses in the HB.\n",
    "\n",
    "Now for the chapter-by-chapter counts of time phrases within clauses."
   ]
  },
  {
   "cell_type": "code",
   "execution_count": 10,
   "metadata": {},
   "outputs": [
    {
     "name": "stdout",
     "output_type": "stream",
     "text": [
      "\n",
      "sample: "
     ]
    },
    {
     "data": {
      "text/html": [
       "<table>\n",
       "<thead><tr><th scope=col>book.chapter</th><th scope=col>has.timex</th><th scope=col>counts</th></tr></thead>\n",
       "<tbody>\n",
       "\t<tr><td>1_Chronicles.1</td><td>1             </td><td>1             </td></tr>\n",
       "</tbody>\n",
       "</table>\n"
      ],
      "text/latex": [
       "\\begin{tabular}{r|lll}\n",
       " book.chapter & has.timex & counts\\\\\n",
       "\\hline\n",
       "\t 1\\_Chronicles.1 & 1                & 1               \\\\\n",
       "\\end{tabular}\n"
      ],
      "text/markdown": [
       "\n",
       "book.chapter | has.timex | counts | \n",
       "|---|\n",
       "| 1_Chronicles.1 | 1              | 1              | \n",
       "\n",
       "\n"
      ],
      "text/plain": [
       "  book.chapter   has.timex counts\n",
       "1 1_Chronicles.1 1         1     "
      ]
     },
     "metadata": {},
     "output_type": "display_data"
    },
    {
     "name": "stdout",
     "output_type": "stream",
     "text": [
      "\n",
      "summary: "
     ]
    },
    {
     "data": {
      "text/plain": [
       "   Min. 1st Qu.  Median    Mean 3rd Qu.    Max. \n",
       "  0.000   1.000   3.000   4.147   6.000  27.000 "
      ]
     },
     "metadata": {},
     "output_type": "display_data"
    }
   ],
   "source": [
    "clauses$book.chapter <- paste(clauses$book, clauses$chapter, sep='.') # create a book.chapter column\n",
    "\n",
    "tp.chapter <- as.data.frame(table(clauses$book.chapter, clauses$has.timex)) # make the counts\n",
    "\n",
    "colnames(tp.chapter) <- c('book.chapter', 'has.timex', 'counts') # name cols\n",
    "\n",
    "# separate True counts for has.timex\n",
    "# doing it this way ensures chapters with null counts are included\n",
    "tp.chapter <- tp.chapter[tp.chapter$has.timex == 1,]\n",
    "\n",
    "cat('\\nsample: ')\n",
    "head(tp.chapter,1 )# show example\n",
    "\n",
    "\n",
    "cat('\\nsummary: ')\n",
    "summary(tp.chapter$counts) # get summary"
   ]
  },
  {
   "cell_type": "markdown",
   "metadata": {},
   "source": [
    "There is fairly wide range between the minimum and maximum timex counts (27). They do not follow a normal distribution, as evidenced by a histogram (Levshina 2015, 50):"
   ]
  },
  {
   "cell_type": "code",
   "execution_count": 11,
   "metadata": {},
   "outputs": [
    {
     "data": {
      "image/png": "[encoded data removed]",
      "text/plain": [
       "Plot with title “Histogram of Timex Counts by Chapter”"
      ]
     },
     "metadata": {},
     "output_type": "display_data"
    }
   ],
   "source": [
    "hist(tp.chapter$counts,\n",
    "     main='Histogram of Timex Counts by Chapter',\n",
    "     col=pretty_blue,\n",
    "     xlab='Timex Counts'\n",
    "    )"
   ]
  },
  {
   "cell_type": "markdown",
   "metadata": {},
   "source": [
    "We can note that the IQR is relatively low (compared to the maximum value). Combining the counts that fall between the first and third quartiles, **we see that a majority (62%) of the chapters in the HB contain between 1 and 6 time phrases**:"
   ]
  },
  {
   "cell_type": "code",
   "execution_count": 12,
   "metadata": {},
   "outputs": [
    {
     "data": {
      "text/html": [
       "0.615384615384615"
      ],
      "text/latex": [
       "0.615384615384615"
      ],
      "text/markdown": [
       "0.615384615384615"
      ],
      "text/plain": [
       "[1] 0.6153846"
      ]
     },
     "metadata": {},
     "output_type": "display_data"
    }
   ],
   "source": [
    "sum(tp.chapter$counts %in% c(1:6)) / length(tp.chapter$counts)"
   ]
  },
  {
   "cell_type": "markdown",
   "metadata": {},
   "source": [
    "### How are Timexes Distributed Through Books?\n",
    "\n",
    "We see that the distribution of time phrases amongst chapters is fairly uneven, but with a modest proportion of the sample (62%) falling within the IQR. \n",
    "\n",
    "This raises the question. Could the uneven distribution of timexes reflect a problem of division rather than a problem with the distribution? In other words **are timexes distributed more evenly between books than between chapters?**"
   ]
  },
  {
   "cell_type": "code",
   "execution_count": 13,
   "metadata": {
    "collapsed": true
   },
   "outputs": [],
   "source": [
    "book.clauses <- as.data.frame(table(clauses$book)) # count clauses per book\n",
    "\n",
    "tp.book <- as.data.frame(table(clauses$book, clauses$has.timex)) # count time phrases\n",
    "colnames(tp.book) <- c('book', 'has.timex', 'counts') # name cols\n",
    "\n",
    "tp.book <- tp.book[tp.book$has.timex == 1,] # separate True counts for has.timex\n",
    "\n",
    "# normalize the timex counts\n",
    "tp.book$counts <- tp.book$counts / book.clauses[,2] # divide by clause counts per book"
   ]
  },
  {
   "cell_type": "code",
   "execution_count": 14,
   "metadata": {},
   "outputs": [
    {
     "data": {
      "text/plain": [
       "   Min. 1st Qu.  Median    Mean 3rd Qu.    Max. \n",
       "0.01096 0.03325 0.04624 0.04681 0.05657 0.11765 "
      ]
     },
     "metadata": {},
     "output_type": "display_data"
    }
   ],
   "source": [
    "summary(tp.book$counts) # get summary"
   ]
  },
  {
   "cell_type": "markdown",
   "metadata": {},
   "source": [
    "The data exhibits a more normal distribution but with a slight positive skew:"
   ]
  },
  {
   "cell_type": "code",
   "execution_count": 15,
   "metadata": {},
   "outputs": [
    {
     "data": {
      "image/png": "[encoded data removed]",
      "text/plain": [
       "Plot with title “Density Plot of Timexes by Books”"
      ]
     },
     "metadata": {},
     "output_type": "display_data"
    }
   ],
   "source": [
    "plot(density(tp.book$counts),\n",
    "     main='Density Plot of Timexes by Books',\n",
    "     xlab='Proportion of Timexes'\n",
    "    )"
   ]
  },
  {
   "cell_type": "markdown",
   "metadata": {},
   "source": [
    "The normal tendency can be seen with the Q-Q plot:"
   ]
  },
  {
   "cell_type": "code",
   "execution_count": 16,
   "metadata": {
    "scrolled": false
   },
   "outputs": [
    {
     "data": {
      "image/png": "[encoded data removed]",
      "text/plain": [
       "Plot with title “Q-Q Plot of Timex Proportions”"
      ]
     },
     "metadata": {},
     "output_type": "display_data"
    }
   ],
   "source": [
    "qqnorm(tp.book$counts, \n",
    "       main='Q-Q Plot of Timex Proportions'\n",
    "      )\n",
    "qqline(tp.book$counts)"
   ]
  },
  {
   "cell_type": "markdown",
   "metadata": {},
   "source": [
    "**Obadiah, the shortest book of the HB, is the outlier.** It contains a statistically higher proportion of time phrases.\n",
    "\n",
    "*Interestingly, in the sample below, an outlier from an older version of my dataset alerted me to a problem. The Book of Daniel previously appeared with a high count ~0.11. It was then that I realized I had not excluded Aramaic from the dataset. When the adjustment was subsequently made, Daniel as an outlier disappeared. This demonstrates Levshina's point that outliers can signal problems with data collection (2015, 57).*"
   ]
  },
  {
   "cell_type": "code",
   "execution_count": 17,
   "metadata": {
    "scrolled": true
   },
   "outputs": [
    {
     "data": {
      "text/html": [
       "<table>\n",
       "<thead><tr><th></th><th scope=col>book</th><th scope=col>has.timex</th><th scope=col>counts</th></tr></thead>\n",
       "<tbody>\n",
       "\t<tr><th scope=row>33</th><td>Obadiah  </td><td>1        </td><td>0.1176471</td></tr>\n",
       "</tbody>\n",
       "</table>\n"
      ],
      "text/latex": [
       "\\begin{tabular}{r|lll}\n",
       "  & book & has.timex & counts\\\\\n",
       "\\hline\n",
       "\t33 & Obadiah   & 1         & 0.1176471\\\\\n",
       "\\end{tabular}\n"
      ],
      "text/markdown": [
       "\n",
       "| <!--/--> | book | has.timex | counts | \n",
       "|---|\n",
       "| 33 | Obadiah   | 1         | 0.1176471 | \n",
       "\n",
       "\n"
      ],
      "text/plain": [
       "   book    has.timex counts   \n",
       "33 Obadiah 1         0.1176471"
      ]
     },
     "metadata": {},
     "output_type": "display_data"
    }
   ],
   "source": [
    "tp.book[tp.book$counts > 0.0808,]  # get outlier"
   ]
  },
  {
   "cell_type": "markdown",
   "metadata": {},
   "source": [
    "We have demonstrated that time phrases are evenly distributed throughout the Hebrew portions of the HB. Most chapters (62%) contain between 1 and 6 timexes. Most books exhibit between 0.01 - 0.06% (1st and 3rd quartiles) of clauses that also contain a time phrase."
   ]
  },
  {
   "cell_type": "markdown",
   "metadata": {},
   "source": [
    "## Time Phrase Taxonomy\n",
    "\n",
    "The issue of categorizing time phrases is crucial for testing the hypothesis of verb form association. It also presents  big challenges. As seen in the surface form investigation, time phrase expressions are nearly as diverse as lexemes.  \n",
    "\n",
    "The hypothesis that certain timexes associate with certain tenses assumes that there is some kind of interaction between the semantic elements of the timex and the verb tense. Thus, to test the hypothesis, semantic grouping for the timexes is required. \n",
    "\n",
    "A working assumption of this study is that time expression conveys tense/aspect in a more transparent way than verb morphology. The meaning of morphological information is not self-evident as it is neither a concrete nor abstract entity; it is a purely grammatical phenomenon. Time phrases, on the other hand, contain clearer clues as to their time or aspect reference, such as adverbs, substantives, or prepositions. \n",
    "\n",
    "To what degree is it possible to categorize semantic data reflected in time phrases in a consistent way? Since Hebrew is a dead language and we have no access to native intuition, time phrase classifications should be based as much as possible on formal characteristics. This means examining the patterns expressed within the time phrases and establishing groups based on the presence of various elements.\n",
    "\n",
    "The problem of circularity is never fully escaped. Modern human intuition has guided the encoding of the phrases as \"time phrases\"; and modern human intuition guides the selection of discrete features. The hope, then, is that the human element can be somewhat mitigated by the more explicit time/aspect senses communicated by the phrase-internal units.\n",
    "\n",
    "### Part of Speech Elements\n",
    "\n",
    "First we examine time phrase groups based on their internal part of speech patterns. \n",
    "\n",
    "**The count of discrete pdp patterns is given below**, as stored in the `sp.pattern` column of the dataset."
   ]
  },
  {
   "cell_type": "code",
   "execution_count": 18,
   "metadata": {},
   "outputs": [
    {
     "data": {
      "text/html": [
       "270"
      ],
      "text/latex": [
       "270"
      ],
      "text/markdown": [
       "270"
      ],
      "text/plain": [
       "[1] 270"
      ]
     },
     "metadata": {},
     "output_type": "display_data"
    }
   ],
   "source": [
    "length(unique(timexes$pdp.pattern))"
   ]
  },
  {
   "cell_type": "markdown",
   "metadata": {},
   "source": [
    "There are 270 different timex part of speech patterns. **The top 30 will be printed for visual examination.**"
   ]
  },
  {
   "cell_type": "code",
   "execution_count": 19,
   "metadata": {},
   "outputs": [
    {
     "data": {
      "text/html": [
       "<table>\n",
       "<thead><tr><th></th><th scope=col>pdp.pattern</th><th scope=col>count</th></tr></thead>\n",
       "<tbody>\n",
       "\t<tr><th scope=row>1</th><td>advb                                              </td><td>584                                               </td></tr>\n",
       "\t<tr><th scope=row>110</th><td>prep-subs                                         </td><td>460                                               </td></tr>\n",
       "\t<tr><th scope=row>58</th><td>prep-art-subs-art-prde                            </td><td>413                                               </td></tr>\n",
       "\t<tr><th scope=row>34</th><td>prep-art-subs                                     </td><td>294                                               </td></tr>\n",
       "\t<tr><th scope=row>254</th><td>subs-subs                                         </td><td>264                                               </td></tr>\n",
       "\t<tr><th scope=row>23</th><td>art-subs                                          </td><td>214                                               </td></tr>\n",
       "\t<tr><th scope=row>171</th><td>prep-subs-subs                                    </td><td>199                                               </td></tr>\n",
       "\t<tr><th scope=row>37</th><td>prep-art-subs-art-adjv                            </td><td>140                                               </td></tr>\n",
       "\t<tr><th scope=row>238</th><td>subs-art-subs                                     </td><td>103                                               </td></tr>\n",
       "\t<tr><th scope=row>114</th><td>prep-subs-art-subs                                </td><td> 86                                               </td></tr>\n",
       "\t<tr><th scope=row>30</th><td>prep-advb                                         </td><td> 71                                               </td></tr>\n",
       "\t<tr><th scope=row>266</th><td>subs-subs-subs                                    </td><td> 58                                               </td></tr>\n",
       "\t<tr><th scope=row>93</th><td>prep-inrg                                         </td><td> 38                                               </td></tr>\n",
       "\t<tr><th scope=row>214</th><td>prep-subs-subs-subs                               </td><td> 36                                               </td></tr>\n",
       "\t<tr><th scope=row>29</th><td>prep                                              </td><td> 33                                               </td></tr>\n",
       "\t<tr><th scope=row>25</th><td>art-subs-art-prde                                 </td><td> 30                                               </td></tr>\n",
       "\t<tr><th scope=row>248</th><td>subs-conj-subs-subs                               </td><td> 29                                               </td></tr>\n",
       "\t<tr><th scope=row>232</th><td>subs                                              </td><td> 28                                               </td></tr>\n",
       "\t<tr><th scope=row>137</th><td>prep-subs-nmpr                                    </td><td> 24                                               </td></tr>\n",
       "\t<tr><th scope=row>132</th><td>prep-subs-conj-subs                               </td><td> 20                                               </td></tr>\n",
       "\t<tr><th scope=row>6</th><td>advb-conj-advb                                    </td><td> 19                                               </td></tr>\n",
       "\t<tr><th scope=row>116</th><td>prep-subs-art-subs-art-prde                       </td><td> 19                                               </td></tr>\n",
       "\t<tr><th scope=row>233</th><td>subs-adjv                                         </td><td> 19                                               </td></tr>\n",
       "\t<tr><th scope=row>258</th><td>subs-subs-conj-subs-subs                          </td><td> 19                                               </td></tr>\n",
       "\t<tr><th scope=row>79</th><td>prep-art-subs-prep-art-subs                       </td><td> 15                                               </td></tr>\n",
       "\t<tr><th scope=row>166</th><td>prep-subs-prep-subs                               </td><td> 15                                               </td></tr>\n",
       "\t<tr><th scope=row>71</th><td>prep-art-subs-conj-prep-art-subs                  </td><td> 10                                               </td></tr>\n",
       "\t<tr><th scope=row>11</th><td>advb-prep-art-subs-art-prde                       </td><td>  9                                               </td></tr>\n",
       "\t<tr><th scope=row>111</th><td>prep-subs-adjv                                    </td><td>  9                                               </td></tr>\n",
       "\t<tr><th scope=row>246</th><td>subs-conj-subs                                    </td><td>  9                                               </td></tr>\n",
       "\t<tr><th scope=row>32</th><td>prep-advb-conj-prep-subs                          </td><td>  8                                               </td></tr>\n",
       "\t<tr><th scope=row>179</th><td>prep-subs-subs-conj-subs                          </td><td>  8                                               </td></tr>\n",
       "\t<tr><th scope=row>198</th><td>prep-subs-subs-prep-art-subs-art-adjv             </td><td>  8                                               </td></tr>\n",
       "\t<tr><th scope=row>204</th><td>prep-subs-subs-prep-nmpr-subs-nmpr                </td><td>  8                                               </td></tr>\n",
       "\t<tr><th scope=row>2</th><td>advb-advb                                         </td><td>  7                                               </td></tr>\n",
       "\t<tr><th scope=row>36</th><td>prep-art-subs-advb                                </td><td>  7                                               </td></tr>\n",
       "\t<tr><th scope=row>149</th><td>prep-subs-nmpr-subs-nmpr                          </td><td>  7                                               </td></tr>\n",
       "\t<tr><th scope=row>220</th><td>prep-subs-subs-subs-prep-art-subs-nmpr            </td><td>  7                                               </td></tr>\n",
       "\t<tr><th scope=row>252</th><td>subs-prep-subs                                    </td><td>  7                                               </td></tr>\n",
       "\t<tr><th scope=row>102</th><td>prep-prep-subs                                    </td><td>  6                                               </td></tr>\n",
       "\t<tr><th scope=row>115</th><td>prep-subs-art-subs-art-adjv                       </td><td>  6                                               </td></tr>\n",
       "\t<tr><th scope=row>192</th><td>prep-subs-subs-nmpr                               </td><td>  6                                               </td></tr>\n",
       "\t<tr><th scope=row>259</th><td>subs-subs-conj-subs-subs-subs                     </td><td>  6                                               </td></tr>\n",
       "\t<tr><th scope=row>159</th><td>prep-subs-prep-art-subs                           </td><td>  5                                               </td></tr>\n",
       "\t<tr><th scope=row>206</th><td>prep-subs-subs-prep-nmpr-subs-nmpr-subs-nmpr      </td><td>  5                                               </td></tr>\n",
       "\t<tr><th scope=row>255</th><td>subs-subs-adjv                                    </td><td>  5                                               </td></tr>\n",
       "\t<tr><th scope=row>256</th><td>subs-subs-art-subs                                </td><td>  5                                               </td></tr>\n",
       "\t<tr><th scope=row>260</th><td>subs-subs-nmpr                                    </td><td>  5                                               </td></tr>\n",
       "\t<tr><th scope=row>5</th><td>advb-art-subs                                     </td><td>  4                                               </td></tr>\n",
       "\t<tr><th scope=row>46</th><td>prep-art-subs-art-adjv-prep-art-subs-prep-art-subs</td><td>  4                                               </td></tr>\n",
       "\t<tr><th scope=row>60</th><td>prep-art-subs-art-prde-conj-prep-art-subs-art-prde</td><td>  4                                               </td></tr>\n",
       "\t<tr><th scope=row>80</th><td>prep-art-subs-prep-art-subs-art-adjv              </td><td>  4                                               </td></tr>\n",
       "\t<tr><th scope=row>97</th><td>prep-prep-art-subs                                </td><td>  4                                               </td></tr>\n",
       "\t<tr><th scope=row>112</th><td>prep-subs-advb                                    </td><td>  4                                               </td></tr>\n",
       "\t<tr><th scope=row>152</th><td>prep-subs-nmpr-subs-nmpr-subs-nmpr                </td><td>  4                                               </td></tr>\n",
       "\t<tr><th scope=row>160</th><td>prep-subs-prep-art-subs-art-adjv                  </td><td>  4                                               </td></tr>\n",
       "\t<tr><th scope=row>173</th><td>prep-subs-subs-art-subs                           </td><td>  4                                               </td></tr>\n",
       "\t<tr><th scope=row>207</th><td>prep-subs-subs-prep-subs                          </td><td>  4                                               </td></tr>\n",
       "\t<tr><th scope=row>251</th><td>subs-prep-art-subs                                </td><td>  4                                               </td></tr>\n",
       "\t<tr><th scope=row>3</th><td>advb-advb-advb-advb                               </td><td>  3                                               </td></tr>\n",
       "</tbody>\n",
       "</table>\n"
      ],
      "text/latex": [
       "\\begin{tabular}{r|ll}\n",
       "  & pdp.pattern & count\\\\\n",
       "\\hline\n",
       "\t1 & advb                                               & 584                                               \\\\\n",
       "\t110 & prep-subs                                          & 460                                               \\\\\n",
       "\t58 & prep-art-subs-art-prde                             & 413                                               \\\\\n",
       "\t34 & prep-art-subs                                      & 294                                               \\\\\n",
       "\t254 & subs-subs                                          & 264                                               \\\\\n",
       "\t23 & art-subs                                           & 214                                               \\\\\n",
       "\t171 & prep-subs-subs                                     & 199                                               \\\\\n",
       "\t37 & prep-art-subs-art-adjv                             & 140                                               \\\\\n",
       "\t238 & subs-art-subs                                      & 103                                               \\\\\n",
       "\t114 & prep-subs-art-subs                                 &  86                                               \\\\\n",
       "\t30 & prep-advb                                          &  71                                               \\\\\n",
       "\t266 & subs-subs-subs                                     &  58                                               \\\\\n",
       "\t93 & prep-inrg                                          &  38                                               \\\\\n",
       "\t214 & prep-subs-subs-subs                                &  36                                               \\\\\n",
       "\t29 & prep                                               &  33                                               \\\\\n",
       "\t25 & art-subs-art-prde                                  &  30                                               \\\\\n",
       "\t248 & subs-conj-subs-subs                                &  29                                               \\\\\n",
       "\t232 & subs                                               &  28                                               \\\\\n",
       "\t137 & prep-subs-nmpr                                     &  24                                               \\\\\n",
       "\t132 & prep-subs-conj-subs                                &  20                                               \\\\\n",
       "\t6 & advb-conj-advb                                     &  19                                               \\\\\n",
       "\t116 & prep-subs-art-subs-art-prde                        &  19                                               \\\\\n",
       "\t233 & subs-adjv                                          &  19                                               \\\\\n",
       "\t258 & subs-subs-conj-subs-subs                           &  19                                               \\\\\n",
       "\t79 & prep-art-subs-prep-art-subs                        &  15                                               \\\\\n",
       "\t166 & prep-subs-prep-subs                                &  15                                               \\\\\n",
       "\t71 & prep-art-subs-conj-prep-art-subs                   &  10                                               \\\\\n",
       "\t11 & advb-prep-art-subs-art-prde                        &   9                                               \\\\\n",
       "\t111 & prep-subs-adjv                                     &   9                                               \\\\\n",
       "\t246 & subs-conj-subs                                     &   9                                               \\\\\n",
       "\t32 & prep-advb-conj-prep-subs                           &   8                                               \\\\\n",
       "\t179 & prep-subs-subs-conj-subs                           &   8                                               \\\\\n",
       "\t198 & prep-subs-subs-prep-art-subs-art-adjv              &   8                                               \\\\\n",
       "\t204 & prep-subs-subs-prep-nmpr-subs-nmpr                 &   8                                               \\\\\n",
       "\t2 & advb-advb                                          &   7                                               \\\\\n",
       "\t36 & prep-art-subs-advb                                 &   7                                               \\\\\n",
       "\t149 & prep-subs-nmpr-subs-nmpr                           &   7                                               \\\\\n",
       "\t220 & prep-subs-subs-subs-prep-art-subs-nmpr             &   7                                               \\\\\n",
       "\t252 & subs-prep-subs                                     &   7                                               \\\\\n",
       "\t102 & prep-prep-subs                                     &   6                                               \\\\\n",
       "\t115 & prep-subs-art-subs-art-adjv                        &   6                                               \\\\\n",
       "\t192 & prep-subs-subs-nmpr                                &   6                                               \\\\\n",
       "\t259 & subs-subs-conj-subs-subs-subs                      &   6                                               \\\\\n",
       "\t159 & prep-subs-prep-art-subs                            &   5                                               \\\\\n",
       "\t206 & prep-subs-subs-prep-nmpr-subs-nmpr-subs-nmpr       &   5                                               \\\\\n",
       "\t255 & subs-subs-adjv                                     &   5                                               \\\\\n",
       "\t256 & subs-subs-art-subs                                 &   5                                               \\\\\n",
       "\t260 & subs-subs-nmpr                                     &   5                                               \\\\\n",
       "\t5 & advb-art-subs                                      &   4                                               \\\\\n",
       "\t46 & prep-art-subs-art-adjv-prep-art-subs-prep-art-subs &   4                                               \\\\\n",
       "\t60 & prep-art-subs-art-prde-conj-prep-art-subs-art-prde &   4                                               \\\\\n",
       "\t80 & prep-art-subs-prep-art-subs-art-adjv               &   4                                               \\\\\n",
       "\t97 & prep-prep-art-subs                                 &   4                                               \\\\\n",
       "\t112 & prep-subs-advb                                     &   4                                               \\\\\n",
       "\t152 & prep-subs-nmpr-subs-nmpr-subs-nmpr                 &   4                                               \\\\\n",
       "\t160 & prep-subs-prep-art-subs-art-adjv                   &   4                                               \\\\\n",
       "\t173 & prep-subs-subs-art-subs                            &   4                                               \\\\\n",
       "\t207 & prep-subs-subs-prep-subs                           &   4                                               \\\\\n",
       "\t251 & subs-prep-art-subs                                 &   4                                               \\\\\n",
       "\t3 & advb-advb-advb-advb                                &   3                                               \\\\\n",
       "\\end{tabular}\n"
      ],
      "text/markdown": [
       "\n",
       "| <!--/--> | pdp.pattern | count | \n",
       "|---|---|---|---|---|---|---|---|---|---|---|---|---|---|---|---|---|---|---|---|---|---|---|---|---|---|---|---|---|---|---|---|---|---|---|---|---|---|---|---|---|---|---|---|---|---|---|---|---|---|---|---|---|---|---|---|---|---|---|---|\n",
       "| 1 | advb                                               | 584                                                | \n",
       "| 110 | prep-subs                                          | 460                                                | \n",
       "| 58 | prep-art-subs-art-prde                             | 413                                                | \n",
       "| 34 | prep-art-subs                                      | 294                                                | \n",
       "| 254 | subs-subs                                          | 264                                                | \n",
       "| 23 | art-subs                                           | 214                                                | \n",
       "| 171 | prep-subs-subs                                     | 199                                                | \n",
       "| 37 | prep-art-subs-art-adjv                             | 140                                                | \n",
       "| 238 | subs-art-subs                                      | 103                                                | \n",
       "| 114 | prep-subs-art-subs                                 |  86                                                | \n",
       "| 30 | prep-advb                                          |  71                                                | \n",
       "| 266 | subs-subs-subs                                     |  58                                                | \n",
       "| 93 | prep-inrg                                          |  38                                                | \n",
       "| 214 | prep-subs-subs-subs                                |  36                                                | \n",
       "| 29 | prep                                               |  33                                                | \n",
       "| 25 | art-subs-art-prde                                  |  30                                                | \n",
       "| 248 | subs-conj-subs-subs                                |  29                                                | \n",
       "| 232 | subs                                               |  28                                                | \n",
       "| 137 | prep-subs-nmpr                                     |  24                                                | \n",
       "| 132 | prep-subs-conj-subs                                |  20                                                | \n",
       "| 6 | advb-conj-advb                                     |  19                                                | \n",
       "| 116 | prep-subs-art-subs-art-prde                        |  19                                                | \n",
       "| 233 | subs-adjv                                          |  19                                                | \n",
       "| 258 | subs-subs-conj-subs-subs                           |  19                                                | \n",
       "| 79 | prep-art-subs-prep-art-subs                        |  15                                                | \n",
       "| 166 | prep-subs-prep-subs                                |  15                                                | \n",
       "| 71 | prep-art-subs-conj-prep-art-subs                   |  10                                                | \n",
       "| 11 | advb-prep-art-subs-art-prde                        |   9                                                | \n",
       "| 111 | prep-subs-adjv                                     |   9                                                | \n",
       "| 246 | subs-conj-subs                                     |   9                                                | \n",
       "| 32 | prep-advb-conj-prep-subs                           |   8                                                | \n",
       "| 179 | prep-subs-subs-conj-subs                           |   8                                                | \n",
       "| 198 | prep-subs-subs-prep-art-subs-art-adjv              |   8                                                | \n",
       "| 204 | prep-subs-subs-prep-nmpr-subs-nmpr                 |   8                                                | \n",
       "| 2 | advb-advb                                          |   7                                                | \n",
       "| 36 | prep-art-subs-advb                                 |   7                                                | \n",
       "| 149 | prep-subs-nmpr-subs-nmpr                           |   7                                                | \n",
       "| 220 | prep-subs-subs-subs-prep-art-subs-nmpr             |   7                                                | \n",
       "| 252 | subs-prep-subs                                     |   7                                                | \n",
       "| 102 | prep-prep-subs                                     |   6                                                | \n",
       "| 115 | prep-subs-art-subs-art-adjv                        |   6                                                | \n",
       "| 192 | prep-subs-subs-nmpr                                |   6                                                | \n",
       "| 259 | subs-subs-conj-subs-subs-subs                      |   6                                                | \n",
       "| 159 | prep-subs-prep-art-subs                            |   5                                                | \n",
       "| 206 | prep-subs-subs-prep-nmpr-subs-nmpr-subs-nmpr       |   5                                                | \n",
       "| 255 | subs-subs-adjv                                     |   5                                                | \n",
       "| 256 | subs-subs-art-subs                                 |   5                                                | \n",
       "| 260 | subs-subs-nmpr                                     |   5                                                | \n",
       "| 5 | advb-art-subs                                      |   4                                                | \n",
       "| 46 | prep-art-subs-art-adjv-prep-art-subs-prep-art-subs |   4                                                | \n",
       "| 60 | prep-art-subs-art-prde-conj-prep-art-subs-art-prde |   4                                                | \n",
       "| 80 | prep-art-subs-prep-art-subs-art-adjv               |   4                                                | \n",
       "| 97 | prep-prep-art-subs                                 |   4                                                | \n",
       "| 112 | prep-subs-advb                                     |   4                                                | \n",
       "| 152 | prep-subs-nmpr-subs-nmpr-subs-nmpr                 |   4                                                | \n",
       "| 160 | prep-subs-prep-art-subs-art-adjv                   |   4                                                | \n",
       "| 173 | prep-subs-subs-art-subs                            |   4                                                | \n",
       "| 207 | prep-subs-subs-prep-subs                           |   4                                                | \n",
       "| 251 | subs-prep-art-subs                                 |   4                                                | \n",
       "| 3 | advb-advb-advb-advb                                |   3                                                | \n",
       "\n",
       "\n"
      ],
      "text/plain": [
       "    pdp.pattern                                        count\n",
       "1   advb                                               584  \n",
       "110 prep-subs                                          460  \n",
       "58  prep-art-subs-art-prde                             413  \n",
       "34  prep-art-subs                                      294  \n",
       "254 subs-subs                                          264  \n",
       "23  art-subs                                           214  \n",
       "171 prep-subs-subs                                     199  \n",
       "37  prep-art-subs-art-adjv                             140  \n",
       "238 subs-art-subs                                      103  \n",
       "114 prep-subs-art-subs                                  86  \n",
       "30  prep-advb                                           71  \n",
       "266 subs-subs-subs                                      58  \n",
       "93  prep-inrg                                           38  \n",
       "214 prep-subs-subs-subs                                 36  \n",
       "29  prep                                                33  \n",
       "25  art-subs-art-prde                                   30  \n",
       "248 subs-conj-subs-subs                                 29  \n",
       "232 subs                                                28  \n",
       "137 prep-subs-nmpr                                      24  \n",
       "132 prep-subs-conj-subs                                 20  \n",
       "6   advb-conj-advb                                      19  \n",
       "116 prep-subs-art-subs-art-prde                         19  \n",
       "233 subs-adjv                                           19  \n",
       "258 subs-subs-conj-subs-subs                            19  \n",
       "79  prep-art-subs-prep-art-subs                         15  \n",
       "166 prep-subs-prep-subs                                 15  \n",
       "71  prep-art-subs-conj-prep-art-subs                    10  \n",
       "11  advb-prep-art-subs-art-prde                          9  \n",
       "111 prep-subs-adjv                                       9  \n",
       "246 subs-conj-subs                                       9  \n",
       "32  prep-advb-conj-prep-subs                             8  \n",
       "179 prep-subs-subs-conj-subs                             8  \n",
       "198 prep-subs-subs-prep-art-subs-art-adjv                8  \n",
       "204 prep-subs-subs-prep-nmpr-subs-nmpr                   8  \n",
       "2   advb-advb                                            7  \n",
       "36  prep-art-subs-advb                                   7  \n",
       "149 prep-subs-nmpr-subs-nmpr                             7  \n",
       "220 prep-subs-subs-subs-prep-art-subs-nmpr               7  \n",
       "252 subs-prep-subs                                       7  \n",
       "102 prep-prep-subs                                       6  \n",
       "115 prep-subs-art-subs-art-adjv                          6  \n",
       "192 prep-subs-subs-nmpr                                  6  \n",
       "259 subs-subs-conj-subs-subs-subs                        6  \n",
       "159 prep-subs-prep-art-subs                              5  \n",
       "206 prep-subs-subs-prep-nmpr-subs-nmpr-subs-nmpr         5  \n",
       "255 subs-subs-adjv                                       5  \n",
       "256 subs-subs-art-subs                                   5  \n",
       "260 subs-subs-nmpr                                       5  \n",
       "5   advb-art-subs                                        4  \n",
       "46  prep-art-subs-art-adjv-prep-art-subs-prep-art-subs   4  \n",
       "60  prep-art-subs-art-prde-conj-prep-art-subs-art-prde   4  \n",
       "80  prep-art-subs-prep-art-subs-art-adjv                 4  \n",
       "97  prep-prep-art-subs                                   4  \n",
       "112 prep-subs-advb                                       4  \n",
       "152 prep-subs-nmpr-subs-nmpr-subs-nmpr                   4  \n",
       "160 prep-subs-prep-art-subs-art-adjv                     4  \n",
       "173 prep-subs-subs-art-subs                              4  \n",
       "207 prep-subs-subs-prep-subs                             4  \n",
       "251 subs-prep-art-subs                                   4  \n",
       "3   advb-advb-advb-advb                                  3  "
      ]
     },
     "metadata": {},
     "output_type": "display_data"
    }
   ],
   "source": [
    "tp.pdp <- as.data.frame(table(timexes$pdp.pattern)) # make a count of pdp patterns\n",
    "colnames(tp.pdp) <- c('pdp.pattern', 'count') # col names\n",
    "tp.pdp <- tp.pdp[order(tp.pdp$count, decreasing=T),] # order by count\n",
    "\n",
    "head(tp.pdp, 60)"
   ]
  },
  {
   "cell_type": "code",
   "execution_count": 20,
   "metadata": {},
   "outputs": [
    {
     "data": {
      "text/html": [
       "<table>\n",
       "<thead><tr><th></th><th scope=col>book</th><th scope=col>chapter</th><th scope=col>verse</th><th scope=col>clause.n</th><th scope=col>phrase.n</th><th scope=col>phrase.trans</th><th scope=col>preps</th><th scope=col>num.preps</th><th scope=col>subs</th><th scope=col>num.subs</th><th scope=col>⋯</th><th scope=col>advbs</th><th scope=col>num.advbs</th><th scope=col>pdp.pattern</th><th scope=col>domain</th><th scope=col>verb.lex</th><th scope=col>verb.tense</th><th scope=col>position.at.vb</th><th scope=col>position.at.cl</th><th scope=col>cl.dependency</th><th scope=col>timex.group</th></tr></thead>\n",
       "<tbody>\n",
       "\t<tr><th scope=row>301</th><td><span style=white-space:pre-wrap>Exodus  </span></td><td> 9                                              </td><td>18                                              </td><td>434494                                          </td><td>672320                                          </td><td>K H &lt;T MXR                                   </td><td>K                                               </td><td>1                                               </td><td>&lt;T/                                          </td><td>1                                               </td><td>⋯                                               </td><td>MXR/                                            </td><td>1                                               </td><td>prep-art-subs-advb                              </td><td>Q                                               </td><td><span style=white-space:pre-wrap>ø   </span>    </td><td><span style=white-space:pre-wrap>ø   </span>    </td><td>2                                               </td><td>3                                               </td><td>I                                               </td><td>internal.deictic_future.subunit                 </td></tr>\n",
       "\t<tr><th scope=row>1365</th><td>1_Samuel                       </td><td> 9                             </td><td>16                             </td><td>454830                         </td><td>734318                         </td><td>K H &lt;T MXR                  </td><td>K                              </td><td>1                              </td><td>&lt;T/                         </td><td>1                              </td><td>⋯                              </td><td>MXR/                           </td><td>1                              </td><td>prep-art-subs-advb             </td><td>Q                              </td><td>CLX[                           </td><td>impf                           </td><td>2                              </td><td>1                              </td><td>I                              </td><td>internal.deictic_future.subunit</td></tr>\n",
       "\t<tr><th scope=row>1854</th><td>1_Kings                        </td><td>19                             </td><td> 2                             </td><td>463939                         </td><td>761818                         </td><td>K H &lt;T MXR                  </td><td>K                              </td><td>1                              </td><td>&lt;T/                         </td><td>1                              </td><td>⋯                              </td><td>MXR/                           </td><td>1                              </td><td>prep-art-subs-advb             </td><td>Q                              </td><td>FJM[                           </td><td>impf                           </td><td>2                              </td><td>2                              </td><td>I                              </td><td>internal.deictic_future.subunit</td></tr>\n",
       "\t<tr><th scope=row>1856</th><td>1_Kings                        </td><td>20                             </td><td> 6                             </td><td>464088                         </td><td>762220                         </td><td>K H &lt;T MXR                  </td><td>K                              </td><td>1                              </td><td>&lt;T/                         </td><td>1                              </td><td>⋯                              </td><td>MXR/                           </td><td>1                              </td><td>prep-art-subs-advb             </td><td>Q                              </td><td>CLX[                           </td><td>impf                           </td><td>2                              </td><td>2                              </td><td>I                              </td><td>internal.deictic_future.subunit</td></tr>\n",
       "\t<tr><th scope=row>1913</th><td>2_Kings                                     </td><td> 7                                          </td><td> 1                                          </td><td>465721                                      </td><td>766831                                      </td><td>K H &lt;T MXR                               </td><td>K                                           </td><td>1                                           </td><td>&lt;T/                                      </td><td>1                                           </td><td>⋯                                           </td><td>MXR/                                        </td><td>1                                           </td><td>prep-art-subs-advb                          </td><td>Q                                           </td><td><span style=white-space:pre-wrap>ø   </span></td><td><span style=white-space:pre-wrap>ø   </span></td><td>2                                           </td><td>1                                           </td><td>I                                           </td><td>internal.deictic_future.subunit             </td></tr>\n",
       "\t<tr><th scope=row>1919</th><td>2_Kings                        </td><td> 7                             </td><td>18                             </td><td>465849                         </td><td>767177                         </td><td>K H &lt;T MXR                  </td><td>K                              </td><td>1                              </td><td>&lt;T/                         </td><td>1                              </td><td>⋯                              </td><td>MXR/                           </td><td>1                              </td><td>prep-art-subs-advb             </td><td>Q                              </td><td>HJH[                           </td><td>impf                           </td><td>2                              </td><td>5                              </td><td>I                              </td><td>internal.deictic_future.subunit</td></tr>\n",
       "\t<tr><th scope=row>1937</th><td>2_Kings                        </td><td>10                             </td><td> 6                             </td><td>466248                         </td><td>768289                         </td><td>K H &lt;T MXR                  </td><td>K                              </td><td>1                              </td><td>&lt;T/                         </td><td>1                              </td><td>⋯                              </td><td>MXR/                           </td><td>1                              </td><td>prep-art-subs-advb             </td><td>Q                              </td><td>BW&gt;[                        </td><td>impv                           </td><td>2                              </td><td>4                              </td><td>I                              </td><td>internal.deictic_future.subunit</td></tr>\n",
       "</tbody>\n",
       "</table>\n"
      ],
      "text/latex": [
       "\\begin{tabular}{r|llllllllllllllllllllll}\n",
       "  & book & chapter & verse & clause.n & phrase.n & phrase.trans & preps & num.preps & subs & num.subs & ⋯ & advbs & num.advbs & pdp.pattern & domain & verb.lex & verb.tense & position.at.vb & position.at.cl & cl.dependency & timex.group\\\\\n",
       "\\hline\n",
       "\t301 & Exodus                            &  9                                & 18                                & 434494                            & 672320                            & K H <T MXR                        & K                                 & 1                                 & <T/                               & 1                                 & ⋯                                 & MXR/                              & 1                                 & prep-art-subs-advb                & Q                                 & ø                                 & ø                                 & 2                                 & 3                                 & I                                 & internal.deictic\\_future.subunit\\\\\n",
       "\t1365 & 1\\_Samuel                        &  9                                & 16                                & 454830                            & 734318                            & K H <T MXR                        & K                                 & 1                                 & <T/                               & 1                                 & ⋯                                 & MXR/                              & 1                                 & prep-art-subs-advb                & Q                                 & CLX{[}                            & impf                              & 2                                 & 1                                 & I                                 & internal.deictic\\_future.subunit\\\\\n",
       "\t1854 & 1\\_Kings                         & 19                                &  2                                & 463939                            & 761818                            & K H <T MXR                        & K                                 & 1                                 & <T/                               & 1                                 & ⋯                                 & MXR/                              & 1                                 & prep-art-subs-advb                & Q                                 & FJM{[}                            & impf                              & 2                                 & 2                                 & I                                 & internal.deictic\\_future.subunit\\\\\n",
       "\t1856 & 1\\_Kings                         & 20                                &  6                                & 464088                            & 762220                            & K H <T MXR                        & K                                 & 1                                 & <T/                               & 1                                 & ⋯                                 & MXR/                              & 1                                 & prep-art-subs-advb                & Q                                 & CLX{[}                            & impf                              & 2                                 & 2                                 & I                                 & internal.deictic\\_future.subunit\\\\\n",
       "\t1913 & 2\\_Kings                         &  7                                &  1                                & 465721                            & 766831                            & K H <T MXR                        & K                                 & 1                                 & <T/                               & 1                                 & ⋯                                 & MXR/                              & 1                                 & prep-art-subs-advb                & Q                                 & ø                                 & ø                                 & 2                                 & 1                                 & I                                 & internal.deictic\\_future.subunit\\\\\n",
       "\t1919 & 2\\_Kings                         &  7                                & 18                                & 465849                            & 767177                            & K H <T MXR                        & K                                 & 1                                 & <T/                               & 1                                 & ⋯                                 & MXR/                              & 1                                 & prep-art-subs-advb                & Q                                 & HJH{[}                            & impf                              & 2                                 & 5                                 & I                                 & internal.deictic\\_future.subunit\\\\\n",
       "\t1937 & 2\\_Kings                         & 10                                &  6                                & 466248                            & 768289                            & K H <T MXR                        & K                                 & 1                                 & <T/                               & 1                                 & ⋯                                 & MXR/                              & 1                                 & prep-art-subs-advb                & Q                                 & BW>{[}                            & impv                              & 2                                 & 4                                 & I                                 & internal.deictic\\_future.subunit\\\\\n",
       "\\end{tabular}\n"
      ],
      "text/markdown": [
       "\n",
       "| <!--/--> | book | chapter | verse | clause.n | phrase.n | phrase.trans | preps | num.preps | subs | num.subs | ⋯ | advbs | num.advbs | pdp.pattern | domain | verb.lex | verb.tense | position.at.vb | position.at.cl | cl.dependency | timex.group | \n",
       "|---|---|---|---|---|---|---|\n",
       "| 301 | Exodus                          |  9                              | 18                              | 434494                          | 672320                          | K H <T MXR                      | K                               | 1                               | <T/                             | 1                               | ⋯                               | MXR/                            | 1                               | prep-art-subs-advb              | Q                               | ø                               | ø                               | 2                               | 3                               | I                               | internal.deictic_future.subunit | \n",
       "| 1365 | 1_Samuel                        |  9                              | 16                              | 454830                          | 734318                          | K H <T MXR                      | K                               | 1                               | <T/                             | 1                               | ⋯                               | MXR/                            | 1                               | prep-art-subs-advb              | Q                               | CLX[                            | impf                            | 2                               | 1                               | I                               | internal.deictic_future.subunit | \n",
       "| 1854 | 1_Kings                         | 19                              |  2                              | 463939                          | 761818                          | K H <T MXR                      | K                               | 1                               | <T/                             | 1                               | ⋯                               | MXR/                            | 1                               | prep-art-subs-advb              | Q                               | FJM[                            | impf                            | 2                               | 2                               | I                               | internal.deictic_future.subunit | \n",
       "| 1856 | 1_Kings                         | 20                              |  6                              | 464088                          | 762220                          | K H <T MXR                      | K                               | 1                               | <T/                             | 1                               | ⋯                               | MXR/                            | 1                               | prep-art-subs-advb              | Q                               | CLX[                            | impf                            | 2                               | 2                               | I                               | internal.deictic_future.subunit | \n",
       "| 1913 | 2_Kings                         |  7                              |  1                              | 465721                          | 766831                          | K H <T MXR                      | K                               | 1                               | <T/                             | 1                               | ⋯                               | MXR/                            | 1                               | prep-art-subs-advb              | Q                               | ø                               | ø                               | 2                               | 1                               | I                               | internal.deictic_future.subunit | \n",
       "| 1919 | 2_Kings                         |  7                              | 18                              | 465849                          | 767177                          | K H <T MXR                      | K                               | 1                               | <T/                             | 1                               | ⋯                               | MXR/                            | 1                               | prep-art-subs-advb              | Q                               | HJH[                            | impf                            | 2                               | 5                               | I                               | internal.deictic_future.subunit | \n",
       "| 1937 | 2_Kings                         | 10                              |  6                              | 466248                          | 768289                          | K H <T MXR                      | K                               | 1                               | <T/                             | 1                               | ⋯                               | MXR/                            | 1                               | prep-art-subs-advb              | Q                               | BW>[                            | impv                            | 2                               | 4                               | I                               | internal.deictic_future.subunit | \n",
       "\n",
       "\n"
      ],
      "text/plain": [
       "     book     chapter verse clause.n phrase.n phrase.trans preps num.preps subs\n",
       "301  Exodus    9      18    434494   672320   K H <T MXR   K     1         <T/ \n",
       "1365 1_Samuel  9      16    454830   734318   K H <T MXR   K     1         <T/ \n",
       "1854 1_Kings  19       2    463939   761818   K H <T MXR   K     1         <T/ \n",
       "1856 1_Kings  20       6    464088   762220   K H <T MXR   K     1         <T/ \n",
       "1913 2_Kings   7       1    465721   766831   K H <T MXR   K     1         <T/ \n",
       "1919 2_Kings   7      18    465849   767177   K H <T MXR   K     1         <T/ \n",
       "1937 2_Kings  10       6    466248   768289   K H <T MXR   K     1         <T/ \n",
       "     num.subs ⋯ advbs num.advbs pdp.pattern        domain verb.lex verb.tense\n",
       "301  1        ⋯ MXR/  1         prep-art-subs-advb Q      ø        ø         \n",
       "1365 1        ⋯ MXR/  1         prep-art-subs-advb Q      CLX[     impf      \n",
       "1854 1        ⋯ MXR/  1         prep-art-subs-advb Q      FJM[     impf      \n",
       "1856 1        ⋯ MXR/  1         prep-art-subs-advb Q      CLX[     impf      \n",
       "1913 1        ⋯ MXR/  1         prep-art-subs-advb Q      ø        ø         \n",
       "1919 1        ⋯ MXR/  1         prep-art-subs-advb Q      HJH[     impf      \n",
       "1937 1        ⋯ MXR/  1         prep-art-subs-advb Q      BW>[     impv      \n",
       "     position.at.vb position.at.cl cl.dependency\n",
       "301  2              3              I            \n",
       "1365 2              1              I            \n",
       "1854 2              2              I            \n",
       "1856 2              2              I            \n",
       "1913 2              1              I            \n",
       "1919 2              5              I            \n",
       "1937 2              4              I            \n",
       "     timex.group                    \n",
       "301  internal.deictic_future.subunit\n",
       "1365 internal.deictic_future.subunit\n",
       "1854 internal.deictic_future.subunit\n",
       "1856 internal.deictic_future.subunit\n",
       "1913 internal.deictic_future.subunit\n",
       "1919 internal.deictic_future.subunit\n",
       "1937 internal.deictic_future.subunit"
      ]
     },
     "metadata": {},
     "output_type": "display_data"
    }
   ],
   "source": [
    "timexes[timexes$pdp.pattern == 'prep-art-subs-advb',]"
   ]
  },
  {
   "cell_type": "markdown",
   "metadata": {},
   "source": [
    "The table shows how important the adverb (`advb`), preposition (`prep`), and substantive (`subs`) are for the phrase-internal structure of the timex. The demonstrative pronoun (``)\n",
    "\n",
    "**Counts for prepositions, substantives, and adverbs are provided below**, accessed through their own data columns.\n",
    "\n",
    "The top twenty values are provided. Phrases with multiple elements display those elements separated by a |.\n",
    "\n",
    "#### Top 20 Prepositions"
   ]
  },
  {
   "cell_type": "code",
   "execution_count": 21,
   "metadata": {},
   "outputs": [
    {
     "data": {
      "text/html": [
       "<table>\n",
       "<thead><tr><th></th><th scope=col>prep</th><th scope=col>count</th></tr></thead>\n",
       "<tbody>\n",
       "\t<tr><th scope=row>10</th><td>B        </td><td>1054     </td></tr>\n",
       "\t<tr><th scope=row>1</th><td><span style=white-space:pre-wrap>&lt;D       </span></td><td> 304                                                </td></tr>\n",
       "\t<tr><th scope=row>30</th><td>L        </td><td> 286     </td></tr>\n",
       "\t<tr><th scope=row>41</th><td>MN       </td><td> 148     </td></tr>\n",
       "\t<tr><th scope=row>8</th><td><span style=white-space:pre-wrap>&gt;XR/     </span></td><td> 129                                                </td></tr>\n",
       "\t<tr><th scope=row>19</th><td>B|L      </td><td>  83     </td></tr>\n",
       "\t<tr><th scope=row>14</th><td>B|B      </td><td>  51     </td></tr>\n",
       "\t<tr><th scope=row>27</th><td>K        </td><td>  51     </td></tr>\n",
       "\t<tr><th scope=row>42</th><td><span style=white-space:pre-wrap>MN|&lt;D    </span></td><td><span style=white-space:pre-wrap>  33</span>        </td></tr>\n",
       "\t<tr><th scope=row>18</th><td>B|B|L    </td><td>  13     </td></tr>\n",
       "\t<tr><th scope=row>38</th><td>L|MN     </td><td>   9     </td></tr>\n",
       "\t<tr><th scope=row>11</th><td>BJN/     </td><td>   8     </td></tr>\n",
       "\t<tr><th scope=row>35</th><td>L|L      </td><td>   7     </td></tr>\n",
       "\t<tr><th scope=row>47</th><td>MN|L     </td><td>   7     </td></tr>\n",
       "\t<tr><th scope=row>2</th><td><span style=white-space:pre-wrap>&lt;D|L     </span></td><td><span style=white-space:pre-wrap>   6</span>        </td></tr>\n",
       "\t<tr><th scope=row>39</th><td><span style=white-space:pre-wrap>L|MN|&lt;D  </span></td><td><span style=white-space:pre-wrap>   6</span>        </td></tr>\n",
       "\t<tr><th scope=row>4</th><td><span style=white-space:pre-wrap>&lt;L       </span></td><td><span style=white-space:pre-wrap>   5</span>        </td></tr>\n",
       "\t<tr><th scope=row>21</th><td>B|L|B|B|L</td><td>   5     </td></tr>\n",
       "\t<tr><th scope=row>15</th><td>B|B|B    </td><td>   4     </td></tr>\n",
       "\t<tr><th scope=row>16</th><td>B|B|B|B  </td><td>   4     </td></tr>\n",
       "</tbody>\n",
       "</table>\n"
      ],
      "text/latex": [
       "\\begin{tabular}{r|ll}\n",
       "  & prep & count\\\\\n",
       "\\hline\n",
       "\t10 & B         & 1054     \\\\\n",
       "\t1 & <D        &  304     \\\\\n",
       "\t30 & L         &  286     \\\\\n",
       "\t41 & MN        &  148     \\\\\n",
       "\t8 & >XR/      &  129     \\\\\n",
       "\t19 & B\\textbar{}L       &   83               \\\\\n",
       "\t14 & B\\textbar{}B       &   51               \\\\\n",
       "\t27 & K         &   51     \\\\\n",
       "\t42 & MN\\textbar{}<D     &   33               \\\\\n",
       "\t18 & B\\textbar{}B\\textbar{}L     &   13                         \\\\\n",
       "\t38 & L\\textbar{}MN      &    9               \\\\\n",
       "\t11 & BJN/      &    8     \\\\\n",
       "\t35 & L\\textbar{}L       &    7               \\\\\n",
       "\t47 & MN\\textbar{}L      &    7               \\\\\n",
       "\t2 & <D\\textbar{}L      &    6               \\\\\n",
       "\t39 & L\\textbar{}MN\\textbar{}<D   &    6                         \\\\\n",
       "\t4 & <L        &    5     \\\\\n",
       "\t21 & B\\textbar{}L\\textbar{}B\\textbar{}B\\textbar{}L &    5                                             \\\\\n",
       "\t15 & B\\textbar{}B\\textbar{}B     &    4                         \\\\\n",
       "\t16 & B\\textbar{}B\\textbar{}B\\textbar{}B   &    4                                   \\\\\n",
       "\\end{tabular}\n"
      ],
      "text/markdown": [
       "\n",
       "| <!--/--> | prep | count | \n",
       "|---|---|---|---|---|---|---|---|---|---|---|---|---|---|---|---|---|---|---|---|\n",
       "| 10 | B         | 1054      | \n",
       "| 1 | <D        |  304      | \n",
       "| 30 | L         |  286      | \n",
       "| 41 | MN        |  148      | \n",
       "| 8 | >XR/      |  129      | \n",
       "| 19 | B|L       |   83      | \n",
       "| 14 | B|B       |   51      | \n",
       "| 27 | K         |   51      | \n",
       "| 42 | MN|<D     |   33      | \n",
       "| 18 | B|B|L     |   13      | \n",
       "| 38 | L|MN      |    9      | \n",
       "| 11 | BJN/      |    8      | \n",
       "| 35 | L|L       |    7      | \n",
       "| 47 | MN|L      |    7      | \n",
       "| 2 | <D|L      |    6      | \n",
       "| 39 | L|MN|<D   |    6      | \n",
       "| 4 | <L        |    5      | \n",
       "| 21 | B|L|B|B|L |    5      | \n",
       "| 15 | B|B|B     |    4      | \n",
       "| 16 | B|B|B|B   |    4      | \n",
       "\n",
       "\n"
      ],
      "text/plain": [
       "   prep      count\n",
       "10 B         1054 \n",
       "1  <D         304 \n",
       "30 L          286 \n",
       "41 MN         148 \n",
       "8  >XR/       129 \n",
       "19 B|L         83 \n",
       "14 B|B         51 \n",
       "27 K           51 \n",
       "42 MN|<D       33 \n",
       "18 B|B|L       13 \n",
       "38 L|MN         9 \n",
       "11 BJN/         8 \n",
       "35 L|L          7 \n",
       "47 MN|L         7 \n",
       "2  <D|L         6 \n",
       "39 L|MN|<D      6 \n",
       "4  <L           5 \n",
       "21 B|L|B|B|L    5 \n",
       "15 B|B|B        4 \n",
       "16 B|B|B|B      4 "
      ]
     },
     "metadata": {},
     "output_type": "display_data"
    }
   ],
   "source": [
    "tp.preps <- as.data.frame(table(timexes[timexes$preps != 'ø',]$preps)) # make a count, exclude null\n",
    "colnames(tp.preps) <- c('prep', 'count') # col names\n",
    "tp.preps <- tp.preps[order(tp.preps$count, decreasing=T),] # order by count\n",
    "\n",
    "head(tp.preps, 20)"
   ]
  },
  {
   "cell_type": "markdown",
   "metadata": {},
   "source": [
    "**Top 20 Adverbs**"
   ]
  },
  {
   "cell_type": "code",
   "execution_count": 22,
   "metadata": {
    "scrolled": false
   },
   "outputs": [
    {
     "data": {
      "text/html": [
       "<table>\n",
       "<thead><tr><th></th><th scope=col>advb</th><th scope=col>count</th></tr></thead>\n",
       "<tbody>\n",
       "\t<tr><th scope=row>1</th><td><span style=white-space:pre-wrap>&lt;TH               </span></td><td>362                                                          </td></tr>\n",
       "\t<tr><th scope=row>9</th><td><span style=white-space:pre-wrap>&gt;Z                </span></td><td> 72                                                          </td></tr>\n",
       "\t<tr><th scope=row>27</th><td>KN                </td><td> 53               </td></tr>\n",
       "\t<tr><th scope=row>28</th><td>LJLH/             </td><td> 40               </td></tr>\n",
       "\t<tr><th scope=row>30</th><td>MXR/              </td><td> 39               </td></tr>\n",
       "\t<tr><th scope=row>7</th><td><span style=white-space:pre-wrap>&gt;XR/              </span></td><td> 34                                                          </td></tr>\n",
       "\t<tr><th scope=row>36</th><td>TMJD/             </td><td> 33               </td></tr>\n",
       "\t<tr><th scope=row>24</th><td>JWMM              </td><td> 21               </td></tr>\n",
       "\t<tr><th scope=row>12</th><td>GM                </td><td> 18               </td></tr>\n",
       "\t<tr><th scope=row>25</th><td>JWMM|LJLH/        </td><td> 16               </td></tr>\n",
       "\t<tr><th scope=row>21</th><td>HNH==             </td><td>  6               </td></tr>\n",
       "\t<tr><th scope=row>20</th><td><span style=white-space:pre-wrap>HL&gt;H              </span></td><td><span style=white-space:pre-wrap>  5</span>                  </td></tr>\n",
       "\t<tr><th scope=row>2</th><td><span style=white-space:pre-wrap>&gt;K                </span></td><td><span style=white-space:pre-wrap>  4</span>                  </td></tr>\n",
       "\t<tr><th scope=row>4</th><td><span style=white-space:pre-wrap>&gt;MC/              </span></td><td><span style=white-space:pre-wrap>  4</span>                  </td></tr>\n",
       "\t<tr><th scope=row>11</th><td>BQR=/             </td><td>  4               </td></tr>\n",
       "\t<tr><th scope=row>13</th><td><span style=white-space:pre-wrap>GM|&lt;TH            </span></td><td><span style=white-space:pre-wrap>  4</span>                  </td></tr>\n",
       "\t<tr><th scope=row>38</th><td>VRM/              </td><td>  4               </td></tr>\n",
       "\t<tr><th scope=row>29</th><td>LJLH/|JWMM        </td><td>  3               </td></tr>\n",
       "\t<tr><th scope=row>16</th><td>GM|GM             </td><td>  2               </td></tr>\n",
       "\t<tr><th scope=row>19</th><td>GM|TMWL/|GM|CLCWM/</td><td>  2               </td></tr>\n",
       "</tbody>\n",
       "</table>\n"
      ],
      "text/latex": [
       "\\begin{tabular}{r|ll}\n",
       "  & advb & count\\\\\n",
       "\\hline\n",
       "\t1 & <TH                & 362               \\\\\n",
       "\t9 & >Z                 &  72               \\\\\n",
       "\t27 & KN                 &  53               \\\\\n",
       "\t28 & LJLH/              &  40               \\\\\n",
       "\t30 & MXR/               &  39               \\\\\n",
       "\t7 & >XR/               &  34               \\\\\n",
       "\t36 & TMJD/              &  33               \\\\\n",
       "\t24 & JWMM               &  21               \\\\\n",
       "\t12 & GM                 &  18               \\\\\n",
       "\t25 & JWMM\\textbar{}LJLH/         &  16                         \\\\\n",
       "\t21 & HNH==              &   6               \\\\\n",
       "\t20 & HL>H               &   5               \\\\\n",
       "\t2 & >K                 &   4               \\\\\n",
       "\t4 & >MC/               &   4               \\\\\n",
       "\t11 & BQR=/              &   4               \\\\\n",
       "\t13 & GM\\textbar{}<TH             &   4                         \\\\\n",
       "\t38 & VRM/               &   4               \\\\\n",
       "\t29 & LJLH/\\textbar{}JWMM         &   3                         \\\\\n",
       "\t16 & GM\\textbar{}GM              &   2                         \\\\\n",
       "\t19 & GM\\textbar{}TMWL/\\textbar{}GM\\textbar{}CLCWM/ &   2                                             \\\\\n",
       "\\end{tabular}\n"
      ],
      "text/markdown": [
       "\n",
       "| <!--/--> | advb | count | \n",
       "|---|---|---|---|---|---|---|---|---|---|---|---|---|---|---|---|---|---|---|---|\n",
       "| 1 | <TH                | 362                | \n",
       "| 9 | >Z                 |  72                | \n",
       "| 27 | KN                 |  53                | \n",
       "| 28 | LJLH/              |  40                | \n",
       "| 30 | MXR/               |  39                | \n",
       "| 7 | >XR/               |  34                | \n",
       "| 36 | TMJD/              |  33                | \n",
       "| 24 | JWMM               |  21                | \n",
       "| 12 | GM                 |  18                | \n",
       "| 25 | JWMM|LJLH/         |  16                | \n",
       "| 21 | HNH==              |   6                | \n",
       "| 20 | HL>H               |   5                | \n",
       "| 2 | >K                 |   4                | \n",
       "| 4 | >MC/               |   4                | \n",
       "| 11 | BQR=/              |   4                | \n",
       "| 13 | GM|<TH             |   4                | \n",
       "| 38 | VRM/               |   4                | \n",
       "| 29 | LJLH/|JWMM         |   3                | \n",
       "| 16 | GM|GM              |   2                | \n",
       "| 19 | GM|TMWL/|GM|CLCWM/ |   2                | \n",
       "\n",
       "\n"
      ],
      "text/plain": [
       "   advb               count\n",
       "1  <TH                362  \n",
       "9  >Z                  72  \n",
       "27 KN                  53  \n",
       "28 LJLH/               40  \n",
       "30 MXR/                39  \n",
       "7  >XR/                34  \n",
       "36 TMJD/               33  \n",
       "24 JWMM                21  \n",
       "12 GM                  18  \n",
       "25 JWMM|LJLH/          16  \n",
       "21 HNH==                6  \n",
       "20 HL>H                 5  \n",
       "2  >K                   4  \n",
       "4  >MC/                 4  \n",
       "11 BQR=/                4  \n",
       "13 GM|<TH               4  \n",
       "38 VRM/                 4  \n",
       "29 LJLH/|JWMM           3  \n",
       "16 GM|GM                2  \n",
       "19 GM|TMWL/|GM|CLCWM/   2  "
      ]
     },
     "metadata": {},
     "output_type": "display_data"
    }
   ],
   "source": [
    "tp.advbs <- as.data.frame(table(timexes[timexes$advbs != 'ø',]$advbs)) # make a count\n",
    "colnames(tp.advbs) <- c('advb', 'count') # col names\n",
    "tp.advbs <- tp.advbs[order(tp.advbs$count, decreasing=T),] # order by count\n",
    "\n",
    "head(tp.advbs, 20)"
   ]
  },
  {
   "cell_type": "markdown",
   "metadata": {},
   "source": [
    "#### Top 20 Substantives"
   ]
  },
  {
   "cell_type": "code",
   "execution_count": 23,
   "metadata": {},
   "outputs": [
    {
     "data": {
      "text/html": [
       "<table>\n",
       "<thead><tr><th></th><th scope=col>subs</th><th scope=col>count</th></tr></thead>\n",
       "<tbody>\n",
       "\t<tr><th scope=row>99</th><td>JWM/     </td><td>1068     </td></tr>\n",
       "\t<tr><th scope=row>113</th><td>KL/      </td><td> 189     </td></tr>\n",
       "\t<tr><th scope=row>22</th><td><span style=white-space:pre-wrap>&lt;WLM/    </span></td><td> 185                                                </td></tr>\n",
       "\t<tr><th scope=row>18</th><td><span style=white-space:pre-wrap>&lt;T/      </span></td><td> 145                                                </td></tr>\n",
       "\t<tr><th scope=row>76</th><td>CNH/     </td><td> 134     </td></tr>\n",
       "\t<tr><th scope=row>43</th><td>BQR=/    </td><td> 117     </td></tr>\n",
       "\t<tr><th scope=row>49</th><td><span style=white-space:pre-wrap>CB&lt;/     </span></td><td> 100                                                </td></tr>\n",
       "\t<tr><th scope=row>14</th><td><span style=white-space:pre-wrap>&lt;RB/     </span></td><td><span style=white-space:pre-wrap>  77</span>        </td></tr>\n",
       "\t<tr><th scope=row>120</th><td>LJLH/    </td><td>  67     </td></tr>\n",
       "\t<tr><th scope=row>64</th><td>CLC/     </td><td>  46     </td></tr>\n",
       "\t<tr><th scope=row>175</th><td>XDC=/    </td><td>  39     </td></tr>\n",
       "\t<tr><th scope=row>28</th><td><span style=white-space:pre-wrap>&gt;RB&lt;/    </span></td><td><span style=white-space:pre-wrap>  38</span>           </td></tr>\n",
       "\t<tr><th scope=row>62</th><td>CC/      </td><td>  35     </td></tr>\n",
       "\t<tr><th scope=row>145</th><td>PNH/     </td><td>  32     </td></tr>\n",
       "\t<tr><th scope=row>142</th><td>NYX/     </td><td>  26     </td></tr>\n",
       "\t<tr><th scope=row>134</th><td>MWT/     </td><td>  25     </td></tr>\n",
       "\t<tr><th scope=row>136</th><td>MXRT/    </td><td>  24     </td></tr>\n",
       "\t<tr><th scope=row>149</th><td>QY/      </td><td>  23     </td></tr>\n",
       "\t<tr><th scope=row>103</th><td>JWM/|JWM/</td><td>  20     </td></tr>\n",
       "\t<tr><th scope=row>2</th><td><span style=white-space:pre-wrap>&lt;D/      </span></td><td><span style=white-space:pre-wrap>  19</span>        </td></tr>\n",
       "</tbody>\n",
       "</table>\n"
      ],
      "text/latex": [
       "\\begin{tabular}{r|ll}\n",
       "  & subs & count\\\\\n",
       "\\hline\n",
       "\t99 & JWM/      & 1068     \\\\\n",
       "\t113 & KL/       &  189     \\\\\n",
       "\t22 & <WLM/     &  185     \\\\\n",
       "\t18 & <T/       &  145     \\\\\n",
       "\t76 & CNH/      &  134     \\\\\n",
       "\t43 & BQR=/     &  117     \\\\\n",
       "\t49 & CB</      &  100     \\\\\n",
       "\t14 & <RB/      &   77     \\\\\n",
       "\t120 & LJLH/     &   67     \\\\\n",
       "\t64 & CLC/      &   46     \\\\\n",
       "\t175 & XDC=/     &   39     \\\\\n",
       "\t28 & >RB</     &   38     \\\\\n",
       "\t62 & CC/       &   35     \\\\\n",
       "\t145 & PNH/      &   32     \\\\\n",
       "\t142 & NYX/      &   26     \\\\\n",
       "\t134 & MWT/      &   25     \\\\\n",
       "\t136 & MXRT/     &   24     \\\\\n",
       "\t149 & QY/       &   23     \\\\\n",
       "\t103 & JWM/\\textbar{}JWM/ &   20               \\\\\n",
       "\t2 & <D/       &   19     \\\\\n",
       "\\end{tabular}\n"
      ],
      "text/markdown": [
       "\n",
       "| <!--/--> | subs | count | \n",
       "|---|---|---|---|---|---|---|---|---|---|---|---|---|---|---|---|---|---|---|---|\n",
       "| 99 | JWM/      | 1068      | \n",
       "| 113 | KL/       |  189      | \n",
       "| 22 | <WLM/     |  185      | \n",
       "| 18 | <T/       |  145      | \n",
       "| 76 | CNH/      |  134      | \n",
       "| 43 | BQR=/     |  117      | \n",
       "| 49 | CB</      |  100      | \n",
       "| 14 | <RB/      |   77      | \n",
       "| 120 | LJLH/     |   67      | \n",
       "| 64 | CLC/      |   46      | \n",
       "| 175 | XDC=/     |   39      | \n",
       "| 28 | >RB</     |   38      | \n",
       "| 62 | CC/       |   35      | \n",
       "| 145 | PNH/      |   32      | \n",
       "| 142 | NYX/      |   26      | \n",
       "| 134 | MWT/      |   25      | \n",
       "| 136 | MXRT/     |   24      | \n",
       "| 149 | QY/       |   23      | \n",
       "| 103 | JWM/|JWM/ |   20      | \n",
       "| 2 | <D/       |   19      | \n",
       "\n",
       "\n"
      ],
      "text/plain": [
       "    subs      count\n",
       "99  JWM/      1068 \n",
       "113 KL/        189 \n",
       "22  <WLM/      185 \n",
       "18  <T/        145 \n",
       "76  CNH/       134 \n",
       "43  BQR=/      117 \n",
       "49  CB</       100 \n",
       "14  <RB/        77 \n",
       "120 LJLH/       67 \n",
       "64  CLC/        46 \n",
       "175 XDC=/       39 \n",
       "28  >RB</       38 \n",
       "62  CC/         35 \n",
       "145 PNH/        32 \n",
       "142 NYX/        26 \n",
       "134 MWT/        25 \n",
       "136 MXRT/       24 \n",
       "149 QY/         23 \n",
       "103 JWM/|JWM/   20 \n",
       "2   <D/         19 "
      ]
     },
     "metadata": {},
     "output_type": "display_data"
    }
   ],
   "source": [
    "tp.subs <- as.data.frame(table(timexes[timexes$subs != 'ø',]$subs)) # make a count\n",
    "colnames(tp.subs) <- c('subs', 'count') # col names\n",
    "tp.subs <- tp.subs[order(tp.subs$count, decreasing=T),] # order by count\n",
    "\n",
    "head(tp.subs, 20)"
   ]
  },
  {
   "cell_type": "markdown",
   "metadata": {},
   "source": [
    "### Method of Classifying Time Phrases\n",
    "\n",
    "Grouping the time phrases is a big enough task to encompass a major research project. For the present purpose, only limited, hypothetical groupings can be assembled. Two key criteria are used to produce \\*N categories of  time phrases:\n",
    "\n",
    "* preposition and its semantic implication.\n",
    "* adverb | substantive and its semantic implication\n",
    "\n",
    "Consequently, these two types can respectively communicate two kinds of semantic data:\n",
    "\n",
    "* aspectual data through the preposition (e.g. at, for, while, etc.)\n",
    "* temporal data through the adverb/substantive (e.g. tomorrow, now, etc.)\n",
    "\n",
    "When combined, the two form a unique classification of a phrase's temporal-aspectual semantic content. Those classifications will be used for the verb form measurements further below.\n",
    "\n",
    "The classification requires the powerful tools that only Text-Fabric can offer. Thus the categories have been processed in [bhsa_data_generation.ipynb]('../data/bhsa_data_generation.ipynb'). For the semantic classification of the prepositions and adverbs/substantives, a manual method was used on the most attested patterns in consultation with the data tables shown above. Finally, the classifications are added using a template-based search in Text-Fabric (TF Search) to isolate the qualifying phrases.\n",
    "\n",
    "Using the methods outlined above, **only a select group of \\*N time phrases receive a classification.**\n",
    "\n",
    "### Time Phrase Groups\n",
    "\n",
    "*[Fill in information about the classes]*"
   ]
  },
  {
   "cell_type": "code",
   "execution_count": 27,
   "metadata": {},
   "outputs": [
    {
     "data": {
      "text/html": [
       "<table>\n",
       "<thead><tr><th></th><th scope=col>Var1</th><th scope=col>Freq</th></tr></thead>\n",
       "<tbody>\n",
       "\t<tr><th scope=row>56</th><td>internal.unit            </td><td>676                      </td></tr>\n",
       "\t<tr><th scope=row>64</th><td>ø                        </td><td>464                      </td></tr>\n",
       "\t<tr><th scope=row>63</th><td>unit                     </td><td>404                      </td></tr>\n",
       "\t<tr><th scope=row>33</th><td>deictic_present          </td><td>344                      </td></tr>\n",
       "\t<tr><th scope=row>55</th><td>internal.subunit         </td><td>269                      </td></tr>\n",
       "\t<tr><th scope=row>21</th><td>behind_to.duration       </td><td>198                      </td></tr>\n",
       "\t<tr><th scope=row>29</th><td>collection               </td><td>168                      </td></tr>\n",
       "\t<tr><th scope=row>28</th><td>behind_to.unit           </td><td>129                      </td></tr>\n",
       "\t<tr><th scope=row>62</th><td>subunit                  </td><td>123                      </td></tr>\n",
       "\t<tr><th scope=row>27</th><td>behind_to.subunit        </td><td>107                      </td></tr>\n",
       "\t<tr><th scope=row>9</th><td>after_from.event         </td><td> 93                      </td></tr>\n",
       "\t<tr><th scope=row>16</th><td>behind_to                </td><td> 82                      </td></tr>\n",
       "\t<tr><th scope=row>37</th><td>demonstrative_far        </td><td> 64                      </td></tr>\n",
       "\t<tr><th scope=row>1</th><td>after_from               </td><td> 53                      </td></tr>\n",
       "\t<tr><th scope=row>39</th><td>duration                 </td><td> 51                      </td></tr>\n",
       "\t<tr><th scope=row>41</th><td>internal                 </td><td> 43                      </td></tr>\n",
       "\t<tr><th scope=row>60</th><td>pos_posterior            </td><td> 35                      </td></tr>\n",
       "\t<tr><th scope=row>15</th><td>after_from.unit          </td><td> 34                      </td></tr>\n",
       "\t<tr><th scope=row>30</th><td>deictic_future           </td><td> 32                      </td></tr>\n",
       "\t<tr><th scope=row>12</th><td>after_from.pos_end       </td><td> 29                      </td></tr>\n",
       "\t<tr><th scope=row>23</th><td>behind_to.pos_anterior   </td><td> 29                      </td></tr>\n",
       "\t<tr><th scope=row>49</th><td>internal.event           </td><td> 29                      </td></tr>\n",
       "\t<tr><th scope=row>42</th><td>internal.collection      </td><td> 24                      </td></tr>\n",
       "\t<tr><th scope=row>3</th><td>after_from.deictic_future</td><td> 21                      </td></tr>\n",
       "\t<tr><th scope=row>50</th><td>internal.pos_end         </td><td> 16                      </td></tr>\n",
       "\t<tr><th scope=row>51</th><td>internal.pos_interior    </td><td> 16                      </td></tr>\n",
       "\t<tr><th scope=row>22</th><td>behind_to.event          </td><td> 14                      </td></tr>\n",
       "\t<tr><th scope=row>8</th><td>after_from.duration      </td><td> 11                      </td></tr>\n",
       "\t<tr><th scope=row>47</th><td>internal.duration        </td><td> 11                      </td></tr>\n",
       "\t<tr><th scope=row>40</th><td>event                    </td><td> 10                      </td></tr>\n",
       "\t<tr><th scope=row>⋮</th><td>⋮</td><td>⋮</td></tr>\n",
       "\t<tr><th scope=row>24</th><td>behind_to.pos_end              </td><td>8                              </td></tr>\n",
       "\t<tr><th scope=row>34</th><td>deictic_present.duration       </td><td>8                              </td></tr>\n",
       "\t<tr><th scope=row>53</th><td>internal.pos_start             </td><td>8                              </td></tr>\n",
       "\t<tr><th scope=row>7</th><td>after_from.demonstrative_far   </td><td>7                              </td></tr>\n",
       "\t<tr><th scope=row>18</th><td>behind_to.deictic_future       </td><td>7                              </td></tr>\n",
       "\t<tr><th scope=row>44</th><td>internal.deictic_future.subunit</td><td>7                              </td></tr>\n",
       "\t<tr><th scope=row>46</th><td>internal.deictic_past          </td><td>5                              </td></tr>\n",
       "\t<tr><th scope=row>6</th><td>after_from.deictic_present     </td><td>4                              </td></tr>\n",
       "\t<tr><th scope=row>14</th><td>after_from.subunit             </td><td>4                              </td></tr>\n",
       "\t<tr><th scope=row>2</th><td>after_from.collection          </td><td>3                              </td></tr>\n",
       "\t<tr><th scope=row>4</th><td>after_from.deictic_future.unit </td><td>3                              </td></tr>\n",
       "\t<tr><th scope=row>10</th><td>after_from.event.pos_posterior </td><td>3                              </td></tr>\n",
       "\t<tr><th scope=row>25</th><td>behind_to.pos_interior         </td><td>3                              </td></tr>\n",
       "\t<tr><th scope=row>35</th><td>deictic_present.event          </td><td>3                              </td></tr>\n",
       "\t<tr><th scope=row>61</th><td>pos_start                      </td><td>3                              </td></tr>\n",
       "\t<tr><th scope=row>11</th><td>after_from.pos_anterior        </td><td>2                              </td></tr>\n",
       "\t<tr><th scope=row>13</th><td>after_from.pos_start           </td><td>2                              </td></tr>\n",
       "\t<tr><th scope=row>17</th><td>behind_to.collection           </td><td>2                              </td></tr>\n",
       "\t<tr><th scope=row>19</th><td>behind_to.deictic_present      </td><td>2                              </td></tr>\n",
       "\t<tr><th scope=row>26</th><td>behind_to.pos_posterior        </td><td>2                              </td></tr>\n",
       "\t<tr><th scope=row>52</th><td>internal.pos_posterior         </td><td>2                              </td></tr>\n",
       "\t<tr><th scope=row>54</th><td>internal.pos_start.unit        </td><td>2                              </td></tr>\n",
       "\t<tr><th scope=row>59</th><td>pos_interior                   </td><td>2                              </td></tr>\n",
       "\t<tr><th scope=row>31</th><td>deictic_future.unit            </td><td>1                              </td></tr>\n",
       "\t<tr><th scope=row>36</th><td>deictic_present.unit           </td><td>1                              </td></tr>\n",
       "\t<tr><th scope=row>38</th><td>demonstrative_far.pos_anterior </td><td>1                              </td></tr>\n",
       "\t<tr><th scope=row>43</th><td>internal.deictic_future        </td><td>1                              </td></tr>\n",
       "\t<tr><th scope=row>45</th><td>internal.deictic_future.unit   </td><td>1                              </td></tr>\n",
       "\t<tr><th scope=row>48</th><td>internal.duration.subunit      </td><td>1                              </td></tr>\n",
       "\t<tr><th scope=row>58</th><td>pos_end                        </td><td>1                              </td></tr>\n",
       "</tbody>\n",
       "</table>\n"
      ],
      "text/latex": [
       "\\begin{tabular}{r|ll}\n",
       "  & Var1 & Freq\\\\\n",
       "\\hline\n",
       "\t56 & internal.unit             & 676                      \\\\\n",
       "\t64 & ø                         & 464                      \\\\\n",
       "\t63 & unit                      & 404                      \\\\\n",
       "\t33 & deictic\\_present           & 344                        \\\\\n",
       "\t55 & internal.subunit          & 269                      \\\\\n",
       "\t21 & behind\\_to.duration        & 198                        \\\\\n",
       "\t29 & collection                & 168                      \\\\\n",
       "\t28 & behind\\_to.unit            & 129                        \\\\\n",
       "\t62 & subunit                   & 123                      \\\\\n",
       "\t27 & behind\\_to.subunit         & 107                        \\\\\n",
       "\t9 & after\\_from.event          &  93                        \\\\\n",
       "\t16 & behind\\_to                 &  82                        \\\\\n",
       "\t37 & demonstrative\\_far         &  64                        \\\\\n",
       "\t1 & after\\_from                &  53                        \\\\\n",
       "\t39 & duration                  &  51                      \\\\\n",
       "\t41 & internal                  &  43                      \\\\\n",
       "\t60 & pos\\_posterior             &  35                        \\\\\n",
       "\t15 & after\\_from.unit           &  34                        \\\\\n",
       "\t30 & deictic\\_future            &  32                        \\\\\n",
       "\t12 & after\\_from.pos\\_end        &  29                          \\\\\n",
       "\t23 & behind\\_to.pos\\_anterior    &  29                          \\\\\n",
       "\t49 & internal.event            &  29                      \\\\\n",
       "\t42 & internal.collection       &  24                      \\\\\n",
       "\t3 & after\\_from.deictic\\_future &  21                          \\\\\n",
       "\t50 & internal.pos\\_end          &  16                        \\\\\n",
       "\t51 & internal.pos\\_interior     &  16                        \\\\\n",
       "\t22 & behind\\_to.event           &  14                        \\\\\n",
       "\t8 & after\\_from.duration       &  11                        \\\\\n",
       "\t47 & internal.duration         &  11                      \\\\\n",
       "\t40 & event                     &  10                      \\\\\n",
       "\t⋮ & ⋮ & ⋮\\\\\n",
       "\t24 & behind\\_to.pos\\_end               & 8                                  \\\\\n",
       "\t34 & deictic\\_present.duration        & 8                                \\\\\n",
       "\t53 & internal.pos\\_start              & 8                                \\\\\n",
       "\t7 & after\\_from.demonstrative\\_far    & 7                                  \\\\\n",
       "\t18 & behind\\_to.deictic\\_future        & 7                                  \\\\\n",
       "\t44 & internal.deictic\\_future.subunit & 7                                \\\\\n",
       "\t46 & internal.deictic\\_past           & 5                                \\\\\n",
       "\t6 & after\\_from.deictic\\_present      & 4                                  \\\\\n",
       "\t14 & after\\_from.subunit              & 4                                \\\\\n",
       "\t2 & after\\_from.collection           & 3                                \\\\\n",
       "\t4 & after\\_from.deictic\\_future.unit  & 3                                  \\\\\n",
       "\t10 & after\\_from.event.pos\\_posterior  & 3                                  \\\\\n",
       "\t25 & behind\\_to.pos\\_interior          & 3                                  \\\\\n",
       "\t35 & deictic\\_present.event           & 3                                \\\\\n",
       "\t61 & pos\\_start                       & 3                                \\\\\n",
       "\t11 & after\\_from.pos\\_anterior         & 2                                  \\\\\n",
       "\t13 & after\\_from.pos\\_start            & 2                                  \\\\\n",
       "\t17 & behind\\_to.collection            & 2                                \\\\\n",
       "\t19 & behind\\_to.deictic\\_present       & 2                                  \\\\\n",
       "\t26 & behind\\_to.pos\\_posterior         & 2                                  \\\\\n",
       "\t52 & internal.pos\\_posterior          & 2                                \\\\\n",
       "\t54 & internal.pos\\_start.unit         & 2                                \\\\\n",
       "\t59 & pos\\_interior                    & 2                                \\\\\n",
       "\t31 & deictic\\_future.unit             & 1                                \\\\\n",
       "\t36 & deictic\\_present.unit            & 1                                \\\\\n",
       "\t38 & demonstrative\\_far.pos\\_anterior  & 1                                  \\\\\n",
       "\t43 & internal.deictic\\_future         & 1                                \\\\\n",
       "\t45 & internal.deictic\\_future.unit    & 1                                \\\\\n",
       "\t48 & internal.duration.subunit       & 1                              \\\\\n",
       "\t58 & pos\\_end                         & 1                                \\\\\n",
       "\\end{tabular}\n"
      ],
      "text/markdown": [
       "\n",
       "| <!--/--> | Var1 | Freq | \n",
       "|---|---|---|---|---|---|---|---|---|---|---|---|---|---|---|---|---|---|---|---|---|---|---|---|---|---|---|---|---|---|---|---|---|---|---|---|---|---|---|---|---|---|---|---|---|---|---|---|---|---|---|---|---|---|---|---|---|---|---|---|---|\n",
       "| 56 | internal.unit             | 676                       | \n",
       "| 64 | ø                         | 464                       | \n",
       "| 63 | unit                      | 404                       | \n",
       "| 33 | deictic_present           | 344                       | \n",
       "| 55 | internal.subunit          | 269                       | \n",
       "| 21 | behind_to.duration        | 198                       | \n",
       "| 29 | collection                | 168                       | \n",
       "| 28 | behind_to.unit            | 129                       | \n",
       "| 62 | subunit                   | 123                       | \n",
       "| 27 | behind_to.subunit         | 107                       | \n",
       "| 9 | after_from.event          |  93                       | \n",
       "| 16 | behind_to                 |  82                       | \n",
       "| 37 | demonstrative_far         |  64                       | \n",
       "| 1 | after_from                |  53                       | \n",
       "| 39 | duration                  |  51                       | \n",
       "| 41 | internal                  |  43                       | \n",
       "| 60 | pos_posterior             |  35                       | \n",
       "| 15 | after_from.unit           |  34                       | \n",
       "| 30 | deictic_future            |  32                       | \n",
       "| 12 | after_from.pos_end        |  29                       | \n",
       "| 23 | behind_to.pos_anterior    |  29                       | \n",
       "| 49 | internal.event            |  29                       | \n",
       "| 42 | internal.collection       |  24                       | \n",
       "| 3 | after_from.deictic_future |  21                       | \n",
       "| 50 | internal.pos_end          |  16                       | \n",
       "| 51 | internal.pos_interior     |  16                       | \n",
       "| 22 | behind_to.event           |  14                       | \n",
       "| 8 | after_from.duration       |  11                       | \n",
       "| 47 | internal.duration         |  11                       | \n",
       "| 40 | event                     |  10                       | \n",
       "| ⋮ | ⋮ | ⋮ | \n",
       "| 24 | behind_to.pos_end               | 8                               | \n",
       "| 34 | deictic_present.duration        | 8                               | \n",
       "| 53 | internal.pos_start              | 8                               | \n",
       "| 7 | after_from.demonstrative_far    | 7                               | \n",
       "| 18 | behind_to.deictic_future        | 7                               | \n",
       "| 44 | internal.deictic_future.subunit | 7                               | \n",
       "| 46 | internal.deictic_past           | 5                               | \n",
       "| 6 | after_from.deictic_present      | 4                               | \n",
       "| 14 | after_from.subunit              | 4                               | \n",
       "| 2 | after_from.collection           | 3                               | \n",
       "| 4 | after_from.deictic_future.unit  | 3                               | \n",
       "| 10 | after_from.event.pos_posterior  | 3                               | \n",
       "| 25 | behind_to.pos_interior          | 3                               | \n",
       "| 35 | deictic_present.event           | 3                               | \n",
       "| 61 | pos_start                       | 3                               | \n",
       "| 11 | after_from.pos_anterior         | 2                               | \n",
       "| 13 | after_from.pos_start            | 2                               | \n",
       "| 17 | behind_to.collection            | 2                               | \n",
       "| 19 | behind_to.deictic_present       | 2                               | \n",
       "| 26 | behind_to.pos_posterior         | 2                               | \n",
       "| 52 | internal.pos_posterior          | 2                               | \n",
       "| 54 | internal.pos_start.unit         | 2                               | \n",
       "| 59 | pos_interior                    | 2                               | \n",
       "| 31 | deictic_future.unit             | 1                               | \n",
       "| 36 | deictic_present.unit            | 1                               | \n",
       "| 38 | demonstrative_far.pos_anterior  | 1                               | \n",
       "| 43 | internal.deictic_future         | 1                               | \n",
       "| 45 | internal.deictic_future.unit    | 1                               | \n",
       "| 48 | internal.duration.subunit       | 1                               | \n",
       "| 58 | pos_end                         | 1                               | \n",
       "\n",
       "\n"
      ],
      "text/plain": [
       "   Var1                            Freq\n",
       "56 internal.unit                   676 \n",
       "64 ø                               464 \n",
       "63 unit                            404 \n",
       "33 deictic_present                 344 \n",
       "55 internal.subunit                269 \n",
       "21 behind_to.duration              198 \n",
       "29 collection                      168 \n",
       "28 behind_to.unit                  129 \n",
       "62 subunit                         123 \n",
       "27 behind_to.subunit               107 \n",
       "9  after_from.event                 93 \n",
       "16 behind_to                        82 \n",
       "37 demonstrative_far                64 \n",
       "1  after_from                       53 \n",
       "39 duration                         51 \n",
       "41 internal                         43 \n",
       "60 pos_posterior                    35 \n",
       "15 after_from.unit                  34 \n",
       "30 deictic_future                   32 \n",
       "12 after_from.pos_end               29 \n",
       "23 behind_to.pos_anterior           29 \n",
       "49 internal.event                   29 \n",
       "42 internal.collection              24 \n",
       "3  after_from.deictic_future        21 \n",
       "50 internal.pos_end                 16 \n",
       "51 internal.pos_interior            16 \n",
       "22 behind_to.event                  14 \n",
       "8  after_from.duration              11 \n",
       "47 internal.duration                11 \n",
       "40 event                            10 \n",
       "⋮  ⋮                               ⋮   \n",
       "24 behind_to.pos_end               8   \n",
       "34 deictic_present.duration        8   \n",
       "53 internal.pos_start              8   \n",
       "7  after_from.demonstrative_far    7   \n",
       "18 behind_to.deictic_future        7   \n",
       "44 internal.deictic_future.subunit 7   \n",
       "46 internal.deictic_past           5   \n",
       "6  after_from.deictic_present      4   \n",
       "14 after_from.subunit              4   \n",
       "2  after_from.collection           3   \n",
       "4  after_from.deictic_future.unit  3   \n",
       "10 after_from.event.pos_posterior  3   \n",
       "25 behind_to.pos_interior          3   \n",
       "35 deictic_present.event           3   \n",
       "61 pos_start                       3   \n",
       "11 after_from.pos_anterior         2   \n",
       "13 after_from.pos_start            2   \n",
       "17 behind_to.collection            2   \n",
       "19 behind_to.deictic_present       2   \n",
       "26 behind_to.pos_posterior         2   \n",
       "52 internal.pos_posterior          2   \n",
       "54 internal.pos_start.unit         2   \n",
       "59 pos_interior                    2   \n",
       "31 deictic_future.unit             1   \n",
       "36 deictic_present.unit            1   \n",
       "38 demonstrative_far.pos_anterior  1   \n",
       "43 internal.deictic_future         1   \n",
       "45 internal.deictic_future.unit    1   \n",
       "48 internal.duration.subunit       1   \n",
       "58 pos_end                         1   "
      ]
     },
     "metadata": {},
     "output_type": "display_data"
    }
   ],
   "source": [
    "tp.groups <- as.data.frame(table(timexes$timex.group))\n",
    "\n",
    "tp.groups[order(tp.groups$Freq, decreasing=T),]"
   ]
  },
  {
   "cell_type": "code",
   "execution_count": 53,
   "metadata": {},
   "outputs": [
    {
     "data": {
      "text/plain": [
       "\n",
       "     <D <D    <D <WLM <D <WLM <D  <D H <WLM     <D NYX       L <D     L <WLM \n",
       "         6         52          1          1          1         11        101 \n",
       "     L NYX  L NYX NYX \n",
       "        24          1 "
      ]
     },
     "metadata": {},
     "output_type": "display_data"
    }
   ],
   "source": [
    "# playing around with the samples\n",
    "\n",
    "table(droplevels(timexes[timexes$timex.group == 'behind_to.duration',]$phrase.trans))"
   ]
  },
  {
   "cell_type": "code",
   "execution_count": 50,
   "metadata": {},
   "outputs": [
    {
     "data": {
      "text/html": [
       "<table>\n",
       "<thead><tr><th></th><th scope=col>book</th><th scope=col>chapter</th><th scope=col>verse</th><th scope=col>clause.n</th><th scope=col>phrase.n</th><th scope=col>phrase.trans</th><th scope=col>preps</th><th scope=col>num.preps</th><th scope=col>subs</th><th scope=col>num.subs</th><th scope=col>⋯</th><th scope=col>advbs</th><th scope=col>num.advbs</th><th scope=col>pdp.pattern</th><th scope=col>domain</th><th scope=col>verb.lex</th><th scope=col>verb.tense</th><th scope=col>position.at.vb</th><th scope=col>position.at.cl</th><th scope=col>cl.dependency</th><th scope=col>timex.group</th></tr></thead>\n",
       "<tbody>\n",
       "\t<tr><th scope=row>7</th><td>Genesis                    </td><td> 3                         </td><td> 8                         </td><td>427805                     </td><td>652259                     </td><td>L RWX H JWM                </td><td>L                          </td><td>1                          </td><td>RWX/                       </td><td>1                          </td><td>⋯                          </td><td>ø                          </td><td>0                          </td><td>prep-subs-art-subs         </td><td>N                          </td><td>ø                          </td><td>ø                          </td><td>2                          </td><td>3                          </td><td>D                          </td><td>behind_to.event            </td></tr>\n",
       "\t<tr><th scope=row>809</th><td><span style=white-space:pre-wrap>Numbers     </span></td><td>35                                                  </td><td>25                                                  </td><td>444796                                              </td><td>703900                                              </td><td>&lt;D MWT H KHN H GDWL                              </td><td>&lt;D                                               </td><td>1                                                   </td><td><span style=white-space:pre-wrap>MWT/  </span>      </td><td>1                                                   </td><td>⋯                                                   </td><td>ø                                                   </td><td>0                                                   </td><td>prep-subs-art-subs-art-adjv                         </td><td>Q                                                   </td><td>JCB[                                                </td><td>weqt                                                </td><td>2                                                   </td><td>4                                                   </td><td>I                                                   </td><td>behind_to.event                                     </td></tr>\n",
       "\t<tr><th scope=row>810</th><td><span style=white-space:pre-wrap>Numbers     </span></td><td>35                                                  </td><td>28                                                  </td><td>444803                                              </td><td>703929                                              </td><td>&lt;D MWT H KHN H GDWL                              </td><td>&lt;D                                               </td><td>1                                                   </td><td><span style=white-space:pre-wrap>MWT/  </span>      </td><td>1                                                   </td><td>⋯                                                   </td><td>ø                                                   </td><td>0                                                   </td><td>prep-subs-art-subs-art-adjv                         </td><td>Q                                                   </td><td>JCB[                                                </td><td>impf                                                </td><td>2                                                   </td><td>4                                                   </td><td>I                                                   </td><td>behind_to.event                                     </td></tr>\n",
       "\t<tr><th scope=row>812</th><td><span style=white-space:pre-wrap>Numbers     </span>               </td><td>35                                                                 </td><td>32                                                                 </td><td>444817                                                             </td><td>703973                                                             </td><td><span style=white-space:pre-wrap>&lt;D MWT H KHN       </span>     </td><td>&lt;D                                                              </td><td>1                                                                  </td><td><span style=white-space:pre-wrap>MWT/  </span>                     </td><td>1                                                                  </td><td>⋯                                                                  </td><td>ø                                                                  </td><td>0                                                                  </td><td><span style=white-space:pre-wrap>prep-subs-art-subs         </span></td><td>Q                                                                  </td><td>JCB[                                                               </td><td>infc                                                               </td><td>2                                                                  </td><td>3                                                                  </td><td>D                                                                  </td><td>behind_to.event                                                    </td></tr>\n",
       "\t<tr><th scope=row>1121</th><td><span style=white-space:pre-wrap>Joshua      </span></td><td>20                                                  </td><td> 6                                                  </td><td>450598                                              </td><td>721378                                              </td><td>&lt;D MWT H KHN H GDWL                              </td><td>&lt;D                                               </td><td>1                                                   </td><td><span style=white-space:pre-wrap>MWT/  </span>      </td><td>1                                                   </td><td>⋯                                                   </td><td>ø                                                   </td><td>0                                                   </td><td>prep-subs-art-subs-art-adjv                         </td><td>Q                                                   </td><td><span style=white-space:pre-wrap>ø   </span>        </td><td><span style=white-space:pre-wrap>ø   </span>        </td><td>2                                                   </td><td>1                                                   </td><td>I                                                   </td><td>behind_to.event                                     </td></tr>\n",
       "\t<tr><th scope=row>1278</th><td><span style=white-space:pre-wrap>Judges      </span>               </td><td>19                                                                 </td><td>26                                                                 </td><td>453576                                                             </td><td>730524                                                             </td><td><span style=white-space:pre-wrap>&lt;D H &gt;WR           </span>  </td><td>&lt;D                                                              </td><td>1                                                                  </td><td><span style=white-space:pre-wrap>&gt;WR/  </span>                  </td><td>1                                                                  </td><td>⋯                                                                  </td><td>ø                                                                  </td><td>0                                                                  </td><td><span style=white-space:pre-wrap>prep-art-subs              </span></td><td>N                                                                  </td><td>NPL[                                                               </td><td>wayq                                                               </td><td>2                                                                  </td><td>4                                                                  </td><td>I                                                                  </td><td>behind_to.event                                                    </td></tr>\n",
       "\t<tr><th scope=row>1646</th><td><span style=white-space:pre-wrap>2_Samuel    </span>               </td><td>17                                                                 </td><td>22                                                                 </td><td>460045                                                             </td><td>750198                                                             </td><td><span style=white-space:pre-wrap>&lt;D &gt;WR H BQR       </span>  </td><td>&lt;D                                                              </td><td>1                                                                  </td><td><span style=white-space:pre-wrap>&gt;WR[  </span>                  </td><td>1                                                                  </td><td>⋯                                                                  </td><td>ø                                                                  </td><td>0                                                                  </td><td><span style=white-space:pre-wrap>prep-subs-art-subs         </span></td><td>N                                                                  </td><td>&lt;DR[                                                            </td><td>perf                                                               </td><td>2                                                                  </td><td>1                                                                  </td><td>I                                                                  </td><td>behind_to.event                                                    </td></tr>\n",
       "\t<tr><th scope=row>1693</th><td><span style=white-space:pre-wrap>2_Samuel    </span>               </td><td>23                                                                 </td><td>13                                                                 </td><td>460899                                                             </td><td>752747                                                             </td><td><span style=white-space:pre-wrap>&gt;L QYJR            </span>     </td><td>&gt;L                                                              </td><td>1                                                                  </td><td>QYJR/                                                              </td><td>1                                                                  </td><td>⋯                                                                  </td><td>ø                                                                  </td><td>0                                                                  </td><td><span style=white-space:pre-wrap>prep-subs                  </span></td><td>N                                                                  </td><td>BW&gt;[                                                            </td><td>wayq                                                               </td><td>2                                                                  </td><td>3                                                                  </td><td>I                                                                  </td><td>behind_to.event                                                    </td></tr>\n",
       "\t<tr><th scope=row>1794</th><td><span style=white-space:pre-wrap>1_Kings     </span>               </td><td>11                                                                 </td><td>40                                                                 </td><td>462796                                                             </td><td>758470                                                             </td><td><span style=white-space:pre-wrap>&lt;D MWT CLMH        </span>     </td><td>&lt;D                                                              </td><td>1                                                                  </td><td><span style=white-space:pre-wrap>MWT/  </span>                     </td><td>1                                                                  </td><td>⋯                                                                  </td><td>ø                                                                  </td><td>0                                                                  </td><td><span style=white-space:pre-wrap>prep-subs-nmpr             </span></td><td>N                                                                  </td><td>HJH[                                                               </td><td>wayq                                                               </td><td>2                                                                  </td><td>4                                                                  </td><td>I                                                                  </td><td>behind_to.event                                                    </td></tr>\n",
       "\t<tr><th scope=row>1859</th><td>1_Kings                    </td><td>20                         </td><td>22                         </td><td>464179                     </td><td>762466                     </td><td>L TCWBH H CNH              </td><td>L                          </td><td>1                          </td><td>TCWBH/                     </td><td>1                          </td><td>⋯                          </td><td>ø                          </td><td>0                          </td><td>prep-subs-art-subs         </td><td>Q                          </td><td>ø                          </td><td>ø                          </td><td>2                          </td><td>2                          </td><td>I                          </td><td>behind_to.event            </td></tr>\n",
       "\t<tr><th scope=row>1860</th><td>1_Kings                    </td><td>20                         </td><td>26                         </td><td>464196                     </td><td>762525                     </td><td>L TCWBH H CNH              </td><td>L                          </td><td>1                          </td><td>TCWBH/                     </td><td>1                          </td><td>⋯                          </td><td>ø                          </td><td>0                          </td><td>prep-subs-art-subs         </td><td>N                          </td><td>HJH[                       </td><td>wayq                       </td><td>2                          </td><td>3                          </td><td>I                          </td><td>behind_to.event            </td></tr>\n",
       "\t<tr><th scope=row>2196</th><td><span style=white-space:pre-wrap>Isaiah      </span>               </td><td>46                                                                 </td><td> 4                                                                 </td><td>472023                                                             </td><td>784522                                                             </td><td><span style=white-space:pre-wrap>&lt;D ZQNH            </span>     </td><td>&lt;D                                                              </td><td>1                                                                  </td><td>ZQNH/                                                              </td><td>1                                                                  </td><td>⋯                                                                  </td><td>ø                                                                  </td><td>0                                                                  </td><td><span style=white-space:pre-wrap>prep-subs                  </span></td><td>Q                                                                  </td><td><span style=white-space:pre-wrap>ø   </span>                       </td><td><span style=white-space:pre-wrap>ø   </span>                       </td><td>2                                                                  </td><td>2                                                                  </td><td>D                                                                  </td><td>behind_to.event                                                    </td></tr>\n",
       "\t<tr><th scope=row>3354</th><td><span style=white-space:pre-wrap>Nehemiah    </span>               </td><td> 2                                                                 </td><td>16                                                                 </td><td>508665                                                             </td><td>884031                                                             </td><td><span style=white-space:pre-wrap>&lt;D KN              </span>     </td><td>&lt;D                                                              </td><td>1                                                                  </td><td><span style=white-space:pre-wrap>ø     </span>                     </td><td>0                                                                  </td><td>⋯                                                                  </td><td>KN                                                                 </td><td>1                                                                  </td><td><span style=white-space:pre-wrap>prep-advb                  </span></td><td>N                                                                  </td><td>NGD[                                                               </td><td>perf                                                               </td><td>2                                                                  </td><td>3                                                                  </td><td>I                                                                  </td><td>behind_to.event                                                    </td></tr>\n",
       "\t<tr><th scope=row>3709</th><td>2_Chronicles               </td><td>36                         </td><td>10                         </td><td>515599                     </td><td>904525                     </td><td>L TCWBH H CNH              </td><td>L                          </td><td>1                          </td><td>TCWBH/                     </td><td>1                          </td><td>⋯                          </td><td>ø                          </td><td>0                          </td><td>prep-subs-art-subs         </td><td>N                          </td><td>CLX[                       </td><td>perf                       </td><td>2                          </td><td>2                          </td><td>I                          </td><td>behind_to.event            </td></tr>\n",
       "</tbody>\n",
       "</table>\n"
      ],
      "text/latex": [
       "\\begin{tabular}{r|llllllllllllllllllllll}\n",
       "  & book & chapter & verse & clause.n & phrase.n & phrase.trans & preps & num.preps & subs & num.subs & ⋯ & advbs & num.advbs & pdp.pattern & domain & verb.lex & verb.tense & position.at.vb & position.at.cl & cl.dependency & timex.group\\\\\n",
       "\\hline\n",
       "\t7 & Genesis                     &  3                          &  8                          & 427805                      & 652259                      & L RWX H JWM                 & L                           & 1                           & RWX/                        & 1                           & ⋯                           & ø                           & 0                           & prep-subs-art-subs          & N                           & ø                           & ø                           & 2                           & 3                           & D                           & behind\\_to.event          \\\\\n",
       "\t809 & Numbers                     & 35                          & 25                          & 444796                      & 703900                      & <D MWT H KHN H GDWL         & <D                          & 1                           & MWT/                        & 1                           & ⋯                           & ø                           & 0                           & prep-subs-art-subs-art-adjv & Q                           & JCB{[}                      & weqt                        & 2                           & 4                           & I                           & behind\\_to.event          \\\\\n",
       "\t810 & Numbers                     & 35                          & 28                          & 444803                      & 703929                      & <D MWT H KHN H GDWL         & <D                          & 1                           & MWT/                        & 1                           & ⋯                           & ø                           & 0                           & prep-subs-art-subs-art-adjv & Q                           & JCB{[}                      & impf                        & 2                           & 4                           & I                           & behind\\_to.event          \\\\\n",
       "\t812 & Numbers                     & 35                          & 32                          & 444817                      & 703973                      & <D MWT H KHN                & <D                          & 1                           & MWT/                        & 1                           & ⋯                           & ø                           & 0                           & prep-subs-art-subs          & Q                           & JCB{[}                      & infc                        & 2                           & 3                           & D                           & behind\\_to.event          \\\\\n",
       "\t1121 & Joshua                      & 20                          &  6                          & 450598                      & 721378                      & <D MWT H KHN H GDWL         & <D                          & 1                           & MWT/                        & 1                           & ⋯                           & ø                           & 0                           & prep-subs-art-subs-art-adjv & Q                           & ø                           & ø                           & 2                           & 1                           & I                           & behind\\_to.event          \\\\\n",
       "\t1278 & Judges                      & 19                          & 26                          & 453576                      & 730524                      & <D H >WR                    & <D                          & 1                           & >WR/                        & 1                           & ⋯                           & ø                           & 0                           & prep-art-subs               & N                           & NPL{[}                      & wayq                        & 2                           & 4                           & I                           & behind\\_to.event          \\\\\n",
       "\t1646 & 2\\_Samuel                  & 17                          & 22                          & 460045                      & 750198                      & <D >WR H BQR                & <D                          & 1                           & >WR{[}                      & 1                           & ⋯                           & ø                           & 0                           & prep-subs-art-subs          & N                           & <DR{[}                      & perf                        & 2                           & 1                           & I                           & behind\\_to.event          \\\\\n",
       "\t1693 & 2\\_Samuel                  & 23                          & 13                          & 460899                      & 752747                      & >L QYJR                     & >L                          & 1                           & QYJR/                       & 1                           & ⋯                           & ø                           & 0                           & prep-subs                   & N                           & BW>{[}                      & wayq                        & 2                           & 3                           & I                           & behind\\_to.event          \\\\\n",
       "\t1794 & 1\\_Kings                   & 11                          & 40                          & 462796                      & 758470                      & <D MWT CLMH                 & <D                          & 1                           & MWT/                        & 1                           & ⋯                           & ø                           & 0                           & prep-subs-nmpr              & N                           & HJH{[}                      & wayq                        & 2                           & 4                           & I                           & behind\\_to.event          \\\\\n",
       "\t1859 & 1\\_Kings                   & 20                          & 22                          & 464179                      & 762466                      & L TCWBH H CNH               & L                           & 1                           & TCWBH/                      & 1                           & ⋯                           & ø                           & 0                           & prep-subs-art-subs          & Q                           & ø                           & ø                           & 2                           & 2                           & I                           & behind\\_to.event          \\\\\n",
       "\t1860 & 1\\_Kings                   & 20                          & 26                          & 464196                      & 762525                      & L TCWBH H CNH               & L                           & 1                           & TCWBH/                      & 1                           & ⋯                           & ø                           & 0                           & prep-subs-art-subs          & N                           & HJH{[}                      & wayq                        & 2                           & 3                           & I                           & behind\\_to.event          \\\\\n",
       "\t2196 & Isaiah                      & 46                          &  4                          & 472023                      & 784522                      & <D ZQNH                     & <D                          & 1                           & ZQNH/                       & 1                           & ⋯                           & ø                           & 0                           & prep-subs                   & Q                           & ø                           & ø                           & 2                           & 2                           & D                           & behind\\_to.event          \\\\\n",
       "\t3354 & Nehemiah                    &  2                          & 16                          & 508665                      & 884031                      & <D KN                       & <D                          & 1                           & ø                           & 0                           & ⋯                           & KN                          & 1                           & prep-advb                   & N                           & NGD{[}                      & perf                        & 2                           & 3                           & I                           & behind\\_to.event          \\\\\n",
       "\t3709 & 2\\_Chronicles              & 36                          & 10                          & 515599                      & 904525                      & L TCWBH H CNH               & L                           & 1                           & TCWBH/                      & 1                           & ⋯                           & ø                           & 0                           & prep-subs-art-subs          & N                           & CLX{[}                      & perf                        & 2                           & 2                           & I                           & behind\\_to.event          \\\\\n",
       "\\end{tabular}\n"
      ],
      "text/markdown": [
       "\n",
       "| <!--/--> | book | chapter | verse | clause.n | phrase.n | phrase.trans | preps | num.preps | subs | num.subs | ⋯ | advbs | num.advbs | pdp.pattern | domain | verb.lex | verb.tense | position.at.vb | position.at.cl | cl.dependency | timex.group | \n",
       "|---|---|---|---|---|---|---|---|---|---|---|---|---|---|\n",
       "| 7 | Genesis                     |  3                          |  8                          | 427805                      | 652259                      | L RWX H JWM                 | L                           | 1                           | RWX/                        | 1                           | ⋯                           | ø                           | 0                           | prep-subs-art-subs          | N                           | ø                           | ø                           | 2                           | 3                           | D                           | behind_to.event             | \n",
       "| 809 | Numbers                     | 35                          | 25                          | 444796                      | 703900                      | <D MWT H KHN H GDWL         | <D                          | 1                           | MWT/                        | 1                           | ⋯                           | ø                           | 0                           | prep-subs-art-subs-art-adjv | Q                           | JCB[                        | weqt                        | 2                           | 4                           | I                           | behind_to.event             | \n",
       "| 810 | Numbers                     | 35                          | 28                          | 444803                      | 703929                      | <D MWT H KHN H GDWL         | <D                          | 1                           | MWT/                        | 1                           | ⋯                           | ø                           | 0                           | prep-subs-art-subs-art-adjv | Q                           | JCB[                        | impf                        | 2                           | 4                           | I                           | behind_to.event             | \n",
       "| 812 | Numbers                     | 35                          | 32                          | 444817                      | 703973                      | <D MWT H KHN                | <D                          | 1                           | MWT/                        | 1                           | ⋯                           | ø                           | 0                           | prep-subs-art-subs          | Q                           | JCB[                        | infc                        | 2                           | 3                           | D                           | behind_to.event             | \n",
       "| 1121 | Joshua                      | 20                          |  6                          | 450598                      | 721378                      | <D MWT H KHN H GDWL         | <D                          | 1                           | MWT/                        | 1                           | ⋯                           | ø                           | 0                           | prep-subs-art-subs-art-adjv | Q                           | ø                           | ø                           | 2                           | 1                           | I                           | behind_to.event             | \n",
       "| 1278 | Judges                      | 19                          | 26                          | 453576                      | 730524                      | <D H >WR                    | <D                          | 1                           | >WR/                        | 1                           | ⋯                           | ø                           | 0                           | prep-art-subs               | N                           | NPL[                        | wayq                        | 2                           | 4                           | I                           | behind_to.event             | \n",
       "| 1646 | 2_Samuel                    | 17                          | 22                          | 460045                      | 750198                      | <D >WR H BQR                | <D                          | 1                           | >WR[                        | 1                           | ⋯                           | ø                           | 0                           | prep-subs-art-subs          | N                           | <DR[                        | perf                        | 2                           | 1                           | I                           | behind_to.event             | \n",
       "| 1693 | 2_Samuel                    | 23                          | 13                          | 460899                      | 752747                      | >L QYJR                     | >L                          | 1                           | QYJR/                       | 1                           | ⋯                           | ø                           | 0                           | prep-subs                   | N                           | BW>[                        | wayq                        | 2                           | 3                           | I                           | behind_to.event             | \n",
       "| 1794 | 1_Kings                     | 11                          | 40                          | 462796                      | 758470                      | <D MWT CLMH                 | <D                          | 1                           | MWT/                        | 1                           | ⋯                           | ø                           | 0                           | prep-subs-nmpr              | N                           | HJH[                        | wayq                        | 2                           | 4                           | I                           | behind_to.event             | \n",
       "| 1859 | 1_Kings                     | 20                          | 22                          | 464179                      | 762466                      | L TCWBH H CNH               | L                           | 1                           | TCWBH/                      | 1                           | ⋯                           | ø                           | 0                           | prep-subs-art-subs          | Q                           | ø                           | ø                           | 2                           | 2                           | I                           | behind_to.event             | \n",
       "| 1860 | 1_Kings                     | 20                          | 26                          | 464196                      | 762525                      | L TCWBH H CNH               | L                           | 1                           | TCWBH/                      | 1                           | ⋯                           | ø                           | 0                           | prep-subs-art-subs          | N                           | HJH[                        | wayq                        | 2                           | 3                           | I                           | behind_to.event             | \n",
       "| 2196 | Isaiah                      | 46                          |  4                          | 472023                      | 784522                      | <D ZQNH                     | <D                          | 1                           | ZQNH/                       | 1                           | ⋯                           | ø                           | 0                           | prep-subs                   | Q                           | ø                           | ø                           | 2                           | 2                           | D                           | behind_to.event             | \n",
       "| 3354 | Nehemiah                    |  2                          | 16                          | 508665                      | 884031                      | <D KN                       | <D                          | 1                           | ø                           | 0                           | ⋯                           | KN                          | 1                           | prep-advb                   | N                           | NGD[                        | perf                        | 2                           | 3                           | I                           | behind_to.event             | \n",
       "| 3709 | 2_Chronicles                | 36                          | 10                          | 515599                      | 904525                      | L TCWBH H CNH               | L                           | 1                           | TCWBH/                      | 1                           | ⋯                           | ø                           | 0                           | prep-subs-art-subs          | N                           | CLX[                        | perf                        | 2                           | 2                           | I                           | behind_to.event             | \n",
       "\n",
       "\n"
      ],
      "text/plain": [
       "     book         chapter verse clause.n phrase.n phrase.trans        preps\n",
       "7    Genesis       3       8    427805   652259   L RWX H JWM         L    \n",
       "809  Numbers      35      25    444796   703900   <D MWT H KHN H GDWL <D   \n",
       "810  Numbers      35      28    444803   703929   <D MWT H KHN H GDWL <D   \n",
       "812  Numbers      35      32    444817   703973   <D MWT H KHN        <D   \n",
       "1121 Joshua       20       6    450598   721378   <D MWT H KHN H GDWL <D   \n",
       "1278 Judges       19      26    453576   730524   <D H >WR            <D   \n",
       "1646 2_Samuel     17      22    460045   750198   <D >WR H BQR        <D   \n",
       "1693 2_Samuel     23      13    460899   752747   >L QYJR             >L   \n",
       "1794 1_Kings      11      40    462796   758470   <D MWT CLMH         <D   \n",
       "1859 1_Kings      20      22    464179   762466   L TCWBH H CNH       L    \n",
       "1860 1_Kings      20      26    464196   762525   L TCWBH H CNH       L    \n",
       "2196 Isaiah       46       4    472023   784522   <D ZQNH             <D   \n",
       "3354 Nehemiah      2      16    508665   884031   <D KN               <D   \n",
       "3709 2_Chronicles 36      10    515599   904525   L TCWBH H CNH       L    \n",
       "     num.preps subs   num.subs ⋯ advbs num.advbs pdp.pattern                \n",
       "7    1         RWX/   1        ⋯ ø     0         prep-subs-art-subs         \n",
       "809  1         MWT/   1        ⋯ ø     0         prep-subs-art-subs-art-adjv\n",
       "810  1         MWT/   1        ⋯ ø     0         prep-subs-art-subs-art-adjv\n",
       "812  1         MWT/   1        ⋯ ø     0         prep-subs-art-subs         \n",
       "1121 1         MWT/   1        ⋯ ø     0         prep-subs-art-subs-art-adjv\n",
       "1278 1         >WR/   1        ⋯ ø     0         prep-art-subs              \n",
       "1646 1         >WR[   1        ⋯ ø     0         prep-subs-art-subs         \n",
       "1693 1         QYJR/  1        ⋯ ø     0         prep-subs                  \n",
       "1794 1         MWT/   1        ⋯ ø     0         prep-subs-nmpr             \n",
       "1859 1         TCWBH/ 1        ⋯ ø     0         prep-subs-art-subs         \n",
       "1860 1         TCWBH/ 1        ⋯ ø     0         prep-subs-art-subs         \n",
       "2196 1         ZQNH/  1        ⋯ ø     0         prep-subs                  \n",
       "3354 1         ø      0        ⋯ KN    1         prep-advb                  \n",
       "3709 1         TCWBH/ 1        ⋯ ø     0         prep-subs-art-subs         \n",
       "     domain verb.lex verb.tense position.at.vb position.at.cl cl.dependency\n",
       "7    N      ø        ø          2              3              D            \n",
       "809  Q      JCB[     weqt       2              4              I            \n",
       "810  Q      JCB[     impf       2              4              I            \n",
       "812  Q      JCB[     infc       2              3              D            \n",
       "1121 Q      ø        ø          2              1              I            \n",
       "1278 N      NPL[     wayq       2              4              I            \n",
       "1646 N      <DR[     perf       2              1              I            \n",
       "1693 N      BW>[     wayq       2              3              I            \n",
       "1794 N      HJH[     wayq       2              4              I            \n",
       "1859 Q      ø        ø          2              2              I            \n",
       "1860 N      HJH[     wayq       2              3              I            \n",
       "2196 Q      ø        ø          2              2              D            \n",
       "3354 N      NGD[     perf       2              3              I            \n",
       "3709 N      CLX[     perf       2              2              I            \n",
       "     timex.group    \n",
       "7    behind_to.event\n",
       "809  behind_to.event\n",
       "810  behind_to.event\n",
       "812  behind_to.event\n",
       "1121 behind_to.event\n",
       "1278 behind_to.event\n",
       "1646 behind_to.event\n",
       "1693 behind_to.event\n",
       "1794 behind_to.event\n",
       "1859 behind_to.event\n",
       "1860 behind_to.event\n",
       "2196 behind_to.event\n",
       "3354 behind_to.event\n",
       "3709 behind_to.event"
      ]
     },
     "metadata": {},
     "output_type": "display_data"
    }
   ],
   "source": [
    "# more play\n",
    "\n",
    "(timexes[timexes$timex.group == 'behind_to.event',])"
   ]
  },
  {
   "cell_type": "code",
   "execution_count": null,
   "metadata": {
    "collapsed": true
   },
   "outputs": [],
   "source": []
  }
 ],
 "metadata": {
  "kernelspec": {
   "display_name": "R",
   "language": "R",
   "name": "ir"
  },
  "language_info": {
   "codemirror_mode": "r",
   "file_extension": ".r",
   "mimetype": "text/x-r-source",
   "name": "R",
   "pygments_lexer": "r",
   "version": "3.4.1"
  }
 },
 "nbformat": 4,
 "nbformat_minor": 2
}
