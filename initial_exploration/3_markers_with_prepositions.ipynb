{
 "cells": [
  {
   "cell_type": "markdown",
   "metadata": {
    "collapsed": true
   },
   "source": [
    "# Markers with Prepositions\n",
    "\n",
    "Do time markers as correlated with certain tenses contain more or less of a given type of preposition?\n",
    "\n",
    "For instance, a cursory analysis of tense-dominant time markers (`2_markers_with_tenses.ipynb`) appear to show that the particle עד is more common in yiqtol-dominant time markers. Alternatively, the particle ב appears more often in the wayyiqtol-dominant markers. Statistically, are there patterns that can be identified?"
   ]
  },
  {
   "cell_type": "code",
   "execution_count": 1,
   "metadata": {},
   "outputs": [
    {
     "name": "stdout",
     "output_type": "stream",
     "text": [
      "  0.00s loading features ...\n",
      "   |     0.01s B book                 from /Users/Cody/github/text-fabric-data/hebrew/etcbc4c\n",
      "   |     0.01s B chapter              from /Users/Cody/github/text-fabric-data/hebrew/etcbc4c\n",
      "   |     0.01s B verse                from /Users/Cody/github/text-fabric-data/hebrew/etcbc4c\n",
      "   |     0.12s B pdp                  from /Users/Cody/github/text-fabric-data/hebrew/etcbc4c\n",
      "   |     0.12s B vt                   from /Users/Cody/github/text-fabric-data/hebrew/etcbc4c\n",
      "   |     0.02s B domain               from /Users/Cody/github/text-fabric-data/hebrew/etcbc4c\n",
      "   |     0.13s B lex                  from /Users/Cody/github/text-fabric-data/hebrew/etcbc4c\n",
      "   |     0.00s Feature overview: 103 for nodes; 5 for edges; 1 configs; 7 computed\n",
      "  5.23s All features loaded/computed - for details use loadLog()\n"
     ]
    }
   ],
   "source": [
    "import pickle, collections\n",
    "import pandas as pd\n",
    "from pprint import pprint\n",
    "from tf.fabric import Fabric\n",
    "from IPython.display import display, HTML\n",
    "\n",
    "TF = Fabric(modules='hebrew/etcbc4c', silent=True)\n",
    "api = TF.load('''book chapter verse\n",
    "                 pdp vt domain lex\n",
    "              ''')\n",
    "\n",
    "api.makeAvailableIn(globals())"
   ]
  },
  {
   "cell_type": "code",
   "execution_count": 2,
   "metadata": {
    "collapsed": true
   },
   "outputs": [],
   "source": [
    "# import custom function for weqetal detection\n",
    "from functions.verbs import is_weqt"
   ]
  },
  {
   "cell_type": "code",
   "execution_count": 3,
   "metadata": {},
   "outputs": [
    {
     "name": "stdout",
     "output_type": "stream",
     "text": [
      "data available:  markers, top_markers, stats_rows\n"
     ]
    }
   ],
   "source": [
    "# import time markers data\n",
    "tm_data_file = 'data/time_markers.pickle'\n",
    "\n",
    "# load data\n",
    "with open(tm_data_file, 'rb') as infile:\n",
    "    tm_data = pickle.load(infile)\n",
    "\n",
    "print('data available: ', ', '.join(tm_data.keys()))"
   ]
  },
  {
   "cell_type": "code",
   "execution_count": 4,
   "metadata": {
    "collapsed": true
   },
   "outputs": [],
   "source": [
    "# assign the data\n",
    "markers = tm_data['markers']\n",
    "top_markers = tm_data['top_markers']\n",
    "stats_rows = tm_data['stats_rows']"
   ]
  },
  {
   "cell_type": "code",
   "execution_count": 5,
   "metadata": {},
   "outputs": [
    {
     "data": {
      "text/plain": [
       "dict_keys(['count', 'clauses', 'tense_cl_lists', 'tense_counts', 'tense_percents', 'example_phrase'])"
      ]
     },
     "execution_count": 5,
     "metadata": {},
     "output_type": "execute_result"
    }
   ],
   "source": [
    "markers['H JWM'].keys()"
   ]
  },
  {
   "cell_type": "markdown",
   "metadata": {},
   "source": [
    "## Make Initial Counts\n",
    "\n",
    "Find time phrases with a preposition as the first word in the phrase. Count it and display the data."
   ]
  },
  {
   "cell_type": "code",
   "execution_count": 6,
   "metadata": {},
   "outputs": [
    {
     "name": "stdout",
     "output_type": "stream",
     "text": [
      "718/985 time markers begin with a preposition\n",
      "or 72.9%\n"
     ]
    }
   ],
   "source": [
    "preposition_cl_lists = collections.defaultdict(lambda: collections.defaultdict(list))\n",
    "preposition_counts = collections.defaultdict(lambda: collections.Counter())\n",
    "\n",
    "# for basic information about how many time markers have a preposition\n",
    "total_time_markers = len(markers)\n",
    "markers_with_preps = 0\n",
    "\n",
    "# map clauses to prepositions by tense and count in the same way\n",
    "for marker, marker_data in markers.items():\n",
    "    \n",
    "    # get the part of speech of first word in time phrase\n",
    "    time_phrase = marker_data['example_phrase']\n",
    "    first_word = L.d(time_phrase, otype='word')[0]\n",
    "    first_word_type = F.pdp.v(first_word)\n",
    "        \n",
    "    # make sure first word is a preposition\n",
    "    if first_word_type != 'prep':\n",
    "        continue\n",
    "        \n",
    "    # count the time marker with prep\n",
    "    markers_with_preps += 1\n",
    "        \n",
    "    # get the lex plain text representation of the preposition\n",
    "    prep_lex = L.u(first_word, otype='lex')[0]\n",
    "    prep_text = F.lex.v(prep_lex)\n",
    "    \n",
    "    # count by tense\n",
    "    for tense, clause_list in marker_data['tense_cl_lists'].items():\n",
    "        tense_count = len(clause_list)\n",
    "        \n",
    "        # map the clause nodes\n",
    "        preposition_cl_lists[prep_text][tense].extend(clause_list)\n",
    "        \n",
    "        # make a count\n",
    "        preposition_counts[prep_text][tense] += tense_count\n",
    "        preposition_counts[prep_text]['total'] += tense_count\n",
    "\n",
    "        \n",
    "percent_with_prep = round((markers_with_preps/total_time_markers)*100, 1)\n",
    "\n",
    "print(f'{markers_with_preps}/{total_time_markers} time markers begin with a preposition')\n",
    "print(f'or {percent_with_prep}%')"
   ]
  },
  {
   "cell_type": "code",
   "execution_count": 7,
   "metadata": {},
   "outputs": [
    {
     "data": {
      "text/html": [
       "<div>\n",
       "<table border=\"1\" class=\"dataframe\">\n",
       "  <thead>\n",
       "    <tr style=\"text-align: right;\">\n",
       "      <th></th>\n",
       "      <th>marker</th>\n",
       "      <th>total</th>\n",
       "      <th>impf</th>\n",
       "      <th>impv</th>\n",
       "      <th>infa</th>\n",
       "      <th>infc</th>\n",
       "      <th>perf</th>\n",
       "      <th>ptca</th>\n",
       "      <th>ptcp</th>\n",
       "      <th>wayq</th>\n",
       "      <th>weqt</th>\n",
       "    </tr>\n",
       "  </thead>\n",
       "  <tbody>\n",
       "    <tr>\n",
       "      <th>0</th>\n",
       "      <td>B</td>\n",
       "      <td>1095</td>\n",
       "      <td>27.3% (299)</td>\n",
       "      <td>2.2% (24)</td>\n",
       "      <td>0.4% (4)</td>\n",
       "      <td>3.7% (40)</td>\n",
       "      <td>25.0% (274)</td>\n",
       "      <td>4.7% (52)</td>\n",
       "      <td>0.3% (3)</td>\n",
       "      <td>26.4% (289)</td>\n",
       "      <td>10.0% (110)</td>\n",
       "    </tr>\n",
       "    <tr>\n",
       "      <th>1</th>\n",
       "      <td>&lt;D</td>\n",
       "      <td>277</td>\n",
       "      <td>34.7% (96)</td>\n",
       "      <td>2.5% (7)</td>\n",
       "      <td>0.0% (0)</td>\n",
       "      <td>4.0% (11)</td>\n",
       "      <td>16.6% (46)</td>\n",
       "      <td>5.4% (15)</td>\n",
       "      <td>0.4% (1)</td>\n",
       "      <td>22.7% (63)</td>\n",
       "      <td>13.7% (38)</td>\n",
       "    </tr>\n",
       "    <tr>\n",
       "      <th>2</th>\n",
       "      <td>L</td>\n",
       "      <td>266</td>\n",
       "      <td>48.9% (130)</td>\n",
       "      <td>4.1% (11)</td>\n",
       "      <td>0.4% (1)</td>\n",
       "      <td>5.3% (14)</td>\n",
       "      <td>18.0% (48)</td>\n",
       "      <td>4.5% (12)</td>\n",
       "      <td>1.5% (4)</td>\n",
       "      <td>10.9% (29)</td>\n",
       "      <td>6.4% (17)</td>\n",
       "    </tr>\n",
       "    <tr>\n",
       "      <th>3</th>\n",
       "      <td>MN</td>\n",
       "      <td>170</td>\n",
       "      <td>17.1% (29)</td>\n",
       "      <td>3.5% (6)</td>\n",
       "      <td>0.0% (0)</td>\n",
       "      <td>0.6% (1)</td>\n",
       "      <td>30.0% (51)</td>\n",
       "      <td>7.6% (13)</td>\n",
       "      <td>3.5% (6)</td>\n",
       "      <td>35.3% (60)</td>\n",
       "      <td>2.4% (4)</td>\n",
       "    </tr>\n",
       "    <tr>\n",
       "      <th>4</th>\n",
       "      <td>&gt;XR/</td>\n",
       "      <td>120</td>\n",
       "      <td>27.5% (33)</td>\n",
       "      <td>0.0% (0)</td>\n",
       "      <td>0.0% (0)</td>\n",
       "      <td>0.0% (0)</td>\n",
       "      <td>35.8% (43)</td>\n",
       "      <td>1.7% (2)</td>\n",
       "      <td>0.0% (0)</td>\n",
       "      <td>35.0% (42)</td>\n",
       "      <td>0.0% (0)</td>\n",
       "    </tr>\n",
       "    <tr>\n",
       "      <th>5</th>\n",
       "      <td>K</td>\n",
       "      <td>50</td>\n",
       "      <td>24.0% (12)</td>\n",
       "      <td>16.0% (8)</td>\n",
       "      <td>0.0% (0)</td>\n",
       "      <td>8.0% (4)</td>\n",
       "      <td>24.0% (12)</td>\n",
       "      <td>8.0% (4)</td>\n",
       "      <td>2.0% (1)</td>\n",
       "      <td>18.0% (9)</td>\n",
       "      <td>0.0% (0)</td>\n",
       "    </tr>\n",
       "    <tr>\n",
       "      <th>6</th>\n",
       "      <td>BJN/</td>\n",
       "      <td>7</td>\n",
       "      <td>71.4% (5)</td>\n",
       "      <td>0.0% (0)</td>\n",
       "      <td>0.0% (0)</td>\n",
       "      <td>14.3% (1)</td>\n",
       "      <td>0.0% (0)</td>\n",
       "      <td>0.0% (0)</td>\n",
       "      <td>0.0% (0)</td>\n",
       "      <td>0.0% (0)</td>\n",
       "      <td>14.3% (1)</td>\n",
       "    </tr>\n",
       "    <tr>\n",
       "      <th>7</th>\n",
       "      <td>&gt;T</td>\n",
       "      <td>2</td>\n",
       "      <td>50.0% (1)</td>\n",
       "      <td>0.0% (0)</td>\n",
       "      <td>0.0% (0)</td>\n",
       "      <td>0.0% (0)</td>\n",
       "      <td>0.0% (0)</td>\n",
       "      <td>0.0% (0)</td>\n",
       "      <td>0.0% (0)</td>\n",
       "      <td>50.0% (1)</td>\n",
       "      <td>0.0% (0)</td>\n",
       "    </tr>\n",
       "    <tr>\n",
       "      <th>8</th>\n",
       "      <td>BLT/</td>\n",
       "      <td>1</td>\n",
       "      <td>0.0% (0)</td>\n",
       "      <td>0.0% (0)</td>\n",
       "      <td>0.0% (0)</td>\n",
       "      <td>0.0% (0)</td>\n",
       "      <td>100.0% (1)</td>\n",
       "      <td>0.0% (0)</td>\n",
       "      <td>0.0% (0)</td>\n",
       "      <td>0.0% (0)</td>\n",
       "      <td>0.0% (0)</td>\n",
       "    </tr>\n",
       "    <tr>\n",
       "      <th>9</th>\n",
       "      <td>&gt;L</td>\n",
       "      <td>1</td>\n",
       "      <td>0.0% (0)</td>\n",
       "      <td>0.0% (0)</td>\n",
       "      <td>0.0% (0)</td>\n",
       "      <td>0.0% (0)</td>\n",
       "      <td>0.0% (0)</td>\n",
       "      <td>0.0% (0)</td>\n",
       "      <td>0.0% (0)</td>\n",
       "      <td>100.0% (1)</td>\n",
       "      <td>0.0% (0)</td>\n",
       "    </tr>\n",
       "    <tr>\n",
       "      <th>10</th>\n",
       "      <td>&lt;L</td>\n",
       "      <td>1</td>\n",
       "      <td>0.0% (0)</td>\n",
       "      <td>0.0% (0)</td>\n",
       "      <td>0.0% (0)</td>\n",
       "      <td>0.0% (0)</td>\n",
       "      <td>100.0% (1)</td>\n",
       "      <td>0.0% (0)</td>\n",
       "      <td>0.0% (0)</td>\n",
       "      <td>0.0% (0)</td>\n",
       "      <td>0.0% (0)</td>\n",
       "    </tr>\n",
       "  </tbody>\n",
       "</table>\n",
       "</div>"
      ],
      "text/plain": [
       "   marker  total         impf       impv      infa       infc         perf  \\\n",
       "0       B   1095  27.3% (299)  2.2% (24)  0.4% (4)  3.7% (40)  25.0% (274)   \n",
       "1      <D    277   34.7% (96)   2.5% (7)  0.0% (0)  4.0% (11)   16.6% (46)   \n",
       "2       L    266  48.9% (130)  4.1% (11)  0.4% (1)  5.3% (14)   18.0% (48)   \n",
       "3      MN    170   17.1% (29)   3.5% (6)  0.0% (0)   0.6% (1)   30.0% (51)   \n",
       "4    >XR/    120   27.5% (33)   0.0% (0)  0.0% (0)   0.0% (0)   35.8% (43)   \n",
       "5       K     50   24.0% (12)  16.0% (8)  0.0% (0)   8.0% (4)   24.0% (12)   \n",
       "6    BJN/      7    71.4% (5)   0.0% (0)  0.0% (0)  14.3% (1)     0.0% (0)   \n",
       "7      >T      2    50.0% (1)   0.0% (0)  0.0% (0)   0.0% (0)     0.0% (0)   \n",
       "8    BLT/      1     0.0% (0)   0.0% (0)  0.0% (0)   0.0% (0)   100.0% (1)   \n",
       "9      >L      1     0.0% (0)   0.0% (0)  0.0% (0)   0.0% (0)     0.0% (0)   \n",
       "10     <L      1     0.0% (0)   0.0% (0)  0.0% (0)   0.0% (0)   100.0% (1)   \n",
       "\n",
       "         ptca      ptcp         wayq         weqt  \n",
       "0   4.7% (52)  0.3% (3)  26.4% (289)  10.0% (110)  \n",
       "1   5.4% (15)  0.4% (1)   22.7% (63)   13.7% (38)  \n",
       "2   4.5% (12)  1.5% (4)   10.9% (29)    6.4% (17)  \n",
       "3   7.6% (13)  3.5% (6)   35.3% (60)     2.4% (4)  \n",
       "4    1.7% (2)  0.0% (0)   35.0% (42)     0.0% (0)  \n",
       "5    8.0% (4)  2.0% (1)    18.0% (9)     0.0% (0)  \n",
       "6    0.0% (0)  0.0% (0)     0.0% (0)    14.3% (1)  \n",
       "7    0.0% (0)  0.0% (0)    50.0% (1)     0.0% (0)  \n",
       "8    0.0% (0)  0.0% (0)     0.0% (0)     0.0% (0)  \n",
       "9    0.0% (0)  0.0% (0)   100.0% (1)     0.0% (0)  \n",
       "10   0.0% (0)  0.0% (0)     0.0% (0)     0.0% (0)  "
      ]
     },
     "execution_count": 7,
     "metadata": {},
     "output_type": "execute_result"
    }
   ],
   "source": [
    "# order and create tables\n",
    "prep_count_table_order = [(tense_totals['total'], marker, tense_totals) \n",
    "                          for marker, tense_totals in preposition_counts.items()]\n",
    "prep_count_table_order = sorted(prep_count_table_order, reverse=True)\n",
    "\n",
    "\n",
    "# get header data\n",
    "all_tenses = [key for key in sorted(prep_count_table_order[0][2].keys())\n",
    "                                         if key != 'total']\n",
    "table_header = ['marker', 'total'] + all_tenses\n",
    "\n",
    "\n",
    "# make table rows\n",
    "prep_count_table_rows = []\n",
    "\n",
    "for total, marker, tense_totals in prep_count_table_order:\n",
    "    \n",
    "    tense_counts = ['{}% ({})'.format(round((tense_totals[tense]/total)*100,1), tense_totals[tense])\n",
    "                       for tense in all_tenses ]\n",
    "    \n",
    "    row = [marker, total] + tense_counts\n",
    "    \n",
    "    prep_count_table_rows.append(row)\n",
    "    \n",
    "\n",
    "# display table\n",
    "prep_count_table = pd.DataFrame(prep_count_table_rows, columns=table_header)\n",
    "prep_count_table"
   ]
  },
  {
   "cell_type": "code",
   "execution_count": 8,
   "metadata": {
    "collapsed": true
   },
   "outputs": [],
   "source": [
    "# export data with prepositions\n",
    "\n",
    "# add preposition data\n",
    "tm_data['preposition_cl_lists'] = dict(preposition_cl_lists)"
   ]
  },
  {
   "cell_type": "code",
   "execution_count": 9,
   "metadata": {},
   "outputs": [
    {
     "data": {
      "text/plain": [
       "dict_keys(['markers', 'top_markers', 'stats_rows', 'preposition_cl_lists'])"
      ]
     },
     "execution_count": 9,
     "metadata": {},
     "output_type": "execute_result"
    }
   ],
   "source": [
    "tm_data.keys()"
   ]
  },
  {
   "cell_type": "code",
   "execution_count": 10,
   "metadata": {
    "collapsed": true
   },
   "outputs": [],
   "source": [
    "with open(tm_data_file, 'wb') as outfile:\n",
    "    \n",
    "    pickle.dump(tm_data, outfile)"
   ]
  },
  {
   "cell_type": "markdown",
   "metadata": {},
   "source": [
    "# Export a Full Spreadsheet with All Time Marker and Tense Data\n",
    "\n",
    "This step is unrelated to this notebook."
   ]
  },
  {
   "cell_type": "code",
   "execution_count": 30,
   "metadata": {},
   "outputs": [
    {
     "data": {
      "text/plain": [
       "985"
      ]
     },
     "execution_count": 30,
     "metadata": {},
     "output_type": "execute_result"
    }
   ],
   "source": [
    "import csv\n",
    "\n",
    "csv_header = tm_data['stats_rows']['header']\n",
    "\n",
    "csv_row_order = sorted([(tm_data['stats_rows'][row][1],tm_data['stats_rows'][row]) for row in tm_data['stats_rows']               \n",
    "                            if row != 'header'], reverse=True)\n",
    "\n",
    "csv_rows = [row[1] for row in csv_row_order]\n",
    "                       \n",
    "len(csv_rows)"
   ]
  },
  {
   "cell_type": "code",
   "execution_count": 31,
   "metadata": {
    "collapsed": true
   },
   "outputs": [],
   "source": [
    "with open('all_time_markers.csv', 'w') as outfile:\n",
    "    \n",
    "    writer = csv.writer(outfile)\n",
    "    \n",
    "    writer.writerow(csv_header)\n",
    "    writer.writerows(csv_rows)"
   ]
  },
  {
   "cell_type": "code",
   "execution_count": null,
   "metadata": {
    "collapsed": true
   },
   "outputs": [],
   "source": []
  }
 ],
 "metadata": {
  "kernelspec": {
   "display_name": "Python 3",
   "language": "python",
   "name": "python3"
  },
  "language_info": {
   "codemirror_mode": {
    "name": "ipython",
    "version": 3
   },
   "file_extension": ".py",
   "mimetype": "text/x-python",
   "name": "python",
   "nbconvert_exporter": "python",
   "pygments_lexer": "ipython3",
   "version": "3.6.1"
  }
 },
 "nbformat": 4,
 "nbformat_minor": 2
}
