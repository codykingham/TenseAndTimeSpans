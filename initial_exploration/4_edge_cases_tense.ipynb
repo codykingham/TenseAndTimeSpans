{
 "cells": [
  {
   "cell_type": "markdown",
   "metadata": {},
   "source": [
    "# Edge Cases by Tense\n",
    "\n",
    "The emerging opposition from the data is that of yiqtol vs. wayyiqtol (see esp. [`2_markers_with_tenses.ipynb`](2_markers_with_tenses.ipynb) and the two dominant tenses). In a number of tense-dominant markers, though, whether they be yiqtol or wayyiqtol dominant, there are edge cases where the opposing tense is used. Is it possible to isolate the circumstances which lead to these exceptions to the rules?\n",
    "\n",
    "The examples examined here are:\n",
    "\n",
    "* לעולם - yiqtol-dominant (46 cases) with 2 wayyiqtol edge cases\n",
    "* עד היום הזה - wayyiqtol-dominant (35) with 3 yiqtol edge cases\n",
    "\n",
    "Also of interest is the role of the qatal, which has a lot of variation amongst both yiqtol and wayyiqtol dominant time-markers. There are two qatal-dominant time markers of interest:\n",
    "\n",
    "* היום הזה - qatal-dominant (14), yiqtol-secondary (7)\n",
    "* אחריו - qatal-dominant (15), wayyiqtol-secondary (4)\n",
    "\n",
    "The strategy of this notebook is simple. Gather data on the edge cases and manually examine it through a process of elimination to discover any features that may help explain the edge case. Why, for instance, in a time marker usually used alongside a yiqtol verb would a wayyiqtol be used instead?\n",
    "\n",
    "Factors to consider:\n",
    "\n",
    "* Other words/particles before the clause in question (semantic signals), interpreted within the discourse structure.\n",
    "* Other verbs/tenses before the clause in question, interpreted within the discourse structure.\n",
    "* How much is tense dominance a product of uneven distribution within the HB? E.g. are the qatal dominant time markers truly qatal-dominant, or is this statistic due to a motif/repeated phrase in a single work?"
   ]
  },
  {
   "cell_type": "code",
   "execution_count": 1,
   "metadata": {},
   "outputs": [
    {
     "name": "stdout",
     "output_type": "stream",
     "text": [
      "  0.00s loading features ...\n",
      "   |     0.01s B book                 from /Users/Cody/github/text-fabric-data/hebrew/etcbc4c\n",
      "   |     0.00s B chapter              from /Users/Cody/github/text-fabric-data/hebrew/etcbc4c\n",
      "   |     0.01s B verse                from /Users/Cody/github/text-fabric-data/hebrew/etcbc4c\n",
      "   |     0.11s B pdp                  from /Users/Cody/github/text-fabric-data/hebrew/etcbc4c\n",
      "   |     0.11s B vt                   from /Users/Cody/github/text-fabric-data/hebrew/etcbc4c\n",
      "   |     0.02s B domain               from /Users/Cody/github/text-fabric-data/hebrew/etcbc4c\n",
      "   |     0.12s B lex                  from /Users/Cody/github/text-fabric-data/hebrew/etcbc4c\n",
      "   |     0.02s B tab                  from /Users/Cody/github/text-fabric-data/hebrew/etcbc4c\n",
      "   |     0.20s B typ                  from /Users/Cody/github/text-fabric-data/hebrew/etcbc4c\n",
      "   |     0.07s B function             from /Users/Cody/github/text-fabric-data/hebrew/etcbc4c\n",
      "   |     0.00s Feature overview: 103 for nodes; 5 for edges; 1 configs; 7 computed\n",
      "  4.77s All features loaded/computed - for details use loadLog()\n"
     ]
    }
   ],
   "source": [
    "# import modules and Text-Fabric\n",
    "\n",
    "import pickle, collections, random\n",
    "import pandas as pd\n",
    "from pprint import pprint\n",
    "from tf.fabric import Fabric\n",
    "from IPython.display import display, HTML\n",
    "\n",
    "TF = Fabric(modules='hebrew/etcbc4c', silent=True)\n",
    "api = TF.load('''book chapter verse\n",
    "                 pdp vt domain lex tab\n",
    "                 typ function\n",
    "              ''')\n",
    "\n",
    "api.makeAvailableIn(globals())"
   ]
  },
  {
   "cell_type": "code",
   "execution_count": 2,
   "metadata": {
    "collapsed": true
   },
   "outputs": [],
   "source": [
    "# import custom function for weqetal detection\n",
    "from functions.verbs import is_weqt"
   ]
  },
  {
   "cell_type": "code",
   "execution_count": 3,
   "metadata": {
    "scrolled": true
   },
   "outputs": [
    {
     "name": "stdout",
     "output_type": "stream",
     "text": [
      "data available:  markers, top_markers, stats_rows, preposition_cl_lists\n"
     ]
    }
   ],
   "source": [
    "# import time markers data\n",
    "tm_data_file = 'data/time_markers.pickle'\n",
    "\n",
    "# load data\n",
    "with open(tm_data_file, 'rb') as infile:\n",
    "    tm_data = pickle.load(infile)\n",
    "\n",
    "print('data available: ', ', '.join(tm_data.keys()))"
   ]
  },
  {
   "cell_type": "code",
   "execution_count": 4,
   "metadata": {
    "collapsed": true
   },
   "outputs": [],
   "source": [
    "# assign the data\n",
    "markers = tm_data['markers']\n",
    "top_markers = tm_data['top_markers']\n",
    "stats_rows = tm_data['stats_rows']"
   ]
  },
  {
   "cell_type": "code",
   "execution_count": 5,
   "metadata": {},
   "outputs": [
    {
     "data": {
      "text/plain": [
       "dict_keys(['count', 'clauses', 'tense_cl_lists', 'tense_counts', 'tense_percents', 'example_phrase'])"
      ]
     },
     "execution_count": 5,
     "metadata": {},
     "output_type": "execute_result"
    }
   ],
   "source": [
    "# show key data availabe for time markers\n",
    "markers['L <WLM'].keys()"
   ]
  },
  {
   "cell_type": "markdown",
   "metadata": {},
   "source": [
    "# Basic Examination\n",
    "\n",
    "Print out the plain-text examples and make comparisons. Some examples will come from the dominant-tense selections, more extensive examples are provided for the edge cases.\n",
    "\n",
    "## לעולם, yiqtol dominant\n"
   ]
  },
  {
   "cell_type": "code",
   "execution_count": 6,
   "metadata": {},
   "outputs": [
    {
     "data": {
      "text/plain": [
       "2"
      ]
     },
     "execution_count": 6,
     "metadata": {},
     "output_type": "execute_result"
    }
   ],
   "source": [
    "for_forever = 'L <WLM'\n",
    "\n",
    "# get yiqtol examples\n",
    "for_forever_yiqtols = markers[for_forever]['tense_cl_lists']['impf']\n",
    "\n",
    "# five random yiqtol samples\n",
    "rand_forever_yiqtols = [for_forever_yiqtols[random.randrange(0, len(for_forever_yiqtols))]\n",
    "                           for i in range(1,6)]\n",
    "\n",
    "# get wayyiqtol examples\n",
    "for_forever_wayyiqtols = markers[for_forever]['tense_cl_lists']['wayq']\n",
    "\n",
    "len(for_forever_wayyiqtols)"
   ]
  },
  {
   "cell_type": "code",
   "execution_count": 7,
   "metadata": {
    "scrolled": false
   },
   "outputs": [
    {
     "data": {
      "text/html": [
       "<span style=\"font-size: 14pt; font-family: Times New Roman\">לעולם with Yiqtol</span>"
      ],
      "text/plain": [
       "<IPython.core.display.HTML object>"
      ]
     },
     "metadata": {},
     "output_type": "display_data"
    },
    {
     "name": "stdout",
     "output_type": "stream",
     "text": [
      "\n"
     ]
    },
    {
     "data": {
      "text/html": [
       "<span style=\"font-size: 14pt; font-family: Times New Roman\">Exodus 19.9</span>"
      ],
      "text/plain": [
       "<IPython.core.display.HTML object>"
      ]
     },
     "metadata": {},
     "output_type": "display_data"
    },
    {
     "data": {
      "text/html": [
       "<span style=\"font-size: 14pt; font-family: Times New Roman\">וְגַם־בְּךָ֖ יַאֲמִ֣ינוּ לְעֹולָ֑ם </span>"
      ],
      "text/plain": [
       "<IPython.core.display.HTML object>"
      ]
     },
     "metadata": {},
     "output_type": "display_data"
    },
    {
     "name": "stdout",
     "output_type": "stream",
     "text": [
      "\n"
     ]
    },
    {
     "data": {
      "text/html": [
       "<span style=\"font-size: 14pt; font-family: Times New Roman\">Judges 2.1</span>"
      ],
      "text/plain": [
       "<IPython.core.display.HTML object>"
      ]
     },
     "metadata": {},
     "output_type": "display_data"
    },
    {
     "data": {
      "text/html": [
       "<span style=\"font-size: 14pt; font-family: Times New Roman\">לֹֽא־אָפֵ֧ר בְּרִיתִ֛י אִתְּכֶ֖ם לְעֹולָֽם׃ </span>"
      ],
      "text/plain": [
       "<IPython.core.display.HTML object>"
      ]
     },
     "metadata": {},
     "output_type": "display_data"
    },
    {
     "name": "stdout",
     "output_type": "stream",
     "text": [
      "\n"
     ]
    },
    {
     "data": {
      "text/html": [
       "<span style=\"font-size: 14pt; font-family: Times New Roman\">2 Samuel 7.29</span>"
      ],
      "text/plain": [
       "<IPython.core.display.HTML object>"
      ]
     },
     "metadata": {},
     "output_type": "display_data"
    },
    {
     "data": {
      "text/html": [
       "<span style=\"font-size: 14pt; font-family: Times New Roman\">וּמִבִּרְכָ֣תְךָ֔ יְבֹרַ֥ךְ בֵּֽית־עַבְדְּךָ֖ לְעֹולָֽם׃ פ </span>"
      ],
      "text/plain": [
       "<IPython.core.display.HTML object>"
      ]
     },
     "metadata": {},
     "output_type": "display_data"
    },
    {
     "name": "stdout",
     "output_type": "stream",
     "text": [
      "\n"
     ]
    },
    {
     "data": {
      "text/html": [
       "<span style=\"font-size: 14pt; font-family: Times New Roman\">2 Kings 5.27</span>"
      ],
      "text/plain": [
       "<IPython.core.display.HTML object>"
      ]
     },
     "metadata": {},
     "output_type": "display_data"
    },
    {
     "data": {
      "text/html": [
       "<span style=\"font-size: 14pt; font-family: Times New Roman\">וְצָרַ֤עַת נַֽעֲמָן֙ תִּֽדְבַּק־בְּךָ֔ וּֽבְזַרְעֲךָ לְעֹולָ֑ם </span>"
      ],
      "text/plain": [
       "<IPython.core.display.HTML object>"
      ]
     },
     "metadata": {},
     "output_type": "display_data"
    },
    {
     "name": "stdout",
     "output_type": "stream",
     "text": [
      "\n"
     ]
    },
    {
     "data": {
      "text/html": [
       "<span style=\"font-size: 14pt; font-family: Times New Roman\">2 Kings 21.7</span>"
      ],
      "text/plain": [
       "<IPython.core.display.HTML object>"
      ]
     },
     "metadata": {},
     "output_type": "display_data"
    },
    {
     "data": {
      "text/html": [
       "<span style=\"font-size: 14pt; font-family: Times New Roman\">בַּבַּ֨יִת הַזֶּ֜ה וּבִירוּשָׁלִַ֗ם אָשִׂ֥ים אֶת־שְׁמִ֖י לְעֹולָֽם׃ </span>"
      ],
      "text/plain": [
       "<IPython.core.display.HTML object>"
      ]
     },
     "metadata": {},
     "output_type": "display_data"
    },
    {
     "name": "stdout",
     "output_type": "stream",
     "text": [
      "\n"
     ]
    },
    {
     "data": {
      "text/html": [
       "<span style=\"font-size: 14pt; font-family: Times New Roman\">Isaiah 14.20</span>"
      ],
      "text/plain": [
       "<IPython.core.display.HTML object>"
      ]
     },
     "metadata": {},
     "output_type": "display_data"
    },
    {
     "data": {
      "text/html": [
       "<span style=\"font-size: 14pt; font-family: Times New Roman\">לֹֽא־יִקָּרֵ֥א לְעֹולָ֖ם זֶ֥רַע מְרֵעִֽים׃ </span>"
      ],
      "text/plain": [
       "<IPython.core.display.HTML object>"
      ]
     },
     "metadata": {},
     "output_type": "display_data"
    },
    {
     "name": "stdout",
     "output_type": "stream",
     "text": [
      "\n"
     ]
    },
    {
     "data": {
      "text/html": [
       "<span style=\"font-size: 14pt; font-family: Times New Roman\">Isaiah 25.2</span>"
      ],
      "text/plain": [
       "<IPython.core.display.HTML object>"
      ]
     },
     "metadata": {},
     "output_type": "display_data"
    },
    {
     "data": {
      "text/html": [
       "<span style=\"font-size: 14pt; font-family: Times New Roman\">לְעֹולָ֖ם לֹ֥א יִבָּנֶֽה׃ </span>"
      ],
      "text/plain": [
       "<IPython.core.display.HTML object>"
      ]
     },
     "metadata": {},
     "output_type": "display_data"
    },
    {
     "name": "stdout",
     "output_type": "stream",
     "text": [
      "\n"
     ]
    },
    {
     "data": {
      "text/html": [
       "<span style=\"font-size: 14pt; font-family: Times New Roman\">Isaiah 34.10</span>"
      ],
      "text/plain": [
       "<IPython.core.display.HTML object>"
      ]
     },
     "metadata": {},
     "output_type": "display_data"
    },
    {
     "data": {
      "text/html": [
       "<span style=\"font-size: 14pt; font-family: Times New Roman\">לְעֹולָ֖ם יַעֲלֶ֣ה עֲשָׁנָ֑הּ </span>"
      ],
      "text/plain": [
       "<IPython.core.display.HTML object>"
      ]
     },
     "metadata": {},
     "output_type": "display_data"
    },
    {
     "name": "stdout",
     "output_type": "stream",
     "text": [
      "\n"
     ]
    },
    {
     "data": {
      "text/html": [
       "<span style=\"font-size: 14pt; font-family: Times New Roman\">Isaiah 40.8</span>"
      ],
      "text/plain": [
       "<IPython.core.display.HTML object>"
      ]
     },
     "metadata": {},
     "output_type": "display_data"
    },
    {
     "data": {
      "text/html": [
       "<span style=\"font-size: 14pt; font-family: Times New Roman\">וּדְבַר־אֱלֹהֵ֖ינוּ יָק֥וּם לְעֹולָֽם׃ ס </span>"
      ],
      "text/plain": [
       "<IPython.core.display.HTML object>"
      ]
     },
     "metadata": {},
     "output_type": "display_data"
    },
    {
     "name": "stdout",
     "output_type": "stream",
     "text": [
      "\n"
     ]
    },
    {
     "data": {
      "text/html": [
       "<span style=\"font-size: 14pt; font-family: Times New Roman\">Isaiah 47.7</span>"
      ],
      "text/plain": [
       "<IPython.core.display.HTML object>"
      ]
     },
     "metadata": {},
     "output_type": "display_data"
    },
    {
     "data": {
      "text/html": [
       "<span style=\"font-size: 14pt; font-family: Times New Roman\">לְעֹולָ֖ם אֶהְיֶ֣ה גְבָ֑רֶת </span>"
      ],
      "text/plain": [
       "<IPython.core.display.HTML object>"
      ]
     },
     "metadata": {},
     "output_type": "display_data"
    },
    {
     "name": "stdout",
     "output_type": "stream",
     "text": [
      "\n"
     ]
    },
    {
     "data": {
      "text/html": [
       "<span style=\"font-size: 14pt; font-family: Times New Roman\">Isaiah 57.16</span>"
      ],
      "text/plain": [
       "<IPython.core.display.HTML object>"
      ]
     },
     "metadata": {},
     "output_type": "display_data"
    },
    {
     "data": {
      "text/html": [
       "<span style=\"font-size: 14pt; font-family: Times New Roman\">כִּ֣י לֹ֤א לְעֹולָם֙ אָרִ֔יב </span>"
      ],
      "text/plain": [
       "<IPython.core.display.HTML object>"
      ]
     },
     "metadata": {},
     "output_type": "display_data"
    },
    {
     "name": "stdout",
     "output_type": "stream",
     "text": [
      "\n"
     ]
    },
    {
     "data": {
      "text/html": [
       "<span style=\"font-size: 14pt; font-family: Times New Roman\">Isaiah 60.21</span>"
      ],
      "text/plain": [
       "<IPython.core.display.HTML object>"
      ]
     },
     "metadata": {},
     "output_type": "display_data"
    },
    {
     "data": {
      "text/html": [
       "<span style=\"font-size: 14pt; font-family: Times New Roman\">לְעֹולָ֖ם יִ֣ירְשׁוּ אָ֑רֶץ </span>"
      ],
      "text/plain": [
       "<IPython.core.display.HTML object>"
      ]
     },
     "metadata": {},
     "output_type": "display_data"
    },
    {
     "name": "stdout",
     "output_type": "stream",
     "text": [
      "\n"
     ]
    },
    {
     "data": {
      "text/html": [
       "<span style=\"font-size: 14pt; font-family: Times New Roman\">Jeremiah 3.5</span>"
      ],
      "text/plain": [
       "<IPython.core.display.HTML object>"
      ]
     },
     "metadata": {},
     "output_type": "display_data"
    },
    {
     "data": {
      "text/html": [
       "<span style=\"font-size: 14pt; font-family: Times New Roman\">הֲיִנְטֹ֣ר לְעֹולָ֔ם </span>"
      ],
      "text/plain": [
       "<IPython.core.display.HTML object>"
      ]
     },
     "metadata": {},
     "output_type": "display_data"
    },
    {
     "name": "stdout",
     "output_type": "stream",
     "text": [
      "\n"
     ]
    },
    {
     "data": {
      "text/html": [
       "<span style=\"font-size: 14pt; font-family: Times New Roman\">Jeremiah 3.12</span>"
      ],
      "text/plain": [
       "<IPython.core.display.HTML object>"
      ]
     },
     "metadata": {},
     "output_type": "display_data"
    },
    {
     "data": {
      "text/html": [
       "<span style=\"font-size: 14pt; font-family: Times New Roman\">לֹ֥א אֶטֹּ֖ור לְעֹולָֽם׃ </span>"
      ],
      "text/plain": [
       "<IPython.core.display.HTML object>"
      ]
     },
     "metadata": {},
     "output_type": "display_data"
    },
    {
     "name": "stdout",
     "output_type": "stream",
     "text": [
      "\n"
     ]
    },
    {
     "data": {
      "text/html": [
       "<span style=\"font-size: 14pt; font-family: Times New Roman\">Jeremiah 31.40</span>"
      ],
      "text/plain": [
       "<IPython.core.display.HTML object>"
      ]
     },
     "metadata": {},
     "output_type": "display_data"
    },
    {
     "data": {
      "text/html": [
       "<span style=\"font-size: 14pt; font-family: Times New Roman\">וְֽלֹא־יֵהָרֵ֛ס עֹ֖וד לְעֹולָֽם׃ ס </span>"
      ],
      "text/plain": [
       "<IPython.core.display.HTML object>"
      ]
     },
     "metadata": {},
     "output_type": "display_data"
    },
    {
     "name": "stdout",
     "output_type": "stream",
     "text": [
      "\n"
     ]
    },
    {
     "data": {
      "text/html": [
       "<span style=\"font-size: 14pt; font-family: Times New Roman\">Ezekiel 26.21</span>"
      ],
      "text/plain": [
       "<IPython.core.display.HTML object>"
      ]
     },
     "metadata": {},
     "output_type": "display_data"
    },
    {
     "data": {
      "text/html": [
       "<span style=\"font-size: 14pt; font-family: Times New Roman\">וְלֹֽא־תִמָּצְאִ֥י עֹוד֙ לְעֹולָ֔ם </span>"
      ],
      "text/plain": [
       "<IPython.core.display.HTML object>"
      ]
     },
     "metadata": {},
     "output_type": "display_data"
    },
    {
     "name": "stdout",
     "output_type": "stream",
     "text": [
      "\n"
     ]
    },
    {
     "data": {
      "text/html": [
       "<span style=\"font-size: 14pt; font-family: Times New Roman\">Ezekiel 43.7</span>"
      ],
      "text/plain": [
       "<IPython.core.display.HTML object>"
      ]
     },
     "metadata": {},
     "output_type": "display_data"
    },
    {
     "data": {
      "text/html": [
       "<span style=\"font-size: 14pt; font-family: Times New Roman\">אֲשֶׁ֧ר אֶשְׁכָּן־שָׁ֛ם בְּתֹ֥וךְ בְּנֵֽי־יִשְׂרָאֵ֖ל לְעֹולָ֑ם </span>"
      ],
      "text/plain": [
       "<IPython.core.display.HTML object>"
      ]
     },
     "metadata": {},
     "output_type": "display_data"
    },
    {
     "name": "stdout",
     "output_type": "stream",
     "text": [
      "\n"
     ]
    },
    {
     "data": {
      "text/html": [
       "<span style=\"font-size: 14pt; font-family: Times New Roman\">Joel 2.26</span>"
      ],
      "text/plain": [
       "<IPython.core.display.HTML object>"
      ]
     },
     "metadata": {},
     "output_type": "display_data"
    },
    {
     "data": {
      "text/html": [
       "<span style=\"font-size: 14pt; font-family: Times New Roman\">וְלֹא־יֵבֹ֥שׁוּ עַמִּ֖י לְעֹולָֽם׃ </span>"
      ],
      "text/plain": [
       "<IPython.core.display.HTML object>"
      ]
     },
     "metadata": {},
     "output_type": "display_data"
    },
    {
     "name": "stdout",
     "output_type": "stream",
     "text": [
      "\n"
     ]
    },
    {
     "data": {
      "text/html": [
       "<span style=\"font-size: 14pt; font-family: Times New Roman\">Joel 2.27</span>"
      ],
      "text/plain": [
       "<IPython.core.display.HTML object>"
      ]
     },
     "metadata": {},
     "output_type": "display_data"
    },
    {
     "data": {
      "text/html": [
       "<span style=\"font-size: 14pt; font-family: Times New Roman\">וְלֹא־יֵבֹ֥שׁוּ עַמִּ֖י לְעֹולָֽם׃ ס </span>"
      ],
      "text/plain": [
       "<IPython.core.display.HTML object>"
      ]
     },
     "metadata": {},
     "output_type": "display_data"
    },
    {
     "name": "stdout",
     "output_type": "stream",
     "text": [
      "\n"
     ]
    },
    {
     "data": {
      "text/html": [
       "<span style=\"font-size: 14pt; font-family: Times New Roman\">Joel 4.20</span>"
      ],
      "text/plain": [
       "<IPython.core.display.HTML object>"
      ]
     },
     "metadata": {},
     "output_type": "display_data"
    },
    {
     "data": {
      "text/html": [
       "<span style=\"font-size: 14pt; font-family: Times New Roman\">וִיהוּדָ֖ה לְעֹולָ֣ם תֵּשֵׁ֑ב </span>"
      ],
      "text/plain": [
       "<IPython.core.display.HTML object>"
      ]
     },
     "metadata": {},
     "output_type": "display_data"
    },
    {
     "name": "stdout",
     "output_type": "stream",
     "text": [
      "\n"
     ]
    },
    {
     "data": {
      "text/html": [
       "<span style=\"font-size: 14pt; font-family: Times New Roman\">Micah 2.9</span>"
      ],
      "text/plain": [
       "<IPython.core.display.HTML object>"
      ]
     },
     "metadata": {},
     "output_type": "display_data"
    },
    {
     "data": {
      "text/html": [
       "<span style=\"font-size: 14pt; font-family: Times New Roman\">מֵעַל֙ עֹֽלָלֶ֔יהָ תִּקְח֥וּ הֲדָרִ֖י לְעֹולָֽם׃ </span>"
      ],
      "text/plain": [
       "<IPython.core.display.HTML object>"
      ]
     },
     "metadata": {},
     "output_type": "display_data"
    },
    {
     "name": "stdout",
     "output_type": "stream",
     "text": [
      "\n"
     ]
    },
    {
     "data": {
      "text/html": [
       "<span style=\"font-size: 14pt; font-family: Times New Roman\">Zechariah 1.5</span>"
      ],
      "text/plain": [
       "<IPython.core.display.HTML object>"
      ]
     },
     "metadata": {},
     "output_type": "display_data"
    },
    {
     "data": {
      "text/html": [
       "<span style=\"font-size: 14pt; font-family: Times New Roman\">הַלְעֹולָ֖ם יִֽחְיֽוּ׃ </span>"
      ],
      "text/plain": [
       "<IPython.core.display.HTML object>"
      ]
     },
     "metadata": {},
     "output_type": "display_data"
    },
    {
     "name": "stdout",
     "output_type": "stream",
     "text": [
      "\n"
     ]
    },
    {
     "data": {
      "text/html": [
       "<span style=\"font-size: 14pt; font-family: Times New Roman\">Psalms 5.12</span>"
      ],
      "text/plain": [
       "<IPython.core.display.HTML object>"
      ]
     },
     "metadata": {},
     "output_type": "display_data"
    },
    {
     "data": {
      "text/html": [
       "<span style=\"font-size: 14pt; font-family: Times New Roman\">לְעֹולָ֣ם יְ֭רַנֵּנוּ </span>"
      ],
      "text/plain": [
       "<IPython.core.display.HTML object>"
      ]
     },
     "metadata": {},
     "output_type": "display_data"
    },
    {
     "name": "stdout",
     "output_type": "stream",
     "text": [
      "\n"
     ]
    },
    {
     "data": {
      "text/html": [
       "<span style=\"font-size: 14pt; font-family: Times New Roman\">Psalms 9.8</span>"
      ],
      "text/plain": [
       "<IPython.core.display.HTML object>"
      ]
     },
     "metadata": {},
     "output_type": "display_data"
    },
    {
     "data": {
      "text/html": [
       "<span style=\"font-size: 14pt; font-family: Times New Roman\">וַֽ֭יהוָה לְעֹולָ֣ם יֵשֵׁ֑ב </span>"
      ],
      "text/plain": [
       "<IPython.core.display.HTML object>"
      ]
     },
     "metadata": {},
     "output_type": "display_data"
    },
    {
     "name": "stdout",
     "output_type": "stream",
     "text": [
      "\n"
     ]
    },
    {
     "data": {
      "text/html": [
       "<span style=\"font-size: 14pt; font-family: Times New Roman\">Psalms 15.5</span>"
      ],
      "text/plain": [
       "<IPython.core.display.HTML object>"
      ]
     },
     "metadata": {},
     "output_type": "display_data"
    },
    {
     "data": {
      "text/html": [
       "<span style=\"font-size: 14pt; font-family: Times New Roman\">לֹ֖א יִמֹּ֣וט לְעֹולָֽם׃ </span>"
      ],
      "text/plain": [
       "<IPython.core.display.HTML object>"
      ]
     },
     "metadata": {},
     "output_type": "display_data"
    },
    {
     "name": "stdout",
     "output_type": "stream",
     "text": [
      "\n"
     ]
    },
    {
     "data": {
      "text/html": [
       "<span style=\"font-size: 14pt; font-family: Times New Roman\">Psalms 30.7</span>"
      ],
      "text/plain": [
       "<IPython.core.display.HTML object>"
      ]
     },
     "metadata": {},
     "output_type": "display_data"
    },
    {
     "data": {
      "text/html": [
       "<span style=\"font-size: 14pt; font-family: Times New Roman\">בַּל־אֶמֹּ֥וט לְעֹולָֽם׃ </span>"
      ],
      "text/plain": [
       "<IPython.core.display.HTML object>"
      ]
     },
     "metadata": {},
     "output_type": "display_data"
    },
    {
     "name": "stdout",
     "output_type": "stream",
     "text": [
      "\n"
     ]
    },
    {
     "data": {
      "text/html": [
       "<span style=\"font-size: 14pt; font-family: Times New Roman\">Psalms 30.13</span>"
      ],
      "text/plain": [
       "<IPython.core.display.HTML object>"
      ]
     },
     "metadata": {},
     "output_type": "display_data"
    },
    {
     "data": {
      "text/html": [
       "<span style=\"font-size: 14pt; font-family: Times New Roman\">לְעֹולָ֥ם אֹודֶֽךָּ׃ </span>"
      ],
      "text/plain": [
       "<IPython.core.display.HTML object>"
      ]
     },
     "metadata": {},
     "output_type": "display_data"
    },
    {
     "name": "stdout",
     "output_type": "stream",
     "text": [
      "\n"
     ]
    },
    {
     "data": {
      "text/html": [
       "<span style=\"font-size: 14pt; font-family: Times New Roman\">Psalms 31.2</span>"
      ],
      "text/plain": [
       "<IPython.core.display.HTML object>"
      ]
     },
     "metadata": {},
     "output_type": "display_data"
    },
    {
     "data": {
      "text/html": [
       "<span style=\"font-size: 14pt; font-family: Times New Roman\">אַל־אֵבֹ֣ושָׁה לְעֹולָ֑ם </span>"
      ],
      "text/plain": [
       "<IPython.core.display.HTML object>"
      ]
     },
     "metadata": {},
     "output_type": "display_data"
    },
    {
     "name": "stdout",
     "output_type": "stream",
     "text": [
      "\n"
     ]
    },
    {
     "data": {
      "text/html": [
       "<span style=\"font-size: 14pt; font-family: Times New Roman\">Psalms 33.11</span>"
      ],
      "text/plain": [
       "<IPython.core.display.HTML object>"
      ]
     },
     "metadata": {},
     "output_type": "display_data"
    },
    {
     "data": {
      "text/html": [
       "<span style=\"font-size: 14pt; font-family: Times New Roman\">עֲצַ֣ת יְ֭הוָה לְעֹולָ֣ם תַּעֲמֹ֑ד </span>"
      ],
      "text/plain": [
       "<IPython.core.display.HTML object>"
      ]
     },
     "metadata": {},
     "output_type": "display_data"
    },
    {
     "name": "stdout",
     "output_type": "stream",
     "text": [
      "\n"
     ]
    },
    {
     "data": {
      "text/html": [
       "<span style=\"font-size: 14pt; font-family: Times New Roman\">Psalms 44.9</span>"
      ],
      "text/plain": [
       "<IPython.core.display.HTML object>"
      ]
     },
     "metadata": {},
     "output_type": "display_data"
    },
    {
     "data": {
      "text/html": [
       "<span style=\"font-size: 14pt; font-family: Times New Roman\">וְשִׁמְךָ֓׀ לְעֹולָ֖ם נֹודֶ֣ה </span>"
      ],
      "text/plain": [
       "<IPython.core.display.HTML object>"
      ]
     },
     "metadata": {},
     "output_type": "display_data"
    },
    {
     "name": "stdout",
     "output_type": "stream",
     "text": [
      "\n"
     ]
    },
    {
     "data": {
      "text/html": [
       "<span style=\"font-size: 14pt; font-family: Times New Roman\">Psalms 52.11</span>"
      ],
      "text/plain": [
       "<IPython.core.display.HTML object>"
      ]
     },
     "metadata": {},
     "output_type": "display_data"
    },
    {
     "data": {
      "text/html": [
       "<span style=\"font-size: 14pt; font-family: Times New Roman\">אֹודְךָ֣ לְ֭עֹולָם </span>"
      ],
      "text/plain": [
       "<IPython.core.display.HTML object>"
      ]
     },
     "metadata": {},
     "output_type": "display_data"
    },
    {
     "name": "stdout",
     "output_type": "stream",
     "text": [
      "\n"
     ]
    },
    {
     "data": {
      "text/html": [
       "<span style=\"font-size: 14pt; font-family: Times New Roman\">Psalms 55.23</span>"
      ],
      "text/plain": [
       "<IPython.core.display.HTML object>"
      ]
     },
     "metadata": {},
     "output_type": "display_data"
    },
    {
     "data": {
      "text/html": [
       "<span style=\"font-size: 14pt; font-family: Times New Roman\">לֹא־יִתֵּ֖ן לְעֹולָ֥ם מֹ֗וט לַצַּדִּֽיק׃ </span>"
      ],
      "text/plain": [
       "<IPython.core.display.HTML object>"
      ]
     },
     "metadata": {},
     "output_type": "display_data"
    },
    {
     "name": "stdout",
     "output_type": "stream",
     "text": [
      "\n"
     ]
    },
    {
     "data": {
      "text/html": [
       "<span style=\"font-size: 14pt; font-family: Times New Roman\">Psalms 71.1</span>"
      ],
      "text/plain": [
       "<IPython.core.display.HTML object>"
      ]
     },
     "metadata": {},
     "output_type": "display_data"
    },
    {
     "data": {
      "text/html": [
       "<span style=\"font-size: 14pt; font-family: Times New Roman\">אַל־אֵבֹ֥ושָׁה לְעֹולָֽם׃ </span>"
      ],
      "text/plain": [
       "<IPython.core.display.HTML object>"
      ]
     },
     "metadata": {},
     "output_type": "display_data"
    },
    {
     "name": "stdout",
     "output_type": "stream",
     "text": [
      "\n"
     ]
    },
    {
     "data": {
      "text/html": [
       "<span style=\"font-size: 14pt; font-family: Times New Roman\">Psalms 85.6</span>"
      ],
      "text/plain": [
       "<IPython.core.display.HTML object>"
      ]
     },
     "metadata": {},
     "output_type": "display_data"
    },
    {
     "data": {
      "text/html": [
       "<span style=\"font-size: 14pt; font-family: Times New Roman\">הַלְעֹולָ֥ם תֶּֽאֱנַף־בָּ֑נוּ </span>"
      ],
      "text/plain": [
       "<IPython.core.display.HTML object>"
      ]
     },
     "metadata": {},
     "output_type": "display_data"
    },
    {
     "name": "stdout",
     "output_type": "stream",
     "text": [
      "\n"
     ]
    },
    {
     "data": {
      "text/html": [
       "<span style=\"font-size: 14pt; font-family: Times New Roman\">Psalms 86.12</span>"
      ],
      "text/plain": [
       "<IPython.core.display.HTML object>"
      ]
     },
     "metadata": {},
     "output_type": "display_data"
    },
    {
     "data": {
      "text/html": [
       "<span style=\"font-size: 14pt; font-family: Times New Roman\">וַאֲכַבְּדָ֖ה שִׁמְךָ֣ לְעֹולָֽם׃ </span>"
      ],
      "text/plain": [
       "<IPython.core.display.HTML object>"
      ]
     },
     "metadata": {},
     "output_type": "display_data"
    },
    {
     "name": "stdout",
     "output_type": "stream",
     "text": [
      "\n"
     ]
    },
    {
     "data": {
      "text/html": [
       "<span style=\"font-size: 14pt; font-family: Times New Roman\">Psalms 89.29</span>"
      ],
      "text/plain": [
       "<IPython.core.display.HTML object>"
      ]
     },
     "metadata": {},
     "output_type": "display_data"
    },
    {
     "data": {
      "text/html": [
       "<span style=\"font-size: 14pt; font-family: Times New Roman\">לְ֭עֹולָ֗ם אֶשְׁמָר־לֹ֣ו חַסְדִּ֑י </span>"
      ],
      "text/plain": [
       "<IPython.core.display.HTML object>"
      ]
     },
     "metadata": {},
     "output_type": "display_data"
    },
    {
     "name": "stdout",
     "output_type": "stream",
     "text": [
      "\n"
     ]
    },
    {
     "data": {
      "text/html": [
       "<span style=\"font-size: 14pt; font-family: Times New Roman\">Psalms 102.13</span>"
      ],
      "text/plain": [
       "<IPython.core.display.HTML object>"
      ]
     },
     "metadata": {},
     "output_type": "display_data"
    },
    {
     "data": {
      "text/html": [
       "<span style=\"font-size: 14pt; font-family: Times New Roman\">וְאַתָּ֣ה לְעֹולָ֣ם תֵּשֵׁ֑ב </span>"
      ],
      "text/plain": [
       "<IPython.core.display.HTML object>"
      ]
     },
     "metadata": {},
     "output_type": "display_data"
    },
    {
     "name": "stdout",
     "output_type": "stream",
     "text": [
      "\n"
     ]
    },
    {
     "data": {
      "text/html": [
       "<span style=\"font-size: 14pt; font-family: Times New Roman\">Psalms 103.9</span>"
      ],
      "text/plain": [
       "<IPython.core.display.HTML object>"
      ]
     },
     "metadata": {},
     "output_type": "display_data"
    },
    {
     "data": {
      "text/html": [
       "<span style=\"font-size: 14pt; font-family: Times New Roman\">וְלֹ֖א לְעֹולָ֣ם יִטֹּֽור׃ </span>"
      ],
      "text/plain": [
       "<IPython.core.display.HTML object>"
      ]
     },
     "metadata": {},
     "output_type": "display_data"
    },
    {
     "name": "stdout",
     "output_type": "stream",
     "text": [
      "\n"
     ]
    },
    {
     "data": {
      "text/html": [
       "<span style=\"font-size: 14pt; font-family: Times New Roman\">Psalms 111.5</span>"
      ],
      "text/plain": [
       "<IPython.core.display.HTML object>"
      ]
     },
     "metadata": {},
     "output_type": "display_data"
    },
    {
     "data": {
      "text/html": [
       "<span style=\"font-size: 14pt; font-family: Times New Roman\">יִזְכֹּ֖ר לְעֹולָ֣ם בְּרִיתֹֽו׃ </span>"
      ],
      "text/plain": [
       "<IPython.core.display.HTML object>"
      ]
     },
     "metadata": {},
     "output_type": "display_data"
    },
    {
     "name": "stdout",
     "output_type": "stream",
     "text": [
      "\n"
     ]
    },
    {
     "data": {
      "text/html": [
       "<span style=\"font-size: 14pt; font-family: Times New Roman\">Psalms 112.6</span>"
      ],
      "text/plain": [
       "<IPython.core.display.HTML object>"
      ]
     },
     "metadata": {},
     "output_type": "display_data"
    },
    {
     "data": {
      "text/html": [
       "<span style=\"font-size: 14pt; font-family: Times New Roman\">כִּֽי־לְעֹולָ֥ם לֹא־יִמֹּ֑וט </span>"
      ],
      "text/plain": [
       "<IPython.core.display.HTML object>"
      ]
     },
     "metadata": {},
     "output_type": "display_data"
    },
    {
     "name": "stdout",
     "output_type": "stream",
     "text": [
      "\n"
     ]
    },
    {
     "data": {
      "text/html": [
       "<span style=\"font-size: 14pt; font-family: Times New Roman\">Psalms 119.93</span>"
      ],
      "text/plain": [
       "<IPython.core.display.HTML object>"
      ]
     },
     "metadata": {},
     "output_type": "display_data"
    },
    {
     "data": {
      "text/html": [
       "<span style=\"font-size: 14pt; font-family: Times New Roman\">לְ֭עֹולָם לֹא־אֶשְׁכַּ֣ח פִּקּוּדֶ֑יךָ </span>"
      ],
      "text/plain": [
       "<IPython.core.display.HTML object>"
      ]
     },
     "metadata": {},
     "output_type": "display_data"
    },
    {
     "name": "stdout",
     "output_type": "stream",
     "text": [
      "\n"
     ]
    },
    {
     "data": {
      "text/html": [
       "<span style=\"font-size: 14pt; font-family: Times New Roman\">Psalms 146.10</span>"
      ],
      "text/plain": [
       "<IPython.core.display.HTML object>"
      ]
     },
     "metadata": {},
     "output_type": "display_data"
    },
    {
     "data": {
      "text/html": [
       "<span style=\"font-size: 14pt; font-family: Times New Roman\">יִמְלֹ֤ךְ יְהוָ֨ה׀ לְעֹולָ֗ם </span>"
      ],
      "text/plain": [
       "<IPython.core.display.HTML object>"
      ]
     },
     "metadata": {},
     "output_type": "display_data"
    },
    {
     "name": "stdout",
     "output_type": "stream",
     "text": [
      "\n"
     ]
    },
    {
     "data": {
      "text/html": [
       "<span style=\"font-size: 14pt; font-family: Times New Roman\">Proverbs 10.30</span>"
      ],
      "text/plain": [
       "<IPython.core.display.HTML object>"
      ]
     },
     "metadata": {},
     "output_type": "display_data"
    },
    {
     "data": {
      "text/html": [
       "<span style=\"font-size: 14pt; font-family: Times New Roman\">לְעֹולָ֣ם בַּל־יִמֹּ֑וט </span>"
      ],
      "text/plain": [
       "<IPython.core.display.HTML object>"
      ]
     },
     "metadata": {},
     "output_type": "display_data"
    },
    {
     "name": "stdout",
     "output_type": "stream",
     "text": [
      "\n"
     ]
    },
    {
     "data": {
      "text/html": [
       "<span style=\"font-size: 14pt; font-family: Times New Roman\">Lamentations 3.31</span>"
      ],
      "text/plain": [
       "<IPython.core.display.HTML object>"
      ]
     },
     "metadata": {},
     "output_type": "display_data"
    },
    {
     "data": {
      "text/html": [
       "<span style=\"font-size: 14pt; font-family: Times New Roman\">כִּ֣י לֹ֥א יִזְנַ֛ח לְעֹולָ֖ם אֲדֹנָֽי׃ </span>"
      ],
      "text/plain": [
       "<IPython.core.display.HTML object>"
      ]
     },
     "metadata": {},
     "output_type": "display_data"
    },
    {
     "name": "stdout",
     "output_type": "stream",
     "text": [
      "\n"
     ]
    },
    {
     "data": {
      "text/html": [
       "<span style=\"font-size: 14pt; font-family: Times New Roman\">Lamentations 5.19</span>"
      ],
      "text/plain": [
       "<IPython.core.display.HTML object>"
      ]
     },
     "metadata": {},
     "output_type": "display_data"
    },
    {
     "data": {
      "text/html": [
       "<span style=\"font-size: 14pt; font-family: Times New Roman\">אַתָּ֤ה יְהוָה֙ לְעֹולָ֣ם תֵּשֵׁ֔ב </span>"
      ],
      "text/plain": [
       "<IPython.core.display.HTML object>"
      ]
     },
     "metadata": {},
     "output_type": "display_data"
    },
    {
     "name": "stdout",
     "output_type": "stream",
     "text": [
      "\n"
     ]
    },
    {
     "data": {
      "text/html": [
       "<span style=\"font-size: 14pt; font-family: Times New Roman\">2 Chronicles 33.4</span>"
      ],
      "text/plain": [
       "<IPython.core.display.HTML object>"
      ]
     },
     "metadata": {},
     "output_type": "display_data"
    },
    {
     "data": {
      "text/html": [
       "<span style=\"font-size: 14pt; font-family: Times New Roman\">בִּירוּשָׁלִַ֥ם יִֽהְיֶה־שְּׁמִ֖י לְעֹולָֽם׃ </span>"
      ],
      "text/plain": [
       "<IPython.core.display.HTML object>"
      ]
     },
     "metadata": {},
     "output_type": "display_data"
    },
    {
     "name": "stdout",
     "output_type": "stream",
     "text": [
      "\n"
     ]
    }
   ],
   "source": [
    "html_span = '<span style=\"font-size: 14pt; font-family: Times New Roman\">{content}</span>'\n",
    "\n",
    "# show header\n",
    "display(HTML(html_span.format(content='לעולם with Yiqtol')))\n",
    "print()\n",
    "\n",
    "# print examples of yiqtols with marker\n",
    "for clause in for_forever_yiqtols:\n",
    "    \n",
    "    book, chapter, verse = T.sectionFromNode(clause)\n",
    "    reference = f'{book} {chapter}.{verse}'.replace('_',' ')\n",
    "    text = T.text(L.d(clause, otype='word'))\n",
    "    \n",
    "    # display text in readable format\n",
    "    display(HTML(html_span.format(content=reference)))\n",
    "    display(HTML(html_span.format(content=text)))\n",
    "    print()"
   ]
  },
  {
   "cell_type": "markdown",
   "metadata": {},
   "source": [
    "## Look at all Time Marker Phrases with Yiqtol + ל"
   ]
  },
  {
   "cell_type": "code",
   "execution_count": 11,
   "metadata": {
    "scrolled": false
   },
   "outputs": [
    {
     "data": {
      "text/html": [
       "<span style=\"font-size: 14pt; font-family: Times New Roman\">ל</span>"
      ],
      "text/plain": [
       "<IPython.core.display.HTML object>"
      ]
     },
     "metadata": {},
     "output_type": "display_data"
    },
    {
     "name": "stdout",
     "output_type": "stream",
     "text": [
      "\n"
     ]
    },
    {
     "data": {
      "text/html": [
       "<span style=\"font-size: 14pt; font-family: Times New Roman\">1</span>"
      ],
      "text/plain": [
       "<IPython.core.display.HTML object>"
      ]
     },
     "metadata": {},
     "output_type": "display_data"
    },
    {
     "data": {
      "text/html": [
       "<span style=\"font-size: 14pt; font-family: Times New Roman\">Genesis 7.10</span>"
      ],
      "text/plain": [
       "<IPython.core.display.HTML object>"
      ]
     },
     "metadata": {},
     "output_type": "display_data"
    },
    {
     "data": {
      "text/html": [
       "<span style=\"font-size: 14pt; font-family: Times New Roman\">וַֽיְהִ֖י לְשִׁבְעַ֣ת הַיָּמִ֑ים </span>"
      ],
      "text/plain": [
       "<IPython.core.display.HTML object>"
      ]
     },
     "metadata": {},
     "output_type": "display_data"
    },
    {
     "name": "stdout",
     "output_type": "stream",
     "text": [
      "\n"
     ]
    },
    {
     "data": {
      "text/html": [
       "<span style=\"font-size: 14pt; font-family: Times New Roman\">2</span>"
      ],
      "text/plain": [
       "<IPython.core.display.HTML object>"
      ]
     },
     "metadata": {},
     "output_type": "display_data"
    },
    {
     "data": {
      "text/html": [
       "<span style=\"font-size: 14pt; font-family: Times New Roman\">Genesis 8.11</span>"
      ],
      "text/plain": [
       "<IPython.core.display.HTML object>"
      ]
     },
     "metadata": {},
     "output_type": "display_data"
    },
    {
     "data": {
      "text/html": [
       "<span style=\"font-size: 14pt; font-family: Times New Roman\">וַתָּבֹ֨א אֵלָ֤יו הַיֹּונָה֙ לְעֵ֣ת עֶ֔רֶב </span>"
      ],
      "text/plain": [
       "<IPython.core.display.HTML object>"
      ]
     },
     "metadata": {},
     "output_type": "display_data"
    },
    {
     "name": "stdout",
     "output_type": "stream",
     "text": [
      "\n"
     ]
    },
    {
     "data": {
      "text/html": [
       "<span style=\"font-size: 14pt; font-family: Times New Roman\">3</span>"
      ],
      "text/plain": [
       "<IPython.core.display.HTML object>"
      ]
     },
     "metadata": {},
     "output_type": "display_data"
    },
    {
     "data": {
      "text/html": [
       "<span style=\"font-size: 14pt; font-family: Times New Roman\">Genesis 21.2</span>"
      ],
      "text/plain": [
       "<IPython.core.display.HTML object>"
      ]
     },
     "metadata": {},
     "output_type": "display_data"
    },
    {
     "data": {
      "text/html": [
       "<span style=\"font-size: 14pt; font-family: Times New Roman\">וַתֵּ֨לֶד שָׂרָ֧ה לְאַבְרָהָ֛ם בֵּ֖ן לִזְקֻנָ֑יו לַמֹּועֵ֕ד </span>"
      ],
      "text/plain": [
       "<IPython.core.display.HTML object>"
      ]
     },
     "metadata": {},
     "output_type": "display_data"
    },
    {
     "name": "stdout",
     "output_type": "stream",
     "text": [
      "\n"
     ]
    },
    {
     "data": {
      "text/html": [
       "<span style=\"font-size: 14pt; font-family: Times New Roman\">4</span>"
      ],
      "text/plain": [
       "<IPython.core.display.HTML object>"
      ]
     },
     "metadata": {},
     "output_type": "display_data"
    },
    {
     "data": {
      "text/html": [
       "<span style=\"font-size: 14pt; font-family: Times New Roman\">Genesis 24.11</span>"
      ],
      "text/plain": [
       "<IPython.core.display.HTML object>"
      ]
     },
     "metadata": {},
     "output_type": "display_data"
    },
    {
     "data": {
      "text/html": [
       "<span style=\"font-size: 14pt; font-family: Times New Roman\">וַיַּבְרֵ֧ךְ הַגְּמַלִּ֛ים מִח֥וּץ לָעִ֖יר אֶל־בְּאֵ֣ר הַמָּ֑יִם לְעֵ֣ת עֶ֔רֶב לְעֵ֖ת </span>"
      ],
      "text/plain": [
       "<IPython.core.display.HTML object>"
      ]
     },
     "metadata": {},
     "output_type": "display_data"
    },
    {
     "name": "stdout",
     "output_type": "stream",
     "text": [
      "\n"
     ]
    },
    {
     "data": {
      "text/html": [
       "<span style=\"font-size: 14pt; font-family: Times New Roman\">5</span>"
      ],
      "text/plain": [
       "<IPython.core.display.HTML object>"
      ]
     },
     "metadata": {},
     "output_type": "display_data"
    },
    {
     "data": {
      "text/html": [
       "<span style=\"font-size: 14pt; font-family: Times New Roman\">1 Chronicles 22.5</span>"
      ],
      "text/plain": [
       "<IPython.core.display.HTML object>"
      ]
     },
     "metadata": {},
     "output_type": "display_data"
    },
    {
     "data": {
      "text/html": [
       "<span style=\"font-size: 14pt; font-family: Times New Roman\">וַיָּ֧כֶן דָּוִ֛יד לָרֹ֖ב לִפְנֵ֥י מֹותֹֽו׃ </span>"
      ],
      "text/plain": [
       "<IPython.core.display.HTML object>"
      ]
     },
     "metadata": {},
     "output_type": "display_data"
    },
    {
     "name": "stdout",
     "output_type": "stream",
     "text": [
      "\n"
     ]
    },
    {
     "data": {
      "text/html": [
       "<span style=\"font-size: 14pt; font-family: Times New Roman\">6</span>"
      ],
      "text/plain": [
       "<IPython.core.display.HTML object>"
      ]
     },
     "metadata": {},
     "output_type": "display_data"
    },
    {
     "data": {
      "text/html": [
       "<span style=\"font-size: 14pt; font-family: Times New Roman\">Psalms 41.13</span>"
      ],
      "text/plain": [
       "<IPython.core.display.HTML object>"
      ]
     },
     "metadata": {},
     "output_type": "display_data"
    },
    {
     "data": {
      "text/html": [
       "<span style=\"font-size: 14pt; font-family: Times New Roman\">וַתַּצִּיבֵ֖נִי לְפָנֶ֣יךָ לְעֹולָֽם׃ </span>"
      ],
      "text/plain": [
       "<IPython.core.display.HTML object>"
      ]
     },
     "metadata": {},
     "output_type": "display_data"
    },
    {
     "name": "stdout",
     "output_type": "stream",
     "text": [
      "\n"
     ]
    },
    {
     "data": {
      "text/html": [
       "<span style=\"font-size: 14pt; font-family: Times New Roman\">7</span>"
      ],
      "text/plain": [
       "<IPython.core.display.HTML object>"
      ]
     },
     "metadata": {},
     "output_type": "display_data"
    },
    {
     "data": {
      "text/html": [
       "<span style=\"font-size: 14pt; font-family: Times New Roman\">2 Chronicles 20.7</span>"
      ],
      "text/plain": [
       "<IPython.core.display.HTML object>"
      ]
     },
     "metadata": {},
     "output_type": "display_data"
    },
    {
     "data": {
      "text/html": [
       "<span style=\"font-size: 14pt; font-family: Times New Roman\">וַֽתִּתְּנָ֗הּ לְזֶ֛רַע אַבְרָהָ֥ם אֹֽהַבְךָ֖ לְעֹולָֽם׃ </span>"
      ],
      "text/plain": [
       "<IPython.core.display.HTML object>"
      ]
     },
     "metadata": {},
     "output_type": "display_data"
    },
    {
     "name": "stdout",
     "output_type": "stream",
     "text": [
      "\n"
     ]
    },
    {
     "data": {
      "text/html": [
       "<span style=\"font-size: 14pt; font-family: Times New Roman\">8</span>"
      ],
      "text/plain": [
       "<IPython.core.display.HTML object>"
      ]
     },
     "metadata": {},
     "output_type": "display_data"
    },
    {
     "data": {
      "text/html": [
       "<span style=\"font-size: 14pt; font-family: Times New Roman\">Psalms 49.15</span>"
      ],
      "text/plain": [
       "<IPython.core.display.HTML object>"
      ]
     },
     "metadata": {},
     "output_type": "display_data"
    },
    {
     "data": {
      "text/html": [
       "<span style=\"font-size: 14pt; font-family: Times New Roman\">וַיִּרְדּ֘וּ בָ֤ם יְשָׁרִ֨ים׀ לַבֹּ֗קֶר </span>"
      ],
      "text/plain": [
       "<IPython.core.display.HTML object>"
      ]
     },
     "metadata": {},
     "output_type": "display_data"
    },
    {
     "name": "stdout",
     "output_type": "stream",
     "text": [
      "\n"
     ]
    },
    {
     "data": {
      "text/html": [
       "<span style=\"font-size: 14pt; font-family: Times New Roman\">9</span>"
      ],
      "text/plain": [
       "<IPython.core.display.HTML object>"
      ]
     },
     "metadata": {},
     "output_type": "display_data"
    },
    {
     "data": {
      "text/html": [
       "<span style=\"font-size: 14pt; font-family: Times New Roman\">Joshua 10.27</span>"
      ],
      "text/plain": [
       "<IPython.core.display.HTML object>"
      ]
     },
     "metadata": {},
     "output_type": "display_data"
    },
    {
     "data": {
      "text/html": [
       "<span style=\"font-size: 14pt; font-family: Times New Roman\">וַיְהִ֞י לְעֵ֣ת׀ </span>"
      ],
      "text/plain": [
       "<IPython.core.display.HTML object>"
      ]
     },
     "metadata": {},
     "output_type": "display_data"
    },
    {
     "name": "stdout",
     "output_type": "stream",
     "text": [
      "\n"
     ]
    },
    {
     "data": {
      "text/html": [
       "<span style=\"font-size: 14pt; font-family: Times New Roman\">10</span>"
      ],
      "text/plain": [
       "<IPython.core.display.HTML object>"
      ]
     },
     "metadata": {},
     "output_type": "display_data"
    },
    {
     "data": {
      "text/html": [
       "<span style=\"font-size: 14pt; font-family: Times New Roman\">2 Chronicles 18.34</span>"
      ],
      "text/plain": [
       "<IPython.core.display.HTML object>"
      ]
     },
     "metadata": {},
     "output_type": "display_data"
    },
    {
     "data": {
      "text/html": [
       "<span style=\"font-size: 14pt; font-family: Times New Roman\">וַיָּ֕מָת לְעֵ֖ת </span>"
      ],
      "text/plain": [
       "<IPython.core.display.HTML object>"
      ]
     },
     "metadata": {},
     "output_type": "display_data"
    },
    {
     "name": "stdout",
     "output_type": "stream",
     "text": [
      "\n"
     ]
    },
    {
     "data": {
      "text/html": [
       "<span style=\"font-size: 14pt; font-family: Times New Roman\">11</span>"
      ],
      "text/plain": [
       "<IPython.core.display.HTML object>"
      ]
     },
     "metadata": {},
     "output_type": "display_data"
    },
    {
     "data": {
      "text/html": [
       "<span style=\"font-size: 14pt; font-family: Times New Roman\">1 Samuel 1.20</span>"
      ],
      "text/plain": [
       "<IPython.core.display.HTML object>"
      ]
     },
     "metadata": {},
     "output_type": "display_data"
    },
    {
     "data": {
      "text/html": [
       "<span style=\"font-size: 14pt; font-family: Times New Roman\">וַיְהִי֙ לִתְקֻפֹ֣ות הַיָּמִ֔ים </span>"
      ],
      "text/plain": [
       "<IPython.core.display.HTML object>"
      ]
     },
     "metadata": {},
     "output_type": "display_data"
    },
    {
     "name": "stdout",
     "output_type": "stream",
     "text": [
      "\n"
     ]
    },
    {
     "data": {
      "text/html": [
       "<span style=\"font-size: 14pt; font-family: Times New Roman\">12</span>"
      ],
      "text/plain": [
       "<IPython.core.display.HTML object>"
      ]
     },
     "metadata": {},
     "output_type": "display_data"
    },
    {
     "data": {
      "text/html": [
       "<span style=\"font-size: 14pt; font-family: Times New Roman\">2 Samuel 11.1</span>"
      ],
      "text/plain": [
       "<IPython.core.display.HTML object>"
      ]
     },
     "metadata": {},
     "output_type": "display_data"
    },
    {
     "data": {
      "text/html": [
       "<span style=\"font-size: 14pt; font-family: Times New Roman\">וַיְהִי֩ לִתְשׁוּבַ֨ת הַשָּׁנָ֜ה לְעֵ֣ת׀ </span>"
      ],
      "text/plain": [
       "<IPython.core.display.HTML object>"
      ]
     },
     "metadata": {},
     "output_type": "display_data"
    },
    {
     "name": "stdout",
     "output_type": "stream",
     "text": [
      "\n"
     ]
    },
    {
     "data": {
      "text/html": [
       "<span style=\"font-size: 14pt; font-family: Times New Roman\">13</span>"
      ],
      "text/plain": [
       "<IPython.core.display.HTML object>"
      ]
     },
     "metadata": {},
     "output_type": "display_data"
    },
    {
     "data": {
      "text/html": [
       "<span style=\"font-size: 14pt; font-family: Times New Roman\">2 Samuel 11.2</span>"
      ],
      "text/plain": [
       "<IPython.core.display.HTML object>"
      ]
     },
     "metadata": {},
     "output_type": "display_data"
    },
    {
     "data": {
      "text/html": [
       "<span style=\"font-size: 14pt; font-family: Times New Roman\">וַיְהִ֣י׀ לְעֵ֣ת הָעֶ֗רֶב </span>"
      ],
      "text/plain": [
       "<IPython.core.display.HTML object>"
      ]
     },
     "metadata": {},
     "output_type": "display_data"
    },
    {
     "name": "stdout",
     "output_type": "stream",
     "text": [
      "\n"
     ]
    },
    {
     "data": {
      "text/html": [
       "<span style=\"font-size: 14pt; font-family: Times New Roman\">14</span>"
      ],
      "text/plain": [
       "<IPython.core.display.HTML object>"
      ]
     },
     "metadata": {},
     "output_type": "display_data"
    },
    {
     "data": {
      "text/html": [
       "<span style=\"font-size: 14pt; font-family: Times New Roman\">2 Samuel 13.23</span>"
      ],
      "text/plain": [
       "<IPython.core.display.HTML object>"
      ]
     },
     "metadata": {},
     "output_type": "display_data"
    },
    {
     "data": {
      "text/html": [
       "<span style=\"font-size: 14pt; font-family: Times New Roman\">וַֽיְהִי֙ לִשְׁנָתַ֣יִם יָמִ֔ים </span>"
      ],
      "text/plain": [
       "<IPython.core.display.HTML object>"
      ]
     },
     "metadata": {},
     "output_type": "display_data"
    },
    {
     "name": "stdout",
     "output_type": "stream",
     "text": [
      "\n"
     ]
    },
    {
     "data": {
      "text/html": [
       "<span style=\"font-size: 14pt; font-family: Times New Roman\">15</span>"
      ],
      "text/plain": [
       "<IPython.core.display.HTML object>"
      ]
     },
     "metadata": {},
     "output_type": "display_data"
    },
    {
     "data": {
      "text/html": [
       "<span style=\"font-size: 14pt; font-family: Times New Roman\">1 Kings 5.2</span>"
      ],
      "text/plain": [
       "<IPython.core.display.HTML object>"
      ]
     },
     "metadata": {},
     "output_type": "display_data"
    },
    {
     "data": {
      "text/html": [
       "<span style=\"font-size: 14pt; font-family: Times New Roman\">וַיְהִ֥י לֶֽחֶם־שְׁלֹמֹ֖ה לְיֹ֣ום אֶחָ֑ד שְׁלֹשִׁ֥ים כֹּר֙ סֹ֔לֶת וְשִׁשִּׁ֥ים כֹּ֖ר קָֽמַח׃ </span>"
      ],
      "text/plain": [
       "<IPython.core.display.HTML object>"
      ]
     },
     "metadata": {},
     "output_type": "display_data"
    },
    {
     "name": "stdout",
     "output_type": "stream",
     "text": [
      "\n"
     ]
    },
    {
     "data": {
      "text/html": [
       "<span style=\"font-size: 14pt; font-family: Times New Roman\">16</span>"
      ],
      "text/plain": [
       "<IPython.core.display.HTML object>"
      ]
     },
     "metadata": {},
     "output_type": "display_data"
    },
    {
     "data": {
      "text/html": [
       "<span style=\"font-size: 14pt; font-family: Times New Roman\">1 Kings 11.4</span>"
      ],
      "text/plain": [
       "<IPython.core.display.HTML object>"
      ]
     },
     "metadata": {},
     "output_type": "display_data"
    },
    {
     "data": {
      "text/html": [
       "<span style=\"font-size: 14pt; font-family: Times New Roman\">וַיְהִ֗י לְעֵת֙ זִקְנַ֣ת שְׁלֹמֹ֔ה </span>"
      ],
      "text/plain": [
       "<IPython.core.display.HTML object>"
      ]
     },
     "metadata": {},
     "output_type": "display_data"
    },
    {
     "name": "stdout",
     "output_type": "stream",
     "text": [
      "\n"
     ]
    },
    {
     "data": {
      "text/html": [
       "<span style=\"font-size: 14pt; font-family: Times New Roman\">17</span>"
      ],
      "text/plain": [
       "<IPython.core.display.HTML object>"
      ]
     },
     "metadata": {},
     "output_type": "display_data"
    },
    {
     "data": {
      "text/html": [
       "<span style=\"font-size: 14pt; font-family: Times New Roman\">1 Kings 20.26</span>"
      ],
      "text/plain": [
       "<IPython.core.display.HTML object>"
      ]
     },
     "metadata": {},
     "output_type": "display_data"
    },
    {
     "data": {
      "text/html": [
       "<span style=\"font-size: 14pt; font-family: Times New Roman\">וַֽיְהִי֙ לִתְשׁוּבַ֣ת הַשָּׁנָ֔ה </span>"
      ],
      "text/plain": [
       "<IPython.core.display.HTML object>"
      ]
     },
     "metadata": {},
     "output_type": "display_data"
    },
    {
     "name": "stdout",
     "output_type": "stream",
     "text": [
      "\n"
     ]
    },
    {
     "data": {
      "text/html": [
       "<span style=\"font-size: 14pt; font-family: Times New Roman\">18</span>"
      ],
      "text/plain": [
       "<IPython.core.display.HTML object>"
      ]
     },
     "metadata": {},
     "output_type": "display_data"
    },
    {
     "data": {
      "text/html": [
       "<span style=\"font-size: 14pt; font-family: Times New Roman\">2 Kings 4.17</span>"
      ],
      "text/plain": [
       "<IPython.core.display.HTML object>"
      ]
     },
     "metadata": {},
     "output_type": "display_data"
    },
    {
     "data": {
      "text/html": [
       "<span style=\"font-size: 14pt; font-family: Times New Roman\">וַתֵּ֣לֶד בֵּ֑ן לַמֹּועֵ֤ד הַזֶּה֙ כָּעֵ֣ת חַיָּ֔ה </span>"
      ],
      "text/plain": [
       "<IPython.core.display.HTML object>"
      ]
     },
     "metadata": {},
     "output_type": "display_data"
    },
    {
     "name": "stdout",
     "output_type": "stream",
     "text": [
      "\n"
     ]
    },
    {
     "data": {
      "text/html": [
       "<span style=\"font-size: 14pt; font-family: Times New Roman\">19</span>"
      ],
      "text/plain": [
       "<IPython.core.display.HTML object>"
      ]
     },
     "metadata": {},
     "output_type": "display_data"
    },
    {
     "data": {
      "text/html": [
       "<span style=\"font-size: 14pt; font-family: Times New Roman\">Psalms 106.31</span>"
      ],
      "text/plain": [
       "<IPython.core.display.HTML object>"
      ]
     },
     "metadata": {},
     "output_type": "display_data"
    },
    {
     "data": {
      "text/html": [
       "<span style=\"font-size: 14pt; font-family: Times New Roman\">וַתֵּחָ֣שֶׁב לֹ֭ו לִצְדָקָ֑ה לְדֹ֥ר וָ֝דֹ֗ר עַד־עֹולָֽם׃ </span>"
      ],
      "text/plain": [
       "<IPython.core.display.HTML object>"
      ]
     },
     "metadata": {},
     "output_type": "display_data"
    },
    {
     "name": "stdout",
     "output_type": "stream",
     "text": [
      "\n"
     ]
    },
    {
     "data": {
      "text/html": [
       "<span style=\"font-size: 14pt; font-family: Times New Roman\">20</span>"
      ],
      "text/plain": [
       "<IPython.core.display.HTML object>"
      ]
     },
     "metadata": {},
     "output_type": "display_data"
    },
    {
     "data": {
      "text/html": [
       "<span style=\"font-size: 14pt; font-family: Times New Roman\">Psalms 148.6</span>"
      ],
      "text/plain": [
       "<IPython.core.display.HTML object>"
      ]
     },
     "metadata": {},
     "output_type": "display_data"
    },
    {
     "data": {
      "text/html": [
       "<span style=\"font-size: 14pt; font-family: Times New Roman\">וַיַּעֲמִידֵ֣ם לָעַ֣ד לְעֹולָ֑ם </span>"
      ],
      "text/plain": [
       "<IPython.core.display.HTML object>"
      ]
     },
     "metadata": {},
     "output_type": "display_data"
    },
    {
     "name": "stdout",
     "output_type": "stream",
     "text": [
      "\n"
     ]
    },
    {
     "data": {
      "text/html": [
       "<span style=\"font-size: 14pt; font-family: Times New Roman\">21</span>"
      ],
      "text/plain": [
       "<IPython.core.display.HTML object>"
      ]
     },
     "metadata": {},
     "output_type": "display_data"
    },
    {
     "data": {
      "text/html": [
       "<span style=\"font-size: 14pt; font-family: Times New Roman\">Ruth 2.14</span>"
      ],
      "text/plain": [
       "<IPython.core.display.HTML object>"
      ]
     },
     "metadata": {},
     "output_type": "display_data"
    },
    {
     "data": {
      "text/html": [
       "<span style=\"font-size: 14pt; font-family: Times New Roman\">וַיֹּאמֶר֩ לָ֨ה בֹ֜עַז לְעֵ֣ת הָאֹ֗כֶל </span>"
      ],
      "text/plain": [
       "<IPython.core.display.HTML object>"
      ]
     },
     "metadata": {},
     "output_type": "display_data"
    },
    {
     "name": "stdout",
     "output_type": "stream",
     "text": [
      "\n"
     ]
    },
    {
     "data": {
      "text/html": [
       "<span style=\"font-size: 14pt; font-family: Times New Roman\">22</span>"
      ],
      "text/plain": [
       "<IPython.core.display.HTML object>"
      ]
     },
     "metadata": {},
     "output_type": "display_data"
    },
    {
     "data": {
      "text/html": [
       "<span style=\"font-size: 14pt; font-family: Times New Roman\">2 Chronicles 18.2</span>"
      ],
      "text/plain": [
       "<IPython.core.display.HTML object>"
      ]
     },
     "metadata": {},
     "output_type": "display_data"
    },
    {
     "data": {
      "text/html": [
       "<span style=\"font-size: 14pt; font-family: Times New Roman\">וַיֵּרֶד֩ לְקֵ֨ץ שָׁנִ֤ים אֶל־אַחְאָב֙ לְשֹׁ֣מְרֹ֔ון </span>"
      ],
      "text/plain": [
       "<IPython.core.display.HTML object>"
      ]
     },
     "metadata": {},
     "output_type": "display_data"
    },
    {
     "name": "stdout",
     "output_type": "stream",
     "text": [
      "\n"
     ]
    },
    {
     "data": {
      "text/html": [
       "<span style=\"font-size: 14pt; font-family: Times New Roman\">23</span>"
      ],
      "text/plain": [
       "<IPython.core.display.HTML object>"
      ]
     },
     "metadata": {},
     "output_type": "display_data"
    },
    {
     "data": {
      "text/html": [
       "<span style=\"font-size: 14pt; font-family: Times New Roman\">Ezra 10.9</span>"
      ],
      "text/plain": [
       "<IPython.core.display.HTML object>"
      ]
     },
     "metadata": {},
     "output_type": "display_data"
    },
    {
     "data": {
      "text/html": [
       "<span style=\"font-size: 14pt; font-family: Times New Roman\">וַיִּקָּבְצ֣וּ כָל־אַנְשֵֽׁי־יְהוּדָה֩ וּבִנְיָמִ֨ן׀ יְרוּשָׁלִַ֜ם לִשְׁלֹ֣שֶׁת הַיָּמִ֗ים </span>"
      ],
      "text/plain": [
       "<IPython.core.display.HTML object>"
      ]
     },
     "metadata": {},
     "output_type": "display_data"
    },
    {
     "name": "stdout",
     "output_type": "stream",
     "text": [
      "\n"
     ]
    },
    {
     "data": {
      "text/html": [
       "<span style=\"font-size: 14pt; font-family: Times New Roman\">24</span>"
      ],
      "text/plain": [
       "<IPython.core.display.HTML object>"
      ]
     },
     "metadata": {},
     "output_type": "display_data"
    },
    {
     "data": {
      "text/html": [
       "<span style=\"font-size: 14pt; font-family: Times New Roman\">1 Chronicles 20.1</span>"
      ],
      "text/plain": [
       "<IPython.core.display.HTML object>"
      ]
     },
     "metadata": {},
     "output_type": "display_data"
    },
    {
     "data": {
      "text/html": [
       "<span style=\"font-size: 14pt; font-family: Times New Roman\">וַיְהִ֡י לְעֵת֩ תְּשׁוּבַ֨ת הַשָּׁנָ֜ה לְעֵ֣ת׀ </span>"
      ],
      "text/plain": [
       "<IPython.core.display.HTML object>"
      ]
     },
     "metadata": {},
     "output_type": "display_data"
    },
    {
     "name": "stdout",
     "output_type": "stream",
     "text": [
      "\n"
     ]
    },
    {
     "data": {
      "text/html": [
       "<span style=\"font-size: 14pt; font-family: Times New Roman\">25</span>"
      ],
      "text/plain": [
       "<IPython.core.display.HTML object>"
      ]
     },
     "metadata": {},
     "output_type": "display_data"
    },
    {
     "data": {
      "text/html": [
       "<span style=\"font-size: 14pt; font-family: Times New Roman\">1 Chronicles 29.21</span>"
      ],
      "text/plain": [
       "<IPython.core.display.HTML object>"
      ]
     },
     "metadata": {},
     "output_type": "display_data"
    },
    {
     "data": {
      "text/html": [
       "<span style=\"font-size: 14pt; font-family: Times New Roman\">וַיַּעֲל֨וּ עֹלֹ֜ות לַיהוָ֗ה לְֽמָחֳרַת֮ הַיֹּ֣ום הַהוּא֒ לְכָל־יִשְׂרָאֵֽל׃ </span>"
      ],
      "text/plain": [
       "<IPython.core.display.HTML object>"
      ]
     },
     "metadata": {},
     "output_type": "display_data"
    },
    {
     "name": "stdout",
     "output_type": "stream",
     "text": [
      "\n"
     ]
    },
    {
     "data": {
      "text/html": [
       "<span style=\"font-size: 14pt; font-family: Times New Roman\">26</span>"
      ],
      "text/plain": [
       "<IPython.core.display.HTML object>"
      ]
     },
     "metadata": {},
     "output_type": "display_data"
    },
    {
     "data": {
      "text/html": [
       "<span style=\"font-size: 14pt; font-family: Times New Roman\">2 Chronicles 11.17</span>"
      ],
      "text/plain": [
       "<IPython.core.display.HTML object>"
      ]
     },
     "metadata": {},
     "output_type": "display_data"
    },
    {
     "data": {
      "text/html": [
       "<span style=\"font-size: 14pt; font-family: Times New Roman\">וַֽיְאַמְּצ֛וּ אֶת־רְחַבְעָ֥ם בֶּן־שְׁלֹמֹ֖ה לְשָׁנִ֣ים שָׁלֹ֑ושׁ </span>"
      ],
      "text/plain": [
       "<IPython.core.display.HTML object>"
      ]
     },
     "metadata": {},
     "output_type": "display_data"
    },
    {
     "name": "stdout",
     "output_type": "stream",
     "text": [
      "\n"
     ]
    },
    {
     "data": {
      "text/html": [
       "<span style=\"font-size: 14pt; font-family: Times New Roman\">27</span>"
      ],
      "text/plain": [
       "<IPython.core.display.HTML object>"
      ]
     },
     "metadata": {},
     "output_type": "display_data"
    },
    {
     "data": {
      "text/html": [
       "<span style=\"font-size: 14pt; font-family: Times New Roman\">2 Chronicles 21.19</span>"
      ],
      "text/plain": [
       "<IPython.core.display.HTML object>"
      ]
     },
     "metadata": {},
     "output_type": "display_data"
    },
    {
     "data": {
      "text/html": [
       "<span style=\"font-size: 14pt; font-family: Times New Roman\">וַיְהִ֣י לְיָמִ֣ים׀ מִיָּמִ֡ים </span>"
      ],
      "text/plain": [
       "<IPython.core.display.HTML object>"
      ]
     },
     "metadata": {},
     "output_type": "display_data"
    },
    {
     "name": "stdout",
     "output_type": "stream",
     "text": [
      "\n"
     ]
    },
    {
     "data": {
      "text/html": [
       "<span style=\"font-size: 14pt; font-family: Times New Roman\">28</span>"
      ],
      "text/plain": [
       "<IPython.core.display.HTML object>"
      ]
     },
     "metadata": {},
     "output_type": "display_data"
    },
    {
     "data": {
      "text/html": [
       "<span style=\"font-size: 14pt; font-family: Times New Roman\">2 Chronicles 24.23</span>"
      ],
      "text/plain": [
       "<IPython.core.display.HTML object>"
      ]
     },
     "metadata": {},
     "output_type": "display_data"
    },
    {
     "data": {
      "text/html": [
       "<span style=\"font-size: 14pt; font-family: Times New Roman\">וַיְהִ֣י׀ לִתְקוּפַ֣ת הַשָּׁנָ֗ה </span>"
      ],
      "text/plain": [
       "<IPython.core.display.HTML object>"
      ]
     },
     "metadata": {},
     "output_type": "display_data"
    },
    {
     "name": "stdout",
     "output_type": "stream",
     "text": [
      "\n"
     ]
    },
    {
     "data": {
      "text/html": [
       "<span style=\"font-size: 14pt; font-family: Times New Roman\">29</span>"
      ],
      "text/plain": [
       "<IPython.core.display.HTML object>"
      ]
     },
     "metadata": {},
     "output_type": "display_data"
    },
    {
     "data": {
      "text/html": [
       "<span style=\"font-size: 14pt; font-family: Times New Roman\">2 Chronicles 29.17</span>"
      ],
      "text/plain": [
       "<IPython.core.display.HTML object>"
      ]
     },
     "metadata": {},
     "output_type": "display_data"
    },
    {
     "data": {
      "text/html": [
       "<span style=\"font-size: 14pt; font-family: Times New Roman\">וַיְקַדְּשׁ֥וּ אֶת־בֵּית־יְהוָ֖ה לְיָמִ֣ים שְׁמֹונָ֑ה </span>"
      ],
      "text/plain": [
       "<IPython.core.display.HTML object>"
      ]
     },
     "metadata": {},
     "output_type": "display_data"
    },
    {
     "name": "stdout",
     "output_type": "stream",
     "text": [
      "\n"
     ]
    }
   ],
   "source": [
    "# show header\n",
    "display(HTML(html_span.format(content='ל')))\n",
    "print()\n",
    "\n",
    "# print examples of yiqtols with marker\n",
    "for i, clause in enumerate(tm_data['preposition_cl_lists']['L']['wayq']):\n",
    "    \n",
    "    book, chapter, verse = T.sectionFromNode(clause)\n",
    "    reference = f'{book} {chapter}.{verse}'.replace('_',' ')\n",
    "    text = T.text(L.d(clause, otype='word'))\n",
    "    \n",
    "    # display text in readable format\n",
    "    display(HTML(html_span.format(content=i+1)))\n",
    "    display(HTML(html_span.format(content=reference)))\n",
    "    display(HTML(html_span.format(content=text)))\n",
    "    print()"
   ]
  },
  {
   "cell_type": "markdown",
   "metadata": {},
   "source": [
    "### Print Edge Cases with Contextual Data in the Chapter\n",
    "\n",
    "The edge cases will be marked in red. The blue will contain any additional time markers to aid interpreting the data. Other features are provided."
   ]
  },
  {
   "cell_type": "code",
   "execution_count": 12,
   "metadata": {
    "collapsed": true,
    "scrolled": false
   },
   "outputs": [],
   "source": [
    "# print examples of wayyiqtol with for_forever marker\n",
    "# also print contextual information/data\n",
    "\n",
    "def display_edge_cases(clause_atom_list):\n",
    "\n",
    "    html_div =\\\n",
    "    '''\n",
    "    <div style=\"font-size: 15pt; \n",
    "                font-family: Times New Roman; \n",
    "                direction: rtl; \n",
    "                color:{color};\n",
    "                width: 80%\">\n",
    "\n",
    "                {content} \n",
    "    </div>\n",
    "    '''\n",
    "\n",
    "\n",
    "    # show header\n",
    "    display(HTML(html_span.format(content='לעולם with Wayyiqtol')))\n",
    "    print()\n",
    "\n",
    "    for clause in clause_atom_list:\n",
    "\n",
    "        book, chapter, verse = T.sectionFromNode(clause)\n",
    "\n",
    "        # get every clause atom in the chapter\n",
    "        chapter_node = L.u(clause, otype='chapter')[0]\n",
    "        chapter_clause_atoms = L.d(chapter_node, otype='clause_atom')\n",
    "\n",
    "        # show header\n",
    "        display(HTML(html_span.format(content=f'{book} {chapter}')))\n",
    "        print()\n",
    "\n",
    "        for ca in chapter_clause_atoms:\n",
    "\n",
    "            # look for time markers\n",
    "            time_markers = [phrase for phrase in L.d(ca, otype='phrase')\n",
    "                               if F.function.v(phrase) == 'Time'\n",
    "                           ]\n",
    "\n",
    "            text = T.text(L.d(ca, otype='word'))\n",
    "            indent = '...' * F.tab.v(ca)\n",
    "            typ = F.typ.v(ca)\n",
    "            text_indented = str(F.tab.v(ca)) + '&nbsp;&nbsp;' + typ + '&nbsp;&nbsp;&nbsp;&nbsp;' + indent + text\n",
    "\n",
    "            # format color\n",
    "            cur_clause = L.u(ca, otype='clause')[0]\n",
    "            color = 'red' if cur_clause == clause\\\n",
    "                    else 'blue' if time_markers\\\n",
    "                    else ''\n",
    "\n",
    "            display(HTML(html_div.format(color=color, content=text_indented)))\n"
   ]
  },
  {
   "cell_type": "code",
   "execution_count": 13,
   "metadata": {
    "scrolled": false
   },
   "outputs": [
    {
     "data": {
      "text/html": [
       "<span style=\"font-size: 14pt; font-family: Times New Roman\">לעולם with Wayyiqtol</span>"
      ],
      "text/plain": [
       "<IPython.core.display.HTML object>"
      ]
     },
     "metadata": {},
     "output_type": "display_data"
    },
    {
     "name": "stdout",
     "output_type": "stream",
     "text": [
      "\n"
     ]
    },
    {
     "data": {
      "text/html": [
       "<span style=\"font-size: 14pt; font-family: Times New Roman\">Psalms 41</span>"
      ],
      "text/plain": [
       "<IPython.core.display.HTML object>"
      ]
     },
     "metadata": {},
     "output_type": "display_data"
    },
    {
     "name": "stdout",
     "output_type": "stream",
     "text": [
      "\n"
     ]
    },
    {
     "data": {
      "text/html": [
       "\n",
       "    <div style=\"font-size: 15pt; \n",
       "                font-family: Times New Roman; \n",
       "                direction: rtl; \n",
       "                color:;\n",
       "                width: 80%\">\n",
       "\n",
       "                0&nbsp;&nbsp;NmCl&nbsp;&nbsp;&nbsp;&nbsp;לַמְנַצֵּ֗חַ  \n",
       "    </div>\n",
       "    "
      ],
      "text/plain": [
       "<IPython.core.display.HTML object>"
      ]
     },
     "metadata": {},
     "output_type": "display_data"
    },
    {
     "data": {
      "text/html": [
       "\n",
       "    <div style=\"font-size: 15pt; \n",
       "                font-family: Times New Roman; \n",
       "                direction: rtl; \n",
       "                color:;\n",
       "                width: 80%\">\n",
       "\n",
       "                1&nbsp;&nbsp;NmCl&nbsp;&nbsp;&nbsp;&nbsp;...מִזְמֹ֥ור לְדָוִֽד׃  \n",
       "    </div>\n",
       "    "
      ],
      "text/plain": [
       "<IPython.core.display.HTML object>"
      ]
     },
     "metadata": {},
     "output_type": "display_data"
    },
    {
     "data": {
      "text/html": [
       "\n",
       "    <div style=\"font-size: 15pt; \n",
       "                font-family: Times New Roman; \n",
       "                direction: rtl; \n",
       "                color:;\n",
       "                width: 80%\">\n",
       "\n",
       "                0&nbsp;&nbsp;NmCl&nbsp;&nbsp;&nbsp;&nbsp;אַ֭שְׁרֵי  \n",
       "    </div>\n",
       "    "
      ],
      "text/plain": [
       "<IPython.core.display.HTML object>"
      ]
     },
     "metadata": {},
     "output_type": "display_data"
    },
    {
     "data": {
      "text/html": [
       "\n",
       "    <div style=\"font-size: 15pt; \n",
       "                font-family: Times New Roman; \n",
       "                direction: rtl; \n",
       "                color:;\n",
       "                width: 80%\">\n",
       "\n",
       "                4&nbsp;&nbsp;Ptcp&nbsp;&nbsp;&nbsp;&nbsp;............מַשְׂכִּ֣יל אֶל־דָּ֑ל  \n",
       "    </div>\n",
       "    "
      ],
      "text/plain": [
       "<IPython.core.display.HTML object>"
      ]
     },
     "metadata": {},
     "output_type": "display_data"
    },
    {
     "data": {
      "text/html": [
       "\n",
       "    <div style=\"font-size: 15pt; \n",
       "                font-family: Times New Roman; \n",
       "                direction: rtl; \n",
       "                color:blue;\n",
       "                width: 80%\">\n",
       "\n",
       "                3&nbsp;&nbsp;xYqX&nbsp;&nbsp;&nbsp;&nbsp;.........בְּיֹ֥ום רָ֝עָ֗ה יְֽמַלְּטֵ֥הוּ יְהוָֽה׃  \n",
       "    </div>\n",
       "    "
      ],
      "text/plain": [
       "<IPython.core.display.HTML object>"
      ]
     },
     "metadata": {},
     "output_type": "display_data"
    },
    {
     "data": {
      "text/html": [
       "\n",
       "    <div style=\"font-size: 15pt; \n",
       "                font-family: Times New Roman; \n",
       "                direction: rtl; \n",
       "                color:;\n",
       "                width: 80%\">\n",
       "\n",
       "                4&nbsp;&nbsp;XYqt&nbsp;&nbsp;&nbsp;&nbsp;............יְהוָ֤ה׀ יִשְׁמְרֵ֣הוּ  \n",
       "    </div>\n",
       "    "
      ],
      "text/plain": [
       "<IPython.core.display.HTML object>"
      ]
     },
     "metadata": {},
     "output_type": "display_data"
    },
    {
     "data": {
      "text/html": [
       "\n",
       "    <div style=\"font-size: 15pt; \n",
       "                font-family: Times New Roman; \n",
       "                direction: rtl; \n",
       "                color:;\n",
       "                width: 80%\">\n",
       "\n",
       "                6&nbsp;&nbsp;WYq0&nbsp;&nbsp;&nbsp;&nbsp;..................וִֽ֭יחַיֵּהוּ  \n",
       "    </div>\n",
       "    "
      ],
      "text/plain": [
       "<IPython.core.display.HTML object>"
      ]
     },
     "metadata": {},
     "output_type": "display_data"
    },
    {
     "data": {
      "text/html": [
       "\n",
       "    <div style=\"font-size: 15pt; \n",
       "                font-family: Times New Roman; \n",
       "                direction: rtl; \n",
       "                color:;\n",
       "                width: 80%\">\n",
       "\n",
       "                7&nbsp;&nbsp;WQt0&nbsp;&nbsp;&nbsp;&nbsp;.....................וְאֻשַּׁ֣ר בָּאָ֑רֶץ  \n",
       "    </div>\n",
       "    "
      ],
      "text/plain": [
       "<IPython.core.display.HTML object>"
      ]
     },
     "metadata": {},
     "output_type": "display_data"
    },
    {
     "data": {
      "text/html": [
       "\n",
       "    <div style=\"font-size: 15pt; \n",
       "                font-family: Times New Roman; \n",
       "                direction: rtl; \n",
       "                color:;\n",
       "                width: 80%\">\n",
       "\n",
       "                5&nbsp;&nbsp;WxY0&nbsp;&nbsp;&nbsp;&nbsp;...............וְאַֽל־תִּ֝תְּנֵ֗הוּ בְּנֶ֣פֶשׁ אֹיְבָֽיו׃  \n",
       "    </div>\n",
       "    "
      ],
      "text/plain": [
       "<IPython.core.display.HTML object>"
      ]
     },
     "metadata": {},
     "output_type": "display_data"
    },
    {
     "data": {
      "text/html": [
       "\n",
       "    <div style=\"font-size: 15pt; \n",
       "                font-family: Times New Roman; \n",
       "                direction: rtl; \n",
       "                color:;\n",
       "                width: 80%\">\n",
       "\n",
       "                4&nbsp;&nbsp;XYqt&nbsp;&nbsp;&nbsp;&nbsp;............יְֽהוָ֗ה יִ֭סְעָדֶנּוּ עַל־עֶ֣רֶשׂ דְּוָ֑י  \n",
       "    </div>\n",
       "    "
      ],
      "text/plain": [
       "<IPython.core.display.HTML object>"
      ]
     },
     "metadata": {},
     "output_type": "display_data"
    },
    {
     "data": {
      "text/html": [
       "\n",
       "    <div style=\"font-size: 15pt; \n",
       "                font-family: Times New Roman; \n",
       "                direction: rtl; \n",
       "                color:;\n",
       "                width: 80%\">\n",
       "\n",
       "                5&nbsp;&nbsp;xQt0&nbsp;&nbsp;&nbsp;&nbsp;...............כָּל־מִ֝שְׁכָּבֹ֗ו הָפַ֥כְתָּ בְחָלְיֹֽו׃  \n",
       "    </div>\n",
       "    "
      ],
      "text/plain": [
       "<IPython.core.display.HTML object>"
      ]
     },
     "metadata": {},
     "output_type": "display_data"
    },
    {
     "data": {
      "text/html": [
       "\n",
       "    <div style=\"font-size: 15pt; \n",
       "                font-family: Times New Roman; \n",
       "                direction: rtl; \n",
       "                color:;\n",
       "                width: 80%\">\n",
       "\n",
       "                2&nbsp;&nbsp;XQtl&nbsp;&nbsp;&nbsp;&nbsp;......אֲֽנִי־אָ֭מַרְתִּי  \n",
       "    </div>\n",
       "    "
      ],
      "text/plain": [
       "<IPython.core.display.HTML object>"
      ]
     },
     "metadata": {},
     "output_type": "display_data"
    },
    {
     "data": {
      "text/html": [
       "\n",
       "    <div style=\"font-size: 15pt; \n",
       "                font-family: Times New Roman; \n",
       "                direction: rtl; \n",
       "                color:;\n",
       "                width: 80%\">\n",
       "\n",
       "                3&nbsp;&nbsp;Voct&nbsp;&nbsp;&nbsp;&nbsp;.........יְהוָ֣ה  \n",
       "    </div>\n",
       "    "
      ],
      "text/plain": [
       "<IPython.core.display.HTML object>"
      ]
     },
     "metadata": {},
     "output_type": "display_data"
    },
    {
     "data": {
      "text/html": [
       "\n",
       "    <div style=\"font-size: 15pt; \n",
       "                font-family: Times New Roman; \n",
       "                direction: rtl; \n",
       "                color:;\n",
       "                width: 80%\">\n",
       "\n",
       "                5&nbsp;&nbsp;ZIm0&nbsp;&nbsp;&nbsp;&nbsp;...............חָנֵּ֑נִי  \n",
       "    </div>\n",
       "    "
      ],
      "text/plain": [
       "<IPython.core.display.HTML object>"
      ]
     },
     "metadata": {},
     "output_type": "display_data"
    },
    {
     "data": {
      "text/html": [
       "\n",
       "    <div style=\"font-size: 15pt; \n",
       "                font-family: Times New Roman; \n",
       "                direction: rtl; \n",
       "                color:;\n",
       "                width: 80%\">\n",
       "\n",
       "                6&nbsp;&nbsp;ZIm0&nbsp;&nbsp;&nbsp;&nbsp;..................רְפָאָ֥ה נַ֝פְשִׁ֗י  \n",
       "    </div>\n",
       "    "
      ],
      "text/plain": [
       "<IPython.core.display.HTML object>"
      ]
     },
     "metadata": {},
     "output_type": "display_data"
    },
    {
     "data": {
      "text/html": [
       "\n",
       "    <div style=\"font-size: 15pt; \n",
       "                font-family: Times New Roman; \n",
       "                direction: rtl; \n",
       "                color:;\n",
       "                width: 80%\">\n",
       "\n",
       "                8&nbsp;&nbsp;xQt0&nbsp;&nbsp;&nbsp;&nbsp;........................כִּי־חָטָ֥אתִי לָֽךְ׃  \n",
       "    </div>\n",
       "    "
      ],
      "text/plain": [
       "<IPython.core.display.HTML object>"
      ]
     },
     "metadata": {},
     "output_type": "display_data"
    },
    {
     "data": {
      "text/html": [
       "\n",
       "    <div style=\"font-size: 15pt; \n",
       "                font-family: Times New Roman; \n",
       "                direction: rtl; \n",
       "                color:;\n",
       "                width: 80%\">\n",
       "\n",
       "                7&nbsp;&nbsp;XYqt&nbsp;&nbsp;&nbsp;&nbsp;.....................אֹויְבַ֗י יֹאמְר֣וּ רַ֣ע לִ֑י  \n",
       "    </div>\n",
       "    "
      ],
      "text/plain": [
       "<IPython.core.display.HTML object>"
      ]
     },
     "metadata": {},
     "output_type": "display_data"
    },
    {
     "data": {
      "text/html": [
       "\n",
       "    <div style=\"font-size: 15pt; \n",
       "                font-family: Times New Roman; \n",
       "                direction: rtl; \n",
       "                color:;\n",
       "                width: 80%\">\n",
       "\n",
       "                10&nbsp;&nbsp;xYq0&nbsp;&nbsp;&nbsp;&nbsp;..............................מָתַ֥י יָ֝מ֗וּת  \n",
       "    </div>\n",
       "    "
      ],
      "text/plain": [
       "<IPython.core.display.HTML object>"
      ]
     },
     "metadata": {},
     "output_type": "display_data"
    },
    {
     "data": {
      "text/html": [
       "\n",
       "    <div style=\"font-size: 15pt; \n",
       "                font-family: Times New Roman; \n",
       "                direction: rtl; \n",
       "                color:;\n",
       "                width: 80%\">\n",
       "\n",
       "                11&nbsp;&nbsp;WQtX&nbsp;&nbsp;&nbsp;&nbsp;.................................וְאָבַ֥ד שְׁמֹֽו׃  \n",
       "    </div>\n",
       "    "
      ],
      "text/plain": [
       "<IPython.core.display.HTML object>"
      ]
     },
     "metadata": {},
     "output_type": "display_data"
    },
    {
     "data": {
      "text/html": [
       "\n",
       "    <div style=\"font-size: 15pt; \n",
       "                font-family: Times New Roman; \n",
       "                direction: rtl; \n",
       "                color:;\n",
       "                width: 80%\">\n",
       "\n",
       "                9&nbsp;&nbsp;WxQ0&nbsp;&nbsp;&nbsp;&nbsp;...........................וְאִם־בָּ֤א  \n",
       "    </div>\n",
       "    "
      ],
      "text/plain": [
       "<IPython.core.display.HTML object>"
      ]
     },
     "metadata": {},
     "output_type": "display_data"
    },
    {
     "data": {
      "text/html": [
       "\n",
       "    <div style=\"font-size: 15pt; \n",
       "                font-family: Times New Roman; \n",
       "                direction: rtl; \n",
       "                color:;\n",
       "                width: 80%\">\n",
       "\n",
       "                11&nbsp;&nbsp;InfC&nbsp;&nbsp;&nbsp;&nbsp;.................................לִרְאֹ֨ות׀  \n",
       "    </div>\n",
       "    "
      ],
      "text/plain": [
       "<IPython.core.display.HTML object>"
      ]
     },
     "metadata": {},
     "output_type": "display_data"
    },
    {
     "data": {
      "text/html": [
       "\n",
       "    <div style=\"font-size: 15pt; \n",
       "                font-family: Times New Roman; \n",
       "                direction: rtl; \n",
       "                color:;\n",
       "                width: 80%\">\n",
       "\n",
       "                10&nbsp;&nbsp;xYqX&nbsp;&nbsp;&nbsp;&nbsp;..............................שָׁ֤וְא יְדַבֵּ֗ר לִבֹּ֗ו  \n",
       "    </div>\n",
       "    "
      ],
      "text/plain": [
       "<IPython.core.display.HTML object>"
      ]
     },
     "metadata": {},
     "output_type": "display_data"
    },
    {
     "data": {
      "text/html": [
       "\n",
       "    <div style=\"font-size: 15pt; \n",
       "                font-family: Times New Roman; \n",
       "                direction: rtl; \n",
       "                color:;\n",
       "                width: 80%\">\n",
       "\n",
       "                11&nbsp;&nbsp;ZYq0&nbsp;&nbsp;&nbsp;&nbsp;.................................יִקְבָּץ־אָ֥וֶן לֹ֑ו  \n",
       "    </div>\n",
       "    "
      ],
      "text/plain": [
       "<IPython.core.display.HTML object>"
      ]
     },
     "metadata": {},
     "output_type": "display_data"
    },
    {
     "data": {
      "text/html": [
       "\n",
       "    <div style=\"font-size: 15pt; \n",
       "                font-family: Times New Roman; \n",
       "                direction: rtl; \n",
       "                color:;\n",
       "                width: 80%\">\n",
       "\n",
       "                11&nbsp;&nbsp;ZYq0&nbsp;&nbsp;&nbsp;&nbsp;.................................יֵצֵ֖א לַח֣וּץ  \n",
       "    </div>\n",
       "    "
      ],
      "text/plain": [
       "<IPython.core.display.HTML object>"
      ]
     },
     "metadata": {},
     "output_type": "display_data"
    },
    {
     "data": {
      "text/html": [
       "\n",
       "    <div style=\"font-size: 15pt; \n",
       "                font-family: Times New Roman; \n",
       "                direction: rtl; \n",
       "                color:;\n",
       "                width: 80%\">\n",
       "\n",
       "                11&nbsp;&nbsp;ZYq0&nbsp;&nbsp;&nbsp;&nbsp;.................................יְדַבֵּֽר׃  \n",
       "    </div>\n",
       "    "
      ],
      "text/plain": [
       "<IPython.core.display.HTML object>"
      ]
     },
     "metadata": {},
     "output_type": "display_data"
    },
    {
     "data": {
      "text/html": [
       "\n",
       "    <div style=\"font-size: 15pt; \n",
       "                font-family: Times New Roman; \n",
       "                direction: rtl; \n",
       "                color:;\n",
       "                width: 80%\">\n",
       "\n",
       "                8&nbsp;&nbsp;xYqX&nbsp;&nbsp;&nbsp;&nbsp;........................יַ֗חַד עָלַ֣י יִ֭תְלַחֲשׁוּ כָּל־שֹׂנְאָ֑י  \n",
       "    </div>\n",
       "    "
      ],
      "text/plain": [
       "<IPython.core.display.HTML object>"
      ]
     },
     "metadata": {},
     "output_type": "display_data"
    },
    {
     "data": {
      "text/html": [
       "\n",
       "    <div style=\"font-size: 15pt; \n",
       "                font-family: Times New Roman; \n",
       "                direction: rtl; \n",
       "                color:;\n",
       "                width: 80%\">\n",
       "\n",
       "                11&nbsp;&nbsp;xYq0&nbsp;&nbsp;&nbsp;&nbsp;.................................עָלַ֓י׀ יַחְשְׁב֖וּ רָעָ֣ה לִֽי׃  \n",
       "    </div>\n",
       "    "
      ],
      "text/plain": [
       "<IPython.core.display.HTML object>"
      ]
     },
     "metadata": {},
     "output_type": "display_data"
    },
    {
     "data": {
      "text/html": [
       "\n",
       "    <div style=\"font-size: 15pt; \n",
       "                font-family: Times New Roman; \n",
       "                direction: rtl; \n",
       "                color:;\n",
       "                width: 80%\">\n",
       "\n",
       "                10&nbsp;&nbsp;Ptcp&nbsp;&nbsp;&nbsp;&nbsp;..............................דְּֽבַר־בְּ֭לִיַּעַל יָצ֣וּק בֹּ֑ו  \n",
       "    </div>\n",
       "    "
      ],
      "text/plain": [
       "<IPython.core.display.HTML object>"
      ]
     },
     "metadata": {},
     "output_type": "display_data"
    },
    {
     "data": {
      "text/html": [
       "\n",
       "    <div style=\"font-size: 15pt; \n",
       "                font-family: Times New Roman; \n",
       "                direction: rtl; \n",
       "                color:;\n",
       "                width: 80%\">\n",
       "\n",
       "                11&nbsp;&nbsp;Defc&nbsp;&nbsp;&nbsp;&nbsp;.................................וַ \n",
       "    </div>\n",
       "    "
      ],
      "text/plain": [
       "<IPython.core.display.HTML object>"
      ]
     },
     "metadata": {},
     "output_type": "display_data"
    },
    {
     "data": {
      "text/html": [
       "\n",
       "    <div style=\"font-size: 15pt; \n",
       "                font-family: Times New Roman; \n",
       "                direction: rtl; \n",
       "                color:;\n",
       "                width: 80%\">\n",
       "\n",
       "                13&nbsp;&nbsp;xQt0&nbsp;&nbsp;&nbsp;&nbsp;.......................................אֲשֶׁ֥ר שָׁ֝כַ֗ב  \n",
       "    </div>\n",
       "    "
      ],
      "text/plain": [
       "<IPython.core.display.HTML object>"
      ]
     },
     "metadata": {},
     "output_type": "display_data"
    },
    {
     "data": {
      "text/html": [
       "\n",
       "    <div style=\"font-size: 15pt; \n",
       "                font-family: Times New Roman; \n",
       "                direction: rtl; \n",
       "                color:;\n",
       "                width: 80%\">\n",
       "\n",
       "                12&nbsp;&nbsp;xYq0&nbsp;&nbsp;&nbsp;&nbsp;....................................לֹא־יֹוסִ֥יף  \n",
       "    </div>\n",
       "    "
      ],
      "text/plain": [
       "<IPython.core.display.HTML object>"
      ]
     },
     "metadata": {},
     "output_type": "display_data"
    },
    {
     "data": {
      "text/html": [
       "\n",
       "    <div style=\"font-size: 15pt; \n",
       "                font-family: Times New Roman; \n",
       "                direction: rtl; \n",
       "                color:;\n",
       "                width: 80%\">\n",
       "\n",
       "                13&nbsp;&nbsp;InfC&nbsp;&nbsp;&nbsp;&nbsp;.......................................לָקֽוּם׃  \n",
       "    </div>\n",
       "    "
      ],
      "text/plain": [
       "<IPython.core.display.HTML object>"
      ]
     },
     "metadata": {},
     "output_type": "display_data"
    },
    {
     "data": {
      "text/html": [
       "\n",
       "    <div style=\"font-size: 15pt; \n",
       "                font-family: Times New Roman; \n",
       "                direction: rtl; \n",
       "                color:;\n",
       "                width: 80%\">\n",
       "\n",
       "                9&nbsp;&nbsp;Defc&nbsp;&nbsp;&nbsp;&nbsp;...........................גַּם־אִ֤ישׁ שְׁלֹומִ֨י׀  \n",
       "    </div>\n",
       "    "
      ],
      "text/plain": [
       "<IPython.core.display.HTML object>"
      ]
     },
     "metadata": {},
     "output_type": "display_data"
    },
    {
     "data": {
      "text/html": [
       "\n",
       "    <div style=\"font-size: 15pt; \n",
       "                font-family: Times New Roman; \n",
       "                direction: rtl; \n",
       "                color:;\n",
       "                width: 80%\">\n",
       "\n",
       "                12&nbsp;&nbsp;xQt0&nbsp;&nbsp;&nbsp;&nbsp;....................................אֲשֶׁר־בָּטַ֣חְתִּי בֹ֖ו  \n",
       "    </div>\n",
       "    "
      ],
      "text/plain": [
       "<IPython.core.display.HTML object>"
      ]
     },
     "metadata": {},
     "output_type": "display_data"
    },
    {
     "data": {
      "text/html": [
       "\n",
       "    <div style=\"font-size: 15pt; \n",
       "                font-family: Times New Roman; \n",
       "                direction: rtl; \n",
       "                color:;\n",
       "                width: 80%\">\n",
       "\n",
       "                11&nbsp;&nbsp;Ptcp&nbsp;&nbsp;&nbsp;&nbsp;.................................אֹוכֵ֣ל לַחְמִ֑י  \n",
       "    </div>\n",
       "    "
      ],
      "text/plain": [
       "<IPython.core.display.HTML object>"
      ]
     },
     "metadata": {},
     "output_type": "display_data"
    },
    {
     "data": {
      "text/html": [
       "\n",
       "    <div style=\"font-size: 15pt; \n",
       "                font-family: Times New Roman; \n",
       "                direction: rtl; \n",
       "                color:;\n",
       "                width: 80%\">\n",
       "\n",
       "                10&nbsp;&nbsp;ZQt0&nbsp;&nbsp;&nbsp;&nbsp;..............................הִגְדִּ֖יל עָלַ֣י עָקֵֽב׃  \n",
       "    </div>\n",
       "    "
      ],
      "text/plain": [
       "<IPython.core.display.HTML object>"
      ]
     },
     "metadata": {},
     "output_type": "display_data"
    },
    {
     "data": {
      "text/html": [
       "\n",
       "    <div style=\"font-size: 15pt; \n",
       "                font-family: Times New Roman; \n",
       "                direction: rtl; \n",
       "                color:;\n",
       "                width: 80%\">\n",
       "\n",
       "                4&nbsp;&nbsp;Defc&nbsp;&nbsp;&nbsp;&nbsp;............וְאַתָּ֤ה  \n",
       "    </div>\n",
       "    "
      ],
      "text/plain": [
       "<IPython.core.display.HTML object>"
      ]
     },
     "metadata": {},
     "output_type": "display_data"
    },
    {
     "data": {
      "text/html": [
       "\n",
       "    <div style=\"font-size: 15pt; \n",
       "                font-family: Times New Roman; \n",
       "                direction: rtl; \n",
       "                color:;\n",
       "                width: 80%\">\n",
       "\n",
       "                9&nbsp;&nbsp;Voct&nbsp;&nbsp;&nbsp;&nbsp;...........................יְהוָ֗ה  \n",
       "    </div>\n",
       "    "
      ],
      "text/plain": [
       "<IPython.core.display.HTML object>"
      ]
     },
     "metadata": {},
     "output_type": "display_data"
    },
    {
     "data": {
      "text/html": [
       "\n",
       "    <div style=\"font-size: 15pt; \n",
       "                font-family: Times New Roman; \n",
       "                direction: rtl; \n",
       "                color:;\n",
       "                width: 80%\">\n",
       "\n",
       "                8&nbsp;&nbsp;ZIm0&nbsp;&nbsp;&nbsp;&nbsp;........................חָנֵּ֥נִי  \n",
       "    </div>\n",
       "    "
      ],
      "text/plain": [
       "<IPython.core.display.HTML object>"
      ]
     },
     "metadata": {},
     "output_type": "display_data"
    },
    {
     "data": {
      "text/html": [
       "\n",
       "    <div style=\"font-size: 15pt; \n",
       "                font-family: Times New Roman; \n",
       "                direction: rtl; \n",
       "                color:;\n",
       "                width: 80%\">\n",
       "\n",
       "                7&nbsp;&nbsp;WIm0&nbsp;&nbsp;&nbsp;&nbsp;.....................וַהֲקִימֵ֑נִי  \n",
       "    </div>\n",
       "    "
      ],
      "text/plain": [
       "<IPython.core.display.HTML object>"
      ]
     },
     "metadata": {},
     "output_type": "display_data"
    },
    {
     "data": {
      "text/html": [
       "\n",
       "    <div style=\"font-size: 15pt; \n",
       "                font-family: Times New Roman; \n",
       "                direction: rtl; \n",
       "                color:;\n",
       "                width: 80%\">\n",
       "\n",
       "                8&nbsp;&nbsp;WYq0&nbsp;&nbsp;&nbsp;&nbsp;........................וַֽאֲשַׁלְּמָ֥ה לָהֶֽם׃  \n",
       "    </div>\n",
       "    "
      ],
      "text/plain": [
       "<IPython.core.display.HTML object>"
      ]
     },
     "metadata": {},
     "output_type": "display_data"
    },
    {
     "data": {
      "text/html": [
       "\n",
       "    <div style=\"font-size: 15pt; \n",
       "                font-family: Times New Roman; \n",
       "                direction: rtl; \n",
       "                color:;\n",
       "                width: 80%\">\n",
       "\n",
       "                6&nbsp;&nbsp;xQt0&nbsp;&nbsp;&nbsp;&nbsp;..................בְּזֹ֣את יָ֭דַעְתִּי  \n",
       "    </div>\n",
       "    "
      ],
      "text/plain": [
       "<IPython.core.display.HTML object>"
      ]
     },
     "metadata": {},
     "output_type": "display_data"
    },
    {
     "data": {
      "text/html": [
       "\n",
       "    <div style=\"font-size: 15pt; \n",
       "                font-family: Times New Roman; \n",
       "                direction: rtl; \n",
       "                color:;\n",
       "                width: 80%\">\n",
       "\n",
       "                8&nbsp;&nbsp;xQt0&nbsp;&nbsp;&nbsp;&nbsp;........................כִּֽי־חָפַ֣צְתָּ בִּ֑י  \n",
       "    </div>\n",
       "    "
      ],
      "text/plain": [
       "<IPython.core.display.HTML object>"
      ]
     },
     "metadata": {},
     "output_type": "display_data"
    },
    {
     "data": {
      "text/html": [
       "\n",
       "    <div style=\"font-size: 15pt; \n",
       "                font-family: Times New Roman; \n",
       "                direction: rtl; \n",
       "                color:;\n",
       "                width: 80%\">\n",
       "\n",
       "                7&nbsp;&nbsp;xYqX&nbsp;&nbsp;&nbsp;&nbsp;.....................כִּ֤י לֹֽא־יָרִ֖יעַ אֹיְבִ֣י עָלָֽי׃  \n",
       "    </div>\n",
       "    "
      ],
      "text/plain": [
       "<IPython.core.display.HTML object>"
      ]
     },
     "metadata": {},
     "output_type": "display_data"
    },
    {
     "data": {
      "text/html": [
       "\n",
       "    <div style=\"font-size: 15pt; \n",
       "                font-family: Times New Roman; \n",
       "                direction: rtl; \n",
       "                color:;\n",
       "                width: 80%\">\n",
       "\n",
       "                5&nbsp;&nbsp;CPen&nbsp;&nbsp;&nbsp;&nbsp;...............וַאֲנִ֗י  \n",
       "    </div>\n",
       "    "
      ],
      "text/plain": [
       "<IPython.core.display.HTML object>"
      ]
     },
     "metadata": {},
     "output_type": "display_data"
    },
    {
     "data": {
      "text/html": [
       "\n",
       "    <div style=\"font-size: 15pt; \n",
       "                font-family: Times New Roman; \n",
       "                direction: rtl; \n",
       "                color:;\n",
       "                width: 80%\">\n",
       "\n",
       "                6&nbsp;&nbsp;xQt0&nbsp;&nbsp;&nbsp;&nbsp;..................בְּ֭תֻמִּי תָּמַ֣כְתָּ בִּ֑י  \n",
       "    </div>\n",
       "    "
      ],
      "text/plain": [
       "<IPython.core.display.HTML object>"
      ]
     },
     "metadata": {},
     "output_type": "display_data"
    },
    {
     "data": {
      "text/html": [
       "\n",
       "    <div style=\"font-size: 15pt; \n",
       "                font-family: Times New Roman; \n",
       "                direction: rtl; \n",
       "                color:red;\n",
       "                width: 80%\">\n",
       "\n",
       "                7&nbsp;&nbsp;Way0&nbsp;&nbsp;&nbsp;&nbsp;.....................וַתַּצִּיבֵ֖נִי לְפָנֶ֣יךָ לְעֹולָֽם׃  \n",
       "    </div>\n",
       "    "
      ],
      "text/plain": [
       "<IPython.core.display.HTML object>"
      ]
     },
     "metadata": {},
     "output_type": "display_data"
    },
    {
     "data": {
      "text/html": [
       "\n",
       "    <div style=\"font-size: 15pt; \n",
       "                font-family: Times New Roman; \n",
       "                direction: rtl; \n",
       "                color:blue;\n",
       "                width: 80%\">\n",
       "\n",
       "                1&nbsp;&nbsp;Ptcp&nbsp;&nbsp;&nbsp;&nbsp;...בָּ֘ר֤וּךְ יְהוָ֨ה׀ אֱלֹ֘הֵ֤י יִשְׂרָאֵ֗ל מֵֽ֭הָעֹולָם וְעַ֥ד הָעֹולָ֗ם  \n",
       "    </div>\n",
       "    "
      ],
      "text/plain": [
       "<IPython.core.display.HTML object>"
      ]
     },
     "metadata": {},
     "output_type": "display_data"
    },
    {
     "data": {
      "text/html": [
       "\n",
       "    <div style=\"font-size: 15pt; \n",
       "                font-family: Times New Roman; \n",
       "                direction: rtl; \n",
       "                color:;\n",
       "                width: 80%\">\n",
       "\n",
       "                2&nbsp;&nbsp;NmCl&nbsp;&nbsp;&nbsp;&nbsp;......אָ֘מֵ֥ן׀ וְאָמֵֽן׃  \n",
       "    </div>\n",
       "    "
      ],
      "text/plain": [
       "<IPython.core.display.HTML object>"
      ]
     },
     "metadata": {},
     "output_type": "display_data"
    },
    {
     "data": {
      "text/html": [
       "<span style=\"font-size: 14pt; font-family: Times New Roman\">2_Chronicles 20</span>"
      ],
      "text/plain": [
       "<IPython.core.display.HTML object>"
      ]
     },
     "metadata": {},
     "output_type": "display_data"
    },
    {
     "name": "stdout",
     "output_type": "stream",
     "text": [
      "\n"
     ]
    },
    {
     "data": {
      "text/html": [
       "\n",
       "    <div style=\"font-size: 15pt; \n",
       "                font-family: Times New Roman; \n",
       "                direction: rtl; \n",
       "                color:blue;\n",
       "                width: 80%\">\n",
       "\n",
       "                0&nbsp;&nbsp;Way0&nbsp;&nbsp;&nbsp;&nbsp;וַיְהִ֣י אַֽחֲרֵיכֵ֡ן  \n",
       "    </div>\n",
       "    "
      ],
      "text/plain": [
       "<IPython.core.display.HTML object>"
      ]
     },
     "metadata": {},
     "output_type": "display_data"
    },
    {
     "data": {
      "text/html": [
       "\n",
       "    <div style=\"font-size: 15pt; \n",
       "                font-family: Times New Roman; \n",
       "                direction: rtl; \n",
       "                color:;\n",
       "                width: 80%\">\n",
       "\n",
       "                4&nbsp;&nbsp;ZQtX&nbsp;&nbsp;&nbsp;&nbsp;............בָּ֣אוּ בְנֵי־מֹואָב֩ וּבְנֵ֨י עַמֹּ֜ון  \n",
       "    </div>\n",
       "    "
      ],
      "text/plain": [
       "<IPython.core.display.HTML object>"
      ]
     },
     "metadata": {},
     "output_type": "display_data"
    },
    {
     "data": {
      "text/html": [
       "\n",
       "    <div style=\"font-size: 15pt; \n",
       "                font-family: Times New Roman; \n",
       "                direction: rtl; \n",
       "                color:;\n",
       "                width: 80%\">\n",
       "\n",
       "                7&nbsp;&nbsp;NmCl&nbsp;&nbsp;&nbsp;&nbsp;.....................וְעִמָּהֶ֧ם׀ מֵֽהָעַמֹּונִ֛ים  \n",
       "    </div>\n",
       "    "
      ],
      "text/plain": [
       "<IPython.core.display.HTML object>"
      ]
     },
     "metadata": {},
     "output_type": "display_data"
    },
    {
     "data": {
      "text/html": [
       "\n",
       "    <div style=\"font-size: 15pt; \n",
       "                font-family: Times New Roman; \n",
       "                direction: rtl; \n",
       "                color:;\n",
       "                width: 80%\">\n",
       "\n",
       "                6&nbsp;&nbsp;Defc&nbsp;&nbsp;&nbsp;&nbsp;..................עַל־יְהֹושָׁפָ֖ט לַמִּלְחָמָֽה׃  \n",
       "    </div>\n",
       "    "
      ],
      "text/plain": [
       "<IPython.core.display.HTML object>"
      ]
     },
     "metadata": {},
     "output_type": "display_data"
    },
    {
     "data": {
      "text/html": [
       "\n",
       "    <div style=\"font-size: 15pt; \n",
       "                font-family: Times New Roman; \n",
       "                direction: rtl; \n",
       "                color:;\n",
       "                width: 80%\">\n",
       "\n",
       "                5&nbsp;&nbsp;Way0&nbsp;&nbsp;&nbsp;&nbsp;...............וַיָּבֹ֗אוּ  \n",
       "    </div>\n",
       "    "
      ],
      "text/plain": [
       "<IPython.core.display.HTML object>"
      ]
     },
     "metadata": {},
     "output_type": "display_data"
    },
    {
     "data": {
      "text/html": [
       "\n",
       "    <div style=\"font-size: 15pt; \n",
       "                font-family: Times New Roman; \n",
       "                direction: rtl; \n",
       "                color:;\n",
       "                width: 80%\">\n",
       "\n",
       "                7&nbsp;&nbsp;Way0&nbsp;&nbsp;&nbsp;&nbsp;.....................וַיַּגִּ֤ידוּ לִֽיהֹושָׁפָט֙  \n",
       "    </div>\n",
       "    "
      ],
      "text/plain": [
       "<IPython.core.display.HTML object>"
      ]
     },
     "metadata": {},
     "output_type": "display_data"
    },
    {
     "data": {
      "text/html": [
       "\n",
       "    <div style=\"font-size: 15pt; \n",
       "                font-family: Times New Roman; \n",
       "                direction: rtl; \n",
       "                color:;\n",
       "                width: 80%\">\n",
       "\n",
       "                8&nbsp;&nbsp;InfC&nbsp;&nbsp;&nbsp;&nbsp;........................לֵאמֹ֔ר  \n",
       "    </div>\n",
       "    "
      ],
      "text/plain": [
       "<IPython.core.display.HTML object>"
      ]
     },
     "metadata": {},
     "output_type": "display_data"
    },
    {
     "data": {
      "text/html": [
       "\n",
       "    <div style=\"font-size: 15pt; \n",
       "                font-family: Times New Roman; \n",
       "                direction: rtl; \n",
       "                color:;\n",
       "                width: 80%\">\n",
       "\n",
       "                9&nbsp;&nbsp;ZQtX&nbsp;&nbsp;&nbsp;&nbsp;...........................בָּ֣א עָלֶ֜יךָ הָמֹ֥ון רָ֛ב מֵעֵ֥בֶר לַיָּ֖ם מֵאֲרָ֑ם  \n",
       "    </div>\n",
       "    "
      ],
      "text/plain": [
       "<IPython.core.display.HTML object>"
      ]
     },
     "metadata": {},
     "output_type": "display_data"
    },
    {
     "data": {
      "text/html": [
       "\n",
       "    <div style=\"font-size: 15pt; \n",
       "                font-family: Times New Roman; \n",
       "                direction: rtl; \n",
       "                color:;\n",
       "                width: 80%\">\n",
       "\n",
       "                10&nbsp;&nbsp;NmCl&nbsp;&nbsp;&nbsp;&nbsp;..............................וְהִנָּם֙ בְּחַֽצְצֹ֣ון תָּמָ֔ר  \n",
       "    </div>\n",
       "    "
      ],
      "text/plain": [
       "<IPython.core.display.HTML object>"
      ]
     },
     "metadata": {},
     "output_type": "display_data"
    },
    {
     "data": {
      "text/html": [
       "\n",
       "    <div style=\"font-size: 15pt; \n",
       "                font-family: Times New Roman; \n",
       "                direction: rtl; \n",
       "                color:;\n",
       "                width: 80%\">\n",
       "\n",
       "                11&nbsp;&nbsp;NmCl&nbsp;&nbsp;&nbsp;&nbsp;.................................הִ֖יא עֵ֥ין גֶּֽדִי׃  \n",
       "    </div>\n",
       "    "
      ],
      "text/plain": [
       "<IPython.core.display.HTML object>"
      ]
     },
     "metadata": {},
     "output_type": "display_data"
    },
    {
     "data": {
      "text/html": [
       "\n",
       "    <div style=\"font-size: 15pt; \n",
       "                font-family: Times New Roman; \n",
       "                direction: rtl; \n",
       "                color:;\n",
       "                width: 80%\">\n",
       "\n",
       "                6&nbsp;&nbsp;Way0&nbsp;&nbsp;&nbsp;&nbsp;..................וַיִּרָ֕א  \n",
       "    </div>\n",
       "    "
      ],
      "text/plain": [
       "<IPython.core.display.HTML object>"
      ]
     },
     "metadata": {},
     "output_type": "display_data"
    },
    {
     "data": {
      "text/html": [
       "\n",
       "    <div style=\"font-size: 15pt; \n",
       "                font-family: Times New Roman; \n",
       "                direction: rtl; \n",
       "                color:;\n",
       "                width: 80%\">\n",
       "\n",
       "                7&nbsp;&nbsp;WayX&nbsp;&nbsp;&nbsp;&nbsp;.....................וַיִּתֵּ֧ן יְהֹושָׁפָ֛ט אֶת־פָּנָ֖יו  \n",
       "    </div>\n",
       "    "
      ],
      "text/plain": [
       "<IPython.core.display.HTML object>"
      ]
     },
     "metadata": {},
     "output_type": "display_data"
    },
    {
     "data": {
      "text/html": [
       "\n",
       "    <div style=\"font-size: 15pt; \n",
       "                font-family: Times New Roman; \n",
       "                direction: rtl; \n",
       "                color:;\n",
       "                width: 80%\">\n",
       "\n",
       "                9&nbsp;&nbsp;InfC&nbsp;&nbsp;&nbsp;&nbsp;...........................לִדְרֹ֣ושׁ לַיהוָ֑ה  \n",
       "    </div>\n",
       "    "
      ],
      "text/plain": [
       "<IPython.core.display.HTML object>"
      ]
     },
     "metadata": {},
     "output_type": "display_data"
    },
    {
     "data": {
      "text/html": [
       "\n",
       "    <div style=\"font-size: 15pt; \n",
       "                font-family: Times New Roman; \n",
       "                direction: rtl; \n",
       "                color:;\n",
       "                width: 80%\">\n",
       "\n",
       "                8&nbsp;&nbsp;Way0&nbsp;&nbsp;&nbsp;&nbsp;........................וַיִּקְרָא־צֹ֖ום עַל־כָּל־יְהוּדָֽה׃  \n",
       "    </div>\n",
       "    "
      ],
      "text/plain": [
       "<IPython.core.display.HTML object>"
      ]
     },
     "metadata": {},
     "output_type": "display_data"
    },
    {
     "data": {
      "text/html": [
       "\n",
       "    <div style=\"font-size: 15pt; \n",
       "                font-family: Times New Roman; \n",
       "                direction: rtl; \n",
       "                color:;\n",
       "                width: 80%\">\n",
       "\n",
       "                10&nbsp;&nbsp;WayX&nbsp;&nbsp;&nbsp;&nbsp;..............................וַיִּקָּבְצ֣וּ יְהוּדָ֔ה  \n",
       "    </div>\n",
       "    "
      ],
      "text/plain": [
       "<IPython.core.display.HTML object>"
      ]
     },
     "metadata": {},
     "output_type": "display_data"
    },
    {
     "data": {
      "text/html": [
       "\n",
       "    <div style=\"font-size: 15pt; \n",
       "                font-family: Times New Roman; \n",
       "                direction: rtl; \n",
       "                color:;\n",
       "                width: 80%\">\n",
       "\n",
       "                12&nbsp;&nbsp;InfC&nbsp;&nbsp;&nbsp;&nbsp;....................................לְבַקֵּ֖שׁ מֵֽיְהוָ֑ה  \n",
       "    </div>\n",
       "    "
      ],
      "text/plain": [
       "<IPython.core.display.HTML object>"
      ]
     },
     "metadata": {},
     "output_type": "display_data"
    },
    {
     "data": {
      "text/html": [
       "\n",
       "    <div style=\"font-size: 15pt; \n",
       "                font-family: Times New Roman; \n",
       "                direction: rtl; \n",
       "                color:;\n",
       "                width: 80%\">\n",
       "\n",
       "                11&nbsp;&nbsp;xQt0&nbsp;&nbsp;&nbsp;&nbsp;.................................גַּ֚ם מִכָּל־עָרֵ֣י יְהוּדָ֔ה בָּ֖אוּ  \n",
       "    </div>\n",
       "    "
      ],
      "text/plain": [
       "<IPython.core.display.HTML object>"
      ]
     },
     "metadata": {},
     "output_type": "display_data"
    },
    {
     "data": {
      "text/html": [
       "\n",
       "    <div style=\"font-size: 15pt; \n",
       "                font-family: Times New Roman; \n",
       "                direction: rtl; \n",
       "                color:;\n",
       "                width: 80%\">\n",
       "\n",
       "                12&nbsp;&nbsp;InfC&nbsp;&nbsp;&nbsp;&nbsp;....................................לְבַקֵּ֥שׁ אֶת־יְהוָֽה׃  \n",
       "    </div>\n",
       "    "
      ],
      "text/plain": [
       "<IPython.core.display.HTML object>"
      ]
     },
     "metadata": {},
     "output_type": "display_data"
    },
    {
     "data": {
      "text/html": [
       "\n",
       "    <div style=\"font-size: 15pt; \n",
       "                font-family: Times New Roman; \n",
       "                direction: rtl; \n",
       "                color:;\n",
       "                width: 80%\">\n",
       "\n",
       "                9&nbsp;&nbsp;WayX&nbsp;&nbsp;&nbsp;&nbsp;...........................וַיַּעֲמֹ֣ד יְהֹושָׁפָ֗ט בִּקְהַ֧ל יְהוּדָ֛ה וִירוּשָׁלִַ֖ם בְּבֵ֣ית יְהוָ֑ה לִפְנֵ֖י הֶחָצֵ֥ר הַחֲדָשָֽׁה׃  \n",
       "    </div>\n",
       "    "
      ],
      "text/plain": [
       "<IPython.core.display.HTML object>"
      ]
     },
     "metadata": {},
     "output_type": "display_data"
    },
    {
     "data": {
      "text/html": [
       "\n",
       "    <div style=\"font-size: 15pt; \n",
       "                font-family: Times New Roman; \n",
       "                direction: rtl; \n",
       "                color:;\n",
       "                width: 80%\">\n",
       "\n",
       "                11&nbsp;&nbsp;Way0&nbsp;&nbsp;&nbsp;&nbsp;.................................וַיֹּאמַ֗ר  \n",
       "    </div>\n",
       "    "
      ],
      "text/plain": [
       "<IPython.core.display.HTML object>"
      ]
     },
     "metadata": {},
     "output_type": "display_data"
    },
    {
     "data": {
      "text/html": [
       "\n",
       "    <div style=\"font-size: 15pt; \n",
       "                font-family: Times New Roman; \n",
       "                direction: rtl; \n",
       "                color:;\n",
       "                width: 80%\">\n",
       "\n",
       "                12&nbsp;&nbsp;Voct&nbsp;&nbsp;&nbsp;&nbsp;....................................יְהוָ֞ה אֱלֹהֵ֤י אֲבֹתֵ֨ינוּ֙  \n",
       "    </div>\n",
       "    "
      ],
      "text/plain": [
       "<IPython.core.display.HTML object>"
      ]
     },
     "metadata": {},
     "output_type": "display_data"
    },
    {
     "data": {
      "text/html": [
       "\n",
       "    <div style=\"font-size: 15pt; \n",
       "                font-family: Times New Roman; \n",
       "                direction: rtl; \n",
       "                color:;\n",
       "                width: 80%\">\n",
       "\n",
       "                14&nbsp;&nbsp;NmCl&nbsp;&nbsp;&nbsp;&nbsp;..........................................הֲלֹ֨א אַתָּֽה־ה֤וּא אֱלֹהִים֙ בַּשָּׁמַ֔יִם  \n",
       "    </div>\n",
       "    "
      ],
      "text/plain": [
       "<IPython.core.display.HTML object>"
      ]
     },
     "metadata": {},
     "output_type": "display_data"
    },
    {
     "data": {
      "text/html": [
       "\n",
       "    <div style=\"font-size: 15pt; \n",
       "                font-family: Times New Roman; \n",
       "                direction: rtl; \n",
       "                color:;\n",
       "                width: 80%\">\n",
       "\n",
       "                17&nbsp;&nbsp;Ptcp&nbsp;&nbsp;&nbsp;&nbsp;...................................................וְאַתָּ֣ה מֹושֵׁ֔ל בְּכֹ֖ל מַמְלְכֹ֣ות הַגֹּויִ֑ם  \n",
       "    </div>\n",
       "    "
      ],
      "text/plain": [
       "<IPython.core.display.HTML object>"
      ]
     },
     "metadata": {},
     "output_type": "display_data"
    },
    {
     "data": {
      "text/html": [
       "\n",
       "    <div style=\"font-size: 15pt; \n",
       "                font-family: Times New Roman; \n",
       "                direction: rtl; \n",
       "                color:;\n",
       "                width: 80%\">\n",
       "\n",
       "                16&nbsp;&nbsp;NmCl&nbsp;&nbsp;&nbsp;&nbsp;................................................וּבְיָדְךָ֙ כֹּ֣חַ וּגְבוּרָ֔ה  \n",
       "    </div>\n",
       "    "
      ],
      "text/plain": [
       "<IPython.core.display.HTML object>"
      ]
     },
     "metadata": {},
     "output_type": "display_data"
    },
    {
     "data": {
      "text/html": [
       "\n",
       "    <div style=\"font-size: 15pt; \n",
       "                font-family: Times New Roman; \n",
       "                direction: rtl; \n",
       "                color:;\n",
       "                width: 80%\">\n",
       "\n",
       "                17&nbsp;&nbsp;NmCl&nbsp;&nbsp;&nbsp;&nbsp;...................................................וְאֵ֥ין עִמְּךָ֖  \n",
       "    </div>\n",
       "    "
      ],
      "text/plain": [
       "<IPython.core.display.HTML object>"
      ]
     },
     "metadata": {},
     "output_type": "display_data"
    },
    {
     "data": {
      "text/html": [
       "\n",
       "    <div style=\"font-size: 15pt; \n",
       "                font-family: Times New Roman; \n",
       "                direction: rtl; \n",
       "                color:;\n",
       "                width: 80%\">\n",
       "\n",
       "                18&nbsp;&nbsp;InfC&nbsp;&nbsp;&nbsp;&nbsp;......................................................לְהִתְיַצֵּֽב׃  \n",
       "    </div>\n",
       "    "
      ],
      "text/plain": [
       "<IPython.core.display.HTML object>"
      ]
     },
     "metadata": {},
     "output_type": "display_data"
    },
    {
     "data": {
      "text/html": [
       "\n",
       "    <div style=\"font-size: 15pt; \n",
       "                font-family: Times New Roman; \n",
       "                direction: rtl; \n",
       "                color:;\n",
       "                width: 80%\">\n",
       "\n",
       "                15&nbsp;&nbsp;Defc&nbsp;&nbsp;&nbsp;&nbsp;.............................................הֲלֹ֣א׀ אַתָּ֣ה  \n",
       "    </div>\n",
       "    "
      ],
      "text/plain": [
       "<IPython.core.display.HTML object>"
      ]
     },
     "metadata": {},
     "output_type": "display_data"
    },
    {
     "data": {
      "text/html": [
       "\n",
       "    <div style=\"font-size: 15pt; \n",
       "                font-family: Times New Roman; \n",
       "                direction: rtl; \n",
       "                color:;\n",
       "                width: 80%\">\n",
       "\n",
       "                19&nbsp;&nbsp;Voct&nbsp;&nbsp;&nbsp;&nbsp;.........................................................אֱלֹהֵ֗ינוּ  \n",
       "    </div>\n",
       "    "
      ],
      "text/plain": [
       "<IPython.core.display.HTML object>"
      ]
     },
     "metadata": {},
     "output_type": "display_data"
    },
    {
     "data": {
      "text/html": [
       "\n",
       "    <div style=\"font-size: 15pt; \n",
       "                font-family: Times New Roman; \n",
       "                direction: rtl; \n",
       "                color:;\n",
       "                width: 80%\">\n",
       "\n",
       "                18&nbsp;&nbsp;ZQt0&nbsp;&nbsp;&nbsp;&nbsp;......................................................הֹורַ֨שְׁתָּ֙ אֶת־יֹשְׁבֵי֙ הָאָ֣רֶץ הַזֹּ֔את מִלִּפְנֵ֖י עַמְּךָ֣ יִשְׂרָאֵ֑ל  \n",
       "    </div>\n",
       "    "
      ],
      "text/plain": [
       "<IPython.core.display.HTML object>"
      ]
     },
     "metadata": {},
     "output_type": "display_data"
    },
    {
     "data": {
      "text/html": [
       "\n",
       "    <div style=\"font-size: 15pt; \n",
       "                font-family: Times New Roman; \n",
       "                direction: rtl; \n",
       "                color:red;\n",
       "                width: 80%\">\n",
       "\n",
       "                17&nbsp;&nbsp;Way0&nbsp;&nbsp;&nbsp;&nbsp;...................................................וַֽתִּתְּנָ֗הּ לְזֶ֛רַע אַבְרָהָ֥ם אֹֽהַבְךָ֖ לְעֹולָֽם׃  \n",
       "    </div>\n",
       "    "
      ],
      "text/plain": [
       "<IPython.core.display.HTML object>"
      ]
     },
     "metadata": {},
     "output_type": "display_data"
    },
    {
     "data": {
      "text/html": [
       "\n",
       "    <div style=\"font-size: 15pt; \n",
       "                font-family: Times New Roman; \n",
       "                direction: rtl; \n",
       "                color:;\n",
       "                width: 80%\">\n",
       "\n",
       "                18&nbsp;&nbsp;Way0&nbsp;&nbsp;&nbsp;&nbsp;......................................................וַיֵּשְׁב֖וּ־בָ֑הּ  \n",
       "    </div>\n",
       "    "
      ],
      "text/plain": [
       "<IPython.core.display.HTML object>"
      ]
     },
     "metadata": {},
     "output_type": "display_data"
    },
    {
     "data": {
      "text/html": [
       "\n",
       "    <div style=\"font-size: 15pt; \n",
       "                font-family: Times New Roman; \n",
       "                direction: rtl; \n",
       "                color:;\n",
       "                width: 80%\">\n",
       "\n",
       "                19&nbsp;&nbsp;Way0&nbsp;&nbsp;&nbsp;&nbsp;.........................................................וַיִּבְנ֨וּ לְךָ֧׀ בָּ֛הּ מִקְדָּ֖שׁ לְשִׁמְךָ֥  \n",
       "    </div>\n",
       "    "
      ],
      "text/plain": [
       "<IPython.core.display.HTML object>"
      ]
     },
     "metadata": {},
     "output_type": "display_data"
    },
    {
     "data": {
      "text/html": [
       "\n",
       "    <div style=\"font-size: 15pt; \n",
       "                font-family: Times New Roman; \n",
       "                direction: rtl; \n",
       "                color:;\n",
       "                width: 80%\">\n",
       "\n",
       "                20&nbsp;&nbsp;InfC&nbsp;&nbsp;&nbsp;&nbsp;............................................................לֵאמֹֽר׃  \n",
       "    </div>\n",
       "    "
      ],
      "text/plain": [
       "<IPython.core.display.HTML object>"
      ]
     },
     "metadata": {},
     "output_type": "display_data"
    },
    {
     "data": {
      "text/html": [
       "\n",
       "    <div style=\"font-size: 15pt; \n",
       "                font-family: Times New Roman; \n",
       "                direction: rtl; \n",
       "                color:;\n",
       "                width: 80%\">\n",
       "\n",
       "                21&nbsp;&nbsp;xYqX&nbsp;&nbsp;&nbsp;&nbsp;...............................................................אִם־תָּבֹ֨וא עָלֵ֜ינוּ רָעָ֗ה חֶרֶב֮ שְׁפֹוט֮ וְדֶ֣בֶר וְרָעָב֒  \n",
       "    </div>\n",
       "    "
      ],
      "text/plain": [
       "<IPython.core.display.HTML object>"
      ]
     },
     "metadata": {},
     "output_type": "display_data"
    },
    {
     "data": {
      "text/html": [
       "\n",
       "    <div style=\"font-size: 15pt; \n",
       "                font-family: Times New Roman; \n",
       "                direction: rtl; \n",
       "                color:;\n",
       "                width: 80%\">\n",
       "\n",
       "                22&nbsp;&nbsp;ZYq0&nbsp;&nbsp;&nbsp;&nbsp;..................................................................נַֽעַמְדָ֞ה לִפְנֵי֙ הַבַּ֤יִת הַזֶּה֙ וּלְפָנֶ֔יךָ  \n",
       "    </div>\n",
       "    "
      ],
      "text/plain": [
       "<IPython.core.display.HTML object>"
      ]
     },
     "metadata": {},
     "output_type": "display_data"
    },
    {
     "data": {
      "text/html": [
       "\n",
       "    <div style=\"font-size: 15pt; \n",
       "                font-family: Times New Roman; \n",
       "                direction: rtl; \n",
       "                color:;\n",
       "                width: 80%\">\n",
       "\n",
       "                24&nbsp;&nbsp;NmCl&nbsp;&nbsp;&nbsp;&nbsp;........................................................................כִּ֥י שִׁמְךָ֖ בַּבַּ֣יִת הַזֶּ֑ה  \n",
       "    </div>\n",
       "    "
      ],
      "text/plain": [
       "<IPython.core.display.HTML object>"
      ]
     },
     "metadata": {},
     "output_type": "display_data"
    },
    {
     "data": {
      "text/html": [
       "\n",
       "    <div style=\"font-size: 15pt; \n",
       "                font-family: Times New Roman; \n",
       "                direction: rtl; \n",
       "                color:;\n",
       "                width: 80%\">\n",
       "\n",
       "                23&nbsp;&nbsp;WYq0&nbsp;&nbsp;&nbsp;&nbsp;.....................................................................וְנִזְעַ֥ק אֵלֶ֛יךָ מִצָּרָתֵ֖נוּ  \n",
       "    </div>\n",
       "    "
      ],
      "text/plain": [
       "<IPython.core.display.HTML object>"
      ]
     },
     "metadata": {},
     "output_type": "display_data"
    },
    {
     "data": {
      "text/html": [
       "\n",
       "    <div style=\"font-size: 15pt; \n",
       "                font-family: Times New Roman; \n",
       "                direction: rtl; \n",
       "                color:;\n",
       "                width: 80%\">\n",
       "\n",
       "                24&nbsp;&nbsp;WYq0&nbsp;&nbsp;&nbsp;&nbsp;........................................................................וְתִשְׁמַ֥ע  \n",
       "    </div>\n",
       "    "
      ],
      "text/plain": [
       "<IPython.core.display.HTML object>"
      ]
     },
     "metadata": {},
     "output_type": "display_data"
    },
    {
     "data": {
      "text/html": [
       "\n",
       "    <div style=\"font-size: 15pt; \n",
       "                font-family: Times New Roman; \n",
       "                direction: rtl; \n",
       "                color:;\n",
       "                width: 80%\">\n",
       "\n",
       "                24&nbsp;&nbsp;WYq0&nbsp;&nbsp;&nbsp;&nbsp;........................................................................וְתֹושִֽׁיעַ׃  \n",
       "    </div>\n",
       "    "
      ],
      "text/plain": [
       "<IPython.core.display.HTML object>"
      ]
     },
     "metadata": {},
     "output_type": "display_data"
    },
    {
     "data": {
      "text/html": [
       "\n",
       "    <div style=\"font-size: 15pt; \n",
       "                font-family: Times New Roman; \n",
       "                direction: rtl; \n",
       "                color:;\n",
       "                width: 80%\">\n",
       "\n",
       "                16&nbsp;&nbsp;MSyn&nbsp;&nbsp;&nbsp;&nbsp;................................................וְעַתָּ֡ה  \n",
       "    </div>\n",
       "    "
      ],
      "text/plain": [
       "<IPython.core.display.HTML object>"
      ]
     },
     "metadata": {},
     "output_type": "display_data"
    },
    {
     "data": {
      "text/html": [
       "\n",
       "    <div style=\"font-size: 15pt; \n",
       "                font-family: Times New Roman; \n",
       "                direction: rtl; \n",
       "                color:;\n",
       "                width: 80%\">\n",
       "\n",
       "                17&nbsp;&nbsp;NmCl&nbsp;&nbsp;&nbsp;&nbsp;...................................................הִנֵּה֩ בְנֵֽי־עַמֹּ֨ון וּמֹואָ֜ב וְהַר־שֵׂעִ֗יר  \n",
       "    </div>\n",
       "    "
      ],
      "text/plain": [
       "<IPython.core.display.HTML object>"
      ]
     },
     "metadata": {},
     "output_type": "display_data"
    },
    {
     "data": {
      "text/html": [
       "\n",
       "    <div style=\"font-size: 15pt; \n",
       "                font-family: Times New Roman; \n",
       "                direction: rtl; \n",
       "                color:;\n",
       "                width: 80%\">\n",
       "\n",
       "                19&nbsp;&nbsp;xQt0&nbsp;&nbsp;&nbsp;&nbsp;.........................................................אֲ֠שֶׁר לֹֽא־נָתַ֤תָּה לְיִשְׂרָאֵל֙  \n",
       "    </div>\n",
       "    "
      ],
      "text/plain": [
       "<IPython.core.display.HTML object>"
      ]
     },
     "metadata": {},
     "output_type": "display_data"
    },
    {
     "data": {
      "text/html": [
       "\n",
       "    <div style=\"font-size: 15pt; \n",
       "                font-family: Times New Roman; \n",
       "                direction: rtl; \n",
       "                color:;\n",
       "                width: 80%\">\n",
       "\n",
       "                21&nbsp;&nbsp;InfC&nbsp;&nbsp;&nbsp;&nbsp;...............................................................לָבֹ֣וא בָהֶ֔ם  \n",
       "    </div>\n",
       "    "
      ],
      "text/plain": [
       "<IPython.core.display.HTML object>"
      ]
     },
     "metadata": {},
     "output_type": "display_data"
    },
    {
     "data": {
      "text/html": [
       "\n",
       "    <div style=\"font-size: 15pt; \n",
       "                font-family: Times New Roman; \n",
       "                direction: rtl; \n",
       "                color:;\n",
       "                width: 80%\">\n",
       "\n",
       "                22&nbsp;&nbsp;InfC&nbsp;&nbsp;&nbsp;&nbsp;..................................................................בְּבֹאָ֖ם מֵאֶ֣רֶץ מִצְרָ֑יִם  \n",
       "    </div>\n",
       "    "
      ],
      "text/plain": [
       "<IPython.core.display.HTML object>"
      ]
     },
     "metadata": {},
     "output_type": "display_data"
    },
    {
     "data": {
      "text/html": [
       "\n",
       "    <div style=\"font-size: 15pt; \n",
       "                font-family: Times New Roman; \n",
       "                direction: rtl; \n",
       "                color:;\n",
       "                width: 80%\">\n",
       "\n",
       "                20&nbsp;&nbsp;xQt0&nbsp;&nbsp;&nbsp;&nbsp;............................................................כִּ֛י סָ֥רוּ מֵעֲלֵיהֶ֖ם  \n",
       "    </div>\n",
       "    "
      ],
      "text/plain": [
       "<IPython.core.display.HTML object>"
      ]
     },
     "metadata": {},
     "output_type": "display_data"
    },
    {
     "data": {
      "text/html": [
       "\n",
       "    <div style=\"font-size: 15pt; \n",
       "                font-family: Times New Roman; \n",
       "                direction: rtl; \n",
       "                color:;\n",
       "                width: 80%\">\n",
       "\n",
       "                21&nbsp;&nbsp;WxQ0&nbsp;&nbsp;&nbsp;&nbsp;...............................................................וְלֹ֥א הִשְׁמִידֽוּם׃  \n",
       "    </div>\n",
       "    "
      ],
      "text/plain": [
       "<IPython.core.display.HTML object>"
      ]
     },
     "metadata": {},
     "output_type": "display_data"
    },
    {
     "data": {
      "text/html": [
       "\n",
       "    <div style=\"font-size: 15pt; \n",
       "                font-family: Times New Roman; \n",
       "                direction: rtl; \n",
       "                color:;\n",
       "                width: 80%\">\n",
       "\n",
       "                18&nbsp;&nbsp;Ptcp&nbsp;&nbsp;&nbsp;&nbsp;......................................................וְהִ֨נֵּה־הֵ֔ם גֹּמְלִ֖ים עָלֵ֑ינוּ  \n",
       "    </div>\n",
       "    "
      ],
      "text/plain": [
       "<IPython.core.display.HTML object>"
      ]
     },
     "metadata": {},
     "output_type": "display_data"
    },
    {
     "data": {
      "text/html": [
       "\n",
       "    <div style=\"font-size: 15pt; \n",
       "                font-family: Times New Roman; \n",
       "                direction: rtl; \n",
       "                color:;\n",
       "                width: 80%\">\n",
       "\n",
       "                19&nbsp;&nbsp;InfC&nbsp;&nbsp;&nbsp;&nbsp;.........................................................לָבֹוא֙  \n",
       "    </div>\n",
       "    "
      ],
      "text/plain": [
       "<IPython.core.display.HTML object>"
      ]
     },
     "metadata": {},
     "output_type": "display_data"
    },
    {
     "data": {
      "text/html": [
       "\n",
       "    <div style=\"font-size: 15pt; \n",
       "                font-family: Times New Roman; \n",
       "                direction: rtl; \n",
       "                color:;\n",
       "                width: 80%\">\n",
       "\n",
       "                20&nbsp;&nbsp;InfC&nbsp;&nbsp;&nbsp;&nbsp;............................................................לְגָ֣רְשֵׁ֔נוּ מִיְּרֻשָּׁתְךָ֖  \n",
       "    </div>\n",
       "    "
      ],
      "text/plain": [
       "<IPython.core.display.HTML object>"
      ]
     },
     "metadata": {},
     "output_type": "display_data"
    },
    {
     "data": {
      "text/html": [
       "\n",
       "    <div style=\"font-size: 15pt; \n",
       "                font-family: Times New Roman; \n",
       "                direction: rtl; \n",
       "                color:;\n",
       "                width: 80%\">\n",
       "\n",
       "                21&nbsp;&nbsp;xQt0&nbsp;&nbsp;&nbsp;&nbsp;...............................................................אֲשֶׁ֥ר הֹֽורַשְׁתָּֽנוּ׃  \n",
       "    </div>\n",
       "    "
      ],
      "text/plain": [
       "<IPython.core.display.HTML object>"
      ]
     },
     "metadata": {},
     "output_type": "display_data"
    },
    {
     "data": {
      "text/html": [
       "\n",
       "    <div style=\"font-size: 15pt; \n",
       "                font-family: Times New Roman; \n",
       "                direction: rtl; \n",
       "                color:;\n",
       "                width: 80%\">\n",
       "\n",
       "                13&nbsp;&nbsp;Voct&nbsp;&nbsp;&nbsp;&nbsp;.......................................אֱלֹהֵ֨ינוּ֙  \n",
       "    </div>\n",
       "    "
      ],
      "text/plain": [
       "<IPython.core.display.HTML object>"
      ]
     },
     "metadata": {},
     "output_type": "display_data"
    },
    {
     "data": {
      "text/html": [
       "\n",
       "    <div style=\"font-size: 15pt; \n",
       "                font-family: Times New Roman; \n",
       "                direction: rtl; \n",
       "                color:;\n",
       "                width: 80%\">\n",
       "\n",
       "                14&nbsp;&nbsp;xYq0&nbsp;&nbsp;&nbsp;&nbsp;..........................................הֲלֹ֣א תִשְׁפָּט־בָּ֔ם  \n",
       "    </div>\n",
       "    "
      ],
      "text/plain": [
       "<IPython.core.display.HTML object>"
      ]
     },
     "metadata": {},
     "output_type": "display_data"
    },
    {
     "data": {
      "text/html": [
       "\n",
       "    <div style=\"font-size: 15pt; \n",
       "                font-family: Times New Roman; \n",
       "                direction: rtl; \n",
       "                color:;\n",
       "                width: 80%\">\n",
       "\n",
       "                15&nbsp;&nbsp;NmCl&nbsp;&nbsp;&nbsp;&nbsp;.............................................כִּ֣י אֵ֥ין בָּ֨נוּ֙ כֹּ֔חַ לִ֠פְנֵי הֶהָמֹ֥ון הָרָ֛ב הַזֶּ֖ה  \n",
       "    </div>\n",
       "    "
      ],
      "text/plain": [
       "<IPython.core.display.HTML object>"
      ]
     },
     "metadata": {},
     "output_type": "display_data"
    },
    {
     "data": {
      "text/html": [
       "\n",
       "    <div style=\"font-size: 15pt; \n",
       "                font-family: Times New Roman; \n",
       "                direction: rtl; \n",
       "                color:;\n",
       "                width: 80%\">\n",
       "\n",
       "                17&nbsp;&nbsp;Ptcp&nbsp;&nbsp;&nbsp;&nbsp;...................................................הַבָּ֣א עָלֵ֑ינוּ  \n",
       "    </div>\n",
       "    "
      ],
      "text/plain": [
       "<IPython.core.display.HTML object>"
      ]
     },
     "metadata": {},
     "output_type": "display_data"
    },
    {
     "data": {
      "text/html": [
       "\n",
       "    <div style=\"font-size: 15pt; \n",
       "                font-family: Times New Roman; \n",
       "                direction: rtl; \n",
       "                color:;\n",
       "                width: 80%\">\n",
       "\n",
       "                16&nbsp;&nbsp;WXYq&nbsp;&nbsp;&nbsp;&nbsp;................................................וַאֲנַ֗חְנוּ לֹ֤א נֵדַע֙  \n",
       "    </div>\n",
       "    "
      ],
      "text/plain": [
       "<IPython.core.display.HTML object>"
      ]
     },
     "metadata": {},
     "output_type": "display_data"
    },
    {
     "data": {
      "text/html": [
       "\n",
       "    <div style=\"font-size: 15pt; \n",
       "                font-family: Times New Roman; \n",
       "                direction: rtl; \n",
       "                color:;\n",
       "                width: 80%\">\n",
       "\n",
       "                18&nbsp;&nbsp;xYq0&nbsp;&nbsp;&nbsp;&nbsp;......................................................מַֽה־נַּעֲשֶׂ֔ה  \n",
       "    </div>\n",
       "    "
      ],
      "text/plain": [
       "<IPython.core.display.HTML object>"
      ]
     },
     "metadata": {},
     "output_type": "display_data"
    },
    {
     "data": {
      "text/html": [
       "\n",
       "    <div style=\"font-size: 15pt; \n",
       "                font-family: Times New Roman; \n",
       "                direction: rtl; \n",
       "                color:;\n",
       "                width: 80%\">\n",
       "\n",
       "                17&nbsp;&nbsp;NmCl&nbsp;&nbsp;&nbsp;&nbsp;...................................................כִּ֥י עָלֶ֖יךָ עֵינֵֽינוּ׃  \n",
       "    </div>\n",
       "    "
      ],
      "text/plain": [
       "<IPython.core.display.HTML object>"
      ]
     },
     "metadata": {},
     "output_type": "display_data"
    },
    {
     "data": {
      "text/html": [
       "\n",
       "    <div style=\"font-size: 15pt; \n",
       "                font-family: Times New Roman; \n",
       "                direction: rtl; \n",
       "                color:;\n",
       "                width: 80%\">\n",
       "\n",
       "                10&nbsp;&nbsp;Ptcp&nbsp;&nbsp;&nbsp;&nbsp;..............................וְכֹ֨ל־יְהוּדָ֔ה עֹמְדִ֖ים לִפְנֵ֣י יְהוָ֑ה  \n",
       "    </div>\n",
       "    "
      ],
      "text/plain": [
       "<IPython.core.display.HTML object>"
      ]
     },
     "metadata": {},
     "output_type": "display_data"
    },
    {
     "data": {
      "text/html": [
       "\n",
       "    <div style=\"font-size: 15pt; \n",
       "                font-family: Times New Roman; \n",
       "                direction: rtl; \n",
       "                color:;\n",
       "                width: 80%\">\n",
       "\n",
       "                14&nbsp;&nbsp;Ellp&nbsp;&nbsp;&nbsp;&nbsp;..........................................גַּם־טַפָּ֖ם נְשֵׁיהֶ֥ם וּבְנֵיהֶֽם׃ פ  \n",
       "    </div>\n",
       "    "
      ],
      "text/plain": [
       "<IPython.core.display.HTML object>"
      ]
     },
     "metadata": {},
     "output_type": "display_data"
    },
    {
     "data": {
      "text/html": [
       "\n",
       "    <div style=\"font-size: 15pt; \n",
       "                font-family: Times New Roman; \n",
       "                direction: rtl; \n",
       "                color:;\n",
       "                width: 80%\">\n",
       "\n",
       "                13&nbsp;&nbsp;CPen&nbsp;&nbsp;&nbsp;&nbsp;.......................................וְיַחֲזִיאֵ֡ל בֶּן־זְכַרְיָ֡הוּ בֶּן־בְּ֠נָיָה בֶּן־יְעִיאֵ֧ל בֶּן־מַתַּנְיָ֛ה הַלֵּוִ֖י מִן־בְּנֵ֣י אָסָ֑ף  \n",
       "    </div>\n",
       "    "
      ],
      "text/plain": [
       "<IPython.core.display.HTML object>"
      ]
     },
     "metadata": {},
     "output_type": "display_data"
    },
    {
     "data": {
      "text/html": [
       "\n",
       "    <div style=\"font-size: 15pt; \n",
       "                font-family: Times New Roman; \n",
       "                direction: rtl; \n",
       "                color:;\n",
       "                width: 80%\">\n",
       "\n",
       "                14&nbsp;&nbsp;ZQtX&nbsp;&nbsp;&nbsp;&nbsp;..........................................הָיְתָ֤ה עָלָיו֙ ר֣וּחַ יְהוָ֔ה בְּתֹ֖וךְ הַקָּהָֽל׃  \n",
       "    </div>\n",
       "    "
      ],
      "text/plain": [
       "<IPython.core.display.HTML object>"
      ]
     },
     "metadata": {},
     "output_type": "display_data"
    },
    {
     "data": {
      "text/html": [
       "\n",
       "    <div style=\"font-size: 15pt; \n",
       "                font-family: Times New Roman; \n",
       "                direction: rtl; \n",
       "                color:;\n",
       "                width: 80%\">\n",
       "\n",
       "                15&nbsp;&nbsp;Way0&nbsp;&nbsp;&nbsp;&nbsp;.............................................וַיֹּ֗אמֶר  \n",
       "    </div>\n",
       "    "
      ],
      "text/plain": [
       "<IPython.core.display.HTML object>"
      ]
     },
     "metadata": {},
     "output_type": "display_data"
    },
    {
     "data": {
      "text/html": [
       "\n",
       "    <div style=\"font-size: 15pt; \n",
       "                font-family: Times New Roman; \n",
       "                direction: rtl; \n",
       "                color:;\n",
       "                width: 80%\">\n",
       "\n",
       "                16&nbsp;&nbsp;ZIm0&nbsp;&nbsp;&nbsp;&nbsp;................................................הַקְשִׁ֤יבוּ  \n",
       "    </div>\n",
       "    "
      ],
      "text/plain": [
       "<IPython.core.display.HTML object>"
      ]
     },
     "metadata": {},
     "output_type": "display_data"
    },
    {
     "data": {
      "text/html": [
       "\n",
       "    <div style=\"font-size: 15pt; \n",
       "                font-family: Times New Roman; \n",
       "                direction: rtl; \n",
       "                color:;\n",
       "                width: 80%\">\n",
       "\n",
       "                18&nbsp;&nbsp;Voct&nbsp;&nbsp;&nbsp;&nbsp;......................................................כָל־יְהוּדָה֙ וְיֹשְׁבֵ֣י יְרוּשָׁלִַ֔ם וְהַמֶּ֖לֶךְ יְהֹושָׁפָ֑ט  \n",
       "    </div>\n",
       "    "
      ],
      "text/plain": [
       "<IPython.core.display.HTML object>"
      ]
     },
     "metadata": {},
     "output_type": "display_data"
    },
    {
     "data": {
      "text/html": [
       "\n",
       "    <div style=\"font-size: 15pt; \n",
       "                font-family: Times New Roman; \n",
       "                direction: rtl; \n",
       "                color:;\n",
       "                width: 80%\">\n",
       "\n",
       "                17&nbsp;&nbsp;xQtX&nbsp;&nbsp;&nbsp;&nbsp;...................................................כֹּֽה־אָמַ֨ר יְהוָ֜ה לָכֶ֗ם  \n",
       "    </div>\n",
       "    "
      ],
      "text/plain": [
       "<IPython.core.display.HTML object>"
      ]
     },
     "metadata": {},
     "output_type": "display_data"
    },
    {
     "data": {
      "text/html": [
       "\n",
       "    <div style=\"font-size: 15pt; \n",
       "                font-family: Times New Roman; \n",
       "                direction: rtl; \n",
       "                color:;\n",
       "                width: 80%\">\n",
       "\n",
       "                18&nbsp;&nbsp;XYqt&nbsp;&nbsp;&nbsp;&nbsp;......................................................אַ֠תֶּם אַל־תִּֽירְא֤וּ  \n",
       "    </div>\n",
       "    "
      ],
      "text/plain": [
       "<IPython.core.display.HTML object>"
      ]
     },
     "metadata": {},
     "output_type": "display_data"
    },
    {
     "data": {
      "text/html": [
       "\n",
       "    <div style=\"font-size: 15pt; \n",
       "                font-family: Times New Roman; \n",
       "                direction: rtl; \n",
       "                color:;\n",
       "                width: 80%\">\n",
       "\n",
       "                22&nbsp;&nbsp;WxY0&nbsp;&nbsp;&nbsp;&nbsp;..................................................................וְאַל־תֵּחַ֨תּוּ֙ מִפְּנֵ֨י הֶהָמֹ֤ון הָרָב֙ הַזֶּ֔ה  \n",
       "    </div>\n",
       "    "
      ],
      "text/plain": [
       "<IPython.core.display.HTML object>"
      ]
     },
     "metadata": {},
     "output_type": "display_data"
    },
    {
     "data": {
      "text/html": [
       "\n",
       "    <div style=\"font-size: 15pt; \n",
       "                font-family: Times New Roman; \n",
       "                direction: rtl; \n",
       "                color:;\n",
       "                width: 80%\">\n",
       "\n",
       "                21&nbsp;&nbsp;NmCl&nbsp;&nbsp;&nbsp;&nbsp;...............................................................כִּ֣י לֹ֥א לָכֶ֛ם הַמִּלְחָמָ֖ה  \n",
       "    </div>\n",
       "    "
      ],
      "text/plain": [
       "<IPython.core.display.HTML object>"
      ]
     },
     "metadata": {},
     "output_type": "display_data"
    },
    {
     "data": {
      "text/html": [
       "\n",
       "    <div style=\"font-size: 15pt; \n",
       "                font-family: Times New Roman; \n",
       "                direction: rtl; \n",
       "                color:;\n",
       "                width: 80%\">\n",
       "\n",
       "                22&nbsp;&nbsp;NmCl&nbsp;&nbsp;&nbsp;&nbsp;..................................................................כִּ֥י לֵאלֹהִֽים׃  \n",
       "    </div>\n",
       "    "
      ],
      "text/plain": [
       "<IPython.core.display.HTML object>"
      ]
     },
     "metadata": {},
     "output_type": "display_data"
    },
    {
     "data": {
      "text/html": [
       "\n",
       "    <div style=\"font-size: 15pt; \n",
       "                font-family: Times New Roman; \n",
       "                direction: rtl; \n",
       "                color:blue;\n",
       "                width: 80%\">\n",
       "\n",
       "                20&nbsp;&nbsp;xIm0&nbsp;&nbsp;&nbsp;&nbsp;............................................................מָחָר֙ רְד֣וּ עֲלֵיהֶ֔ם  \n",
       "    </div>\n",
       "    "
      ],
      "text/plain": [
       "<IPython.core.display.HTML object>"
      ]
     },
     "metadata": {},
     "output_type": "display_data"
    },
    {
     "data": {
      "text/html": [
       "\n",
       "    <div style=\"font-size: 15pt; \n",
       "                font-family: Times New Roman; \n",
       "                direction: rtl; \n",
       "                color:;\n",
       "                width: 80%\">\n",
       "\n",
       "                24&nbsp;&nbsp;Ptcp&nbsp;&nbsp;&nbsp;&nbsp;........................................................................הִנָּ֥ם עֹלִ֖ים בְּמַעֲלֵ֣ה הַצִּ֑יץ  \n",
       "    </div>\n",
       "    "
      ],
      "text/plain": [
       "<IPython.core.display.HTML object>"
      ]
     },
     "metadata": {},
     "output_type": "display_data"
    },
    {
     "data": {
      "text/html": [
       "\n",
       "    <div style=\"font-size: 15pt; \n",
       "                font-family: Times New Roman; \n",
       "                direction: rtl; \n",
       "                color:;\n",
       "                width: 80%\">\n",
       "\n",
       "                23&nbsp;&nbsp;WQt0&nbsp;&nbsp;&nbsp;&nbsp;.....................................................................וּמְצָאתֶ֤ם אֹתָם֙ בְּסֹ֣וף הַנַּ֔חַל פְּנֵ֖י מִדְבַּ֥ר יְרוּאֵֽל׃  \n",
       "    </div>\n",
       "    "
      ],
      "text/plain": [
       "<IPython.core.display.HTML object>"
      ]
     },
     "metadata": {},
     "output_type": "display_data"
    },
    {
     "data": {
      "text/html": [
       "\n",
       "    <div style=\"font-size: 15pt; \n",
       "                font-family: Times New Roman; \n",
       "                direction: rtl; \n",
       "                color:;\n",
       "                width: 80%\">\n",
       "\n",
       "                22&nbsp;&nbsp;NmCl&nbsp;&nbsp;&nbsp;&nbsp;..................................................................לֹ֥א לָכֶ֖ם  \n",
       "    </div>\n",
       "    "
      ],
      "text/plain": [
       "<IPython.core.display.HTML object>"
      ]
     },
     "metadata": {},
     "output_type": "display_data"
    },
    {
     "data": {
      "text/html": [
       "\n",
       "    <div style=\"font-size: 15pt; \n",
       "                font-family: Times New Roman; \n",
       "                direction: rtl; \n",
       "                color:;\n",
       "                width: 80%\">\n",
       "\n",
       "                23&nbsp;&nbsp;InfC&nbsp;&nbsp;&nbsp;&nbsp;.....................................................................לְהִלָּחֵ֣ם בָּזֹ֑את  \n",
       "    </div>\n",
       "    "
      ],
      "text/plain": [
       "<IPython.core.display.HTML object>"
      ]
     },
     "metadata": {},
     "output_type": "display_data"
    },
    {
     "data": {
      "text/html": [
       "\n",
       "    <div style=\"font-size: 15pt; \n",
       "                font-family: Times New Roman; \n",
       "                direction: rtl; \n",
       "                color:;\n",
       "                width: 80%\">\n",
       "\n",
       "                21&nbsp;&nbsp;ZIm0&nbsp;&nbsp;&nbsp;&nbsp;...............................................................הִתְיַצְּב֣וּ  \n",
       "    </div>\n",
       "    "
      ],
      "text/plain": [
       "<IPython.core.display.HTML object>"
      ]
     },
     "metadata": {},
     "output_type": "display_data"
    },
    {
     "data": {
      "text/html": [
       "\n",
       "    <div style=\"font-size: 15pt; \n",
       "                font-family: Times New Roman; \n",
       "                direction: rtl; \n",
       "                color:;\n",
       "                width: 80%\">\n",
       "\n",
       "                22&nbsp;&nbsp;ZIm0&nbsp;&nbsp;&nbsp;&nbsp;..................................................................עִמְד֡וּ  \n",
       "    </div>\n",
       "    "
      ],
      "text/plain": [
       "<IPython.core.display.HTML object>"
      ]
     },
     "metadata": {},
     "output_type": "display_data"
    },
    {
     "data": {
      "text/html": [
       "\n",
       "    <div style=\"font-size: 15pt; \n",
       "                font-family: Times New Roman; \n",
       "                direction: rtl; \n",
       "                color:;\n",
       "                width: 80%\">\n",
       "\n",
       "                23&nbsp;&nbsp;WIm0&nbsp;&nbsp;&nbsp;&nbsp;.....................................................................וּרְא֣וּ אֶת־יְשׁוּעַת֩ יְהוָ֨ה עִמָּכֶ֜ם  \n",
       "    </div>\n",
       "    "
      ],
      "text/plain": [
       "<IPython.core.display.HTML object>"
      ]
     },
     "metadata": {},
     "output_type": "display_data"
    },
    {
     "data": {
      "text/html": [
       "\n",
       "    <div style=\"font-size: 15pt; \n",
       "                font-family: Times New Roman; \n",
       "                direction: rtl; \n",
       "                color:;\n",
       "                width: 80%\">\n",
       "\n",
       "                24&nbsp;&nbsp;Voct&nbsp;&nbsp;&nbsp;&nbsp;........................................................................יְהוּדָ֣ה וִֽירוּשָׁלִַ֗ם  \n",
       "    </div>\n",
       "    "
      ],
      "text/plain": [
       "<IPython.core.display.HTML object>"
      ]
     },
     "metadata": {},
     "output_type": "display_data"
    },
    {
     "data": {
      "text/html": [
       "\n",
       "    <div style=\"font-size: 15pt; \n",
       "                font-family: Times New Roman; \n",
       "                direction: rtl; \n",
       "                color:;\n",
       "                width: 80%\">\n",
       "\n",
       "                19&nbsp;&nbsp;xYq0&nbsp;&nbsp;&nbsp;&nbsp;.........................................................אַל־תִּֽירְאוּ֙  \n",
       "    </div>\n",
       "    "
      ],
      "text/plain": [
       "<IPython.core.display.HTML object>"
      ]
     },
     "metadata": {},
     "output_type": "display_data"
    },
    {
     "data": {
      "text/html": [
       "\n",
       "    <div style=\"font-size: 15pt; \n",
       "                font-family: Times New Roman; \n",
       "                direction: rtl; \n",
       "                color:;\n",
       "                width: 80%\">\n",
       "\n",
       "                21&nbsp;&nbsp;WxY0&nbsp;&nbsp;&nbsp;&nbsp;...............................................................וְאַל־תֵּחַ֔תּוּ  \n",
       "    </div>\n",
       "    "
      ],
      "text/plain": [
       "<IPython.core.display.HTML object>"
      ]
     },
     "metadata": {},
     "output_type": "display_data"
    },
    {
     "data": {
      "text/html": [
       "\n",
       "    <div style=\"font-size: 15pt; \n",
       "                font-family: Times New Roman; \n",
       "                direction: rtl; \n",
       "                color:blue;\n",
       "                width: 80%\">\n",
       "\n",
       "                20&nbsp;&nbsp;xIm0&nbsp;&nbsp;&nbsp;&nbsp;............................................................מָחָר֙ צְא֣וּ לִפְנֵיהֶ֔ם  \n",
       "    </div>\n",
       "    "
      ],
      "text/plain": [
       "<IPython.core.display.HTML object>"
      ]
     },
     "metadata": {},
     "output_type": "display_data"
    },
    {
     "data": {
      "text/html": [
       "\n",
       "    <div style=\"font-size: 15pt; \n",
       "                font-family: Times New Roman; \n",
       "                direction: rtl; \n",
       "                color:;\n",
       "                width: 80%\">\n",
       "\n",
       "                21&nbsp;&nbsp;NmCl&nbsp;&nbsp;&nbsp;&nbsp;...............................................................וַיהוָ֖ה עִמָּכֶֽם׃  \n",
       "    </div>\n",
       "    "
      ],
      "text/plain": [
       "<IPython.core.display.HTML object>"
      ]
     },
     "metadata": {},
     "output_type": "display_data"
    },
    {
     "data": {
      "text/html": [
       "\n",
       "    <div style=\"font-size: 15pt; \n",
       "                font-family: Times New Roman; \n",
       "                direction: rtl; \n",
       "                color:;\n",
       "                width: 80%\">\n",
       "\n",
       "                12&nbsp;&nbsp;WayX&nbsp;&nbsp;&nbsp;&nbsp;....................................וַיִּקֹּ֧ד יְהֹושָׁפָ֛ט  \n",
       "    </div>\n",
       "    "
      ],
      "text/plain": [
       "<IPython.core.display.HTML object>"
      ]
     },
     "metadata": {},
     "output_type": "display_data"
    },
    {
     "data": {
      "text/html": [
       "\n",
       "    <div style=\"font-size: 15pt; \n",
       "                font-family: Times New Roman; \n",
       "                direction: rtl; \n",
       "                color:;\n",
       "                width: 80%\">\n",
       "\n",
       "                15&nbsp;&nbsp;NmCl&nbsp;&nbsp;&nbsp;&nbsp;.............................................אַפַּ֖יִם אָ֑רְצָה  \n",
       "    </div>\n",
       "    "
      ],
      "text/plain": [
       "<IPython.core.display.HTML object>"
      ]
     },
     "metadata": {},
     "output_type": "display_data"
    },
    {
     "data": {
      "text/html": [
       "\n",
       "    <div style=\"font-size: 15pt; \n",
       "                font-family: Times New Roman; \n",
       "                direction: rtl; \n",
       "                color:;\n",
       "                width: 80%\">\n",
       "\n",
       "                14&nbsp;&nbsp;WXQt&nbsp;&nbsp;&nbsp;&nbsp;..........................................וְכָל־יְהוּדָ֞ה וְיֹשְׁבֵ֣י יְרוּשָׁלִַ֗ם נָֽפְלוּ֙ לִפְנֵ֣י יְהוָ֔ה  \n",
       "    </div>\n",
       "    "
      ],
      "text/plain": [
       "<IPython.core.display.HTML object>"
      ]
     },
     "metadata": {},
     "output_type": "display_data"
    },
    {
     "data": {
      "text/html": [
       "\n",
       "    <div style=\"font-size: 15pt; \n",
       "                font-family: Times New Roman; \n",
       "                direction: rtl; \n",
       "                color:;\n",
       "                width: 80%\">\n",
       "\n",
       "                15&nbsp;&nbsp;InfC&nbsp;&nbsp;&nbsp;&nbsp;.............................................לְהִֽשְׁתַּחֲוֹ֖ת לַיהוָֽה׃  \n",
       "    </div>\n",
       "    "
      ],
      "text/plain": [
       "<IPython.core.display.HTML object>"
      ]
     },
     "metadata": {},
     "output_type": "display_data"
    },
    {
     "data": {
      "text/html": [
       "\n",
       "    <div style=\"font-size: 15pt; \n",
       "                font-family: Times New Roman; \n",
       "                direction: rtl; \n",
       "                color:;\n",
       "                width: 80%\">\n",
       "\n",
       "                13&nbsp;&nbsp;WayX&nbsp;&nbsp;&nbsp;&nbsp;.......................................וַיָּקֻ֧מוּ הַלְוִיִּ֛ם מִן־בְּנֵ֥י הַקְּהָתִ֖ים וּמִן־בְּנֵ֣י הַקָּרְחִ֑ים  \n",
       "    </div>\n",
       "    "
      ],
      "text/plain": [
       "<IPython.core.display.HTML object>"
      ]
     },
     "metadata": {},
     "output_type": "display_data"
    },
    {
     "data": {
      "text/html": [
       "\n",
       "    <div style=\"font-size: 15pt; \n",
       "                font-family: Times New Roman; \n",
       "                direction: rtl; \n",
       "                color:;\n",
       "                width: 80%\">\n",
       "\n",
       "                14&nbsp;&nbsp;InfC&nbsp;&nbsp;&nbsp;&nbsp;..........................................לְהַלֵּ֗ל לַיהוָה֙ אֱלֹהֵ֣י יִשְׂרָאֵ֔ל בְּקֹ֥ול גָּדֹ֖ול לְמָֽעְלָה׃  \n",
       "    </div>\n",
       "    "
      ],
      "text/plain": [
       "<IPython.core.display.HTML object>"
      ]
     },
     "metadata": {},
     "output_type": "display_data"
    },
    {
     "data": {
      "text/html": [
       "\n",
       "    <div style=\"font-size: 15pt; \n",
       "                font-family: Times New Roman; \n",
       "                direction: rtl; \n",
       "                color:blue;\n",
       "                width: 80%\">\n",
       "\n",
       "                11&nbsp;&nbsp;Way0&nbsp;&nbsp;&nbsp;&nbsp;.................................וַיַּשְׁכִּ֣ימוּ בַבֹּ֔קֶר  \n",
       "    </div>\n",
       "    "
      ],
      "text/plain": [
       "<IPython.core.display.HTML object>"
      ]
     },
     "metadata": {},
     "output_type": "display_data"
    },
    {
     "data": {
      "text/html": [
       "\n",
       "    <div style=\"font-size: 15pt; \n",
       "                font-family: Times New Roman; \n",
       "                direction: rtl; \n",
       "                color:;\n",
       "                width: 80%\">\n",
       "\n",
       "                13&nbsp;&nbsp;Way0&nbsp;&nbsp;&nbsp;&nbsp;.......................................וַיֵּצְא֖וּ לְמִדְבַּ֣ר תְּקֹ֑ועַ  \n",
       "    </div>\n",
       "    "
      ],
      "text/plain": [
       "<IPython.core.display.HTML object>"
      ]
     },
     "metadata": {},
     "output_type": "display_data"
    },
    {
     "data": {
      "text/html": [
       "\n",
       "    <div style=\"font-size: 15pt; \n",
       "                font-family: Times New Roman; \n",
       "                direction: rtl; \n",
       "                color:;\n",
       "                width: 80%\">\n",
       "\n",
       "                12&nbsp;&nbsp;Defc&nbsp;&nbsp;&nbsp;&nbsp;....................................וּ \n",
       "    </div>\n",
       "    "
      ],
      "text/plain": [
       "<IPython.core.display.HTML object>"
      ]
     },
     "metadata": {},
     "output_type": "display_data"
    },
    {
     "data": {
      "text/html": [
       "\n",
       "    <div style=\"font-size: 15pt; \n",
       "                font-family: Times New Roman; \n",
       "                direction: rtl; \n",
       "                color:;\n",
       "                width: 80%\">\n",
       "\n",
       "                15&nbsp;&nbsp;InfC&nbsp;&nbsp;&nbsp;&nbsp;.............................................בְצֵאתָ֞ם  \n",
       "    </div>\n",
       "    "
      ],
      "text/plain": [
       "<IPython.core.display.HTML object>"
      ]
     },
     "metadata": {},
     "output_type": "display_data"
    },
    {
     "data": {
      "text/html": [
       "\n",
       "    <div style=\"font-size: 15pt; \n",
       "                font-family: Times New Roman; \n",
       "                direction: rtl; \n",
       "                color:;\n",
       "                width: 80%\">\n",
       "\n",
       "                14&nbsp;&nbsp;ZQtX&nbsp;&nbsp;&nbsp;&nbsp;..........................................עָמַ֣ד יְהֹושָׁפָ֗ט  \n",
       "    </div>\n",
       "    "
      ],
      "text/plain": [
       "<IPython.core.display.HTML object>"
      ]
     },
     "metadata": {},
     "output_type": "display_data"
    },
    {
     "data": {
      "text/html": [
       "\n",
       "    <div style=\"font-size: 15pt; \n",
       "                font-family: Times New Roman; \n",
       "                direction: rtl; \n",
       "                color:;\n",
       "                width: 80%\">\n",
       "\n",
       "                13&nbsp;&nbsp;Way0&nbsp;&nbsp;&nbsp;&nbsp;.......................................וַיֹּ֨אמֶר֙  \n",
       "    </div>\n",
       "    "
      ],
      "text/plain": [
       "<IPython.core.display.HTML object>"
      ]
     },
     "metadata": {},
     "output_type": "display_data"
    },
    {
     "data": {
      "text/html": [
       "\n",
       "    <div style=\"font-size: 15pt; \n",
       "                font-family: Times New Roman; \n",
       "                direction: rtl; \n",
       "                color:;\n",
       "                width: 80%\">\n",
       "\n",
       "                14&nbsp;&nbsp;ZIm0&nbsp;&nbsp;&nbsp;&nbsp;..........................................שְׁמָע֗וּנִי  \n",
       "    </div>\n",
       "    "
      ],
      "text/plain": [
       "<IPython.core.display.HTML object>"
      ]
     },
     "metadata": {},
     "output_type": "display_data"
    },
    {
     "data": {
      "text/html": [
       "\n",
       "    <div style=\"font-size: 15pt; \n",
       "                font-family: Times New Roman; \n",
       "                direction: rtl; \n",
       "                color:;\n",
       "                width: 80%\">\n",
       "\n",
       "                16&nbsp;&nbsp;Voct&nbsp;&nbsp;&nbsp;&nbsp;................................................יְהוּדָה֙ וְיֹשְׁבֵ֣י יְרוּשָׁלִַ֔ם  \n",
       "    </div>\n",
       "    "
      ],
      "text/plain": [
       "<IPython.core.display.HTML object>"
      ]
     },
     "metadata": {},
     "output_type": "display_data"
    },
    {
     "data": {
      "text/html": [
       "\n",
       "    <div style=\"font-size: 15pt; \n",
       "                font-family: Times New Roman; \n",
       "                direction: rtl; \n",
       "                color:;\n",
       "                width: 80%\">\n",
       "\n",
       "                15&nbsp;&nbsp;ZIm0&nbsp;&nbsp;&nbsp;&nbsp;.............................................הַאֲמִ֜ינוּ בַּיהוָ֤ה אֱלֹהֵיכֶם֙  \n",
       "    </div>\n",
       "    "
      ],
      "text/plain": [
       "<IPython.core.display.HTML object>"
      ]
     },
     "metadata": {},
     "output_type": "display_data"
    },
    {
     "data": {
      "text/html": [
       "\n",
       "    <div style=\"font-size: 15pt; \n",
       "                font-family: Times New Roman; \n",
       "                direction: rtl; \n",
       "                color:;\n",
       "                width: 80%\">\n",
       "\n",
       "                17&nbsp;&nbsp;WYq0&nbsp;&nbsp;&nbsp;&nbsp;...................................................וְתֵ֣אָמֵ֔נוּ  \n",
       "    </div>\n",
       "    "
      ],
      "text/plain": [
       "<IPython.core.display.HTML object>"
      ]
     },
     "metadata": {},
     "output_type": "display_data"
    },
    {
     "data": {
      "text/html": [
       "\n",
       "    <div style=\"font-size: 15pt; \n",
       "                font-family: Times New Roman; \n",
       "                direction: rtl; \n",
       "                color:;\n",
       "                width: 80%\">\n",
       "\n",
       "                16&nbsp;&nbsp;ZIm0&nbsp;&nbsp;&nbsp;&nbsp;................................................הַאֲמִ֥ינוּ בִנְבִיאָ֖יו  \n",
       "    </div>\n",
       "    "
      ],
      "text/plain": [
       "<IPython.core.display.HTML object>"
      ]
     },
     "metadata": {},
     "output_type": "display_data"
    },
    {
     "data": {
      "text/html": [
       "\n",
       "    <div style=\"font-size: 15pt; \n",
       "                font-family: Times New Roman; \n",
       "                direction: rtl; \n",
       "                color:;\n",
       "                width: 80%\">\n",
       "\n",
       "                17&nbsp;&nbsp;WIm0&nbsp;&nbsp;&nbsp;&nbsp;...................................................וְהַצְלִֽיחוּ׃  \n",
       "    </div>\n",
       "    "
      ],
      "text/plain": [
       "<IPython.core.display.HTML object>"
      ]
     },
     "metadata": {},
     "output_type": "display_data"
    },
    {
     "data": {
      "text/html": [
       "\n",
       "    <div style=\"font-size: 15pt; \n",
       "                font-family: Times New Roman; \n",
       "                direction: rtl; \n",
       "                color:;\n",
       "                width: 80%\">\n",
       "\n",
       "                13&nbsp;&nbsp;Way0&nbsp;&nbsp;&nbsp;&nbsp;.......................................וַיִּוָּעַץ֙ אֶל־הָעָ֔ם  \n",
       "    </div>\n",
       "    "
      ],
      "text/plain": [
       "<IPython.core.display.HTML object>"
      ]
     },
     "metadata": {},
     "output_type": "display_data"
    },
    {
     "data": {
      "text/html": [
       "\n",
       "    <div style=\"font-size: 15pt; \n",
       "                font-family: Times New Roman; \n",
       "                direction: rtl; \n",
       "                color:;\n",
       "                width: 80%\">\n",
       "\n",
       "                14&nbsp;&nbsp;Way0&nbsp;&nbsp;&nbsp;&nbsp;..........................................וַיַּעֲמֵ֤ד  \n",
       "    </div>\n",
       "    "
      ],
      "text/plain": [
       "<IPython.core.display.HTML object>"
      ]
     },
     "metadata": {},
     "output_type": "display_data"
    },
    {
     "data": {
      "text/html": [
       "\n",
       "    <div style=\"font-size: 15pt; \n",
       "                font-family: Times New Roman; \n",
       "                direction: rtl; \n",
       "                color:;\n",
       "                width: 80%\">\n",
       "\n",
       "                16&nbsp;&nbsp;Ptcp&nbsp;&nbsp;&nbsp;&nbsp;................................................מְשֹֽׁרֲרִים֙ לַיהוָ֔ה  \n",
       "    </div>\n",
       "    "
      ],
      "text/plain": [
       "<IPython.core.display.HTML object>"
      ]
     },
     "metadata": {},
     "output_type": "display_data"
    },
    {
     "data": {
      "text/html": [
       "\n",
       "    <div style=\"font-size: 15pt; \n",
       "                font-family: Times New Roman; \n",
       "                direction: rtl; \n",
       "                color:;\n",
       "                width: 80%\">\n",
       "\n",
       "                19&nbsp;&nbsp;Ptcp&nbsp;&nbsp;&nbsp;&nbsp;.........................................................וּֽמְהַֽלְלִ֖ים לְהַדְרַת־קֹ֑דֶשׁ  \n",
       "    </div>\n",
       "    "
      ],
      "text/plain": [
       "<IPython.core.display.HTML object>"
      ]
     },
     "metadata": {},
     "output_type": "display_data"
    },
    {
     "data": {
      "text/html": [
       "\n",
       "    <div style=\"font-size: 15pt; \n",
       "                font-family: Times New Roman; \n",
       "                direction: rtl; \n",
       "                color:;\n",
       "                width: 80%\">\n",
       "\n",
       "                18&nbsp;&nbsp;InfC&nbsp;&nbsp;&nbsp;&nbsp;......................................................בְּצֵאת֙ לִפְנֵ֣י הֶֽחָל֔וּץ  \n",
       "    </div>\n",
       "    "
      ],
      "text/plain": [
       "<IPython.core.display.HTML object>"
      ]
     },
     "metadata": {},
     "output_type": "display_data"
    },
    {
     "data": {
      "text/html": [
       "\n",
       "    <div style=\"font-size: 15pt; \n",
       "                font-family: Times New Roman; \n",
       "                direction: rtl; \n",
       "                color:;\n",
       "                width: 80%\">\n",
       "\n",
       "                17&nbsp;&nbsp;Ptcp&nbsp;&nbsp;&nbsp;&nbsp;...................................................וְאֹֽמְרִים֙  \n",
       "    </div>\n",
       "    "
      ],
      "text/plain": [
       "<IPython.core.display.HTML object>"
      ]
     },
     "metadata": {},
     "output_type": "display_data"
    },
    {
     "data": {
      "text/html": [
       "\n",
       "    <div style=\"font-size: 15pt; \n",
       "                font-family: Times New Roman; \n",
       "                direction: rtl; \n",
       "                color:;\n",
       "                width: 80%\">\n",
       "\n",
       "                18&nbsp;&nbsp;ZIm0&nbsp;&nbsp;&nbsp;&nbsp;......................................................הֹוד֣וּ לַיהוָ֔ה  \n",
       "    </div>\n",
       "    "
      ],
      "text/plain": [
       "<IPython.core.display.HTML object>"
      ]
     },
     "metadata": {},
     "output_type": "display_data"
    },
    {
     "data": {
      "text/html": [
       "\n",
       "    <div style=\"font-size: 15pt; \n",
       "                font-family: Times New Roman; \n",
       "                direction: rtl; \n",
       "                color:;\n",
       "                width: 80%\">\n",
       "\n",
       "                19&nbsp;&nbsp;NmCl&nbsp;&nbsp;&nbsp;&nbsp;.........................................................כִּ֥י לְעֹולָ֖ם חַסְדֹּֽו׃  \n",
       "    </div>\n",
       "    "
      ],
      "text/plain": [
       "<IPython.core.display.HTML object>"
      ]
     },
     "metadata": {},
     "output_type": "display_data"
    },
    {
     "data": {
      "text/html": [
       "\n",
       "    <div style=\"font-size: 15pt; \n",
       "                font-family: Times New Roman; \n",
       "                direction: rtl; \n",
       "                color:blue;\n",
       "                width: 80%\">\n",
       "\n",
       "                15&nbsp;&nbsp;Defc&nbsp;&nbsp;&nbsp;&nbsp;.............................................וּבְעֵת֩  \n",
       "    </div>\n",
       "    "
      ],
      "text/plain": [
       "<IPython.core.display.HTML object>"
      ]
     },
     "metadata": {},
     "output_type": "display_data"
    },
    {
     "data": {
      "text/html": [
       "\n",
       "    <div style=\"font-size: 15pt; \n",
       "                font-family: Times New Roman; \n",
       "                direction: rtl; \n",
       "                color:;\n",
       "                width: 80%\">\n",
       "\n",
       "                19&nbsp;&nbsp;ZQt0&nbsp;&nbsp;&nbsp;&nbsp;.........................................................הֵחֵ֨לּוּ בְרִנָּ֜ה וּתְהִלָּ֗ה  \n",
       "    </div>\n",
       "    "
      ],
      "text/plain": [
       "<IPython.core.display.HTML object>"
      ]
     },
     "metadata": {},
     "output_type": "display_data"
    },
    {
     "data": {
      "text/html": [
       "\n",
       "    <div style=\"font-size: 15pt; \n",
       "                font-family: Times New Roman; \n",
       "                direction: rtl; \n",
       "                color:;\n",
       "                width: 80%\">\n",
       "\n",
       "                18&nbsp;&nbsp;ZQtX&nbsp;&nbsp;&nbsp;&nbsp;......................................................נָתַ֣ן יְהוָ֣ה׀ מְ֠אָֽרְבִים עַל־בְּנֵ֨י עַמֹּ֜ון מֹואָ֧ב וְהַר־שֵׂעִ֛יר  \n",
       "    </div>\n",
       "    "
      ],
      "text/plain": [
       "<IPython.core.display.HTML object>"
      ]
     },
     "metadata": {},
     "output_type": "display_data"
    },
    {
     "data": {
      "text/html": [
       "\n",
       "    <div style=\"font-size: 15pt; \n",
       "                font-family: Times New Roman; \n",
       "                direction: rtl; \n",
       "                color:;\n",
       "                width: 80%\">\n",
       "\n",
       "                19&nbsp;&nbsp;Ptcp&nbsp;&nbsp;&nbsp;&nbsp;.........................................................הַבָּאִ֥ים לִֽיהוּדָ֖ה  \n",
       "    </div>\n",
       "    "
      ],
      "text/plain": [
       "<IPython.core.display.HTML object>"
      ]
     },
     "metadata": {},
     "output_type": "display_data"
    },
    {
     "data": {
      "text/html": [
       "\n",
       "    <div style=\"font-size: 15pt; \n",
       "                font-family: Times New Roman; \n",
       "                direction: rtl; \n",
       "                color:;\n",
       "                width: 80%\">\n",
       "\n",
       "                17&nbsp;&nbsp;Way0&nbsp;&nbsp;&nbsp;&nbsp;...................................................וַיִּנָּגֵֽפוּ׃  \n",
       "    </div>\n",
       "    "
      ],
      "text/plain": [
       "<IPython.core.display.HTML object>"
      ]
     },
     "metadata": {},
     "output_type": "display_data"
    },
    {
     "data": {
      "text/html": [
       "\n",
       "    <div style=\"font-size: 15pt; \n",
       "                font-family: Times New Roman; \n",
       "                direction: rtl; \n",
       "                color:;\n",
       "                width: 80%\">\n",
       "\n",
       "                18&nbsp;&nbsp;WayX&nbsp;&nbsp;&nbsp;&nbsp;......................................................וַ֠יַּֽעַמְדוּ בְּנֵ֨י עַמֹּ֧ון וּמֹואָ֛ב עַל־יֹשְׁבֵ֥י הַר־שֵׂעִ֖יר  \n",
       "    </div>\n",
       "    "
      ],
      "text/plain": [
       "<IPython.core.display.HTML object>"
      ]
     },
     "metadata": {},
     "output_type": "display_data"
    },
    {
     "data": {
      "text/html": [
       "\n",
       "    <div style=\"font-size: 15pt; \n",
       "                font-family: Times New Roman; \n",
       "                direction: rtl; \n",
       "                color:;\n",
       "                width: 80%\">\n",
       "\n",
       "                20&nbsp;&nbsp;InfC&nbsp;&nbsp;&nbsp;&nbsp;............................................................לְהַחֲרִ֣ים  \n",
       "    </div>\n",
       "    "
      ],
      "text/plain": [
       "<IPython.core.display.HTML object>"
      ]
     },
     "metadata": {},
     "output_type": "display_data"
    },
    {
     "data": {
      "text/html": [
       "\n",
       "    <div style=\"font-size: 15pt; \n",
       "                font-family: Times New Roman; \n",
       "                direction: rtl; \n",
       "                color:;\n",
       "                width: 80%\">\n",
       "\n",
       "                21&nbsp;&nbsp;InfC&nbsp;&nbsp;&nbsp;&nbsp;...............................................................וּלְהַשְׁמִ֑יד  \n",
       "    </div>\n",
       "    "
      ],
      "text/plain": [
       "<IPython.core.display.HTML object>"
      ]
     },
     "metadata": {},
     "output_type": "display_data"
    },
    {
     "data": {
      "text/html": [
       "\n",
       "    <div style=\"font-size: 15pt; \n",
       "                font-family: Times New Roman; \n",
       "                direction: rtl; \n",
       "                color:;\n",
       "                width: 80%\">\n",
       "\n",
       "                19&nbsp;&nbsp;Defc&nbsp;&nbsp;&nbsp;&nbsp;.........................................................וּ \n",
       "    </div>\n",
       "    "
      ],
      "text/plain": [
       "<IPython.core.display.HTML object>"
      ]
     },
     "metadata": {},
     "output_type": "display_data"
    },
    {
     "data": {
      "text/html": [
       "\n",
       "    <div style=\"font-size: 15pt; \n",
       "                font-family: Times New Roman; \n",
       "                direction: rtl; \n",
       "                color:;\n",
       "                width: 80%\">\n",
       "\n",
       "                21&nbsp;&nbsp;InfC&nbsp;&nbsp;&nbsp;&nbsp;...............................................................כְכַלֹּותָם֙ בְּיֹושְׁבֵ֣י שֵׂעִ֔יר  \n",
       "    </div>\n",
       "    "
      ],
      "text/plain": [
       "<IPython.core.display.HTML object>"
      ]
     },
     "metadata": {},
     "output_type": "display_data"
    },
    {
     "data": {
      "text/html": [
       "\n",
       "    <div style=\"font-size: 15pt; \n",
       "                font-family: Times New Roman; \n",
       "                direction: rtl; \n",
       "                color:;\n",
       "                width: 80%\">\n",
       "\n",
       "                20&nbsp;&nbsp;ZQt0&nbsp;&nbsp;&nbsp;&nbsp;............................................................עָזְר֥וּ  \n",
       "    </div>\n",
       "    "
      ],
      "text/plain": [
       "<IPython.core.display.HTML object>"
      ]
     },
     "metadata": {},
     "output_type": "display_data"
    },
    {
     "data": {
      "text/html": [
       "\n",
       "    <div style=\"font-size: 15pt; \n",
       "                font-family: Times New Roman; \n",
       "                direction: rtl; \n",
       "                color:;\n",
       "                width: 80%\">\n",
       "\n",
       "                22&nbsp;&nbsp;Ellp&nbsp;&nbsp;&nbsp;&nbsp;..................................................................אִישׁ־בְּרֵעֵ֖הוּ  \n",
       "    </div>\n",
       "    "
      ],
      "text/plain": [
       "<IPython.core.display.HTML object>"
      ]
     },
     "metadata": {},
     "output_type": "display_data"
    },
    {
     "data": {
      "text/html": [
       "\n",
       "    <div style=\"font-size: 15pt; \n",
       "                font-family: Times New Roman; \n",
       "                direction: rtl; \n",
       "                color:;\n",
       "                width: 80%\">\n",
       "\n",
       "                21&nbsp;&nbsp;Defc&nbsp;&nbsp;&nbsp;&nbsp;...............................................................לְמַשְׁחִֽית׃  \n",
       "    </div>\n",
       "    "
      ],
      "text/plain": [
       "<IPython.core.display.HTML object>"
      ]
     },
     "metadata": {},
     "output_type": "display_data"
    },
    {
     "data": {
      "text/html": [
       "\n",
       "    <div style=\"font-size: 15pt; \n",
       "                font-family: Times New Roman; \n",
       "                direction: rtl; \n",
       "                color:;\n",
       "                width: 80%\">\n",
       "\n",
       "                16&nbsp;&nbsp;WXQt&nbsp;&nbsp;&nbsp;&nbsp;................................................וִֽיהוּדָ֛ה בָּ֥א עַל־הַמִּצְפֶּ֖ה לַמִּדְבָּ֑ר  \n",
       "    </div>\n",
       "    "
      ],
      "text/plain": [
       "<IPython.core.display.HTML object>"
      ]
     },
     "metadata": {},
     "output_type": "display_data"
    },
    {
     "data": {
      "text/html": [
       "\n",
       "    <div style=\"font-size: 15pt; \n",
       "                font-family: Times New Roman; \n",
       "                direction: rtl; \n",
       "                color:;\n",
       "                width: 80%\">\n",
       "\n",
       "                18&nbsp;&nbsp;Way0&nbsp;&nbsp;&nbsp;&nbsp;......................................................וַיִּפְנוּ֙ אֶל־הֶ֣הָמֹ֔ון  \n",
       "    </div>\n",
       "    "
      ],
      "text/plain": [
       "<IPython.core.display.HTML object>"
      ]
     },
     "metadata": {},
     "output_type": "display_data"
    },
    {
     "data": {
      "text/html": [
       "\n",
       "    <div style=\"font-size: 15pt; \n",
       "                font-family: Times New Roman; \n",
       "                direction: rtl; \n",
       "                color:;\n",
       "                width: 80%\">\n",
       "\n",
       "                19&nbsp;&nbsp;NmCl&nbsp;&nbsp;&nbsp;&nbsp;.........................................................וְהִנָּ֧ם פְּגָרִ֛ים  \n",
       "    </div>\n",
       "    "
      ],
      "text/plain": [
       "<IPython.core.display.HTML object>"
      ]
     },
     "metadata": {},
     "output_type": "display_data"
    },
    {
     "data": {
      "text/html": [
       "\n",
       "    <div style=\"font-size: 15pt; \n",
       "                font-family: Times New Roman; \n",
       "                direction: rtl; \n",
       "                color:;\n",
       "                width: 80%\">\n",
       "\n",
       "                21&nbsp;&nbsp;Ptcp&nbsp;&nbsp;&nbsp;&nbsp;...............................................................נֹפְלִ֥ים אַ֖רְצָה  \n",
       "    </div>\n",
       "    "
      ],
      "text/plain": [
       "<IPython.core.display.HTML object>"
      ]
     },
     "metadata": {},
     "output_type": "display_data"
    },
    {
     "data": {
      "text/html": [
       "\n",
       "    <div style=\"font-size: 15pt; \n",
       "                font-family: Times New Roman; \n",
       "                direction: rtl; \n",
       "                color:;\n",
       "                width: 80%\">\n",
       "\n",
       "                20&nbsp;&nbsp;NmCl&nbsp;&nbsp;&nbsp;&nbsp;............................................................וְאֵ֥ין פְּלֵיטָֽה׃  \n",
       "    </div>\n",
       "    "
      ],
      "text/plain": [
       "<IPython.core.display.HTML object>"
      ]
     },
     "metadata": {},
     "output_type": "display_data"
    },
    {
     "data": {
      "text/html": [
       "\n",
       "    <div style=\"font-size: 15pt; \n",
       "                font-family: Times New Roman; \n",
       "                direction: rtl; \n",
       "                color:;\n",
       "                width: 80%\">\n",
       "\n",
       "                17&nbsp;&nbsp;WayX&nbsp;&nbsp;&nbsp;&nbsp;...................................................וַיָּבֹ֨א יְהֹושָׁפָ֣ט וְעַמֹּו֮  \n",
       "    </div>\n",
       "    "
      ],
      "text/plain": [
       "<IPython.core.display.HTML object>"
      ]
     },
     "metadata": {},
     "output_type": "display_data"
    },
    {
     "data": {
      "text/html": [
       "\n",
       "    <div style=\"font-size: 15pt; \n",
       "                font-family: Times New Roman; \n",
       "                direction: rtl; \n",
       "                color:;\n",
       "                width: 80%\">\n",
       "\n",
       "                20&nbsp;&nbsp;InfC&nbsp;&nbsp;&nbsp;&nbsp;............................................................לָבֹ֣ז אֶת־שְׁלָלָם֒  \n",
       "    </div>\n",
       "    "
      ],
      "text/plain": [
       "<IPython.core.display.HTML object>"
      ]
     },
     "metadata": {},
     "output_type": "display_data"
    },
    {
     "data": {
      "text/html": [
       "\n",
       "    <div style=\"font-size: 15pt; \n",
       "                font-family: Times New Roman; \n",
       "                direction: rtl; \n",
       "                color:;\n",
       "                width: 80%\">\n",
       "\n",
       "                21&nbsp;&nbsp;Way0&nbsp;&nbsp;&nbsp;&nbsp;...............................................................וַיִּמְצְאוּ֩ בָהֶ֨ם לָרֹ֜ב  \n",
       "    </div>\n",
       "    "
      ],
      "text/plain": [
       "<IPython.core.display.HTML object>"
      ]
     },
     "metadata": {},
     "output_type": "display_data"
    },
    {
     "data": {
      "text/html": [
       "\n",
       "    <div style=\"font-size: 15pt; \n",
       "                font-family: Times New Roman; \n",
       "                direction: rtl; \n",
       "                color:;\n",
       "                width: 80%\">\n",
       "\n",
       "                23&nbsp;&nbsp;Ellp&nbsp;&nbsp;&nbsp;&nbsp;.....................................................................וּרְכ֤וּשׁ וּפְגָרִים֙ וּכְלֵ֣י חֲמֻדֹ֔ות  \n",
       "    </div>\n",
       "    "
      ],
      "text/plain": [
       "<IPython.core.display.HTML object>"
      ]
     },
     "metadata": {},
     "output_type": "display_data"
    },
    {
     "data": {
      "text/html": [
       "\n",
       "    <div style=\"font-size: 15pt; \n",
       "                font-family: Times New Roman; \n",
       "                direction: rtl; \n",
       "                color:;\n",
       "                width: 80%\">\n",
       "\n",
       "                22&nbsp;&nbsp;Way0&nbsp;&nbsp;&nbsp;&nbsp;..................................................................וַיְנַצְּל֥וּ לָהֶ֖ם לְאֵ֣ין מַשָּׂ֑א  \n",
       "    </div>\n",
       "    "
      ],
      "text/plain": [
       "<IPython.core.display.HTML object>"
      ]
     },
     "metadata": {},
     "output_type": "display_data"
    },
    {
     "data": {
      "text/html": [
       "\n",
       "    <div style=\"font-size: 15pt; \n",
       "                font-family: Times New Roman; \n",
       "                direction: rtl; \n",
       "                color:blue;\n",
       "                width: 80%\">\n",
       "\n",
       "                19&nbsp;&nbsp;Way0&nbsp;&nbsp;&nbsp;&nbsp;.........................................................וַיִּֽהְי֞וּ יָמִ֧ים שְׁלֹושָׁ֛ה בֹּזְזִ֥ים אֶת־הַשָּׁלָ֖ל  \n",
       "    </div>\n",
       "    "
      ],
      "text/plain": [
       "<IPython.core.display.HTML object>"
      ]
     },
     "metadata": {},
     "output_type": "display_data"
    },
    {
     "data": {
      "text/html": [
       "\n",
       "    <div style=\"font-size: 15pt; \n",
       "                font-family: Times New Roman; \n",
       "                direction: rtl; \n",
       "                color:;\n",
       "                width: 80%\">\n",
       "\n",
       "                21&nbsp;&nbsp;AjCl&nbsp;&nbsp;&nbsp;&nbsp;...............................................................כִּ֥י רַב־הֽוּא׃  \n",
       "    </div>\n",
       "    "
      ],
      "text/plain": [
       "<IPython.core.display.HTML object>"
      ]
     },
     "metadata": {},
     "output_type": "display_data"
    },
    {
     "data": {
      "text/html": [
       "\n",
       "    <div style=\"font-size: 15pt; \n",
       "                font-family: Times New Roman; \n",
       "                direction: rtl; \n",
       "                color:blue;\n",
       "                width: 80%\">\n",
       "\n",
       "                20&nbsp;&nbsp;WxQ0&nbsp;&nbsp;&nbsp;&nbsp;............................................................וּבַיֹּ֣ום הָרְבִעִ֗י נִקְהֲלוּ֙ לְעֵ֣מֶק בְּרָכָ֔ה  \n",
       "    </div>\n",
       "    "
      ],
      "text/plain": [
       "<IPython.core.display.HTML object>"
      ]
     },
     "metadata": {},
     "output_type": "display_data"
    },
    {
     "data": {
      "text/html": [
       "\n",
       "    <div style=\"font-size: 15pt; \n",
       "                font-family: Times New Roman; \n",
       "                direction: rtl; \n",
       "                color:;\n",
       "                width: 80%\">\n",
       "\n",
       "                21&nbsp;&nbsp;xQt0&nbsp;&nbsp;&nbsp;&nbsp;...............................................................כִּי־שָׁ֖ם בֵּרֲכ֣וּ אֶת־יְהוָ֑ה  \n",
       "    </div>\n",
       "    "
      ],
      "text/plain": [
       "<IPython.core.display.HTML object>"
      ]
     },
     "metadata": {},
     "output_type": "display_data"
    },
    {
     "data": {
      "text/html": [
       "\n",
       "    <div style=\"font-size: 15pt; \n",
       "                font-family: Times New Roman; \n",
       "                direction: rtl; \n",
       "                color:blue;\n",
       "                width: 80%\">\n",
       "\n",
       "                22&nbsp;&nbsp;xQt0&nbsp;&nbsp;&nbsp;&nbsp;..................................................................עַל־כֵּ֡ן קָֽרְא֞וּ אֶת־שֵׁ֨ם הַמָּקֹ֥ום הַה֛וּא עֵ֥מֶק בְּרָכָ֖ה עַד־הַיֹּֽום׃  \n",
       "    </div>\n",
       "    "
      ],
      "text/plain": [
       "<IPython.core.display.HTML object>"
      ]
     },
     "metadata": {},
     "output_type": "display_data"
    },
    {
     "data": {
      "text/html": [
       "\n",
       "    <div style=\"font-size: 15pt; \n",
       "                font-family: Times New Roman; \n",
       "                direction: rtl; \n",
       "                color:;\n",
       "                width: 80%\">\n",
       "\n",
       "                18&nbsp;&nbsp;WayX&nbsp;&nbsp;&nbsp;&nbsp;......................................................וַ֠יָּשֻׁבוּ כָּל־אִ֨ישׁ יְהוּדָ֤ה וִֽירוּשָׁלִַ֨ם֙  \n",
       "    </div>\n",
       "    "
      ],
      "text/plain": [
       "<IPython.core.display.HTML object>"
      ]
     },
     "metadata": {},
     "output_type": "display_data"
    },
    {
     "data": {
      "text/html": [
       "\n",
       "    <div style=\"font-size: 15pt; \n",
       "                font-family: Times New Roman; \n",
       "                direction: rtl; \n",
       "                color:;\n",
       "                width: 80%\">\n",
       "\n",
       "                21&nbsp;&nbsp;NmCl&nbsp;&nbsp;&nbsp;&nbsp;...............................................................וִֽיהֹושָׁפָ֣ט בְּרֹאשָׁ֔ם  \n",
       "    </div>\n",
       "    "
      ],
      "text/plain": [
       "<IPython.core.display.HTML object>"
      ]
     },
     "metadata": {},
     "output_type": "display_data"
    },
    {
     "data": {
      "text/html": [
       "\n",
       "    <div style=\"font-size: 15pt; \n",
       "                font-family: Times New Roman; \n",
       "                direction: rtl; \n",
       "                color:;\n",
       "                width: 80%\">\n",
       "\n",
       "                20&nbsp;&nbsp;InfC&nbsp;&nbsp;&nbsp;&nbsp;............................................................לָשׁ֥וּב אֶל־יְרוּשָׁלִַ֖ם בְּשִׂמְחָ֑ה  \n",
       "    </div>\n",
       "    "
      ],
      "text/plain": [
       "<IPython.core.display.HTML object>"
      ]
     },
     "metadata": {},
     "output_type": "display_data"
    },
    {
     "data": {
      "text/html": [
       "\n",
       "    <div style=\"font-size: 15pt; \n",
       "                font-family: Times New Roman; \n",
       "                direction: rtl; \n",
       "                color:;\n",
       "                width: 80%\">\n",
       "\n",
       "                21&nbsp;&nbsp;xQtX&nbsp;&nbsp;&nbsp;&nbsp;...............................................................כִּֽי־שִׂמְּחָ֥ם יְהוָ֖ה מֵֽאֹויְבֵיהֶֽם׃  \n",
       "    </div>\n",
       "    "
      ],
      "text/plain": [
       "<IPython.core.display.HTML object>"
      ]
     },
     "metadata": {},
     "output_type": "display_data"
    },
    {
     "data": {
      "text/html": [
       "\n",
       "    <div style=\"font-size: 15pt; \n",
       "                font-family: Times New Roman; \n",
       "                direction: rtl; \n",
       "                color:;\n",
       "                width: 80%\">\n",
       "\n",
       "                19&nbsp;&nbsp;Way0&nbsp;&nbsp;&nbsp;&nbsp;.........................................................וַיָּבֹ֨אוּ֙ יְר֣וּשָׁלִַ֔ם בִּנְבָלִ֥ים וּבְכִנֹּרֹ֖ות וּבַחֲצֹצְרֹ֑ות אֶל־בֵּ֖ית יְהוָֽה׃  \n",
       "    </div>\n",
       "    "
      ],
      "text/plain": [
       "<IPython.core.display.HTML object>"
      ]
     },
     "metadata": {},
     "output_type": "display_data"
    },
    {
     "data": {
      "text/html": [
       "\n",
       "    <div style=\"font-size: 15pt; \n",
       "                font-family: Times New Roman; \n",
       "                direction: rtl; \n",
       "                color:;\n",
       "                width: 80%\">\n",
       "\n",
       "                3&nbsp;&nbsp;WayX&nbsp;&nbsp;&nbsp;&nbsp;.........וַיְהִי֙ פַּ֣חַד אֱלֹהִ֔ים עַ֖ל כָּל־מַמְלְכֹ֣ות הָאֲרָצֹ֑ות  \n",
       "    </div>\n",
       "    "
      ],
      "text/plain": [
       "<IPython.core.display.HTML object>"
      ]
     },
     "metadata": {},
     "output_type": "display_data"
    },
    {
     "data": {
      "text/html": [
       "\n",
       "    <div style=\"font-size: 15pt; \n",
       "                font-family: Times New Roman; \n",
       "                direction: rtl; \n",
       "                color:;\n",
       "                width: 80%\">\n",
       "\n",
       "                5&nbsp;&nbsp;InfC&nbsp;&nbsp;&nbsp;&nbsp;...............בְּשָׁמְעָ֕ם  \n",
       "    </div>\n",
       "    "
      ],
      "text/plain": [
       "<IPython.core.display.HTML object>"
      ]
     },
     "metadata": {},
     "output_type": "display_data"
    },
    {
     "data": {
      "text/html": [
       "\n",
       "    <div style=\"font-size: 15pt; \n",
       "                font-family: Times New Roman; \n",
       "                direction: rtl; \n",
       "                color:;\n",
       "                width: 80%\">\n",
       "\n",
       "                6&nbsp;&nbsp;xQtX&nbsp;&nbsp;&nbsp;&nbsp;..................כִּ֚י נִלְחַ֣ם יְהוָ֔ה עִ֖ם אֹויְבֵ֥י יִשְׂרָאֵֽל׃  \n",
       "    </div>\n",
       "    "
      ],
      "text/plain": [
       "<IPython.core.display.HTML object>"
      ]
     },
     "metadata": {},
     "output_type": "display_data"
    },
    {
     "data": {
      "text/html": [
       "\n",
       "    <div style=\"font-size: 15pt; \n",
       "                font-family: Times New Roman; \n",
       "                direction: rtl; \n",
       "                color:;\n",
       "                width: 80%\">\n",
       "\n",
       "                4&nbsp;&nbsp;WayX&nbsp;&nbsp;&nbsp;&nbsp;............וַתִּשְׁקֹ֖ט מַלְכ֣וּת יְהֹושָׁפָ֑ט  \n",
       "    </div>\n",
       "    "
      ],
      "text/plain": [
       "<IPython.core.display.HTML object>"
      ]
     },
     "metadata": {},
     "output_type": "display_data"
    },
    {
     "data": {
      "text/html": [
       "\n",
       "    <div style=\"font-size: 15pt; \n",
       "                font-family: Times New Roman; \n",
       "                direction: rtl; \n",
       "                color:;\n",
       "                width: 80%\">\n",
       "\n",
       "                5&nbsp;&nbsp;WayX&nbsp;&nbsp;&nbsp;&nbsp;...............וַיָּ֧נַֽח לֹ֦ו אֱלֹהָ֖יו מִסָּבִֽיב׃ פ  \n",
       "    </div>\n",
       "    "
      ],
      "text/plain": [
       "<IPython.core.display.HTML object>"
      ]
     },
     "metadata": {},
     "output_type": "display_data"
    },
    {
     "data": {
      "text/html": [
       "\n",
       "    <div style=\"font-size: 15pt; \n",
       "                font-family: Times New Roman; \n",
       "                direction: rtl; \n",
       "                color:;\n",
       "                width: 80%\">\n",
       "\n",
       "                2&nbsp;&nbsp;WayX&nbsp;&nbsp;&nbsp;&nbsp;......וַיִּמְלֹ֥ךְ יְהֹושָׁפָ֖ט עַל־יְהוּדָ֑ה  \n",
       "    </div>\n",
       "    "
      ],
      "text/plain": [
       "<IPython.core.display.HTML object>"
      ]
     },
     "metadata": {},
     "output_type": "display_data"
    },
    {
     "data": {
      "text/html": [
       "\n",
       "    <div style=\"font-size: 15pt; \n",
       "                font-family: Times New Roman; \n",
       "                direction: rtl; \n",
       "                color:;\n",
       "                width: 80%\">\n",
       "\n",
       "                5&nbsp;&nbsp;NmCl&nbsp;&nbsp;&nbsp;&nbsp;...............בֶּן־שְׁלֹשִׁים֩ וְחָמֵ֨שׁ שָׁנָ֜ה  \n",
       "    </div>\n",
       "    "
      ],
      "text/plain": [
       "<IPython.core.display.HTML object>"
      ]
     },
     "metadata": {},
     "output_type": "display_data"
    },
    {
     "data": {
      "text/html": [
       "\n",
       "    <div style=\"font-size: 15pt; \n",
       "                font-family: Times New Roman; \n",
       "                direction: rtl; \n",
       "                color:;\n",
       "                width: 80%\">\n",
       "\n",
       "                7&nbsp;&nbsp;InfC&nbsp;&nbsp;&nbsp;&nbsp;.....................בְּמָלְכֹ֗ו  \n",
       "    </div>\n",
       "    "
      ],
      "text/plain": [
       "<IPython.core.display.HTML object>"
      ]
     },
     "metadata": {},
     "output_type": "display_data"
    },
    {
     "data": {
      "text/html": [
       "\n",
       "    <div style=\"font-size: 15pt; \n",
       "                font-family: Times New Roman; \n",
       "                direction: rtl; \n",
       "                color:blue;\n",
       "                width: 80%\">\n",
       "\n",
       "                6&nbsp;&nbsp;WxQ0&nbsp;&nbsp;&nbsp;&nbsp;..................וְעֶשְׂרִ֨ים וְחָמֵ֤שׁ שָׁנָה֙ מָלַ֣ךְ בִּֽירוּשָׁלִַ֔ם  \n",
       "    </div>\n",
       "    "
      ],
      "text/plain": [
       "<IPython.core.display.HTML object>"
      ]
     },
     "metadata": {},
     "output_type": "display_data"
    },
    {
     "data": {
      "text/html": [
       "\n",
       "    <div style=\"font-size: 15pt; \n",
       "                font-family: Times New Roman; \n",
       "                direction: rtl; \n",
       "                color:;\n",
       "                width: 80%\">\n",
       "\n",
       "                4&nbsp;&nbsp;NmCl&nbsp;&nbsp;&nbsp;&nbsp;............וְשֵׁ֣ם אִמֹּ֔ו עֲזוּבָ֖ה בַּת־שִׁלְחִֽי׃  \n",
       "    </div>\n",
       "    "
      ],
      "text/plain": [
       "<IPython.core.display.HTML object>"
      ]
     },
     "metadata": {},
     "output_type": "display_data"
    },
    {
     "data": {
      "text/html": [
       "\n",
       "    <div style=\"font-size: 15pt; \n",
       "                font-family: Times New Roman; \n",
       "                direction: rtl; \n",
       "                color:;\n",
       "                width: 80%\">\n",
       "\n",
       "                3&nbsp;&nbsp;Way0&nbsp;&nbsp;&nbsp;&nbsp;.........וַיֵּ֗לֶךְ בְּדֶ֛רֶךְ אָבִ֥יו אָסָ֖א  \n",
       "    </div>\n",
       "    "
      ],
      "text/plain": [
       "<IPython.core.display.HTML object>"
      ]
     },
     "metadata": {},
     "output_type": "display_data"
    },
    {
     "data": {
      "text/html": [
       "\n",
       "    <div style=\"font-size: 15pt; \n",
       "                font-family: Times New Roman; \n",
       "                direction: rtl; \n",
       "                color:;\n",
       "                width: 80%\">\n",
       "\n",
       "                5&nbsp;&nbsp;WxQ0&nbsp;&nbsp;&nbsp;&nbsp;...............וְלֹא־סָ֣ר מִמֶּ֑נָּה  \n",
       "    </div>\n",
       "    "
      ],
      "text/plain": [
       "<IPython.core.display.HTML object>"
      ]
     },
     "metadata": {},
     "output_type": "display_data"
    },
    {
     "data": {
      "text/html": [
       "\n",
       "    <div style=\"font-size: 15pt; \n",
       "                font-family: Times New Roman; \n",
       "                direction: rtl; \n",
       "                color:;\n",
       "                width: 80%\">\n",
       "\n",
       "                7&nbsp;&nbsp;InfC&nbsp;&nbsp;&nbsp;&nbsp;.....................לַעֲשֹׂ֥ות  \n",
       "    </div>\n",
       "    "
      ],
      "text/plain": [
       "<IPython.core.display.HTML object>"
      ]
     },
     "metadata": {},
     "output_type": "display_data"
    },
    {
     "data": {
      "text/html": [
       "\n",
       "    <div style=\"font-size: 15pt; \n",
       "                font-family: Times New Roman; \n",
       "                direction: rtl; \n",
       "                color:;\n",
       "                width: 80%\">\n",
       "\n",
       "                8&nbsp;&nbsp;AjCl&nbsp;&nbsp;&nbsp;&nbsp;........................הַיָּשָׁ֖ר בְּעֵינֵ֥י יְהוָֽה׃  \n",
       "    </div>\n",
       "    "
      ],
      "text/plain": [
       "<IPython.core.display.HTML object>"
      ]
     },
     "metadata": {},
     "output_type": "display_data"
    },
    {
     "data": {
      "text/html": [
       "\n",
       "    <div style=\"font-size: 15pt; \n",
       "                font-family: Times New Roman; \n",
       "                direction: rtl; \n",
       "                color:;\n",
       "                width: 80%\">\n",
       "\n",
       "                6&nbsp;&nbsp;XQtl&nbsp;&nbsp;&nbsp;&nbsp;..................אַ֥ךְ הַבָּמֹ֖ות לֹא־סָ֑רוּ  \n",
       "    </div>\n",
       "    "
      ],
      "text/plain": [
       "<IPython.core.display.HTML object>"
      ]
     },
     "metadata": {},
     "output_type": "display_data"
    },
    {
     "data": {
      "text/html": [
       "\n",
       "    <div style=\"font-size: 15pt; \n",
       "                font-family: Times New Roman; \n",
       "                direction: rtl; \n",
       "                color:;\n",
       "                width: 80%\">\n",
       "\n",
       "                7&nbsp;&nbsp;WXQt&nbsp;&nbsp;&nbsp;&nbsp;.....................וְעֹ֤וד הָעָם֙ לֹא־הֵכִ֣ינוּ לְבָבָ֔ם לֵאלֹהֵ֖י אֲבֹתֵיהֶֽם׃  \n",
       "    </div>\n",
       "    "
      ],
      "text/plain": [
       "<IPython.core.display.HTML object>"
      ]
     },
     "metadata": {},
     "output_type": "display_data"
    },
    {
     "data": {
      "text/html": [
       "\n",
       "    <div style=\"font-size: 15pt; \n",
       "                font-family: Times New Roman; \n",
       "                direction: rtl; \n",
       "                color:;\n",
       "                width: 80%\">\n",
       "\n",
       "                4&nbsp;&nbsp;CPen&nbsp;&nbsp;&nbsp;&nbsp;............וְיֶ֨תֶר֙ דִּבְרֵ֣י יְהֹושָׁפָ֔ט הָרִאשֹׁנִ֖ים וְהָאַחֲרֹנִ֑ים  \n",
       "    </div>\n",
       "    "
      ],
      "text/plain": [
       "<IPython.core.display.HTML object>"
      ]
     },
     "metadata": {},
     "output_type": "display_data"
    },
    {
     "data": {
      "text/html": [
       "\n",
       "    <div style=\"font-size: 15pt; \n",
       "                font-family: Times New Roman; \n",
       "                direction: rtl; \n",
       "                color:;\n",
       "                width: 80%\">\n",
       "\n",
       "                5&nbsp;&nbsp;Ptcp&nbsp;&nbsp;&nbsp;&nbsp;...............הִנָּ֣ם כְּתוּבִ֗ים בְּדִבְרֵי֙ יֵה֣וּא בֶן־חֲנָ֔נִי  \n",
       "    </div>\n",
       "    "
      ],
      "text/plain": [
       "<IPython.core.display.HTML object>"
      ]
     },
     "metadata": {},
     "output_type": "display_data"
    },
    {
     "data": {
      "text/html": [
       "\n",
       "    <div style=\"font-size: 15pt; \n",
       "                font-family: Times New Roman; \n",
       "                direction: rtl; \n",
       "                color:;\n",
       "                width: 80%\">\n",
       "\n",
       "                6&nbsp;&nbsp;xQt0&nbsp;&nbsp;&nbsp;&nbsp;..................אֲשֶׁ֣ר הֹֽעֲלָ֔ה עַל־סֵ֖פֶר מַלְכֵ֥י יִשְׂרָאֵֽל׃  \n",
       "    </div>\n",
       "    "
      ],
      "text/plain": [
       "<IPython.core.display.HTML object>"
      ]
     },
     "metadata": {},
     "output_type": "display_data"
    },
    {
     "data": {
      "text/html": [
       "\n",
       "    <div style=\"font-size: 15pt; \n",
       "                font-family: Times New Roman; \n",
       "                direction: rtl; \n",
       "                color:blue;\n",
       "                width: 80%\">\n",
       "\n",
       "                1&nbsp;&nbsp;WxQX&nbsp;&nbsp;&nbsp;&nbsp;...וְאַחֲרֵיכֵ֗ן אֶתְחַבַּר֙ יְהֹושָׁפָ֣ט מֶֽלֶךְ־יְהוּדָ֔ה עִ֖ם אֲחַזְיָ֣ה מֶֽלֶךְ־יִשְׂרָאֵ֑ל  \n",
       "    </div>\n",
       "    "
      ],
      "text/plain": [
       "<IPython.core.display.HTML object>"
      ]
     },
     "metadata": {},
     "output_type": "display_data"
    },
    {
     "data": {
      "text/html": [
       "\n",
       "    <div style=\"font-size: 15pt; \n",
       "                font-family: Times New Roman; \n",
       "                direction: rtl; \n",
       "                color:;\n",
       "                width: 80%\">\n",
       "\n",
       "                3&nbsp;&nbsp;XQtl&nbsp;&nbsp;&nbsp;&nbsp;.........ה֖וּא הִרְשִׁ֥יעַ  \n",
       "    </div>\n",
       "    "
      ],
      "text/plain": [
       "<IPython.core.display.HTML object>"
      ]
     },
     "metadata": {},
     "output_type": "display_data"
    },
    {
     "data": {
      "text/html": [
       "\n",
       "    <div style=\"font-size: 15pt; \n",
       "                font-family: Times New Roman; \n",
       "                direction: rtl; \n",
       "                color:;\n",
       "                width: 80%\">\n",
       "\n",
       "                4&nbsp;&nbsp;InfC&nbsp;&nbsp;&nbsp;&nbsp;............לַעֲשֹֽׂות׃  \n",
       "    </div>\n",
       "    "
      ],
      "text/plain": [
       "<IPython.core.display.HTML object>"
      ]
     },
     "metadata": {},
     "output_type": "display_data"
    },
    {
     "data": {
      "text/html": [
       "\n",
       "    <div style=\"font-size: 15pt; \n",
       "                font-family: Times New Roman; \n",
       "                direction: rtl; \n",
       "                color:;\n",
       "                width: 80%\">\n",
       "\n",
       "                2&nbsp;&nbsp;Way0&nbsp;&nbsp;&nbsp;&nbsp;......וַיְחַבְּרֵ֣הוּ עִמֹּ֔ו  \n",
       "    </div>\n",
       "    "
      ],
      "text/plain": [
       "<IPython.core.display.HTML object>"
      ]
     },
     "metadata": {},
     "output_type": "display_data"
    },
    {
     "data": {
      "text/html": [
       "\n",
       "    <div style=\"font-size: 15pt; \n",
       "                font-family: Times New Roman; \n",
       "                direction: rtl; \n",
       "                color:;\n",
       "                width: 80%\">\n",
       "\n",
       "                6&nbsp;&nbsp;InfC&nbsp;&nbsp;&nbsp;&nbsp;..................לַעֲשֹׂ֥ות אֳנִיֹּ֖ות  \n",
       "    </div>\n",
       "    "
      ],
      "text/plain": [
       "<IPython.core.display.HTML object>"
      ]
     },
     "metadata": {},
     "output_type": "display_data"
    },
    {
     "data": {
      "text/html": [
       "\n",
       "    <div style=\"font-size: 15pt; \n",
       "                font-family: Times New Roman; \n",
       "                direction: rtl; \n",
       "                color:;\n",
       "                width: 80%\">\n",
       "\n",
       "                7&nbsp;&nbsp;InfC&nbsp;&nbsp;&nbsp;&nbsp;.....................לָלֶ֣כֶת תַּרְשִׁ֑ישׁ  \n",
       "    </div>\n",
       "    "
      ],
      "text/plain": [
       "<IPython.core.display.HTML object>"
      ]
     },
     "metadata": {},
     "output_type": "display_data"
    },
    {
     "data": {
      "text/html": [
       "\n",
       "    <div style=\"font-size: 15pt; \n",
       "                font-family: Times New Roman; \n",
       "                direction: rtl; \n",
       "                color:;\n",
       "                width: 80%\">\n",
       "\n",
       "                5&nbsp;&nbsp;Way0&nbsp;&nbsp;&nbsp;&nbsp;...............וַיַּעֲשׂ֥וּ אֳנִיֹּ֖ות בְּעֶצְיֹ֥ון גָּֽבֶר׃  \n",
       "    </div>\n",
       "    "
      ],
      "text/plain": [
       "<IPython.core.display.HTML object>"
      ]
     },
     "metadata": {},
     "output_type": "display_data"
    },
    {
     "data": {
      "text/html": [
       "\n",
       "    <div style=\"font-size: 15pt; \n",
       "                font-family: Times New Roman; \n",
       "                direction: rtl; \n",
       "                color:;\n",
       "                width: 80%\">\n",
       "\n",
       "                4&nbsp;&nbsp;WayX&nbsp;&nbsp;&nbsp;&nbsp;............וַיִּתְנַבֵּ֞א אֱלִיעֶ֤זֶר בֶּן־דֹּדָוָ֨הוּ֙ מִמָּ֣רֵשָׁ֔ה עַל־יְהֹושָׁפָ֖ט  \n",
       "    </div>\n",
       "    "
      ],
      "text/plain": [
       "<IPython.core.display.HTML object>"
      ]
     },
     "metadata": {},
     "output_type": "display_data"
    },
    {
     "data": {
      "text/html": [
       "\n",
       "    <div style=\"font-size: 15pt; \n",
       "                font-family: Times New Roman; \n",
       "                direction: rtl; \n",
       "                color:;\n",
       "                width: 80%\">\n",
       "\n",
       "                5&nbsp;&nbsp;InfC&nbsp;&nbsp;&nbsp;&nbsp;...............לֵאמֹ֑ר  \n",
       "    </div>\n",
       "    "
      ],
      "text/plain": [
       "<IPython.core.display.HTML object>"
      ]
     },
     "metadata": {},
     "output_type": "display_data"
    },
    {
     "data": {
      "text/html": [
       "\n",
       "    <div style=\"font-size: 15pt; \n",
       "                font-family: Times New Roman; \n",
       "                direction: rtl; \n",
       "                color:;\n",
       "                width: 80%\">\n",
       "\n",
       "                7&nbsp;&nbsp;InfC&nbsp;&nbsp;&nbsp;&nbsp;.....................כְּהִֽתְחַבֶּרְךָ֣ עִם־אֲחַזְיָ֗הוּ  \n",
       "    </div>\n",
       "    "
      ],
      "text/plain": [
       "<IPython.core.display.HTML object>"
      ]
     },
     "metadata": {},
     "output_type": "display_data"
    },
    {
     "data": {
      "text/html": [
       "\n",
       "    <div style=\"font-size: 15pt; \n",
       "                font-family: Times New Roman; \n",
       "                direction: rtl; \n",
       "                color:;\n",
       "                width: 80%\">\n",
       "\n",
       "                6&nbsp;&nbsp;ZQtX&nbsp;&nbsp;&nbsp;&nbsp;..................פָּרַ֤ץ יְהוָה֙ אֶֽת־מַעֲשֶׂ֔יךָ  \n",
       "    </div>\n",
       "    "
      ],
      "text/plain": [
       "<IPython.core.display.HTML object>"
      ]
     },
     "metadata": {},
     "output_type": "display_data"
    },
    {
     "data": {
      "text/html": [
       "\n",
       "    <div style=\"font-size: 15pt; \n",
       "                font-family: Times New Roman; \n",
       "                direction: rtl; \n",
       "                color:;\n",
       "                width: 80%\">\n",
       "\n",
       "                3&nbsp;&nbsp;WayX&nbsp;&nbsp;&nbsp;&nbsp;.........וַיִּשָּׁבְר֣וּ אֳנִיֹּ֔ות  \n",
       "    </div>\n",
       "    "
      ],
      "text/plain": [
       "<IPython.core.display.HTML object>"
      ]
     },
     "metadata": {},
     "output_type": "display_data"
    },
    {
     "data": {
      "text/html": [
       "\n",
       "    <div style=\"font-size: 15pt; \n",
       "                font-family: Times New Roman; \n",
       "                direction: rtl; \n",
       "                color:;\n",
       "                width: 80%\">\n",
       "\n",
       "                4&nbsp;&nbsp;WxQ0&nbsp;&nbsp;&nbsp;&nbsp;............וְלֹ֥א עָצְר֖וּ  \n",
       "    </div>\n",
       "    "
      ],
      "text/plain": [
       "<IPython.core.display.HTML object>"
      ]
     },
     "metadata": {},
     "output_type": "display_data"
    },
    {
     "data": {
      "text/html": [
       "\n",
       "    <div style=\"font-size: 15pt; \n",
       "                font-family: Times New Roman; \n",
       "                direction: rtl; \n",
       "                color:;\n",
       "                width: 80%\">\n",
       "\n",
       "                5&nbsp;&nbsp;InfC&nbsp;&nbsp;&nbsp;&nbsp;...............לָלֶ֥כֶת אֶל־תַּרְשִֽׁישׁ׃  \n",
       "    </div>\n",
       "    "
      ],
      "text/plain": [
       "<IPython.core.display.HTML object>"
      ]
     },
     "metadata": {},
     "output_type": "display_data"
    }
   ],
   "source": [
    "display_edge_cases(for_forever_wayyiqtols)"
   ]
  }
 ],
 "metadata": {
  "kernelspec": {
   "display_name": "Python 3",
   "language": "python",
   "name": "python3"
  },
  "language_info": {
   "codemirror_mode": {
    "name": "ipython",
    "version": 3
   },
   "file_extension": ".py",
   "mimetype": "text/x-python",
   "name": "python",
   "nbconvert_exporter": "python",
   "pygments_lexer": "ipython3",
   "version": "3.6.1"
  }
 },
 "nbformat": 4,
 "nbformat_minor": 2
}
