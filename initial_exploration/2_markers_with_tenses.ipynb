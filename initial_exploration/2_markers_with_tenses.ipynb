{
 "cells": [
  {
   "cell_type": "markdown",
   "metadata": {},
   "source": [
    "# Time Markers with Marked Tenses\n",
    "\n",
    "This notebook examines time markers with a marked tendency to prefer a certain tense. A \"marked tendency,\" for the purpose of this analysis, is considered a time marker with a tense that has >50% share. This analysis primarily examines the top 50 time markers.\n",
    "\n",
    "The analysis uses the data initially gathered in `1_exploration.ipynb`."
   ]
  },
  {
   "cell_type": "code",
   "execution_count": 1,
   "metadata": {},
   "outputs": [
    {
     "name": "stdout",
     "output_type": "stream",
     "text": [
      "  0.00s loading features ...\n",
      "   |     0.01s B book                 from /Users/Cody/github/text-fabric-data/hebrew/etcbc4c\n",
      "   |     0.00s B chapter              from /Users/Cody/github/text-fabric-data/hebrew/etcbc4c\n",
      "   |     0.01s B verse                from /Users/Cody/github/text-fabric-data/hebrew/etcbc4c\n",
      "   |     0.12s B pdp                  from /Users/Cody/github/text-fabric-data/hebrew/etcbc4c\n",
      "   |     0.12s B vt                   from /Users/Cody/github/text-fabric-data/hebrew/etcbc4c\n",
      "   |     0.02s B domain               from /Users/Cody/github/text-fabric-data/hebrew/etcbc4c\n",
      "   |     0.12s B lex                  from /Users/Cody/github/text-fabric-data/hebrew/etcbc4c\n",
      "   |     0.00s Feature overview: 103 for nodes; 5 for edges; 1 configs; 7 computed\n",
      "  4.54s All features loaded/computed - for details use loadLog()\n"
     ]
    }
   ],
   "source": [
    "import pickle, collections\n",
    "import pandas as pd\n",
    "from pprint import pprint\n",
    "from tf.fabric import Fabric\n",
    "from IPython.display import display, HTML\n",
    "\n",
    "TF = Fabric(modules='hebrew/etcbc4c', silent=True)\n",
    "api = TF.load('''book chapter verse\n",
    "                 pdp vt domain lex\n",
    "              ''')\n",
    "\n",
    "api.makeAvailableIn(globals())"
   ]
  },
  {
   "cell_type": "code",
   "execution_count": 2,
   "metadata": {
    "collapsed": true
   },
   "outputs": [],
   "source": [
    "# import custom function for weqetal detection\n",
    "from functions.verbs import is_weqt"
   ]
  },
  {
   "cell_type": "code",
   "execution_count": 3,
   "metadata": {},
   "outputs": [
    {
     "name": "stdout",
     "output_type": "stream",
     "text": [
      "data available:  markers, top_markers, stats_rows\n"
     ]
    }
   ],
   "source": [
    "# import time markers data\n",
    "tm_data_file = 'data/time_markers.pickle'\n",
    "\n",
    "# load data\n",
    "with open(tm_data_file, 'rb') as infile:\n",
    "    tm_data = pickle.load(infile)\n",
    "\n",
    "print('data available: ', ', '.join(tm_data.keys()))"
   ]
  },
  {
   "cell_type": "code",
   "execution_count": 4,
   "metadata": {
    "collapsed": true
   },
   "outputs": [],
   "source": [
    "# assign the data\n",
    "markers = tm_data['markers']\n",
    "top_markers = tm_data['top_markers']\n",
    "stats_rows = tm_data['stats_rows']"
   ]
  },
  {
   "cell_type": "code",
   "execution_count": 5,
   "metadata": {
    "collapsed": true
   },
   "outputs": [],
   "source": [
    "def predominant_counts(marker_list, marker_data, threshold=50.):\n",
    "    '''\n",
    "    Return a dict of all time markers with a predominance > a threshold percentage.\n",
    "    Require a list of markers (ETCBC transcription),\n",
    "        and a marker_data dictionary with tense percentages.\n",
    "    '''\n",
    "    \n",
    "    tense_predominance = collections.defaultdict(list)\n",
    "    \n",
    "    for marker in marker_list:\n",
    "        \n",
    "        marker = marker[0]\n",
    "        \n",
    "        # look for tenses that meet the threshold; if multiple, take highest\n",
    "        at_threshold = sorted(((tense, perc) for tense, perc in marker_data[marker]['tense_percents'].items()\n",
    "                                 if perc >= threshold), reverse=True)\n",
    "        \n",
    "        tense = at_threshold[0][0] if at_threshold else None\n",
    "        \n",
    "        if tense:\n",
    "            tense_predominance[tense].append(marker)\n",
    "            \n",
    "    return tense_predominance\n",
    "\n",
    "\n",
    "def predominant_table(tense, markers_with_predominance):\n",
    "    \n",
    "    '''\n",
    "    Return a data frame containing time markers with >50% of the supplied tense.\n",
    "    Require a tense string.\n",
    "    '''\n",
    "    \n",
    "    marker_rows = [stats_rows[marker] for marker in markers_with_predominance[tense]]\n",
    "    \n",
    "    # display the data with pd dataframe\n",
    "    marker_table = pd.DataFrame(marker_rows, columns=tm_data['stats_rows']['header'])\n",
    "    \n",
    "    return marker_table"
   ]
  },
  {
   "cell_type": "markdown",
   "metadata": {},
   "source": [
    "# Examine Tense Predominance Among Markers"
   ]
  },
  {
   "cell_type": "code",
   "execution_count": 6,
   "metadata": {
    "collapsed": true
   },
   "outputs": [],
   "source": [
    "# markers with >50% of a tense\n",
    "markers_predominant_50 = predominant_counts(top_markers, markers).items()\n",
    "\n",
    "# sort 50% markers greatest to least \n",
    "markers_predominant_50 = collections.OrderedDict(sorted(markers_predominant_50, \n",
    "                                                         key=lambda k: len(k[1]), \n",
    "                                                         reverse=True))\n",
    "# markers with >40% of a tense\n",
    "markers_predominant_40 = predominant_counts(top_markers, markers, threshold=40.).items()\n",
    "\n",
    "# sort 40% markers greatest to least \n",
    "markers_predominant_40 = collections.OrderedDict(sorted(markers_predominant_40, \n",
    "                                                         key=lambda k: len(k[1]), \n",
    "                                                         reverse=True))"
   ]
  },
  {
   "cell_type": "markdown",
   "metadata": {},
   "source": [
    "### How common is tense predominace compared to the total sample size (i.e. out of 50)? "
   ]
  },
  {
   "cell_type": "code",
   "execution_count": 7,
   "metadata": {},
   "outputs": [
    {
     "name": "stdout",
     "output_type": "stream",
     "text": [
      "25/50 (50%) time markers are 50% predominant\n",
      "39/50 (78%) time markers are 40% dominant\n"
     ]
    }
   ],
   "source": [
    "number_sampled = len(top_markers) # evals to 50\n",
    "\n",
    "# >50%\n",
    "num_predominant_50 = len([marker for tense in markers_predominant_50\n",
    "                             for marker in markers_predominant_50[tense]])\n",
    "perc_predominant_50 = round((num_predominant_50/number_sampled)*100)\n",
    "\n",
    "# >40%\n",
    "num_predominant_40 = len([marker for tense in markers_predominant_40\n",
    "                             for marker in markers_predominant_40[tense]])\n",
    "perc_predominant_40 = round((num_predominant_40/number_sampled)*100)\n",
    "\n",
    "print(f'{num_predominant_50}/{number_sampled} ({perc_predominant_50}%) time markers are 50% predominant')\n",
    "print(f'{num_predominant_40}/{number_sampled} ({perc_predominant_40}%) time markers are 40% dominant')"
   ]
  },
  {
   "cell_type": "markdown",
   "metadata": {},
   "source": [
    "These figures support the thesis that time markers can be influential on tense choice. More is needed, though, to determine what other factors around a time marker are influential."
   ]
  },
  {
   "cell_type": "markdown",
   "metadata": {},
   "source": [
    "# Display Data for Time Markers with Predominant Tense"
   ]
  },
  {
   "cell_type": "code",
   "execution_count": 8,
   "metadata": {
    "scrolled": false
   },
   "outputs": [
    {
     "name": "stdout",
     "output_type": "stream",
     "text": [
      "\n"
     ]
    },
    {
     "data": {
      "text/html": [
       "<span style=\"text-align: center\"><h1>Markers with Tense Predominance</h1></span>"
      ],
      "text/plain": [
       "<IPython.core.display.HTML object>"
      ]
     },
     "metadata": {},
     "output_type": "display_data"
    },
    {
     "name": "stdout",
     "output_type": "stream",
     "text": [
      "\n"
     ]
    },
    {
     "data": {
      "text/html": [
       "<h2>1.&nbsp;&nbsp;impf</h2>"
      ],
      "text/plain": [
       "<IPython.core.display.HTML object>"
      ]
     },
     "metadata": {},
     "output_type": "display_data"
    },
    {
     "data": {
      "text/html": [
       "<div>\n",
       "<table border=\"1\" class=\"dataframe\">\n",
       "  <thead>\n",
       "    <tr style=\"text-align: right;\">\n",
       "      <th></th>\n",
       "      <th>marker</th>\n",
       "      <th>occur</th>\n",
       "      <th>impf</th>\n",
       "      <th>impv</th>\n",
       "      <th>infa</th>\n",
       "      <th>infc</th>\n",
       "      <th>perf</th>\n",
       "      <th>ptca</th>\n",
       "      <th>ptcp</th>\n",
       "      <th>wayq</th>\n",
       "      <th>weqt</th>\n",
       "    </tr>\n",
       "  </thead>\n",
       "  <tbody>\n",
       "    <tr>\n",
       "      <th>0</th>\n",
       "      <td>&lt;TH</td>\n",
       "      <td>78</td>\n",
       "      <td>50.0% (39)</td>\n",
       "      <td>9.0% (7)</td>\n",
       "      <td>0% (0)</td>\n",
       "      <td>0% (0)</td>\n",
       "      <td>37.2% (29)</td>\n",
       "      <td>1.3% (1)</td>\n",
       "      <td>2.6% (2)</td>\n",
       "      <td>0% (0)</td>\n",
       "      <td>0% (0)</td>\n",
       "    </tr>\n",
       "    <tr>\n",
       "      <th>1</th>\n",
       "      <td>L &lt;WLM</td>\n",
       "      <td>76</td>\n",
       "      <td>60.5% (46)</td>\n",
       "      <td>3.9% (3)</td>\n",
       "      <td>0% (0)</td>\n",
       "      <td>7.9% (6)</td>\n",
       "      <td>11.8% (9)</td>\n",
       "      <td>3.9% (3)</td>\n",
       "      <td>2.6% (2)</td>\n",
       "      <td>2.6% (2)</td>\n",
       "      <td>6.6% (5)</td>\n",
       "    </tr>\n",
       "    <tr>\n",
       "      <th>2</th>\n",
       "      <td>&gt;Z</td>\n",
       "      <td>57</td>\n",
       "      <td>68.4% (39)</td>\n",
       "      <td>0% (0)</td>\n",
       "      <td>0% (0)</td>\n",
       "      <td>0% (0)</td>\n",
       "      <td>29.8% (17)</td>\n",
       "      <td>1.8% (1)</td>\n",
       "      <td>0% (0)</td>\n",
       "      <td>0% (0)</td>\n",
       "      <td>0% (0)</td>\n",
       "    </tr>\n",
       "    <tr>\n",
       "      <th>3</th>\n",
       "      <td>&gt;XR</td>\n",
       "      <td>31</td>\n",
       "      <td>67.7% (21)</td>\n",
       "      <td>0% (0)</td>\n",
       "      <td>0% (0)</td>\n",
       "      <td>0% (0)</td>\n",
       "      <td>32.3% (10)</td>\n",
       "      <td>0% (0)</td>\n",
       "      <td>0% (0)</td>\n",
       "      <td>0% (0)</td>\n",
       "      <td>0% (0)</td>\n",
       "    </tr>\n",
       "    <tr>\n",
       "      <th>4</th>\n",
       "      <td>MXR</td>\n",
       "      <td>28</td>\n",
       "      <td>64.3% (18)</td>\n",
       "      <td>17.9% (5)</td>\n",
       "      <td>0% (0)</td>\n",
       "      <td>0% (0)</td>\n",
       "      <td>0% (0)</td>\n",
       "      <td>7.1% (2)</td>\n",
       "      <td>3.6% (1)</td>\n",
       "      <td>0% (0)</td>\n",
       "      <td>7.1% (2)</td>\n",
       "    </tr>\n",
       "    <tr>\n",
       "      <th>5</th>\n",
       "      <td>L NYX</td>\n",
       "      <td>24</td>\n",
       "      <td>83.3% (20)</td>\n",
       "      <td>0% (0)</td>\n",
       "      <td>0% (0)</td>\n",
       "      <td>0% (0)</td>\n",
       "      <td>16.7% (4)</td>\n",
       "      <td>0% (0)</td>\n",
       "      <td>0% (0)</td>\n",
       "      <td>0% (0)</td>\n",
       "      <td>0% (0)</td>\n",
       "    </tr>\n",
       "    <tr>\n",
       "      <th>6</th>\n",
       "      <td>&lt;D MTJ</td>\n",
       "      <td>19</td>\n",
       "      <td>78.9% (15)</td>\n",
       "      <td>0% (0)</td>\n",
       "      <td>0% (0)</td>\n",
       "      <td>0% (0)</td>\n",
       "      <td>10.5% (2)</td>\n",
       "      <td>10.5% (2)</td>\n",
       "      <td>0% (0)</td>\n",
       "      <td>0% (0)</td>\n",
       "      <td>0% (0)</td>\n",
       "    </tr>\n",
       "    <tr>\n",
       "      <th>7</th>\n",
       "      <td>CCT JMJM</td>\n",
       "      <td>14</td>\n",
       "      <td>71.4% (10)</td>\n",
       "      <td>0% (0)</td>\n",
       "      <td>0% (0)</td>\n",
       "      <td>0% (0)</td>\n",
       "      <td>21.4% (3)</td>\n",
       "      <td>0% (0)</td>\n",
       "      <td>0% (0)</td>\n",
       "      <td>7.1% (1)</td>\n",
       "      <td>0% (0)</td>\n",
       "    </tr>\n",
       "    <tr>\n",
       "      <th>8</th>\n",
       "      <td>&lt;D &gt;NH</td>\n",
       "      <td>12</td>\n",
       "      <td>75.0% (9)</td>\n",
       "      <td>0% (0)</td>\n",
       "      <td>0% (0)</td>\n",
       "      <td>0% (0)</td>\n",
       "      <td>16.7% (2)</td>\n",
       "      <td>8.3% (1)</td>\n",
       "      <td>0% (0)</td>\n",
       "      <td>0% (0)</td>\n",
       "      <td>0% (0)</td>\n",
       "    </tr>\n",
       "    <tr>\n",
       "      <th>9</th>\n",
       "      <td>B  JWM H CMJNJ</td>\n",
       "      <td>12</td>\n",
       "      <td>66.7% (8)</td>\n",
       "      <td>0% (0)</td>\n",
       "      <td>0% (0)</td>\n",
       "      <td>0% (0)</td>\n",
       "      <td>8.3% (1)</td>\n",
       "      <td>0% (0)</td>\n",
       "      <td>0% (0)</td>\n",
       "      <td>16.7% (2)</td>\n",
       "      <td>8.3% (1)</td>\n",
       "    </tr>\n",
       "    <tr>\n",
       "      <th>10</th>\n",
       "      <td>L &lt;D</td>\n",
       "      <td>11</td>\n",
       "      <td>81.8% (9)</td>\n",
       "      <td>0% (0)</td>\n",
       "      <td>0% (0)</td>\n",
       "      <td>0% (0)</td>\n",
       "      <td>0% (0)</td>\n",
       "      <td>18.2% (2)</td>\n",
       "      <td>0% (0)</td>\n",
       "      <td>0% (0)</td>\n",
       "      <td>0% (0)</td>\n",
       "    </tr>\n",
       "    <tr>\n",
       "      <th>11</th>\n",
       "      <td>&lt;D BQR</td>\n",
       "      <td>10</td>\n",
       "      <td>70.0% (7)</td>\n",
       "      <td>0% (0)</td>\n",
       "      <td>0% (0)</td>\n",
       "      <td>0% (0)</td>\n",
       "      <td>10.0% (1)</td>\n",
       "      <td>10.0% (1)</td>\n",
       "      <td>0% (0)</td>\n",
       "      <td>10.0% (1)</td>\n",
       "      <td>0% (0)</td>\n",
       "    </tr>\n",
       "  </tbody>\n",
       "</table>\n",
       "</div>"
      ],
      "text/plain": [
       "            marker  occur        impf       impv    infa      infc  \\\n",
       "0              <TH     78  50.0% (39)   9.0% (7)  0% (0)    0% (0)   \n",
       "1           L <WLM     76  60.5% (46)   3.9% (3)  0% (0)  7.9% (6)   \n",
       "2               >Z     57  68.4% (39)     0% (0)  0% (0)    0% (0)   \n",
       "3              >XR     31  67.7% (21)     0% (0)  0% (0)    0% (0)   \n",
       "4              MXR     28  64.3% (18)  17.9% (5)  0% (0)    0% (0)   \n",
       "5            L NYX     24  83.3% (20)     0% (0)  0% (0)    0% (0)   \n",
       "6           <D MTJ     19  78.9% (15)     0% (0)  0% (0)    0% (0)   \n",
       "7         CCT JMJM     14  71.4% (10)     0% (0)  0% (0)    0% (0)   \n",
       "8           <D >NH     12   75.0% (9)     0% (0)  0% (0)    0% (0)   \n",
       "9   B  JWM H CMJNJ     12   66.7% (8)     0% (0)  0% (0)    0% (0)   \n",
       "10            L <D     11   81.8% (9)     0% (0)  0% (0)    0% (0)   \n",
       "11          <D BQR     10   70.0% (7)     0% (0)  0% (0)    0% (0)   \n",
       "\n",
       "          perf       ptca      ptcp       wayq      weqt  \n",
       "0   37.2% (29)   1.3% (1)  2.6% (2)     0% (0)    0% (0)  \n",
       "1    11.8% (9)   3.9% (3)  2.6% (2)   2.6% (2)  6.6% (5)  \n",
       "2   29.8% (17)   1.8% (1)    0% (0)     0% (0)    0% (0)  \n",
       "3   32.3% (10)     0% (0)    0% (0)     0% (0)    0% (0)  \n",
       "4       0% (0)   7.1% (2)  3.6% (1)     0% (0)  7.1% (2)  \n",
       "5    16.7% (4)     0% (0)    0% (0)     0% (0)    0% (0)  \n",
       "6    10.5% (2)  10.5% (2)    0% (0)     0% (0)    0% (0)  \n",
       "7    21.4% (3)     0% (0)    0% (0)   7.1% (1)    0% (0)  \n",
       "8    16.7% (2)   8.3% (1)    0% (0)     0% (0)    0% (0)  \n",
       "9     8.3% (1)     0% (0)    0% (0)  16.7% (2)  8.3% (1)  \n",
       "10      0% (0)  18.2% (2)    0% (0)     0% (0)    0% (0)  \n",
       "11   10.0% (1)  10.0% (1)    0% (0)  10.0% (1)    0% (0)  "
      ]
     },
     "metadata": {},
     "output_type": "display_data"
    },
    {
     "data": {
      "text/html": [
       "<hr>"
      ],
      "text/plain": [
       "<IPython.core.display.HTML object>"
      ]
     },
     "metadata": {},
     "output_type": "display_data"
    },
    {
     "data": {
      "text/html": [
       "<h2>2.&nbsp;&nbsp;wayq</h2>"
      ],
      "text/plain": [
       "<IPython.core.display.HTML object>"
      ]
     },
     "metadata": {},
     "output_type": "display_data"
    },
    {
     "data": {
      "text/html": [
       "<div>\n",
       "<table border=\"1\" class=\"dataframe\">\n",
       "  <thead>\n",
       "    <tr style=\"text-align: right;\">\n",
       "      <th></th>\n",
       "      <th>marker</th>\n",
       "      <th>occur</th>\n",
       "      <th>impf</th>\n",
       "      <th>impv</th>\n",
       "      <th>infa</th>\n",
       "      <th>infc</th>\n",
       "      <th>perf</th>\n",
       "      <th>ptca</th>\n",
       "      <th>ptcp</th>\n",
       "      <th>wayq</th>\n",
       "      <th>weqt</th>\n",
       "    </tr>\n",
       "  </thead>\n",
       "  <tbody>\n",
       "    <tr>\n",
       "      <th>0</th>\n",
       "      <td>B  BQR</td>\n",
       "      <td>76</td>\n",
       "      <td>13.2% (10)</td>\n",
       "      <td>10.5% (8)</td>\n",
       "      <td>1.3% (1)</td>\n",
       "      <td>3.9% (3)</td>\n",
       "      <td>2.6% (2)</td>\n",
       "      <td>3.9% (3)</td>\n",
       "      <td>0% (0)</td>\n",
       "      <td>55.3% (42)</td>\n",
       "      <td>9.2% (7)</td>\n",
       "    </tr>\n",
       "    <tr>\n",
       "      <th>1</th>\n",
       "      <td>&lt;D H JWM H ZH</td>\n",
       "      <td>58</td>\n",
       "      <td>5.2% (3)</td>\n",
       "      <td>0% (0)</td>\n",
       "      <td>0% (0)</td>\n",
       "      <td>1.7% (1)</td>\n",
       "      <td>29.3% (17)</td>\n",
       "      <td>3.4% (2)</td>\n",
       "      <td>0% (0)</td>\n",
       "      <td>60.3% (35)</td>\n",
       "      <td>0% (0)</td>\n",
       "    </tr>\n",
       "    <tr>\n",
       "      <th>2</th>\n",
       "      <td>LJLH</td>\n",
       "      <td>33</td>\n",
       "      <td>6.1% (2)</td>\n",
       "      <td>3.0% (1)</td>\n",
       "      <td>0% (0)</td>\n",
       "      <td>3.0% (1)</td>\n",
       "      <td>15.2% (5)</td>\n",
       "      <td>12.1% (4)</td>\n",
       "      <td>0% (0)</td>\n",
       "      <td>54.5% (18)</td>\n",
       "      <td>6.1% (2)</td>\n",
       "    </tr>\n",
       "    <tr>\n",
       "      <th>3</th>\n",
       "      <td>M MXRT</td>\n",
       "      <td>18</td>\n",
       "      <td>0% (0)</td>\n",
       "      <td>0% (0)</td>\n",
       "      <td>0% (0)</td>\n",
       "      <td>0% (0)</td>\n",
       "      <td>0% (0)</td>\n",
       "      <td>0% (0)</td>\n",
       "      <td>0% (0)</td>\n",
       "      <td>100.0% (18)</td>\n",
       "      <td>0% (0)</td>\n",
       "    </tr>\n",
       "    <tr>\n",
       "      <th>4</th>\n",
       "      <td>B  &lt;T H HW&gt;</td>\n",
       "      <td>18</td>\n",
       "      <td>0% (0)</td>\n",
       "      <td>0% (0)</td>\n",
       "      <td>0% (0)</td>\n",
       "      <td>0% (0)</td>\n",
       "      <td>33.3% (6)</td>\n",
       "      <td>5.6% (1)</td>\n",
       "      <td>0% (0)</td>\n",
       "      <td>61.1% (11)</td>\n",
       "      <td>0% (0)</td>\n",
       "    </tr>\n",
       "    <tr>\n",
       "      <th>5</th>\n",
       "      <td>JMJM RBJM</td>\n",
       "      <td>16</td>\n",
       "      <td>31.2% (5)</td>\n",
       "      <td>0% (0)</td>\n",
       "      <td>0% (0)</td>\n",
       "      <td>0% (0)</td>\n",
       "      <td>6.2% (1)</td>\n",
       "      <td>6.2% (1)</td>\n",
       "      <td>0% (0)</td>\n",
       "      <td>56.2% (9)</td>\n",
       "      <td>0% (0)</td>\n",
       "    </tr>\n",
       "    <tr>\n",
       "      <th>6</th>\n",
       "      <td>B  LJLH H HW&gt;</td>\n",
       "      <td>15</td>\n",
       "      <td>0% (0)</td>\n",
       "      <td>0% (0)</td>\n",
       "      <td>0% (0)</td>\n",
       "      <td>0% (0)</td>\n",
       "      <td>13.3% (2)</td>\n",
       "      <td>6.7% (1)</td>\n",
       "      <td>0% (0)</td>\n",
       "      <td>80.0% (12)</td>\n",
       "      <td>0% (0)</td>\n",
       "    </tr>\n",
       "    <tr>\n",
       "      <th>7</th>\n",
       "      <td>CLCT JMJM</td>\n",
       "      <td>10</td>\n",
       "      <td>0% (0)</td>\n",
       "      <td>10.0% (1)</td>\n",
       "      <td>0% (0)</td>\n",
       "      <td>10.0% (1)</td>\n",
       "      <td>20.0% (2)</td>\n",
       "      <td>0% (0)</td>\n",
       "      <td>0% (0)</td>\n",
       "      <td>50.0% (5)</td>\n",
       "      <td>10.0% (1)</td>\n",
       "    </tr>\n",
       "  </tbody>\n",
       "</table>\n",
       "</div>"
      ],
      "text/plain": [
       "          marker  occur        impf       impv      infa       infc  \\\n",
       "0         B  BQR     76  13.2% (10)  10.5% (8)  1.3% (1)   3.9% (3)   \n",
       "1  <D H JWM H ZH     58    5.2% (3)     0% (0)    0% (0)   1.7% (1)   \n",
       "2           LJLH     33    6.1% (2)   3.0% (1)    0% (0)   3.0% (1)   \n",
       "3         M MXRT     18      0% (0)     0% (0)    0% (0)     0% (0)   \n",
       "4    B  <T H HW>     18      0% (0)     0% (0)    0% (0)     0% (0)   \n",
       "5      JMJM RBJM     16   31.2% (5)     0% (0)    0% (0)     0% (0)   \n",
       "6  B  LJLH H HW>     15      0% (0)     0% (0)    0% (0)     0% (0)   \n",
       "7      CLCT JMJM     10      0% (0)  10.0% (1)    0% (0)  10.0% (1)   \n",
       "\n",
       "         perf       ptca    ptcp         wayq       weqt  \n",
       "0    2.6% (2)   3.9% (3)  0% (0)   55.3% (42)   9.2% (7)  \n",
       "1  29.3% (17)   3.4% (2)  0% (0)   60.3% (35)     0% (0)  \n",
       "2   15.2% (5)  12.1% (4)  0% (0)   54.5% (18)   6.1% (2)  \n",
       "3      0% (0)     0% (0)  0% (0)  100.0% (18)     0% (0)  \n",
       "4   33.3% (6)   5.6% (1)  0% (0)   61.1% (11)     0% (0)  \n",
       "5    6.2% (1)   6.2% (1)  0% (0)    56.2% (9)     0% (0)  \n",
       "6   13.3% (2)   6.7% (1)  0% (0)   80.0% (12)     0% (0)  \n",
       "7   20.0% (2)     0% (0)  0% (0)    50.0% (5)  10.0% (1)  "
      ]
     },
     "metadata": {},
     "output_type": "display_data"
    },
    {
     "data": {
      "text/html": [
       "<hr>"
      ],
      "text/plain": [
       "<IPython.core.display.HTML object>"
      ]
     },
     "metadata": {},
     "output_type": "display_data"
    },
    {
     "data": {
      "text/html": [
       "<h2>3.&nbsp;&nbsp;perf</h2>"
      ],
      "text/plain": [
       "<IPython.core.display.HTML object>"
      ]
     },
     "metadata": {},
     "output_type": "display_data"
    },
    {
     "data": {
      "text/html": [
       "<div>\n",
       "<table border=\"1\" class=\"dataframe\">\n",
       "  <thead>\n",
       "    <tr style=\"text-align: right;\">\n",
       "      <th></th>\n",
       "      <th>marker</th>\n",
       "      <th>occur</th>\n",
       "      <th>impf</th>\n",
       "      <th>impv</th>\n",
       "      <th>infa</th>\n",
       "      <th>infc</th>\n",
       "      <th>perf</th>\n",
       "      <th>ptca</th>\n",
       "      <th>ptcp</th>\n",
       "      <th>wayq</th>\n",
       "      <th>weqt</th>\n",
       "    </tr>\n",
       "  </thead>\n",
       "  <tbody>\n",
       "    <tr>\n",
       "      <th>0</th>\n",
       "      <td>H JWM H ZH</td>\n",
       "      <td>26</td>\n",
       "      <td>26.9% (7)</td>\n",
       "      <td>3.8% (1)</td>\n",
       "      <td>0% (0)</td>\n",
       "      <td>0% (0)</td>\n",
       "      <td>53.8% (14)</td>\n",
       "      <td>3.8% (1)</td>\n",
       "      <td>0% (0)</td>\n",
       "      <td>3.8% (1)</td>\n",
       "      <td>7.7% (2)</td>\n",
       "    </tr>\n",
       "    <tr>\n",
       "      <th>1</th>\n",
       "      <td>&gt;XRJW</td>\n",
       "      <td>20</td>\n",
       "      <td>5.0% (1)</td>\n",
       "      <td>0% (0)</td>\n",
       "      <td>0% (0)</td>\n",
       "      <td>0% (0)</td>\n",
       "      <td>75.0% (15)</td>\n",
       "      <td>0% (0)</td>\n",
       "      <td>0% (0)</td>\n",
       "      <td>20.0% (4)</td>\n",
       "      <td>0% (0)</td>\n",
       "    </tr>\n",
       "    <tr>\n",
       "      <th>2</th>\n",
       "      <td>B  JMJM H HM</td>\n",
       "      <td>18</td>\n",
       "      <td>22.2% (4)</td>\n",
       "      <td>0% (0)</td>\n",
       "      <td>0% (0)</td>\n",
       "      <td>0% (0)</td>\n",
       "      <td>50.0% (9)</td>\n",
       "      <td>11.1% (2)</td>\n",
       "      <td>0% (0)</td>\n",
       "      <td>16.7% (3)</td>\n",
       "      <td>0% (0)</td>\n",
       "    </tr>\n",
       "    <tr>\n",
       "      <th>3</th>\n",
       "      <td>B JMJW</td>\n",
       "      <td>12</td>\n",
       "      <td>41.7% (5)</td>\n",
       "      <td>0% (0)</td>\n",
       "      <td>0% (0)</td>\n",
       "      <td>0% (0)</td>\n",
       "      <td>58.3% (7)</td>\n",
       "      <td>0% (0)</td>\n",
       "      <td>0% (0)</td>\n",
       "      <td>0% (0)</td>\n",
       "      <td>0% (0)</td>\n",
       "    </tr>\n",
       "  </tbody>\n",
       "</table>\n",
       "</div>"
      ],
      "text/plain": [
       "         marker  occur       impf      impv    infa    infc        perf  \\\n",
       "0    H JWM H ZH     26  26.9% (7)  3.8% (1)  0% (0)  0% (0)  53.8% (14)   \n",
       "1         >XRJW     20   5.0% (1)    0% (0)  0% (0)  0% (0)  75.0% (15)   \n",
       "2  B  JMJM H HM     18  22.2% (4)    0% (0)  0% (0)  0% (0)   50.0% (9)   \n",
       "3        B JMJW     12  41.7% (5)    0% (0)  0% (0)  0% (0)   58.3% (7)   \n",
       "\n",
       "        ptca    ptcp       wayq      weqt  \n",
       "0   3.8% (1)  0% (0)   3.8% (1)  7.7% (2)  \n",
       "1     0% (0)  0% (0)  20.0% (4)    0% (0)  \n",
       "2  11.1% (2)  0% (0)  16.7% (3)    0% (0)  \n",
       "3     0% (0)  0% (0)     0% (0)    0% (0)  "
      ]
     },
     "metadata": {},
     "output_type": "display_data"
    },
    {
     "data": {
      "text/html": [
       "<hr>"
      ],
      "text/plain": [
       "<IPython.core.display.HTML object>"
      ]
     },
     "metadata": {},
     "output_type": "display_data"
    },
    {
     "data": {
      "text/html": [
       "<h2>4.&nbsp;&nbsp;weqt</h2>"
      ],
      "text/plain": [
       "<IPython.core.display.HTML object>"
      ]
     },
     "metadata": {},
     "output_type": "display_data"
    },
    {
     "data": {
      "text/html": [
       "<div>\n",
       "<table border=\"1\" class=\"dataframe\">\n",
       "  <thead>\n",
       "    <tr style=\"text-align: right;\">\n",
       "      <th></th>\n",
       "      <th>marker</th>\n",
       "      <th>occur</th>\n",
       "      <th>impf</th>\n",
       "      <th>impv</th>\n",
       "      <th>infa</th>\n",
       "      <th>infc</th>\n",
       "      <th>perf</th>\n",
       "      <th>ptca</th>\n",
       "      <th>ptcp</th>\n",
       "      <th>wayq</th>\n",
       "      <th>weqt</th>\n",
       "    </tr>\n",
       "  </thead>\n",
       "  <tbody>\n",
       "    <tr>\n",
       "      <th>0</th>\n",
       "      <td>&lt;D H &lt;RB</td>\n",
       "      <td>41</td>\n",
       "      <td>29.3% (12)</td>\n",
       "      <td>0% (0)</td>\n",
       "      <td>0% (0)</td>\n",
       "      <td>0% (0)</td>\n",
       "      <td>2.4% (1)</td>\n",
       "      <td>0% (0)</td>\n",
       "      <td>0% (0)</td>\n",
       "      <td>14.6% (6)</td>\n",
       "      <td>53.7% (22)</td>\n",
       "    </tr>\n",
       "  </tbody>\n",
       "</table>\n",
       "</div>"
      ],
      "text/plain": [
       "     marker  occur        impf    impv    infa    infc      perf    ptca  \\\n",
       "0  <D H <RB     41  29.3% (12)  0% (0)  0% (0)  0% (0)  2.4% (1)  0% (0)   \n",
       "\n",
       "     ptcp       wayq        weqt  \n",
       "0  0% (0)  14.6% (6)  53.7% (22)  "
      ]
     },
     "metadata": {},
     "output_type": "display_data"
    },
    {
     "data": {
      "text/html": [
       "<hr>"
      ],
      "text/plain": [
       "<IPython.core.display.HTML object>"
      ]
     },
     "metadata": {},
     "output_type": "display_data"
    }
   ],
   "source": [
    "# a number to display w/ heading\n",
    "number = 0\n",
    "\n",
    "# display markers in order from largest counts to smallest\n",
    "for tense in markers_predominant_50:\n",
    "\n",
    "    # format header\n",
    "    number += 1\n",
    "    heading = f'<h2>{number}.&nbsp;&nbsp;{tense}</h2>'\n",
    "    \n",
    "    # get the table\n",
    "    pred_table = predominant_table(tense, markers_predominant_50)\n",
    "    \n",
    "    \n",
    "    # display \n",
    "    \n",
    "    # display header\n",
    "    if number == 1:\n",
    "        print()\n",
    "        display(HTML('<span style=\"text-align: center\"><h1>Markers with Tense Predominance</h1></span>'))\n",
    "        print()\n",
    "        \n",
    "    # display tables\n",
    "    display(HTML(heading))\n",
    "    display(pred_table)\n",
    "    display(HTML('<hr>'))"
   ]
  },
  {
   "cell_type": "markdown",
   "metadata": {},
   "source": [
    "# Tense Predominance Averages\n",
    "\n",
    "What is the strength of tense predominance amongst respective tenses?"
   ]
  },
  {
   "cell_type": "code",
   "execution_count": 9,
   "metadata": {
    "scrolled": true
   },
   "outputs": [
    {
     "name": "stdout",
     "output_type": "stream",
     "text": [
      "\n"
     ]
    },
    {
     "data": {
      "text/html": [
       "<span style=\"text-align:center\"><h2>Predominance Averages</h2></span>"
      ],
      "text/plain": [
       "<IPython.core.display.HTML object>"
      ]
     },
     "metadata": {},
     "output_type": "display_data"
    },
    {
     "data": {
      "text/html": [
       "<span style=\"font-size: 16pt\">impf - 69.8%</span>"
      ],
      "text/plain": [
       "<IPython.core.display.HTML object>"
      ]
     },
     "metadata": {},
     "output_type": "display_data"
    },
    {
     "data": {
      "text/html": [
       "<span style=\"font-size: 16pt\">wayq - 64.7%</span>"
      ],
      "text/plain": [
       "<IPython.core.display.HTML object>"
      ]
     },
     "metadata": {},
     "output_type": "display_data"
    },
    {
     "data": {
      "text/html": [
       "<span style=\"font-size: 16pt\">perf - 59.3%</span>"
      ],
      "text/plain": [
       "<IPython.core.display.HTML object>"
      ]
     },
     "metadata": {},
     "output_type": "display_data"
    },
    {
     "data": {
      "text/html": [
       "<span style=\"font-size: 16pt\">weqt - 53.7%</span>"
      ],
      "text/plain": [
       "<IPython.core.display.HTML object>"
      ]
     },
     "metadata": {},
     "output_type": "display_data"
    },
    {
     "data": {
      "text/html": [
       "<hr>"
      ],
      "text/plain": [
       "<IPython.core.display.HTML object>"
      ]
     },
     "metadata": {},
     "output_type": "display_data"
    },
    {
     "name": "stdout",
     "output_type": "stream",
     "text": [
      "\n"
     ]
    }
   ],
   "source": [
    "# display averages\n",
    "print()\n",
    "\n",
    "display(HTML('<span style=\"text-align:center\"><h2>Predominance Averages</h2></span>'))\n",
    "for tense, marker_list in markers_predominant_50.items():\n",
    "    \n",
    "    # get totals\n",
    "    total_markers = len(marker_list)\n",
    "    percents = [markers[marker]['tense_percents'][tense] for marker in marker_list]\n",
    "    sum_percents = sum(percents)\n",
    "    \n",
    "    # get average\n",
    "    average = sum_percents / total_markers\n",
    "    \n",
    "    show_average = f'<span style=\"font-size: 16pt\">{tense} - {round(average, 1)}%</span>'\n",
    "\n",
    "    display(HTML(show_average))\n",
    "display(HTML('<hr>'))\n",
    "print()"
   ]
  },
  {
   "cell_type": "markdown",
   "metadata": {},
   "source": [
    "What's interesting about the numbers here is that they follow the order of the marker counts for each tense. In other words, the counts for tense-predominant time markers are in the following order:\n",
    "\n",
    "1. impf - 12\n",
    "2. wayq - 8\n",
    "3. perf - 4\n",
    "4. weqt - 1\n",
    "\n",
    "In this initial sampling, the yiqtol corresponds with more predominant time markers (12), the most strongly (average 70%), followed by the wayyiqtol (8 pred. time markers) and a likewise high average predominance (65%)."
   ]
  },
  {
   "cell_type": "markdown",
   "metadata": {},
   "source": [
    "## Inquiry: Does the counts per tense merely reflect tense averages in the HB?\n",
    "\n",
    "What, exactly, are the most common tenses in the HB? Might the discrepancies seen here simply arise due to differences in occurrence of the verb tenses?"
   ]
  },
  {
   "cell_type": "code",
   "execution_count": 10,
   "metadata": {},
   "outputs": [
    {
     "name": "stdout",
     "output_type": "stream",
     "text": [
      "impf - 16099 (23.3)\n",
      "perf - 15217 (22.0)\n",
      "wayq - 14974 (21.7)\n",
      "infc - 6555 (9.5)\n",
      "weqtl - 5909 (8.6)\n",
      "ptca - 4985 (7.2)\n",
      "impv - 4307 (6.2)\n",
      "ptcp - 676 (1.0)\n",
      "infa - 300 (0.4)\n"
     ]
    }
   ],
   "source": [
    "total_HB_verbs = 0\n",
    "HB_tense_counts = collections.Counter()\n",
    "\n",
    "# count all verbs in HB\n",
    "for word in F.otype.s('word'):\n",
    "    \n",
    "    # skip non-verbs\n",
    "    if F.pdp.v(word) != 'verb':\n",
    "        continue\n",
    "    \n",
    "    tense = 'weqtl' if is_weqt(word) else F.vt.v(word)\n",
    "    total_HB_verbs += 1\n",
    "    \n",
    "    HB_tense_counts[tense] += 1\n",
    "    \n",
    "# present verbs/percentages\n",
    "for tense, count in HB_tense_counts.most_common():\n",
    "    \n",
    "    print(f'{tense} - {count} ({round((count/total_HB_verbs)*100, 1)})')"
   ]
  },
  {
   "cell_type": "markdown",
   "metadata": {},
   "source": [
    "The top three tenses are actually fairly even in overall occurrence, and the fact that the qatal is more prevalent than the wayyiqtol means that the results above are even more relevant (since the wayyiqtol there has slightly more tense predominance than the qatal)."
   ]
  }
 ],
 "metadata": {
  "kernelspec": {
   "display_name": "Python 3",
   "language": "python",
   "name": "python3"
  },
  "language_info": {
   "codemirror_mode": {
    "name": "ipython",
    "version": 3
   },
   "file_extension": ".py",
   "mimetype": "text/x-python",
   "name": "python",
   "nbconvert_exporter": "python",
   "pygments_lexer": "ipython3",
   "version": "3.6.1"
  }
 },
 "nbformat": 4,
 "nbformat_minor": 2
}
