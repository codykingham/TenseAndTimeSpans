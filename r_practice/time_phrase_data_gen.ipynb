{
 "cells": [
  {
   "cell_type": "markdown",
   "metadata": {},
   "source": [
    "# Export TF Data from BHSAc for R Processing\n",
    "\n",
    "I will export specifically data on time phrase markers. Aramaic is excluded.\n",
    "\n",
    "dataset contains:\n",
    "\n",
    "book&nbsp;|&nbsp;"
   ]
  },
  {
   "cell_type": "code",
   "execution_count": 2,
   "metadata": {
    "collapsed": true
   },
   "outputs": [],
   "source": [
    "from tf.fabric import Fabric"
   ]
  },
  {
   "cell_type": "code",
   "execution_count": 82,
   "metadata": {},
   "outputs": [
    {
     "name": "stdout",
     "output_type": "stream",
     "text": [
      "This is Text-Fabric 3.0.8\n",
      "Api reference : https://github.com/Dans-labs/text-fabric/wiki/Api\n",
      "Tutorial      : https://github.com/Dans-labs/text-fabric/blob/master/docs/tutorial.ipynb\n",
      "Example data  : https://github.com/Dans-labs/text-fabric-data\n",
      "\n",
      "113 features found and 0 ignored\n"
     ]
    }
   ],
   "source": [
    "TF = Fabric(locations='~/github/etcbc/bhsa/tf', modules='c')"
   ]
  },
  {
   "cell_type": "code",
   "execution_count": 83,
   "metadata": {},
   "outputs": [
    {
     "name": "stdout",
     "output_type": "stream",
     "text": [
      "  0.00s loading features ...\n",
      "   |     0.00s Feature overview: 108 for nodes; 4 for edges; 1 configs; 7 computed\n",
      "  7.16s All features loaded/computed - for details use loadLog()\n"
     ]
    }
   ],
   "source": [
    "api = TF.load('')\n",
    "api.makeAvailableIn(globals())"
   ]
  },
  {
   "cell_type": "code",
   "execution_count": 80,
   "metadata": {},
   "outputs": [
    {
     "name": "stdout",
     "output_type": "stream",
     "text": [
      "3233 results ready...\n"
     ]
    }
   ],
   "source": [
    "# What to do with repeated results?\n",
    "\n",
    "time_phrase_data = '''\n",
    "\n",
    "clause kind=VC\n",
    "    phrase function=Time\n",
    "    \n",
    "    phrase function=Pred|PreO|PreS|PtcO\n",
    "        word pdp=verb\n",
    "'''\n",
    "\n",
    "S.study(time_phrase_data, silent=True)\n",
    "\n",
    "results = sorted(set(result for result in S.fetch()))\n",
    "\n",
    "print(len(results), 'results ready...')"
   ]
  },
  {
   "cell_type": "code",
   "execution_count": 81,
   "metadata": {},
   "outputs": [
    {
     "data": {
      "text/plain": [
       "3115"
      ]
     },
     "execution_count": 81,
     "metadata": {},
     "output_type": "execute_result"
    }
   ],
   "source": [
    "clause_set = set()\n",
    "\n",
    "for r in S.fetch():\n",
    "    \n",
    "    clause_set.add(r[0])\n",
    "    \n",
    "len(clause_set)"
   ]
  },
  {
   "cell_type": "code",
   "execution_count": 48,
   "metadata": {},
   "outputs": [
    {
     "name": "stdout",
     "output_type": "stream",
     "text": [
      "(428158, 653363, 653366, 3253)\n",
      "(428158, 653364, 653366, 3253)\n",
      "(428158, 653365, 653366, 3253)\n",
      "(428202, 653519, 653516, 3612)\n",
      "(428204, 653527, 653528, 3650)\n",
      "(428232, 653621, 653623, 3813)\n",
      "(428232, 653622, 653623, 3813)\n",
      "(428236, 653638, 653639, 3849)\n",
      "(428349, 653985, 653982, 4515)\n",
      "(429009, 656022, 656020, 8051)\n",
      "(434595, 672640, 672635, 33924)\n",
      "(434756, 673138, 673134, 34782)\n",
      "(434801, 673301, 673303, 35096)\n",
      "(434801, 673305, 673303, 35096)\n",
      "(434801, 673306, 673303, 35096)\n",
      "(435588, 675691, 675692, 39070)\n",
      "(437771, 682378, 682379, 51880)\n",
      "(437813, 682515, 682517, 52131)\n",
      "(437813, 682516, 682517, 52131)\n",
      "(438593, 684986, 684984, 56812)\n",
      "(438600, 685005, 685003, 56845)\n",
      "(439492, 687783, 687780, 61991)\n",
      "(440380, 690474, 690472, 66662)\n",
      "(440773, 691778, 691775, 68697)\n",
      "(441835, 694867, 694860, 75752)\n",
      "(441839, 694875, 694876, 75797)\n",
      "(441843, 694892, 694889, 75821)\n",
      "(441868, 694963, 694964, 75969)\n",
      "(441887, 695032, 695029, 76084)\n",
      "(442304, 696291, 696290, 78149)\n",
      "(443469, 699911, 699908, 84431)\n",
      "(444873, 704170, 704172, 92855)\n",
      "(444873, 704171, 704172, 92855)\n",
      "(446679, 709588, 709583, 102593)\n",
      "(447344, 711645, 711642, 106008)\n",
      "(448274, 714432, 714441, 110907)\n",
      "(449150, 716960, 716956, 115216)\n",
      "(449758, 718849, 718846, 118633)\n",
      "(451534, 724354, 724355, 130034)\n",
      "(452102, 726019, 726016, 132752)\n",
      "(452912, 728559, 728557, 136739)\n",
      "(453018, 728871, 728868, 137193)\n",
      "(453601, 730595, 730589, 139864)\n",
      "(453706, 730901, 730899, 140462)\n",
      "(454434, 733096, 733094, 143878)\n",
      "(454789, 734216, 734215, 145730)\n",
      "(455302, 735764, 735760, 148091)\n",
      "(457665, 742957, 742952, 159193)\n",
      "(457688, 743036, 743030, 159302)\n",
      "(457697, 743067, 743061, 159347)\n",
      "(458152, 744413, 744414, 161568)\n",
      "(460383, 751225, 751221, 172588)\n",
      "(460611, 751933, 751930, 173710)\n",
      "(461872, 755606, 755601, 180061)\n",
      "(461982, 755946, 755944, 180809)\n",
      "(462434, 757293, 757281, 183594)\n",
      "(463415, 760342, 760338, 189027)\n",
      "(463445, 760439, 760435, 189221)\n",
      "(463470, 760509, 760507, 189367)\n",
      "(463507, 760614, 760611, 189556)\n",
      "(466578, 769286, 769282, 203092)\n",
      "(466608, 769389, 769385, 203281)\n",
      "(466752, 769819, 769816, 204012)\n",
      "(466767, 769874, 769871, 204119)\n",
      "(466813, 770020, 770016, 204412)\n",
      "(466845, 770113, 770110, 204588)\n",
      "(466864, 770180, 770176, 204717)\n",
      "(466877, 770220, 770216, 204806)\n",
      "(466989, 770574, 770570, 205579)\n",
      "(470150, 779572, 779571, 221158)\n",
      "(473801, 789272, 789268, 235015)\n",
      "(477916, 800768, 800762, 254248)\n",
      "(477943, 800857, 800855, 254424)\n",
      "(479973, 806650, 806647, 264738)\n",
      "(480625, 808530, 808528, 267621)\n",
      "(480625, 808531, 808528, 267621)\n",
      "(481977, 812400, 812398, 273536)\n",
      "(481977, 812401, 812398, 273536)\n",
      "(482696, 814401, 814397, 276556)\n",
      "(482696, 814402, 814397, 276556)\n",
      "(483262, 815994, 815991, 279169)\n",
      "(483354, 816280, 816277, 279620)\n",
      "(483387, 816369, 816366, 279776)\n",
      "(483456, 816593, 816590, 280178)\n",
      "(483702, 817272, 817269, 281211)\n",
      "(485186, 821507, 821503, 288992)\n",
      "(485190, 821522, 821520, 289046)\n",
      "(486643, 825524, 825521, 295393)\n",
      "(494203, 845009, 845006, 324398)\n",
      "(497766, 853841, 853842, 337276)\n",
      "(500405, 861258, 861255, 346908)\n",
      "(505244, 873881, 873883, 365497)\n",
      "(505378, 874319, 874312, 366463)\n",
      "(505435, 874508, 874509, 366821)\n",
      "(505435, 874514, 874509, 366821)\n",
      "(505459, 874577, 874574, 366951)\n",
      "(505470, 874606, 874603, 367032)\n",
      "(505557, 874855, 874853, 367500)\n",
      "(505808, 875643, 875640, 368871)\n",
      "(505808, 875646, 875640, 368871)\n",
      "(505848, 875756, 875773, 369221)\n",
      "(507347, 880180, 880178, 376477)\n",
      "(507872, 881640, 881641, 379304)\n",
      "(508937, 884873, 884877, 385759)\n",
      "(509041, 885174, 885171, 386240)\n",
      "(509261, 885746, 885742, 387674)\n",
      "(509263, 885754, 885751, 387694)\n",
      "(509504, 886445, 886441, 389038)\n",
      "(511116, 891067, 891068, 399746)\n",
      "(511241, 891393, 891387, 400300)\n",
      "(512898, 896259, 896255, 410216)\n",
      "(513433, 897941, 897939, 413492)\n",
      "(514526, 901214, 901211, 419515)\n"
     ]
    }
   ],
   "source": [
    "already_encountered = set()\n",
    "\n",
    "for r in results:\n",
    "    \n",
    "    if r[0] in already_encountered:\n",
    "        print(r)\n",
    "    \n",
    "    else:\n",
    "        already_encountered.add(r[0])\n",
    "    "
   ]
  },
  {
   "cell_type": "code",
   "execution_count": 49,
   "metadata": {},
   "outputs": [
    {
     "name": "stdout",
     "output_type": "stream",
     "text": [
      "  0.00s loading features ...\n",
      "  0.00s All additional features loaded - for details use loadLog()\n"
     ]
    }
   ],
   "source": [
    "TF.load('function', add=True)"
   ]
  },
  {
   "cell_type": "code",
   "execution_count": 50,
   "metadata": {},
   "outputs": [
    {
     "name": "stdout",
     "output_type": "stream",
     "text": [
      "בִּשְׁנַ֨ת שֵׁשׁ־מֵאֹ֤ות שָׁנָה֙ לְחַיֵּי־נֹ֔חַ  Time\n",
      "בַּחֹ֨דֶשׁ֙ הַשֵּׁנִ֔י  Time\n",
      "בְּשִׁבְעָֽה־עָשָׂ֥ר יֹ֖ום לַחֹ֑דֶשׁ  Time\n",
      "בַּיֹּ֣ום הַזֶּ֗ה  Time\n",
      "נִבְקְעוּ֙  Pred\n",
      "כָּֽל־מַעְיְנֹת֙ תְּהֹ֣ום רַבָּ֔ה  Subj\n"
     ]
    }
   ],
   "source": [
    "for phrase in L.d(428158, otype='phrase'):\n",
    "    \n",
    "    print(T.text(L.d(phrase, otype='word')), F.function.v(phrase))"
   ]
  },
  {
   "cell_type": "code",
   "execution_count": null,
   "metadata": {
    "collapsed": true
   },
   "outputs": [],
   "source": []
  }
 ],
 "metadata": {
  "kernelspec": {
   "display_name": "Python 3",
   "language": "python",
   "name": "python3"
  },
  "language_info": {
   "codemirror_mode": {
    "name": "ipython",
    "version": 3
   },
   "file_extension": ".py",
   "mimetype": "text/x-python",
   "name": "python",
   "nbconvert_exporter": "python",
   "pygments_lexer": "ipython3",
   "version": "3.6.1"
  }
 },
 "nbformat": 4,
 "nbformat_minor": 2
}
