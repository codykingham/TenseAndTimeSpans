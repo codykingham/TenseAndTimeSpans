{
 "cells": [
  {
   "cell_type": "markdown",
   "metadata": {},
   "source": [
    "# Export TF Data from BHSAc for R Processing\n",
    "\n",
    "I will export specifically data on time phrase markers. Aramaic is excluded.\n",
    "\n",
    "dataset contains:\n",
    "\n",
    "book&nbsp;|&nbsp;"
   ]
  },
  {
   "cell_type": "code",
   "execution_count": 3,
   "metadata": {
    "collapsed": true,
    "scrolled": true
   },
   "outputs": [],
   "source": [
    "from tf.fabric import Fabric"
   ]
  },
  {
   "cell_type": "code",
   "execution_count": 4,
   "metadata": {
    "collapsed": true
   },
   "outputs": [],
   "source": [
    "from os import sys, path\n",
    "import csv"
   ]
  },
  {
   "cell_type": "code",
   "execution_count": 5,
   "metadata": {
    "collapsed": true
   },
   "outputs": [],
   "source": [
    "# put custom functions in path\n",
    "if __name__ == '__main__' and __package__ is None:\n",
    "    sys.path.append('../')"
   ]
  },
  {
   "cell_type": "code",
   "execution_count": 6,
   "metadata": {},
   "outputs": [
    {
     "name": "stdout",
     "output_type": "stream",
     "text": [
      "This is Text-Fabric 3.0.9\n",
      "Api reference : https://github.com/Dans-labs/text-fabric/wiki/Api\n",
      "Tutorial      : https://github.com/Dans-labs/text-fabric/blob/master/docs/tutorial.ipynb\n",
      "Example data  : https://github.com/Dans-labs/text-fabric-data\n",
      "\n",
      "113 features found and 0 ignored\n"
     ]
    }
   ],
   "source": [
    "TF = Fabric(locations='~/github/etcbc/bhsa/tf', modules='c')\n",
    "TF2016 = Fabric(locations='~/github/etcbc/bhsa/tf', modules='2016', silent=True)"
   ]
  },
  {
   "cell_type": "code",
   "execution_count": 7,
   "metadata": {},
   "outputs": [
    {
     "name": "stdout",
     "output_type": "stream",
     "text": [
      "  0.00s loading features ...\n",
      "   |     0.01s B book                 from /Users/Cody/github/etcbc/bhsa/tf/c\n",
      "   |     0.01s B chapter              from /Users/Cody/github/etcbc/bhsa/tf/c\n",
      "   |     0.01s B verse                from /Users/Cody/github/etcbc/bhsa/tf/c\n",
      "   |     0.09s B function             from /Users/Cody/github/etcbc/bhsa/tf/c\n",
      "   |     0.03s B kind                 from /Users/Cody/github/etcbc/bhsa/tf/c\n",
      "   |     0.15s B pdp                  from /Users/Cody/github/etcbc/bhsa/tf/c\n",
      "   |     0.25s B typ                  from /Users/Cody/github/etcbc/bhsa/tf/c\n",
      "   |     0.24s B rela                 from /Users/Cody/github/etcbc/bhsa/tf/c\n",
      "   |     0.14s B ls                   from /Users/Cody/github/etcbc/bhsa/tf/c\n",
      "   |     0.02s B domain               from /Users/Cody/github/etcbc/bhsa/tf/c\n",
      "   |     0.16s B vt                   from /Users/Cody/github/etcbc/bhsa/tf/c\n",
      "   |     0.15s B lex                  from /Users/Cody/github/etcbc/bhsa/tf/c\n",
      "   |     0.00s Feature overview: 108 for nodes; 4 for edges; 1 configs; 7 computed\n",
      "  7.89s All features loaded/computed - for details use loadLog()\n",
      "  0.00s loading features ...\n",
      "   |     0.09s B function             from /Users/Cody/github/etcbc/bhsa/tf/2016\n",
      "   |     0.03s B kind                 from /Users/Cody/github/etcbc/bhsa/tf/2016\n",
      "   |     0.00s Feature overview: 102 for nodes; 5 for edges; 1 configs; 7 computed\n",
      "  6.31s All features loaded/computed - for details use loadLog()\n"
     ]
    }
   ],
   "source": [
    "# load c data\n",
    "api = TF.load('''\n",
    "                 book chapter verse\n",
    "                 function kind\n",
    "                 pdp typ rela ls\n",
    "                 domain vt lex\n",
    "              ''')\n",
    "\n",
    "api.makeAvailableIn(globals())\n",
    "\n",
    "\n",
    "e4c = TF2016.load('function kind') # load 2016 data"
   ]
  },
  {
   "cell_type": "code",
   "execution_count": 8,
   "metadata": {
    "collapsed": true
   },
   "outputs": [],
   "source": [
    "# custom function to id weqetal verbs and for subject isolation\n",
    "from my_functions.verbs import is_weqt \n",
    "from my_functions.substantives import is_subs"
   ]
  },
  {
   "cell_type": "code",
   "execution_count": 9,
   "metadata": {},
   "outputs": [
    {
     "name": "stdout",
     "output_type": "stream",
     "text": [
      "c 366\n",
      "2016 160\n",
      "difference: 206\n"
     ]
    }
   ],
   "source": [
    "# versions check\n",
    "# I was unsure about the difference between c and 2016 based on Dirk Roorda's chart (see below)\n",
    "# https://github.com/ETCBC/bhsa/blob/master/programs/versionPhrases.ipynb\n",
    "# As shown below, most changes in Time-funct. phrases came from clauses without predication\n",
    "\n",
    "# time phrases in c WP clauses (\"without predication\")\n",
    "time_phrases_c = [phrase for phrase in F.function.s('Time')\n",
    "                     if F.kind.v(L.u(phrase, otype='clause')[0]) == 'WP'\n",
    "                 ]\n",
    "# time phrases in 2016\n",
    "time_phrases_4c = [phrase for phrase in e4c.F.function.s('Time')\n",
    "                       if e4c.F.kind.v(e4c.L.u(phrase, otype='clause')[0]) == 'WP'\n",
    "                  \n",
    "                  ]\n",
    "\n",
    "print('c', len(time_phrases_c))\n",
    "print('2016', len(time_phrases_4c))\n",
    "print('difference:', len(time_phrases_c) - len(time_phrases_4c))"
   ]
  },
  {
   "cell_type": "markdown",
   "metadata": {},
   "source": [
    "This shows that 206 changes between 2016 and now (Oct 2017) occurred within clauses without predication (`WP`). 206 time phrases were added into the database."
   ]
  },
  {
   "cell_type": "code",
   "execution_count": 10,
   "metadata": {},
   "outputs": [
    {
     "name": "stdout",
     "output_type": "stream",
     "text": [
      "4077 results ready...\n"
     ]
    }
   ],
   "source": [
    "time_phrase_data = '''\n",
    "\n",
    "clause\n",
    "    phrase function=Time\n",
    "'''\n",
    "\n",
    "S.study(time_phrase_data, silent=True)\n",
    "\n",
    "results = sorted(set(result for result in S.fetch()))\n",
    "\n",
    "print(len(results), 'results ready...')"
   ]
  },
  {
   "cell_type": "code",
   "execution_count": 11,
   "metadata": {},
   "outputs": [
    {
     "name": "stdout",
     "output_type": "stream",
     "text": [
      "4077 rows ready for export...\n",
      "sample:  ['Genesis', 14, 5, 428653, 654946, 'N', 1, 'perf', 1, 'B', 1, '>RB</', 2, '>RB</|<FRH/', 'prep-subs-subs-subs']\n"
     ]
    }
   ],
   "source": [
    "# put csv data here\n",
    "rows = []\n",
    "\n",
    "# get row data per time phrase (there will be some repeated clauses due to plural time phrases)\n",
    "for r in results:\n",
    "    \n",
    "    # specify result nodes\n",
    "    clause_n, time_n = r  \n",
    "    time_words = L.d(time_n, otype='word')\n",
    "    \n",
    "    # (1) section data\n",
    "    book, chapter, verse = T.sectionFromNode(clause_n)\n",
    "        \n",
    "    # (2) clause-level data\n",
    "    domain = F.domain.v(clause_n)\n",
    "    num_time_phrases = len([phrase for phrase in L.d(clause_n, otype='phrase')\n",
    "                               if F.function.v(phrase) == 'Time'])\n",
    "    \n",
    "    # (3) word-level data\n",
    "    \n",
    "    # get verb and its tense\n",
    "    pred_functs = {'Pred', 'PreO', 'PreS', 'PtcO'}\n",
    "    \n",
    "    verb = [word for phrase in L.d(clause_n, otype='phrase')\n",
    "               for word in L.d(phrase, otype='word')\n",
    "               if F.pdp.v(word) == 'verb' \n",
    "               and F.function.v(phrase) in pred_functs]\n",
    "\n",
    "    if verb:\n",
    "        verb_n = verb[0]\n",
    "        verb_tense = F.vt.v(verb_n) if not is_weqt(verb_n) else 'weqt' # + hacked weqetal\n",
    "    else:\n",
    "        verb_tense = 'ø'\n",
    "    \n",
    "    # substantives\n",
    "    subs = [F.lex.v(w) for w in time_words if is_subs(w)]\n",
    "    num_subs = len(subs)\n",
    "    subs_txt = '|'.join(subs) or 'ø'\n",
    "    \n",
    "    # prepositions\n",
    "    preps = [F.lex.v(w) for w in time_words if F.pdp.v(w) == 'prep']\n",
    "    num_preps = len(preps)\n",
    "    preps_txt = '|'.join(preps) or 'ø'\n",
    "    \n",
    "    # quantities (card == \"cardinal number\")\n",
    "    quants = [F.lex.v(w) for w in time_words if F.ls.v(w) == 'card']\n",
    "    num_quants = len(quants)\n",
    "    quants_txt = '|'.join(quants) or 'ø'\n",
    "    \n",
    "    # phrase dep. part of speech\n",
    "    pdp_tags = '-'.join(F.pdp.v(w) for w in L.d(time_n, otype='word'))\n",
    "    \n",
    "    # package the row and append it\n",
    "    row = [book, chapter, verse, clause_n, time_n, domain, num_time_phrases, verb_tense,\n",
    "           num_preps, preps_txt, num_subs, subs_txt, num_quants, quants_txt, pdp_tags]\n",
    "    \n",
    "    rows.append(row)\n",
    "    \n",
    "print(len(rows), 'rows ready for export...')\n",
    "print('sample: ', rows[100])"
   ]
  },
  {
   "cell_type": "code",
   "execution_count": 12,
   "metadata": {
    "collapsed": true
   },
   "outputs": [],
   "source": [
    "# Export the .csv\n",
    "\n",
    "header = ['book', 'chapter', 'verse', 'clause.n', 'time.n', 'domain', 'num.time.phrases',\n",
    "          'verb.tense', 'num.preps', 'preps', 'num.subs', 'subs', 'num.quants', 'quants', 'pdp.tags']\n",
    "\n",
    "with open('time_phrases.csv', 'w') as outfile:\n",
    "    \n",
    "    writer = csv.writer(outfile)\n",
    "    \n",
    "    writer.writerow(header)\n",
    "    writer.writerows(rows)"
   ]
  },
  {
   "cell_type": "code",
   "execution_count": null,
   "metadata": {
    "collapsed": true
   },
   "outputs": [],
   "source": []
  }
 ],
 "metadata": {
  "kernelspec": {
   "display_name": "Python 3",
   "language": "python",
   "name": "python3"
  },
  "language_info": {
   "codemirror_mode": {
    "name": "ipython",
    "version": 3
   },
   "file_extension": ".py",
   "mimetype": "text/x-python",
   "name": "python",
   "nbconvert_exporter": "python",
   "pygments_lexer": "ipython3",
   "version": "3.6.1"
  }
 },
 "nbformat": 4,
 "nbformat_minor": 2
}
