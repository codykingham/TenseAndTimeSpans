{
 "cells": [
  {
   "cell_type": "markdown",
   "metadata": {},
   "source": [
    "# לעולם Time Spans\n",
    "\n",
    "The time marker לעולם, at the clause level, appears alongside the *yiqtol* verb in of all cases 60% (46/76). The next highest is the *qatal* form with 12% (9/76) followed by the *weqetal* form with 7% (5/76). Infinitive constructs are also well represented at 8%, but these are probably not primary verb forms. \n",
    "\n",
    "\n",
    "## Research Question on לעולם Time Spans\n",
    "\n",
    "Do the tendencies at the clause level of the time indicator לעולם also appear within daughter clauses of a לעולם-marked clause? What kind of statistics appear within discourse structures modified with this time indicator?\n",
    "\n",
    "The question can be asked both for clauses with the time marker and a *yiqtol* + daughter clauses, but also for clauses that fall outside of the tendency. In other words, do clauses with a qatal + לעולם reflect their own kind of verbal tendencies, or is the verbal tense more affected by the mother clause tense?"
   ]
  },
  {
   "cell_type": "code",
   "execution_count": 69,
   "metadata": {},
   "outputs": [
    {
     "name": "stdout",
     "output_type": "stream",
     "text": [
      "  0.00s loading features ...\n",
      "   |     0.01s B book                 from /Users/Cody/github/text-fabric-data/hebrew/etcbc4c\n",
      "   |     0.00s B chapter              from /Users/Cody/github/text-fabric-data/hebrew/etcbc4c\n",
      "   |     0.01s B verse                from /Users/Cody/github/text-fabric-data/hebrew/etcbc4c\n",
      "   |     0.13s B pdp                  from /Users/Cody/github/text-fabric-data/hebrew/etcbc4c\n",
      "   |     0.12s B vt                   from /Users/Cody/github/text-fabric-data/hebrew/etcbc4c\n",
      "   |     0.18s B lex                  from /Users/Cody/github/text-fabric-data/hebrew/etcbc4c\n",
      "   |     0.34s B typ                  from /Users/Cody/github/text-fabric-data/hebrew/etcbc4c\n",
      "   |     0.08s B function             from /Users/Cody/github/text-fabric-data/hebrew/etcbc4c\n",
      "   |     0.03s B tab                  from /Users/Cody/github/text-fabric-data/hebrew/etcbc4c\n",
      "   |     1.51s B mother               from /Users/Cody/github/text-fabric-data/hebrew/etcbc4c\n",
      "   |     0.00s Feature overview: 103 for nodes; 5 for edges; 1 configs; 7 computed\n",
      "  7.09s All features loaded/computed - for details use loadLog()\n"
     ]
    }
   ],
   "source": [
    "# load modules\n",
    "import pickle, collections\n",
    "import pandas as pd\n",
    "from pprint import pprint\n",
    "from IPython.display import display, HTML\n",
    "\n",
    "# load TF module and data\n",
    "from tf.fabric import Fabric\n",
    "TF = Fabric(modules='hebrew/etcbc4c', silent=True)\n",
    "api = TF.load('''book chapter verse\n",
    "                 pdp vt lex typ function tab\n",
    "                 mother\n",
    "              ''')\n",
    "\n",
    "api.makeAvailableIn(globals())"
   ]
  },
  {
   "cell_type": "code",
   "execution_count": 22,
   "metadata": {},
   "outputs": [
    {
     "name": "stdout",
     "output_type": "stream",
     "text": [
      "data available:  markers, top_markers, stats_rows, preposition_cl_lists\n"
     ]
    }
   ],
   "source": [
    "# import time markers data\n",
    "tm_data_file = 'data/time_markers.pickle'\n",
    "\n",
    "# load data\n",
    "with open(tm_data_file, 'rb') as infile:\n",
    "    tm_data = pickle.load(infile)\n",
    "\n",
    "print('data available: ', ', '.join(tm_data.keys()))"
   ]
  },
  {
   "cell_type": "code",
   "execution_count": 23,
   "metadata": {
    "collapsed": true
   },
   "outputs": [],
   "source": [
    "# assign the data\n",
    "markers = tm_data['markers']\n",
    "top_markers = tm_data['top_markers']\n",
    "stats_rows = tm_data['stats_rows']"
   ]
  },
  {
   "cell_type": "code",
   "execution_count": 24,
   "metadata": {},
   "outputs": [
    {
     "name": "stdout",
     "output_type": "stream",
     "text": [
      "data per time marker:\n"
     ]
    },
    {
     "data": {
      "text/plain": [
       "dict_keys(['count', 'clauses', 'tense_cl_lists', 'tense_counts', 'tense_percents', 'example_phrase'])"
      ]
     },
     "execution_count": 24,
     "metadata": {},
     "output_type": "execute_result"
    }
   ],
   "source": [
    "print('data per time marker:')\n",
    "markers['L <WLM'].keys()"
   ]
  },
  {
   "cell_type": "code",
   "execution_count": 25,
   "metadata": {
    "collapsed": true
   },
   "outputs": [],
   "source": [
    "# import custom function for weqetal detection\n",
    "from functions.verbs import is_weqt"
   ]
  },
  {
   "cell_type": "markdown",
   "metadata": {},
   "source": [
    "## Gather Clause Chains\n",
    "\n",
    "The following functions are gathered and modified from a previous notebook on time spans. "
   ]
  },
  {
   "cell_type": "code",
   "execution_count": 35,
   "metadata": {
    "collapsed": true
   },
   "outputs": [],
   "source": [
    "def getTime(clause_node):\n",
    "    '''\n",
    "    Return the phrase nodes of a time marker if there is one.\n",
    "    \n",
    "    The ETCBC stores time phrases as a phrase function feature.\n",
    "    However, other markers of time are not as obvious.\n",
    "    This function also checks for less obvious markers.\n",
    "    '''\n",
    "    \n",
    "    # ETCBC time-phrase functions\n",
    "    time_markers = list(phrase for phrase in L.d(clause_node, otype='phrase')\n",
    "                    if F.function.v(phrase) == 'Time')\n",
    "    \n",
    "    # TO DO: add...\n",
    "    # substantives with a time sense\n",
    "    # \"when\" preposition (ב + infinitive)\n",
    "    \n",
    "    return time_markers\n",
    "\n",
    "def climbClauseTree(root_clause, span, coverage):\n",
    "    '''\n",
    "    Modify a given span list and coverage set recursively\n",
    "    by climbing a tree (mother_daughters), beginning with root clause.\n",
    "    \n",
    "    With mother/daughter clause relations, we have \n",
    "    something like a syntax tree, but on a text level.\n",
    "    This function takes a clause with an initial time phrase and\n",
    "    recursively iterates through its descendants to gather them.\n",
    "    \n",
    "    We add descendants to the span if they don't have \n",
    "    an intervening time indicator. They also go into\n",
    "    the coverage set, so that we don't double-cover \n",
    "    them in a later loop.\n",
    "    '''    \n",
    "    for daughter in E.mother.t(root_clause):\n",
    "        \n",
    "        # stop if intervening time marker\n",
    "        if getTime(daughter):\n",
    "            break\n",
    "\n",
    "        # add to span and coverage\n",
    "        span.append(daughter)\n",
    "        coverage.add(daughter)\n",
    "        \n",
    "        # move down the tree with recursive call\n",
    "        climbClauseTree(daughter, span, coverage)\n",
    "        \n",
    "def getSpanData(clause_list):\n",
    "    '''\n",
    "    Returns a dictionary containing data on a supplied span.\n",
    "    A span is a list of clause nodes\n",
    "    and a time marker in the first clause (root).\n",
    "    Timeless spans do not begin with a time marker.\n",
    "    '''\n",
    "    \n",
    "    # count tenses\n",
    "    tenses = collections.Counter()\n",
    "    \n",
    "    for clause in clause_list:\n",
    "        \n",
    "        verb = [word for word in L.d(clause, otype='word')\n",
    "                   if F.pdp.v(word) == 'verb'\n",
    "               ]\n",
    "        \n",
    "        # skip verbless clauses (for now!)\n",
    "        if not verb:\n",
    "            continue\n",
    "            \n",
    "        else:\n",
    "            verb = verb[0]\n",
    "            \n",
    "        tense = F.vt.v(verb)\n",
    "        \n",
    "        tenses[tense] += 1\n",
    "        tenses['total'] += 1\n",
    "    \n",
    "    span_data = {'span_clause_atoms': clause_list,\n",
    "                 'span_tense_count' : tenses}\n",
    "    \n",
    "    return span_data\n",
    "        \n",
    "def buildTimeSpans(corpus_clauses):\n",
    "    '''\n",
    "    Gather the time spans by calling climbClauseTree while\n",
    "    looping over all clauses in the corpus.\n",
    "    \n",
    "    Return time spans as list of dictionaries;\n",
    "    the dictionaries contain keys of data for each span\n",
    "    \n",
    "    Skip clauses already in the coverage set.\n",
    "    Save the time spans in an OrderedDict, keyed by the root clause node\n",
    "    '''\n",
    "    time_spans = list()\n",
    "    coverage = set()\n",
    "    \n",
    "    # add timeless spans here:\n",
    "    timeless_span = list() \n",
    "    \n",
    "    for clause in corpus_clauses:\n",
    "        \n",
    "        # build spans for clauses not yet visited that have time marker\n",
    "        if clause not in coverage and getTime(clause):\n",
    "            \n",
    "            # save/reset timeless_span\n",
    "            if timeless_span:\n",
    "                time_spans.append(getSpanData(timeless_span))\n",
    "                timeless_span = list()\n",
    "            \n",
    "            # calculate timespan\n",
    "            span = []\n",
    "            span.append(clause) # add root clause\n",
    "            climbClauseTree(clause, span, coverage) # build the rest\n",
    "            time_spans.append(getSpanData(span))\n",
    "            \n",
    "        elif clause not in coverage and not getTime(clause):\n",
    "            # add to timeless span\n",
    "            timeless_span.append(clause)\n",
    "    \n",
    "    return time_spans"
   ]
  },
  {
   "cell_type": "code",
   "execution_count": 36,
   "metadata": {},
   "outputs": [],
   "source": [
    "# get L<WLM clause_atoms with yiqtol verb\n",
    "l_olam_clauses = [L.d(clause, otype='clause_atom')[0] \n",
    "                      for clause in markers['L <WLM']['tense_cl_lists']['impf']]"
   ]
  },
  {
   "cell_type": "code",
   "execution_count": 46,
   "metadata": {
    "scrolled": false
   },
   "outputs": [
    {
     "name": "stdout",
     "output_type": "stream",
     "text": [
      "17 spans for L<WLM found\n",
      "\n",
      "sample: \n",
      "{'span_clause_atoms': [539035, 539036, 539037, 539038],\n",
      " 'span_tense_count': Counter({'impf': 3, 'total': 3})}\n"
     ]
    }
   ],
   "source": [
    "# get time spans for L<WLM; take only spans with more than a single clause atom\n",
    "l_olam_spans = [span for span in buildTimeSpans(l_olam_clauses)\n",
    "                    if len(span['span_clause_atoms']) > 1]\n",
    "\n",
    "print(len(l_olam_spans), 'spans for L<WLM found')\n",
    "print()\n",
    "print('sample: ')\n",
    "pprint(l_olam_spans[0])"
   ]
  },
  {
   "cell_type": "markdown",
   "metadata": {},
   "source": [
    "## Gather Verb Statistics within Time Spans"
   ]
  },
  {
   "cell_type": "code",
   "execution_count": 49,
   "metadata": {},
   "outputs": [],
   "source": [
    "l_olam_span_verb_counts = collections.Counter()\n",
    "\n",
    "for span in l_olam_spans:\n",
    "    \n",
    "    tense_data = span['span_tense_count']\n",
    "    \n",
    "    l_olam_span_verb_counts.update(tense_data)"
   ]
  },
  {
   "cell_type": "code",
   "execution_count": 55,
   "metadata": {},
   "outputs": [
    {
     "name": "stdout",
     "output_type": "stream",
     "text": [
      "total 100.0% (141)\n",
      "\n",
      "perf 39.7% (56)\n",
      "\n",
      "impf 35.5% (50)\n",
      "\n",
      "impv 10.6% (15)\n",
      "\n",
      "infc 6.4% (9)\n",
      "\n",
      "ptca 4.3% (6)\n",
      "\n",
      "ptcp 2.1% (3)\n",
      "\n",
      "wayq 0.7% (1)\n",
      "\n",
      "infa 0.7% (1)\n",
      "\n"
     ]
    }
   ],
   "source": [
    "sorted_lolam_counts = sorted([(count, tense) for tense, count in l_olam_span_verb_counts.items()],\n",
    "                                reverse=True)\n",
    "\n",
    "for count, tense in sorted_lolam_counts:\n",
    "    \n",
    "    percent = round((count/l_olam_span_verb_counts['total'])*100, 1)\n",
    "    \n",
    "    print(tense, f'{percent}%', f'({count})')\n",
    "    print()"
   ]
  },
  {
   "cell_type": "code",
   "execution_count": 64,
   "metadata": {},
   "outputs": [
    {
     "data": {
      "text/plain": [
       "[594103, 594104, 594105, 594106, 594107, 594111]"
      ]
     },
     "execution_count": 64,
     "metadata": {},
     "output_type": "execute_result"
    }
   ],
   "source": [
    "# get the span with the wayyiqtol and examine it\n",
    "\n",
    "lolam_span_with_wayyiqtol = [span['span_clause_atoms'] for span in l_olam_spans\n",
    "                                if 'wayq' in span['span_tense_count']][0]\n",
    "\n",
    "lolam_span_with_wayyiqtol"
   ]
  },
  {
   "cell_type": "code",
   "execution_count": 104,
   "metadata": {},
   "outputs": [],
   "source": [
    "def display_span(clause_atom_list):\n",
    "    html_span = '<span style=\"font-size: 14pt; font-family: Times New Roman\">{content}</span>'\n",
    "    \n",
    "    html_div =\\\n",
    "    '''\n",
    "    <div style=\"font-size: 15pt; \n",
    "                font-family: Times New Roman; \n",
    "                direction: rtl; \n",
    "                color:{color};\n",
    "                width: 80%\">\n",
    "\n",
    "                {content} \n",
    "    </div>\n",
    "    '''\n",
    "\n",
    "    book, chapter, verse = T.sectionFromNode(clause_atom_list[0])\n",
    "\n",
    "    # show header\n",
    "    display(HTML(html_span.format(content=f'{book} {chapter}')))\n",
    "    print()\n",
    "\n",
    "    for ca in clause_atom_list:\n",
    "\n",
    "        book, chapter, verse = T.sectionFromNode(ca)\n",
    "        \n",
    "        # look for time markers\n",
    "        time_markers = [phrase for phrase in L.d(ca, otype='phrase')\n",
    "                           if F.function.v(phrase) == 'Time'\n",
    "                       ]\n",
    "\n",
    "        text = T.text(L.d(ca, otype='word'))\n",
    "        indent = '...' * F.tab.v(ca)\n",
    "        typ = F.typ.v(ca)\n",
    "        text_indented = f'{chapter}:{verse}' +\\\n",
    "                        '&nbsp;&nbsp;&nbsp;&nbsp;' +\\\n",
    "                        str(F.tab.v(ca)) +\\\n",
    "                        '&nbsp;&nbsp;' +\\\n",
    "                        typ +\\\n",
    "                        '&nbsp;&nbsp;&nbsp;&nbsp;&nbsp;&nbsp;' +\\\n",
    "                        indent +\\\n",
    "                        text\n",
    "\n",
    "        # format color\n",
    "        cur_clause = L.u(ca, otype='clause')[0]\n",
    "        color = 'blue' if time_markers else ''\n",
    "\n",
    "        display(HTML(html_div.format(color=color, content=text_indented)))\n",
    "    print()"
   ]
  },
  {
   "cell_type": "code",
   "execution_count": 105,
   "metadata": {
    "scrolled": false
   },
   "outputs": [
    {
     "data": {
      "text/html": [
       "<span style=\"font-size: 14pt; font-family: Times New Roman\">Lamentations 3</span>"
      ],
      "text/plain": [
       "<IPython.core.display.HTML object>"
      ]
     },
     "metadata": {},
     "output_type": "display_data"
    },
    {
     "name": "stdout",
     "output_type": "stream",
     "text": [
      "\n"
     ]
    },
    {
     "data": {
      "text/html": [
       "\n",
       "    <div style=\"font-size: 15pt; \n",
       "                font-family: Times New Roman; \n",
       "                direction: rtl; \n",
       "                color:blue;\n",
       "                width: 80%\">\n",
       "\n",
       "                3:31&nbsp;&nbsp;&nbsp;&nbsp;9&nbsp;&nbsp;xYqX&nbsp;&nbsp;&nbsp;&nbsp;&nbsp;&nbsp;...........................כִּ֣י לֹ֥א יִזְנַ֛ח לְעֹולָ֖ם אֲדֹנָֽי׃  \n",
       "    </div>\n",
       "    "
      ],
      "text/plain": [
       "<IPython.core.display.HTML object>"
      ]
     },
     "metadata": {},
     "output_type": "display_data"
    },
    {
     "data": {
      "text/html": [
       "\n",
       "    <div style=\"font-size: 15pt; \n",
       "                font-family: Times New Roman; \n",
       "                direction: rtl; \n",
       "                color:;\n",
       "                width: 80%\">\n",
       "\n",
       "                3:32&nbsp;&nbsp;&nbsp;&nbsp;12&nbsp;&nbsp;xQt0&nbsp;&nbsp;&nbsp;&nbsp;&nbsp;&nbsp;....................................כִּ֣י אִם־הֹוגָ֔ה  \n",
       "    </div>\n",
       "    "
      ],
      "text/plain": [
       "<IPython.core.display.HTML object>"
      ]
     },
     "metadata": {},
     "output_type": "display_data"
    },
    {
     "data": {
      "text/html": [
       "\n",
       "    <div style=\"font-size: 15pt; \n",
       "                font-family: Times New Roman; \n",
       "                direction: rtl; \n",
       "                color:;\n",
       "                width: 80%\">\n",
       "\n",
       "                3:32&nbsp;&nbsp;&nbsp;&nbsp;13&nbsp;&nbsp;WQt0&nbsp;&nbsp;&nbsp;&nbsp;&nbsp;&nbsp;.......................................וְרִחַ֖ם כְּרֹ֥ב חֲסָדָֽיו׃ \n",
       "    </div>\n",
       "    "
      ],
      "text/plain": [
       "<IPython.core.display.HTML object>"
      ]
     },
     "metadata": {},
     "output_type": "display_data"
    },
    {
     "data": {
      "text/html": [
       "\n",
       "    <div style=\"font-size: 15pt; \n",
       "                font-family: Times New Roman; \n",
       "                direction: rtl; \n",
       "                color:;\n",
       "                width: 80%\">\n",
       "\n",
       "                3:33&nbsp;&nbsp;&nbsp;&nbsp;11&nbsp;&nbsp;xQt0&nbsp;&nbsp;&nbsp;&nbsp;&nbsp;&nbsp;.................................כִּ֣י לֹ֤א עִנָּה֙ מִלִּבֹּ֔ו  \n",
       "    </div>\n",
       "    "
      ],
      "text/plain": [
       "<IPython.core.display.HTML object>"
      ]
     },
     "metadata": {},
     "output_type": "display_data"
    },
    {
     "data": {
      "text/html": [
       "\n",
       "    <div style=\"font-size: 15pt; \n",
       "                font-family: Times New Roman; \n",
       "                direction: rtl; \n",
       "                color:;\n",
       "                width: 80%\">\n",
       "\n",
       "                3:33&nbsp;&nbsp;&nbsp;&nbsp;12&nbsp;&nbsp;Way0&nbsp;&nbsp;&nbsp;&nbsp;&nbsp;&nbsp;....................................וַיַּגֶּ֖ה בְּנֵי־אִֽישׁ׃ ס  \n",
       "    </div>\n",
       "    "
      ],
      "text/plain": [
       "<IPython.core.display.HTML object>"
      ]
     },
     "metadata": {},
     "output_type": "display_data"
    },
    {
     "data": {
      "text/html": [
       "\n",
       "    <div style=\"font-size: 15pt; \n",
       "                font-family: Times New Roman; \n",
       "                direction: rtl; \n",
       "                color:;\n",
       "                width: 80%\">\n",
       "\n",
       "                3:36&nbsp;&nbsp;&nbsp;&nbsp;10&nbsp;&nbsp;XQtl&nbsp;&nbsp;&nbsp;&nbsp;&nbsp;&nbsp;..............................אֲדֹנָ֖י לֹ֥א רָאָֽה׃ ס  \n",
       "    </div>\n",
       "    "
      ],
      "text/plain": [
       "<IPython.core.display.HTML object>"
      ]
     },
     "metadata": {},
     "output_type": "display_data"
    },
    {
     "name": "stdout",
     "output_type": "stream",
     "text": [
      "\n"
     ]
    }
   ],
   "source": [
    "display_span(lolam_span_with_wayyiqtol)"
   ]
  },
  {
   "cell_type": "code",
   "execution_count": 106,
   "metadata": {
    "scrolled": false
   },
   "outputs": [
    {
     "data": {
      "text/html": [
       "<span style=\"font-size: 14pt; font-family: Times New Roman\">Judges 2</span>"
      ],
      "text/plain": [
       "<IPython.core.display.HTML object>"
      ]
     },
     "metadata": {},
     "output_type": "display_data"
    },
    {
     "name": "stdout",
     "output_type": "stream",
     "text": [
      "\n"
     ]
    },
    {
     "data": {
      "text/html": [
       "\n",
       "    <div style=\"font-size: 15pt; \n",
       "                font-family: Times New Roman; \n",
       "                direction: rtl; \n",
       "                color:blue;\n",
       "                width: 80%\">\n",
       "\n",
       "                2:1&nbsp;&nbsp;&nbsp;&nbsp;8&nbsp;&nbsp;xYq0&nbsp;&nbsp;&nbsp;&nbsp;&nbsp;&nbsp;........................לֹֽא־אָפֵ֧ר בְּרִיתִ֛י אִתְּכֶ֖ם לְעֹולָֽם׃  \n",
       "    </div>\n",
       "    "
      ],
      "text/plain": [
       "<IPython.core.display.HTML object>"
      ]
     },
     "metadata": {},
     "output_type": "display_data"
    },
    {
     "data": {
      "text/html": [
       "\n",
       "    <div style=\"font-size: 15pt; \n",
       "                font-family: Times New Roman; \n",
       "                direction: rtl; \n",
       "                color:;\n",
       "                width: 80%\">\n",
       "\n",
       "                2:2&nbsp;&nbsp;&nbsp;&nbsp;9&nbsp;&nbsp;CPen&nbsp;&nbsp;&nbsp;&nbsp;&nbsp;&nbsp;...........................וְאַתֶּ֗ם  \n",
       "    </div>\n",
       "    "
      ],
      "text/plain": [
       "<IPython.core.display.HTML object>"
      ]
     },
     "metadata": {},
     "output_type": "display_data"
    },
    {
     "data": {
      "text/html": [
       "\n",
       "    <div style=\"font-size: 15pt; \n",
       "                font-family: Times New Roman; \n",
       "                direction: rtl; \n",
       "                color:;\n",
       "                width: 80%\">\n",
       "\n",
       "                2:2&nbsp;&nbsp;&nbsp;&nbsp;10&nbsp;&nbsp;xYq0&nbsp;&nbsp;&nbsp;&nbsp;&nbsp;&nbsp;..............................לֹֽא־תִכְרְת֤וּ בְרִית֙ לְיֹֽושְׁבֵי֙ הָאָ֣רֶץ הַזֹּ֔את  \n",
       "    </div>\n",
       "    "
      ],
      "text/plain": [
       "<IPython.core.display.HTML object>"
      ]
     },
     "metadata": {},
     "output_type": "display_data"
    },
    {
     "data": {
      "text/html": [
       "\n",
       "    <div style=\"font-size: 15pt; \n",
       "                font-family: Times New Roman; \n",
       "                direction: rtl; \n",
       "                color:;\n",
       "                width: 80%\">\n",
       "\n",
       "                2:2&nbsp;&nbsp;&nbsp;&nbsp;11&nbsp;&nbsp;xYq0&nbsp;&nbsp;&nbsp;&nbsp;&nbsp;&nbsp;.................................מִזְבְּחֹותֵיהֶ֖ם תִּתֹּצ֑וּן  \n",
       "    </div>\n",
       "    "
      ],
      "text/plain": [
       "<IPython.core.display.HTML object>"
      ]
     },
     "metadata": {},
     "output_type": "display_data"
    },
    {
     "name": "stdout",
     "output_type": "stream",
     "text": [
      "\n"
     ]
    },
    {
     "data": {
      "text/html": [
       "<span style=\"font-size: 14pt; font-family: Times New Roman\">Isaiah 14</span>"
      ],
      "text/plain": [
       "<IPython.core.display.HTML object>"
      ]
     },
     "metadata": {},
     "output_type": "display_data"
    },
    {
     "name": "stdout",
     "output_type": "stream",
     "text": [
      "\n"
     ]
    },
    {
     "data": {
      "text/html": [
       "\n",
       "    <div style=\"font-size: 15pt; \n",
       "                font-family: Times New Roman; \n",
       "                direction: rtl; \n",
       "                color:blue;\n",
       "                width: 80%\">\n",
       "\n",
       "                14:20&nbsp;&nbsp;&nbsp;&nbsp;4&nbsp;&nbsp;xYqX&nbsp;&nbsp;&nbsp;&nbsp;&nbsp;&nbsp;............לֹֽא־יִקָּרֵ֥א לְעֹולָ֖ם זֶ֥רַע מְרֵעִֽים׃  \n",
       "    </div>\n",
       "    "
      ],
      "text/plain": [
       "<IPython.core.display.HTML object>"
      ]
     },
     "metadata": {},
     "output_type": "display_data"
    },
    {
     "data": {
      "text/html": [
       "\n",
       "    <div style=\"font-size: 15pt; \n",
       "                font-family: Times New Roman; \n",
       "                direction: rtl; \n",
       "                color:;\n",
       "                width: 80%\">\n",
       "\n",
       "                14:21&nbsp;&nbsp;&nbsp;&nbsp;7&nbsp;&nbsp;ZIm0&nbsp;&nbsp;&nbsp;&nbsp;&nbsp;&nbsp;.....................הָכִ֧ינוּ לְבָנָ֛יו מַטְבֵּ֖חַ בַּעֲוֹ֣ן אֲבֹותָ֑ם  \n",
       "    </div>\n",
       "    "
      ],
      "text/plain": [
       "<IPython.core.display.HTML object>"
      ]
     },
     "metadata": {},
     "output_type": "display_data"
    },
    {
     "data": {
      "text/html": [
       "\n",
       "    <div style=\"font-size: 15pt; \n",
       "                font-family: Times New Roman; \n",
       "                direction: rtl; \n",
       "                color:;\n",
       "                width: 80%\">\n",
       "\n",
       "                14:21&nbsp;&nbsp;&nbsp;&nbsp;8&nbsp;&nbsp;xYq0&nbsp;&nbsp;&nbsp;&nbsp;&nbsp;&nbsp;........................בַּל־יָקֻ֨מוּ֙  \n",
       "    </div>\n",
       "    "
      ],
      "text/plain": [
       "<IPython.core.display.HTML object>"
      ]
     },
     "metadata": {},
     "output_type": "display_data"
    },
    {
     "data": {
      "text/html": [
       "\n",
       "    <div style=\"font-size: 15pt; \n",
       "                font-family: Times New Roman; \n",
       "                direction: rtl; \n",
       "                color:;\n",
       "                width: 80%\">\n",
       "\n",
       "                14:21&nbsp;&nbsp;&nbsp;&nbsp;9&nbsp;&nbsp;WQt0&nbsp;&nbsp;&nbsp;&nbsp;&nbsp;&nbsp;...........................וְיָ֣רְשׁוּ אָ֔רֶץ  \n",
       "    </div>\n",
       "    "
      ],
      "text/plain": [
       "<IPython.core.display.HTML object>"
      ]
     },
     "metadata": {},
     "output_type": "display_data"
    },
    {
     "data": {
      "text/html": [
       "\n",
       "    <div style=\"font-size: 15pt; \n",
       "                font-family: Times New Roman; \n",
       "                direction: rtl; \n",
       "                color:;\n",
       "                width: 80%\">\n",
       "\n",
       "                14:21&nbsp;&nbsp;&nbsp;&nbsp;9&nbsp;&nbsp;WQt0&nbsp;&nbsp;&nbsp;&nbsp;&nbsp;&nbsp;...........................וּמָלְא֥וּ פְנֵֽי־תֵבֵ֖ל עָרִֽים׃  \n",
       "    </div>\n",
       "    "
      ],
      "text/plain": [
       "<IPython.core.display.HTML object>"
      ]
     },
     "metadata": {},
     "output_type": "display_data"
    },
    {
     "data": {
      "text/html": [
       "\n",
       "    <div style=\"font-size: 15pt; \n",
       "                font-family: Times New Roman; \n",
       "                direction: rtl; \n",
       "                color:;\n",
       "                width: 80%\">\n",
       "\n",
       "                14:22&nbsp;&nbsp;&nbsp;&nbsp;6&nbsp;&nbsp;WQt0&nbsp;&nbsp;&nbsp;&nbsp;&nbsp;&nbsp;..................וְקַמְתִּ֣י עֲלֵיהֶ֔ם  \n",
       "    </div>\n",
       "    "
      ],
      "text/plain": [
       "<IPython.core.display.HTML object>"
      ]
     },
     "metadata": {},
     "output_type": "display_data"
    },
    {
     "data": {
      "text/html": [
       "\n",
       "    <div style=\"font-size: 15pt; \n",
       "                font-family: Times New Roman; \n",
       "                direction: rtl; \n",
       "                color:;\n",
       "                width: 80%\">\n",
       "\n",
       "                14:22&nbsp;&nbsp;&nbsp;&nbsp;8&nbsp;&nbsp;MSyn&nbsp;&nbsp;&nbsp;&nbsp;&nbsp;&nbsp;........................נְאֻ֖ם יְהוָ֣ה צְבָאֹ֑ות  \n",
       "    </div>\n",
       "    "
      ],
      "text/plain": [
       "<IPython.core.display.HTML object>"
      ]
     },
     "metadata": {},
     "output_type": "display_data"
    },
    {
     "data": {
      "text/html": [
       "\n",
       "    <div style=\"font-size: 15pt; \n",
       "                font-family: Times New Roman; \n",
       "                direction: rtl; \n",
       "                color:;\n",
       "                width: 80%\">\n",
       "\n",
       "                14:22&nbsp;&nbsp;&nbsp;&nbsp;7&nbsp;&nbsp;WQt0&nbsp;&nbsp;&nbsp;&nbsp;&nbsp;&nbsp;.....................וְהִכְרַתִּ֨י לְבָבֶ֜ל שֵׁ֥ם וּשְׁאָ֛ר וְנִ֥ין וָנֶ֖כֶד  \n",
       "    </div>\n",
       "    "
      ],
      "text/plain": [
       "<IPython.core.display.HTML object>"
      ]
     },
     "metadata": {},
     "output_type": "display_data"
    },
    {
     "data": {
      "text/html": [
       "\n",
       "    <div style=\"font-size: 15pt; \n",
       "                font-family: Times New Roman; \n",
       "                direction: rtl; \n",
       "                color:;\n",
       "                width: 80%\">\n",
       "\n",
       "                14:22&nbsp;&nbsp;&nbsp;&nbsp;9&nbsp;&nbsp;MSyn&nbsp;&nbsp;&nbsp;&nbsp;&nbsp;&nbsp;...........................נְאֻם־יְהוָֽה׃  \n",
       "    </div>\n",
       "    "
      ],
      "text/plain": [
       "<IPython.core.display.HTML object>"
      ]
     },
     "metadata": {},
     "output_type": "display_data"
    },
    {
     "data": {
      "text/html": [
       "\n",
       "    <div style=\"font-size: 15pt; \n",
       "                font-family: Times New Roman; \n",
       "                direction: rtl; \n",
       "                color:;\n",
       "                width: 80%\">\n",
       "\n",
       "                14:23&nbsp;&nbsp;&nbsp;&nbsp;8&nbsp;&nbsp;WQt0&nbsp;&nbsp;&nbsp;&nbsp;&nbsp;&nbsp;........................וְשַׂמְתִּ֛יהָ לְמֹורַ֥שׁ קִפֹּ֖ד  \n",
       "    </div>\n",
       "    "
      ],
      "text/plain": [
       "<IPython.core.display.HTML object>"
      ]
     },
     "metadata": {},
     "output_type": "display_data"
    },
    {
     "data": {
      "text/html": [
       "\n",
       "    <div style=\"font-size: 15pt; \n",
       "                font-family: Times New Roman; \n",
       "                direction: rtl; \n",
       "                color:;\n",
       "                width: 80%\">\n",
       "\n",
       "                14:23&nbsp;&nbsp;&nbsp;&nbsp;10&nbsp;&nbsp;Ellp&nbsp;&nbsp;&nbsp;&nbsp;&nbsp;&nbsp;..............................וְאַגְמֵי־מָ֑יִם  \n",
       "    </div>\n",
       "    "
      ],
      "text/plain": [
       "<IPython.core.display.HTML object>"
      ]
     },
     "metadata": {},
     "output_type": "display_data"
    },
    {
     "data": {
      "text/html": [
       "\n",
       "    <div style=\"font-size: 15pt; \n",
       "                font-family: Times New Roman; \n",
       "                direction: rtl; \n",
       "                color:;\n",
       "                width: 80%\">\n",
       "\n",
       "                14:23&nbsp;&nbsp;&nbsp;&nbsp;9&nbsp;&nbsp;WQt0&nbsp;&nbsp;&nbsp;&nbsp;&nbsp;&nbsp;...........................וְטֵֽאטֵאתִ֨יהָ֙ בְּמַטְאֲטֵ֣א  \n",
       "    </div>\n",
       "    "
      ],
      "text/plain": [
       "<IPython.core.display.HTML object>"
      ]
     },
     "metadata": {},
     "output_type": "display_data"
    },
    {
     "data": {
      "text/html": [
       "\n",
       "    <div style=\"font-size: 15pt; \n",
       "                font-family: Times New Roman; \n",
       "                direction: rtl; \n",
       "                color:;\n",
       "                width: 80%\">\n",
       "\n",
       "                14:23&nbsp;&nbsp;&nbsp;&nbsp;10&nbsp;&nbsp;InfA&nbsp;&nbsp;&nbsp;&nbsp;&nbsp;&nbsp;..............................הַשְׁמֵ֔ד  \n",
       "    </div>\n",
       "    "
      ],
      "text/plain": [
       "<IPython.core.display.HTML object>"
      ]
     },
     "metadata": {},
     "output_type": "display_data"
    },
    {
     "data": {
      "text/html": [
       "\n",
       "    <div style=\"font-size: 15pt; \n",
       "                font-family: Times New Roman; \n",
       "                direction: rtl; \n",
       "                color:;\n",
       "                width: 80%\">\n",
       "\n",
       "                14:23&nbsp;&nbsp;&nbsp;&nbsp;11&nbsp;&nbsp;MSyn&nbsp;&nbsp;&nbsp;&nbsp;&nbsp;&nbsp;.................................נְאֻ֖ם יְהוָ֥ה צְבָאֹֽות׃ פ  \n",
       "    </div>\n",
       "    "
      ],
      "text/plain": [
       "<IPython.core.display.HTML object>"
      ]
     },
     "metadata": {},
     "output_type": "display_data"
    },
    {
     "data": {
      "text/html": [
       "\n",
       "    <div style=\"font-size: 15pt; \n",
       "                font-family: Times New Roman; \n",
       "                direction: rtl; \n",
       "                color:;\n",
       "                width: 80%\">\n",
       "\n",
       "                14:24&nbsp;&nbsp;&nbsp;&nbsp;5&nbsp;&nbsp;ZQtX&nbsp;&nbsp;&nbsp;&nbsp;&nbsp;&nbsp;...............נִשְׁבַּ֛ע יְהוָ֥ה צְבָאֹ֖ות  \n",
       "    </div>\n",
       "    "
      ],
      "text/plain": [
       "<IPython.core.display.HTML object>"
      ]
     },
     "metadata": {},
     "output_type": "display_data"
    },
    {
     "data": {
      "text/html": [
       "\n",
       "    <div style=\"font-size: 15pt; \n",
       "                font-family: Times New Roman; \n",
       "                direction: rtl; \n",
       "                color:;\n",
       "                width: 80%\">\n",
       "\n",
       "                14:24&nbsp;&nbsp;&nbsp;&nbsp;7&nbsp;&nbsp;InfC&nbsp;&nbsp;&nbsp;&nbsp;&nbsp;&nbsp;.....................לֵאמֹ֑ר  \n",
       "    </div>\n",
       "    "
      ],
      "text/plain": [
       "<IPython.core.display.HTML object>"
      ]
     },
     "metadata": {},
     "output_type": "display_data"
    },
    {
     "data": {
      "text/html": [
       "\n",
       "    <div style=\"font-size: 15pt; \n",
       "                font-family: Times New Roman; \n",
       "                direction: rtl; \n",
       "                color:;\n",
       "                width: 80%\">\n",
       "\n",
       "                14:24&nbsp;&nbsp;&nbsp;&nbsp;8&nbsp;&nbsp;NmCl&nbsp;&nbsp;&nbsp;&nbsp;&nbsp;&nbsp;........................אִם־לֹ֞א  \n",
       "    </div>\n",
       "    "
      ],
      "text/plain": [
       "<IPython.core.display.HTML object>"
      ]
     },
     "metadata": {},
     "output_type": "display_data"
    },
    {
     "data": {
      "text/html": [
       "\n",
       "    <div style=\"font-size: 15pt; \n",
       "                font-family: Times New Roman; \n",
       "                direction: rtl; \n",
       "                color:;\n",
       "                width: 80%\">\n",
       "\n",
       "                14:24&nbsp;&nbsp;&nbsp;&nbsp;9&nbsp;&nbsp;CPen&nbsp;&nbsp;&nbsp;&nbsp;&nbsp;&nbsp;...........................כַּאֲשֶׁ֤ר דִּמִּ֨יתִי֙  \n",
       "    </div>\n",
       "    "
      ],
      "text/plain": [
       "<IPython.core.display.HTML object>"
      ]
     },
     "metadata": {},
     "output_type": "display_data"
    },
    {
     "data": {
      "text/html": [
       "\n",
       "    <div style=\"font-size: 15pt; \n",
       "                font-family: Times New Roman; \n",
       "                direction: rtl; \n",
       "                color:;\n",
       "                width: 80%\">\n",
       "\n",
       "                14:24&nbsp;&nbsp;&nbsp;&nbsp;11&nbsp;&nbsp;xQt0&nbsp;&nbsp;&nbsp;&nbsp;&nbsp;&nbsp;.................................כֵּ֣ן הָיָ֔תָה  \n",
       "    </div>\n",
       "    "
      ],
      "text/plain": [
       "<IPython.core.display.HTML object>"
      ]
     },
     "metadata": {},
     "output_type": "display_data"
    },
    {
     "data": {
      "text/html": [
       "\n",
       "    <div style=\"font-size: 15pt; \n",
       "                font-family: Times New Roman; \n",
       "                direction: rtl; \n",
       "                color:;\n",
       "                width: 80%\">\n",
       "\n",
       "                14:24&nbsp;&nbsp;&nbsp;&nbsp;10&nbsp;&nbsp;WxQ0&nbsp;&nbsp;&nbsp;&nbsp;&nbsp;&nbsp;..............................וְכַאֲשֶׁ֥ר יָעַ֖צְתִּי  \n",
       "    </div>\n",
       "    "
      ],
      "text/plain": [
       "<IPython.core.display.HTML object>"
      ]
     },
     "metadata": {},
     "output_type": "display_data"
    },
    {
     "data": {
      "text/html": [
       "\n",
       "    <div style=\"font-size: 15pt; \n",
       "                font-family: Times New Roman; \n",
       "                direction: rtl; \n",
       "                color:;\n",
       "                width: 80%\">\n",
       "\n",
       "                14:24&nbsp;&nbsp;&nbsp;&nbsp;11&nbsp;&nbsp;XYqt&nbsp;&nbsp;&nbsp;&nbsp;&nbsp;&nbsp;.................................הִ֥יא תָקֽוּם׃  \n",
       "    </div>\n",
       "    "
      ],
      "text/plain": [
       "<IPython.core.display.HTML object>"
      ]
     },
     "metadata": {},
     "output_type": "display_data"
    },
    {
     "data": {
      "text/html": [
       "\n",
       "    <div style=\"font-size: 15pt; \n",
       "                font-family: Times New Roman; \n",
       "                direction: rtl; \n",
       "                color:;\n",
       "                width: 80%\">\n",
       "\n",
       "                14:25&nbsp;&nbsp;&nbsp;&nbsp;13&nbsp;&nbsp;InfC&nbsp;&nbsp;&nbsp;&nbsp;&nbsp;&nbsp;.......................................לִשְׁבֹּ֤ר אַשּׁוּר֙ בְּאַרְצִ֔י  \n",
       "    </div>\n",
       "    "
      ],
      "text/plain": [
       "<IPython.core.display.HTML object>"
      ]
     },
     "metadata": {},
     "output_type": "display_data"
    },
    {
     "data": {
      "text/html": [
       "\n",
       "    <div style=\"font-size: 15pt; \n",
       "                font-family: Times New Roman; \n",
       "                direction: rtl; \n",
       "                color:;\n",
       "                width: 80%\">\n",
       "\n",
       "                14:25&nbsp;&nbsp;&nbsp;&nbsp;12&nbsp;&nbsp;WxY0&nbsp;&nbsp;&nbsp;&nbsp;&nbsp;&nbsp;....................................וְעַל־הָרַ֖י אֲבוּסֶ֑נּוּ  \n",
       "    </div>\n",
       "    "
      ],
      "text/plain": [
       "<IPython.core.display.HTML object>"
      ]
     },
     "metadata": {},
     "output_type": "display_data"
    },
    {
     "data": {
      "text/html": [
       "\n",
       "    <div style=\"font-size: 15pt; \n",
       "                font-family: Times New Roman; \n",
       "                direction: rtl; \n",
       "                color:;\n",
       "                width: 80%\">\n",
       "\n",
       "                14:25&nbsp;&nbsp;&nbsp;&nbsp;13&nbsp;&nbsp;WQtX&nbsp;&nbsp;&nbsp;&nbsp;&nbsp;&nbsp;.......................................וְסָ֤ר מֵֽעֲלֵיהֶם֙ עֻלֹּ֔ו  \n",
       "    </div>\n",
       "    "
      ],
      "text/plain": [
       "<IPython.core.display.HTML object>"
      ]
     },
     "metadata": {},
     "output_type": "display_data"
    },
    {
     "data": {
      "text/html": [
       "\n",
       "    <div style=\"font-size: 15pt; \n",
       "                font-family: Times New Roman; \n",
       "                direction: rtl; \n",
       "                color:;\n",
       "                width: 80%\">\n",
       "\n",
       "                14:25&nbsp;&nbsp;&nbsp;&nbsp;14&nbsp;&nbsp;WXYq&nbsp;&nbsp;&nbsp;&nbsp;&nbsp;&nbsp;..........................................וְסֻ֨בֳּלֹ֔ו מֵעַ֥ל שִׁכְמֹ֖ו יָסֽוּר׃  \n",
       "    </div>\n",
       "    "
      ],
      "text/plain": [
       "<IPython.core.display.HTML object>"
      ]
     },
     "metadata": {},
     "output_type": "display_data"
    },
    {
     "data": {
      "text/html": [
       "\n",
       "    <div style=\"font-size: 15pt; \n",
       "                font-family: Times New Roman; \n",
       "                direction: rtl; \n",
       "                color:;\n",
       "                width: 80%\">\n",
       "\n",
       "                14:26&nbsp;&nbsp;&nbsp;&nbsp;6&nbsp;&nbsp;NmCl&nbsp;&nbsp;&nbsp;&nbsp;&nbsp;&nbsp;..................זֹ֛את הָעֵצָ֥ה  \n",
       "    </div>\n",
       "    "
      ],
      "text/plain": [
       "<IPython.core.display.HTML object>"
      ]
     },
     "metadata": {},
     "output_type": "display_data"
    },
    {
     "data": {
      "text/html": [
       "\n",
       "    <div style=\"font-size: 15pt; \n",
       "                font-family: Times New Roman; \n",
       "                direction: rtl; \n",
       "                color:;\n",
       "                width: 80%\">\n",
       "\n",
       "                14:26&nbsp;&nbsp;&nbsp;&nbsp;9&nbsp;&nbsp;Ptcp&nbsp;&nbsp;&nbsp;&nbsp;&nbsp;&nbsp;...........................הַיְּעוּצָ֖ה עַל־כָּל־הָאָ֑רֶץ  \n",
       "    </div>\n",
       "    "
      ],
      "text/plain": [
       "<IPython.core.display.HTML object>"
      ]
     },
     "metadata": {},
     "output_type": "display_data"
    },
    {
     "data": {
      "text/html": [
       "\n",
       "    <div style=\"font-size: 15pt; \n",
       "                font-family: Times New Roman; \n",
       "                direction: rtl; \n",
       "                color:;\n",
       "                width: 80%\">\n",
       "\n",
       "                14:26&nbsp;&nbsp;&nbsp;&nbsp;8&nbsp;&nbsp;NmCl&nbsp;&nbsp;&nbsp;&nbsp;&nbsp;&nbsp;........................וְזֹ֛את הַיָּ֥ד  \n",
       "    </div>\n",
       "    "
      ],
      "text/plain": [
       "<IPython.core.display.HTML object>"
      ]
     },
     "metadata": {},
     "output_type": "display_data"
    },
    {
     "data": {
      "text/html": [
       "\n",
       "    <div style=\"font-size: 15pt; \n",
       "                font-family: Times New Roman; \n",
       "                direction: rtl; \n",
       "                color:;\n",
       "                width: 80%\">\n",
       "\n",
       "                14:26&nbsp;&nbsp;&nbsp;&nbsp;9&nbsp;&nbsp;Ptcp&nbsp;&nbsp;&nbsp;&nbsp;&nbsp;&nbsp;...........................הַנְּטוּיָ֖ה עַל־כָּל־הַגֹּויִֽם׃  \n",
       "    </div>\n",
       "    "
      ],
      "text/plain": [
       "<IPython.core.display.HTML object>"
      ]
     },
     "metadata": {},
     "output_type": "display_data"
    },
    {
     "data": {
      "text/html": [
       "\n",
       "    <div style=\"font-size: 15pt; \n",
       "                font-family: Times New Roman; \n",
       "                direction: rtl; \n",
       "                color:;\n",
       "                width: 80%\">\n",
       "\n",
       "                14:27&nbsp;&nbsp;&nbsp;&nbsp;7&nbsp;&nbsp;XQtl&nbsp;&nbsp;&nbsp;&nbsp;&nbsp;&nbsp;.....................כִּֽי־יְהוָ֧ה צְבָאֹ֛ות יָעָ֖ץ  \n",
       "    </div>\n",
       "    "
      ],
      "text/plain": [
       "<IPython.core.display.HTML object>"
      ]
     },
     "metadata": {},
     "output_type": "display_data"
    },
    {
     "data": {
      "text/html": [
       "\n",
       "    <div style=\"font-size: 15pt; \n",
       "                font-family: Times New Roman; \n",
       "                direction: rtl; \n",
       "                color:;\n",
       "                width: 80%\">\n",
       "\n",
       "                14:27&nbsp;&nbsp;&nbsp;&nbsp;9&nbsp;&nbsp;WXYq&nbsp;&nbsp;&nbsp;&nbsp;&nbsp;&nbsp;...........................וּמִ֣י יָפֵ֑ר  \n",
       "    </div>\n",
       "    "
      ],
      "text/plain": [
       "<IPython.core.display.HTML object>"
      ]
     },
     "metadata": {},
     "output_type": "display_data"
    },
    {
     "data": {
      "text/html": [
       "\n",
       "    <div style=\"font-size: 15pt; \n",
       "                font-family: Times New Roman; \n",
       "                direction: rtl; \n",
       "                color:;\n",
       "                width: 80%\">\n",
       "\n",
       "                14:27&nbsp;&nbsp;&nbsp;&nbsp;8&nbsp;&nbsp;NmCl&nbsp;&nbsp;&nbsp;&nbsp;&nbsp;&nbsp;........................וְיָדֹ֥ו הַנְּטוּיָ֖ה  \n",
       "    </div>\n",
       "    "
      ],
      "text/plain": [
       "<IPython.core.display.HTML object>"
      ]
     },
     "metadata": {},
     "output_type": "display_data"
    },
    {
     "data": {
      "text/html": [
       "\n",
       "    <div style=\"font-size: 15pt; \n",
       "                font-family: Times New Roman; \n",
       "                direction: rtl; \n",
       "                color:;\n",
       "                width: 80%\">\n",
       "\n",
       "                14:27&nbsp;&nbsp;&nbsp;&nbsp;9&nbsp;&nbsp;WXYq&nbsp;&nbsp;&nbsp;&nbsp;&nbsp;&nbsp;...........................וּמִ֥י יְשִׁיבֶֽנָּה׃ פ  \n",
       "    </div>\n",
       "    "
      ],
      "text/plain": [
       "<IPython.core.display.HTML object>"
      ]
     },
     "metadata": {},
     "output_type": "display_data"
    },
    {
     "name": "stdout",
     "output_type": "stream",
     "text": [
      "\n"
     ]
    },
    {
     "data": {
      "text/html": [
       "<span style=\"font-size: 14pt; font-family: Times New Roman\">Isaiah 60</span>"
      ],
      "text/plain": [
       "<IPython.core.display.HTML object>"
      ]
     },
     "metadata": {},
     "output_type": "display_data"
    },
    {
     "name": "stdout",
     "output_type": "stream",
     "text": [
      "\n"
     ]
    },
    {
     "data": {
      "text/html": [
       "\n",
       "    <div style=\"font-size: 15pt; \n",
       "                font-family: Times New Roman; \n",
       "                direction: rtl; \n",
       "                color:blue;\n",
       "                width: 80%\">\n",
       "\n",
       "                60:21&nbsp;&nbsp;&nbsp;&nbsp;13&nbsp;&nbsp;xYq0&nbsp;&nbsp;&nbsp;&nbsp;&nbsp;&nbsp;.......................................לְעֹולָ֖ם יִ֣ירְשׁוּ אָ֑רֶץ  \n",
       "    </div>\n",
       "    "
      ],
      "text/plain": [
       "<IPython.core.display.HTML object>"
      ]
     },
     "metadata": {},
     "output_type": "display_data"
    },
    {
     "data": {
      "text/html": [
       "\n",
       "    <div style=\"font-size: 15pt; \n",
       "                font-family: Times New Roman; \n",
       "                direction: rtl; \n",
       "                color:;\n",
       "                width: 80%\">\n",
       "\n",
       "                60:21&nbsp;&nbsp;&nbsp;&nbsp;15&nbsp;&nbsp;NmCl&nbsp;&nbsp;&nbsp;&nbsp;&nbsp;&nbsp;.............................................נֵ֧צֶר מַטָּעַ֛י מַעֲשֵׂ֥ה יָדַ֖י  \n",
       "    </div>\n",
       "    "
      ],
      "text/plain": [
       "<IPython.core.display.HTML object>"
      ]
     },
     "metadata": {},
     "output_type": "display_data"
    },
    {
     "data": {
      "text/html": [
       "\n",
       "    <div style=\"font-size: 15pt; \n",
       "                font-family: Times New Roman; \n",
       "                direction: rtl; \n",
       "                color:;\n",
       "                width: 80%\">\n",
       "\n",
       "                60:21&nbsp;&nbsp;&nbsp;&nbsp;16&nbsp;&nbsp;InfC&nbsp;&nbsp;&nbsp;&nbsp;&nbsp;&nbsp;................................................לְהִתְפָּאֵֽר׃  \n",
       "    </div>\n",
       "    "
      ],
      "text/plain": [
       "<IPython.core.display.HTML object>"
      ]
     },
     "metadata": {},
     "output_type": "display_data"
    },
    {
     "data": {
      "text/html": [
       "\n",
       "    <div style=\"font-size: 15pt; \n",
       "                font-family: Times New Roman; \n",
       "                direction: rtl; \n",
       "                color:;\n",
       "                width: 80%\">\n",
       "\n",
       "                60:22&nbsp;&nbsp;&nbsp;&nbsp;14&nbsp;&nbsp;XYqt&nbsp;&nbsp;&nbsp;&nbsp;&nbsp;&nbsp;..........................................הַקָּטֹן֙ יִֽהְיֶ֣ה לָאֶ֔לֶף  \n",
       "    </div>\n",
       "    "
      ],
      "text/plain": [
       "<IPython.core.display.HTML object>"
      ]
     },
     "metadata": {},
     "output_type": "display_data"
    },
    {
     "data": {
      "text/html": [
       "\n",
       "    <div style=\"font-size: 15pt; \n",
       "                font-family: Times New Roman; \n",
       "                direction: rtl; \n",
       "                color:;\n",
       "                width: 80%\">\n",
       "\n",
       "                60:22&nbsp;&nbsp;&nbsp;&nbsp;15&nbsp;&nbsp;Ellp&nbsp;&nbsp;&nbsp;&nbsp;&nbsp;&nbsp;.............................................וְהַצָּעִ֖יר לְגֹ֣וי עָצ֑וּם  \n",
       "    </div>\n",
       "    "
      ],
      "text/plain": [
       "<IPython.core.display.HTML object>"
      ]
     },
     "metadata": {},
     "output_type": "display_data"
    },
    {
     "name": "stdout",
     "output_type": "stream",
     "text": [
      "\n"
     ]
    },
    {
     "data": {
      "text/html": [
       "<span style=\"font-size: 14pt; font-family: Times New Roman\">Ezekiel 26</span>"
      ],
      "text/plain": [
       "<IPython.core.display.HTML object>"
      ]
     },
     "metadata": {},
     "output_type": "display_data"
    },
    {
     "name": "stdout",
     "output_type": "stream",
     "text": [
      "\n"
     ]
    },
    {
     "data": {
      "text/html": [
       "\n",
       "    <div style=\"font-size: 15pt; \n",
       "                font-family: Times New Roman; \n",
       "                direction: rtl; \n",
       "                color:blue;\n",
       "                width: 80%\">\n",
       "\n",
       "                26:21&nbsp;&nbsp;&nbsp;&nbsp;10&nbsp;&nbsp;WxY0&nbsp;&nbsp;&nbsp;&nbsp;&nbsp;&nbsp;..............................וְלֹֽא־תִמָּצְאִ֥י עֹוד֙ לְעֹולָ֔ם  \n",
       "    </div>\n",
       "    "
      ],
      "text/plain": [
       "<IPython.core.display.HTML object>"
      ]
     },
     "metadata": {},
     "output_type": "display_data"
    },
    {
     "data": {
      "text/html": [
       "\n",
       "    <div style=\"font-size: 15pt; \n",
       "                font-family: Times New Roman; \n",
       "                direction: rtl; \n",
       "                color:;\n",
       "                width: 80%\">\n",
       "\n",
       "                26:21&nbsp;&nbsp;&nbsp;&nbsp;11&nbsp;&nbsp;NmCl&nbsp;&nbsp;&nbsp;&nbsp;&nbsp;&nbsp;.................................נְאֻ֖ם אֲדֹנָ֥י יְהֹוִֽה׃ ס  \n",
       "    </div>\n",
       "    "
      ],
      "text/plain": [
       "<IPython.core.display.HTML object>"
      ]
     },
     "metadata": {},
     "output_type": "display_data"
    },
    {
     "name": "stdout",
     "output_type": "stream",
     "text": [
      "\n"
     ]
    },
    {
     "data": {
      "text/html": [
       "<span style=\"font-size: 14pt; font-family: Times New Roman\">Psalms 5</span>"
      ],
      "text/plain": [
       "<IPython.core.display.HTML object>"
      ]
     },
     "metadata": {},
     "output_type": "display_data"
    },
    {
     "name": "stdout",
     "output_type": "stream",
     "text": [
      "\n"
     ]
    },
    {
     "data": {
      "text/html": [
       "\n",
       "    <div style=\"font-size: 15pt; \n",
       "                font-family: Times New Roman; \n",
       "                direction: rtl; \n",
       "                color:blue;\n",
       "                width: 80%\">\n",
       "\n",
       "                5:12&nbsp;&nbsp;&nbsp;&nbsp;8&nbsp;&nbsp;xYq0&nbsp;&nbsp;&nbsp;&nbsp;&nbsp;&nbsp;........................לְעֹולָ֣ם יְ֭רַנֵּנוּ  \n",
       "    </div>\n",
       "    "
      ],
      "text/plain": [
       "<IPython.core.display.HTML object>"
      ]
     },
     "metadata": {},
     "output_type": "display_data"
    },
    {
     "data": {
      "text/html": [
       "\n",
       "    <div style=\"font-size: 15pt; \n",
       "                font-family: Times New Roman; \n",
       "                direction: rtl; \n",
       "                color:;\n",
       "                width: 80%\">\n",
       "\n",
       "                5:12&nbsp;&nbsp;&nbsp;&nbsp;9&nbsp;&nbsp;WYq0&nbsp;&nbsp;&nbsp;&nbsp;&nbsp;&nbsp;...........................וְתָסֵ֣ךְ עָלֵ֑ימֹו  \n",
       "    </div>\n",
       "    "
      ],
      "text/plain": [
       "<IPython.core.display.HTML object>"
      ]
     },
     "metadata": {},
     "output_type": "display_data"
    },
    {
     "name": "stdout",
     "output_type": "stream",
     "text": [
      "\n"
     ]
    },
    {
     "data": {
      "text/html": [
       "<span style=\"font-size: 14pt; font-family: Times New Roman\">Psalms 9</span>"
      ],
      "text/plain": [
       "<IPython.core.display.HTML object>"
      ]
     },
     "metadata": {},
     "output_type": "display_data"
    },
    {
     "name": "stdout",
     "output_type": "stream",
     "text": [
      "\n"
     ]
    },
    {
     "data": {
      "text/html": [
       "\n",
       "    <div style=\"font-size: 15pt; \n",
       "                font-family: Times New Roman; \n",
       "                direction: rtl; \n",
       "                color:blue;\n",
       "                width: 80%\">\n",
       "\n",
       "                9:8&nbsp;&nbsp;&nbsp;&nbsp;3&nbsp;&nbsp;WXYq&nbsp;&nbsp;&nbsp;&nbsp;&nbsp;&nbsp;.........וַֽ֭יהוָה לְעֹולָ֣ם יֵשֵׁ֑ב  \n",
       "    </div>\n",
       "    "
      ],
      "text/plain": [
       "<IPython.core.display.HTML object>"
      ]
     },
     "metadata": {},
     "output_type": "display_data"
    },
    {
     "data": {
      "text/html": [
       "\n",
       "    <div style=\"font-size: 15pt; \n",
       "                font-family: Times New Roman; \n",
       "                direction: rtl; \n",
       "                color:;\n",
       "                width: 80%\">\n",
       "\n",
       "                9:8&nbsp;&nbsp;&nbsp;&nbsp;6&nbsp;&nbsp;ZQt0&nbsp;&nbsp;&nbsp;&nbsp;&nbsp;&nbsp;..................כֹּונֵ֖ן לַמִּשְׁפָּ֣ט כִּסְאֹֽו׃  \n",
       "    </div>\n",
       "    "
      ],
      "text/plain": [
       "<IPython.core.display.HTML object>"
      ]
     },
     "metadata": {},
     "output_type": "display_data"
    },
    {
     "data": {
      "text/html": [
       "\n",
       "    <div style=\"font-size: 15pt; \n",
       "                font-family: Times New Roman; \n",
       "                direction: rtl; \n",
       "                color:;\n",
       "                width: 80%\">\n",
       "\n",
       "                9:9&nbsp;&nbsp;&nbsp;&nbsp;5&nbsp;&nbsp;WXYq&nbsp;&nbsp;&nbsp;&nbsp;&nbsp;&nbsp;...............וְה֗וּא יִשְׁפֹּֽט־תֵּבֵ֥ל בְּצֶ֑דֶק  \n",
       "    </div>\n",
       "    "
      ],
      "text/plain": [
       "<IPython.core.display.HTML object>"
      ]
     },
     "metadata": {},
     "output_type": "display_data"
    },
    {
     "data": {
      "text/html": [
       "\n",
       "    <div style=\"font-size: 15pt; \n",
       "                font-family: Times New Roman; \n",
       "                direction: rtl; \n",
       "                color:;\n",
       "                width: 80%\">\n",
       "\n",
       "                9:9&nbsp;&nbsp;&nbsp;&nbsp;6&nbsp;&nbsp;ZYq0&nbsp;&nbsp;&nbsp;&nbsp;&nbsp;&nbsp;..................יָדִ֥ין לְ֝אֻמִּ֗ים בְּמֵישָׁרִֽים׃  \n",
       "    </div>\n",
       "    "
      ],
      "text/plain": [
       "<IPython.core.display.HTML object>"
      ]
     },
     "metadata": {},
     "output_type": "display_data"
    },
    {
     "data": {
      "text/html": [
       "\n",
       "    <div style=\"font-size: 15pt; \n",
       "                font-family: Times New Roman; \n",
       "                direction: rtl; \n",
       "                color:;\n",
       "                width: 80%\">\n",
       "\n",
       "                9:10&nbsp;&nbsp;&nbsp;&nbsp;4&nbsp;&nbsp;WYqX&nbsp;&nbsp;&nbsp;&nbsp;&nbsp;&nbsp;............וִ֘יהִ֤י יְהוָ֣ה מִשְׂגָּ֣ב לַדָּ֑ךְ  \n",
       "    </div>\n",
       "    "
      ],
      "text/plain": [
       "<IPython.core.display.HTML object>"
      ]
     },
     "metadata": {},
     "output_type": "display_data"
    },
    {
     "data": {
      "text/html": [
       "\n",
       "    <div style=\"font-size: 15pt; \n",
       "                font-family: Times New Roman; \n",
       "                direction: rtl; \n",
       "                color:;\n",
       "                width: 80%\">\n",
       "\n",
       "                9:10&nbsp;&nbsp;&nbsp;&nbsp;6&nbsp;&nbsp;NmCl&nbsp;&nbsp;&nbsp;&nbsp;&nbsp;&nbsp;..................מִ֝שְׂגָּ֗ב לְעִתֹּ֥ות בַּצָּרָֽה׃  \n",
       "    </div>\n",
       "    "
      ],
      "text/plain": [
       "<IPython.core.display.HTML object>"
      ]
     },
     "metadata": {},
     "output_type": "display_data"
    },
    {
     "data": {
      "text/html": [
       "\n",
       "    <div style=\"font-size: 15pt; \n",
       "                font-family: Times New Roman; \n",
       "                direction: rtl; \n",
       "                color:;\n",
       "                width: 80%\">\n",
       "\n",
       "                9:11&nbsp;&nbsp;&nbsp;&nbsp;5&nbsp;&nbsp;WYqX&nbsp;&nbsp;&nbsp;&nbsp;&nbsp;&nbsp;...............וְיִבְטְח֣וּ בְ֭ךָ יֹודְעֵ֣י שְׁמֶ֑ךָ  \n",
       "    </div>\n",
       "    "
      ],
      "text/plain": [
       "<IPython.core.display.HTML object>"
      ]
     },
     "metadata": {},
     "output_type": "display_data"
    },
    {
     "data": {
      "text/html": [
       "\n",
       "    <div style=\"font-size: 15pt; \n",
       "                font-family: Times New Roman; \n",
       "                direction: rtl; \n",
       "                color:;\n",
       "                width: 80%\">\n",
       "\n",
       "                9:11&nbsp;&nbsp;&nbsp;&nbsp;6&nbsp;&nbsp;xQt0&nbsp;&nbsp;&nbsp;&nbsp;&nbsp;&nbsp;..................כִּ֤י לֹֽא־עָזַ֖בְתָּ דֹרְשֶׁ֣יךָ  \n",
       "    </div>\n",
       "    "
      ],
      "text/plain": [
       "<IPython.core.display.HTML object>"
      ]
     },
     "metadata": {},
     "output_type": "display_data"
    },
    {
     "data": {
      "text/html": [
       "\n",
       "    <div style=\"font-size: 15pt; \n",
       "                font-family: Times New Roman; \n",
       "                direction: rtl; \n",
       "                color:;\n",
       "                width: 80%\">\n",
       "\n",
       "                9:11&nbsp;&nbsp;&nbsp;&nbsp;7&nbsp;&nbsp;Voct&nbsp;&nbsp;&nbsp;&nbsp;&nbsp;&nbsp;.....................יְהוָֽה׃  \n",
       "    </div>\n",
       "    "
      ],
      "text/plain": [
       "<IPython.core.display.HTML object>"
      ]
     },
     "metadata": {},
     "output_type": "display_data"
    },
    {
     "name": "stdout",
     "output_type": "stream",
     "text": [
      "\n"
     ]
    },
    {
     "data": {
      "text/html": [
       "<span style=\"font-size: 14pt; font-family: Times New Roman\">Psalms 15</span>"
      ],
      "text/plain": [
       "<IPython.core.display.HTML object>"
      ]
     },
     "metadata": {},
     "output_type": "display_data"
    },
    {
     "name": "stdout",
     "output_type": "stream",
     "text": [
      "\n"
     ]
    },
    {
     "data": {
      "text/html": [
       "\n",
       "    <div style=\"font-size: 15pt; \n",
       "                font-family: Times New Roman; \n",
       "                direction: rtl; \n",
       "                color:blue;\n",
       "                width: 80%\">\n",
       "\n",
       "                15:5&nbsp;&nbsp;&nbsp;&nbsp;2&nbsp;&nbsp;xYq0&nbsp;&nbsp;&nbsp;&nbsp;&nbsp;&nbsp;......לֹ֖א יִמֹּ֣וט לְעֹולָֽם׃  \n",
       "    </div>\n",
       "    "
      ],
      "text/plain": [
       "<IPython.core.display.HTML object>"
      ]
     },
     "metadata": {},
     "output_type": "display_data"
    },
    {
     "data": {
      "text/html": [
       "\n",
       "    <div style=\"font-size: 15pt; \n",
       "                font-family: Times New Roman; \n",
       "                direction: rtl; \n",
       "                color:;\n",
       "                width: 80%\">\n",
       "\n",
       "                15:5&nbsp;&nbsp;&nbsp;&nbsp;3&nbsp;&nbsp;Ptcp&nbsp;&nbsp;&nbsp;&nbsp;&nbsp;&nbsp;.........עֹֽשֵׂה־אֵ֑לֶּה  \n",
       "    </div>\n",
       "    "
      ],
      "text/plain": [
       "<IPython.core.display.HTML object>"
      ]
     },
     "metadata": {},
     "output_type": "display_data"
    },
    {
     "name": "stdout",
     "output_type": "stream",
     "text": [
      "\n"
     ]
    },
    {
     "data": {
      "text/html": [
       "<span style=\"font-size: 14pt; font-family: Times New Roman\">Psalms 31</span>"
      ],
      "text/plain": [
       "<IPython.core.display.HTML object>"
      ]
     },
     "metadata": {},
     "output_type": "display_data"
    },
    {
     "name": "stdout",
     "output_type": "stream",
     "text": [
      "\n"
     ]
    },
    {
     "data": {
      "text/html": [
       "\n",
       "    <div style=\"font-size: 15pt; \n",
       "                font-family: Times New Roman; \n",
       "                direction: rtl; \n",
       "                color:blue;\n",
       "                width: 80%\">\n",
       "\n",
       "                31:2&nbsp;&nbsp;&nbsp;&nbsp;2&nbsp;&nbsp;xYq0&nbsp;&nbsp;&nbsp;&nbsp;&nbsp;&nbsp;......אַל־אֵבֹ֣ושָׁה לְעֹולָ֑ם  \n",
       "    </div>\n",
       "    "
      ],
      "text/plain": [
       "<IPython.core.display.HTML object>"
      ]
     },
     "metadata": {},
     "output_type": "display_data"
    },
    {
     "data": {
      "text/html": [
       "\n",
       "    <div style=\"font-size: 15pt; \n",
       "                font-family: Times New Roman; \n",
       "                direction: rtl; \n",
       "                color:;\n",
       "                width: 80%\">\n",
       "\n",
       "                31:2&nbsp;&nbsp;&nbsp;&nbsp;3&nbsp;&nbsp;xIm0&nbsp;&nbsp;&nbsp;&nbsp;&nbsp;&nbsp;.........בְּצִדְקָתְךָ֥ פַלְּטֵֽנִי׃  \n",
       "    </div>\n",
       "    "
      ],
      "text/plain": [
       "<IPython.core.display.HTML object>"
      ]
     },
     "metadata": {},
     "output_type": "display_data"
    },
    {
     "data": {
      "text/html": [
       "\n",
       "    <div style=\"font-size: 15pt; \n",
       "                font-family: Times New Roman; \n",
       "                direction: rtl; \n",
       "                color:;\n",
       "                width: 80%\">\n",
       "\n",
       "                31:3&nbsp;&nbsp;&nbsp;&nbsp;4&nbsp;&nbsp;ZIm0&nbsp;&nbsp;&nbsp;&nbsp;&nbsp;&nbsp;............הַטֵּ֤ה אֵלַ֨י׀ אָזְנְךָ֮  \n",
       "    </div>\n",
       "    "
      ],
      "text/plain": [
       "<IPython.core.display.HTML object>"
      ]
     },
     "metadata": {},
     "output_type": "display_data"
    },
    {
     "data": {
      "text/html": [
       "\n",
       "    <div style=\"font-size: 15pt; \n",
       "                font-family: Times New Roman; \n",
       "                direction: rtl; \n",
       "                color:;\n",
       "                width: 80%\">\n",
       "\n",
       "                31:3&nbsp;&nbsp;&nbsp;&nbsp;5&nbsp;&nbsp;xIm0&nbsp;&nbsp;&nbsp;&nbsp;&nbsp;&nbsp;...............מְהֵרָ֪ה הַצִּ֫ילֵ֥נִי  \n",
       "    </div>\n",
       "    "
      ],
      "text/plain": [
       "<IPython.core.display.HTML object>"
      ]
     },
     "metadata": {},
     "output_type": "display_data"
    },
    {
     "data": {
      "text/html": [
       "\n",
       "    <div style=\"font-size: 15pt; \n",
       "                font-family: Times New Roman; \n",
       "                direction: rtl; \n",
       "                color:;\n",
       "                width: 80%\">\n",
       "\n",
       "                31:3&nbsp;&nbsp;&nbsp;&nbsp;4&nbsp;&nbsp;ZIm0&nbsp;&nbsp;&nbsp;&nbsp;&nbsp;&nbsp;............הֱיֵ֤ה לִ֨י׀ לְֽצוּר־מָ֭עֹוז  \n",
       "    </div>\n",
       "    "
      ],
      "text/plain": [
       "<IPython.core.display.HTML object>"
      ]
     },
     "metadata": {},
     "output_type": "display_data"
    },
    {
     "data": {
      "text/html": [
       "\n",
       "    <div style=\"font-size: 15pt; \n",
       "                font-family: Times New Roman; \n",
       "                direction: rtl; \n",
       "                color:;\n",
       "                width: 80%\">\n",
       "\n",
       "                31:3&nbsp;&nbsp;&nbsp;&nbsp;9&nbsp;&nbsp;NmCl&nbsp;&nbsp;&nbsp;&nbsp;&nbsp;&nbsp;...........................לְבֵ֥ית מְצוּדֹ֗ות  \n",
       "    </div>\n",
       "    "
      ],
      "text/plain": [
       "<IPython.core.display.HTML object>"
      ]
     },
     "metadata": {},
     "output_type": "display_data"
    },
    {
     "data": {
      "text/html": [
       "\n",
       "    <div style=\"font-size: 15pt; \n",
       "                font-family: Times New Roman; \n",
       "                direction: rtl; \n",
       "                color:;\n",
       "                width: 80%\">\n",
       "\n",
       "                31:3&nbsp;&nbsp;&nbsp;&nbsp;8&nbsp;&nbsp;InfC&nbsp;&nbsp;&nbsp;&nbsp;&nbsp;&nbsp;........................לְהֹושִׁיעֵֽנִי׃  \n",
       "    </div>\n",
       "    "
      ],
      "text/plain": [
       "<IPython.core.display.HTML object>"
      ]
     },
     "metadata": {},
     "output_type": "display_data"
    },
    {
     "data": {
      "text/html": [
       "\n",
       "    <div style=\"font-size: 15pt; \n",
       "                font-family: Times New Roman; \n",
       "                direction: rtl; \n",
       "                color:;\n",
       "                width: 80%\">\n",
       "\n",
       "                31:4&nbsp;&nbsp;&nbsp;&nbsp;7&nbsp;&nbsp;NmCl&nbsp;&nbsp;&nbsp;&nbsp;&nbsp;&nbsp;.....................כִּֽי־סַלְעִ֣י וּמְצוּדָתִ֣י אָ֑תָּה  \n",
       "    </div>\n",
       "    "
      ],
      "text/plain": [
       "<IPython.core.display.HTML object>"
      ]
     },
     "metadata": {},
     "output_type": "display_data"
    },
    {
     "data": {
      "text/html": [
       "\n",
       "    <div style=\"font-size: 15pt; \n",
       "                font-family: Times New Roman; \n",
       "                direction: rtl; \n",
       "                color:;\n",
       "                width: 80%\">\n",
       "\n",
       "                31:4&nbsp;&nbsp;&nbsp;&nbsp;8&nbsp;&nbsp;WxY0&nbsp;&nbsp;&nbsp;&nbsp;&nbsp;&nbsp;........................וּלְמַ֥עַן שִׁ֝מְךָ֗ תַּֽנְחֵ֥נִי  \n",
       "    </div>\n",
       "    "
      ],
      "text/plain": [
       "<IPython.core.display.HTML object>"
      ]
     },
     "metadata": {},
     "output_type": "display_data"
    },
    {
     "data": {
      "text/html": [
       "\n",
       "    <div style=\"font-size: 15pt; \n",
       "                font-family: Times New Roman; \n",
       "                direction: rtl; \n",
       "                color:;\n",
       "                width: 80%\">\n",
       "\n",
       "                31:4&nbsp;&nbsp;&nbsp;&nbsp;9&nbsp;&nbsp;WYq0&nbsp;&nbsp;&nbsp;&nbsp;&nbsp;&nbsp;...........................וּֽתְנַהֲלֵֽנִי׃  \n",
       "    </div>\n",
       "    "
      ],
      "text/plain": [
       "<IPython.core.display.HTML object>"
      ]
     },
     "metadata": {},
     "output_type": "display_data"
    },
    {
     "data": {
      "text/html": [
       "\n",
       "    <div style=\"font-size: 15pt; \n",
       "                font-family: Times New Roman; \n",
       "                direction: rtl; \n",
       "                color:;\n",
       "                width: 80%\">\n",
       "\n",
       "                31:5&nbsp;&nbsp;&nbsp;&nbsp;6&nbsp;&nbsp;ZYq0&nbsp;&nbsp;&nbsp;&nbsp;&nbsp;&nbsp;..................תֹּוצִיאֵ֗נִי מֵרֶ֣שֶׁת  \n",
       "    </div>\n",
       "    "
      ],
      "text/plain": [
       "<IPython.core.display.HTML object>"
      ]
     },
     "metadata": {},
     "output_type": "display_data"
    },
    {
     "data": {
      "text/html": [
       "\n",
       "    <div style=\"font-size: 15pt; \n",
       "                font-family: Times New Roman; \n",
       "                direction: rtl; \n",
       "                color:;\n",
       "                width: 80%\">\n",
       "\n",
       "                31:5&nbsp;&nbsp;&nbsp;&nbsp;9&nbsp;&nbsp;xQt0&nbsp;&nbsp;&nbsp;&nbsp;&nbsp;&nbsp;...........................ז֭וּ טָ֣מְנוּ לִ֑י  \n",
       "    </div>\n",
       "    "
      ],
      "text/plain": [
       "<IPython.core.display.HTML object>"
      ]
     },
     "metadata": {},
     "output_type": "display_data"
    },
    {
     "data": {
      "text/html": [
       "\n",
       "    <div style=\"font-size: 15pt; \n",
       "                font-family: Times New Roman; \n",
       "                direction: rtl; \n",
       "                color:;\n",
       "                width: 80%\">\n",
       "\n",
       "                31:5&nbsp;&nbsp;&nbsp;&nbsp;8&nbsp;&nbsp;NmCl&nbsp;&nbsp;&nbsp;&nbsp;&nbsp;&nbsp;........................כִּֽי־אַ֝תָּה מָֽעוּזִּֽי׃  \n",
       "    </div>\n",
       "    "
      ],
      "text/plain": [
       "<IPython.core.display.HTML object>"
      ]
     },
     "metadata": {},
     "output_type": "display_data"
    },
    {
     "data": {
      "text/html": [
       "\n",
       "    <div style=\"font-size: 15pt; \n",
       "                font-family: Times New Roman; \n",
       "                direction: rtl; \n",
       "                color:;\n",
       "                width: 80%\">\n",
       "\n",
       "                31:6&nbsp;&nbsp;&nbsp;&nbsp;7&nbsp;&nbsp;xYq0&nbsp;&nbsp;&nbsp;&nbsp;&nbsp;&nbsp;.....................בְּיָדְךָ֮ אַפְקִ֪יד ר֫וּחִ֥י  \n",
       "    </div>\n",
       "    "
      ],
      "text/plain": [
       "<IPython.core.display.HTML object>"
      ]
     },
     "metadata": {},
     "output_type": "display_data"
    },
    {
     "data": {
      "text/html": [
       "\n",
       "    <div style=\"font-size: 15pt; \n",
       "                font-family: Times New Roman; \n",
       "                direction: rtl; \n",
       "                color:;\n",
       "                width: 80%\">\n",
       "\n",
       "                31:6&nbsp;&nbsp;&nbsp;&nbsp;10&nbsp;&nbsp;ZQt0&nbsp;&nbsp;&nbsp;&nbsp;&nbsp;&nbsp;..............................פָּדִ֖יתָה אֹותִ֥י  \n",
       "    </div>\n",
       "    "
      ],
      "text/plain": [
       "<IPython.core.display.HTML object>"
      ]
     },
     "metadata": {},
     "output_type": "display_data"
    },
    {
     "data": {
      "text/html": [
       "\n",
       "    <div style=\"font-size: 15pt; \n",
       "                font-family: Times New Roman; \n",
       "                direction: rtl; \n",
       "                color:;\n",
       "                width: 80%\">\n",
       "\n",
       "                31:6&nbsp;&nbsp;&nbsp;&nbsp;11&nbsp;&nbsp;Voct&nbsp;&nbsp;&nbsp;&nbsp;&nbsp;&nbsp;.................................יְהוָ֗ה אֵ֣ל אֱמֶֽת׃  \n",
       "    </div>\n",
       "    "
      ],
      "text/plain": [
       "<IPython.core.display.HTML object>"
      ]
     },
     "metadata": {},
     "output_type": "display_data"
    },
    {
     "data": {
      "text/html": [
       "\n",
       "    <div style=\"font-size: 15pt; \n",
       "                font-family: Times New Roman; \n",
       "                direction: rtl; \n",
       "                color:;\n",
       "                width: 80%\">\n",
       "\n",
       "                31:7&nbsp;&nbsp;&nbsp;&nbsp;9&nbsp;&nbsp;ZQt0&nbsp;&nbsp;&nbsp;&nbsp;&nbsp;&nbsp;...........................שָׂנֵ֗אתִי  \n",
       "    </div>\n",
       "    "
      ],
      "text/plain": [
       "<IPython.core.display.HTML object>"
      ]
     },
     "metadata": {},
     "output_type": "display_data"
    },
    {
     "data": {
      "text/html": [
       "\n",
       "    <div style=\"font-size: 15pt; \n",
       "                font-family: Times New Roman; \n",
       "                direction: rtl; \n",
       "                color:;\n",
       "                width: 80%\">\n",
       "\n",
       "                31:7&nbsp;&nbsp;&nbsp;&nbsp;11&nbsp;&nbsp;Ptcp&nbsp;&nbsp;&nbsp;&nbsp;&nbsp;&nbsp;.................................הַשֹּׁמְרִ֥ים הַבְלֵי־שָׁ֑וְא  \n",
       "    </div>\n",
       "    "
      ],
      "text/plain": [
       "<IPython.core.display.HTML object>"
      ]
     },
     "metadata": {},
     "output_type": "display_data"
    },
    {
     "data": {
      "text/html": [
       "\n",
       "    <div style=\"font-size: 15pt; \n",
       "                font-family: Times New Roman; \n",
       "                direction: rtl; \n",
       "                color:;\n",
       "                width: 80%\">\n",
       "\n",
       "                31:7&nbsp;&nbsp;&nbsp;&nbsp;10&nbsp;&nbsp;WXQt&nbsp;&nbsp;&nbsp;&nbsp;&nbsp;&nbsp;..............................וַ֝אֲנִ֗י אֶל־יְהוָ֥ה בָּטָֽחְתִּי׃  \n",
       "    </div>\n",
       "    "
      ],
      "text/plain": [
       "<IPython.core.display.HTML object>"
      ]
     },
     "metadata": {},
     "output_type": "display_data"
    },
    {
     "data": {
      "text/html": [
       "\n",
       "    <div style=\"font-size: 15pt; \n",
       "                font-family: Times New Roman; \n",
       "                direction: rtl; \n",
       "                color:;\n",
       "                width: 80%\">\n",
       "\n",
       "                31:8&nbsp;&nbsp;&nbsp;&nbsp;8&nbsp;&nbsp;ZYq0&nbsp;&nbsp;&nbsp;&nbsp;&nbsp;&nbsp;........................אָגִ֥ילָה  \n",
       "    </div>\n",
       "    "
      ],
      "text/plain": [
       "<IPython.core.display.HTML object>"
      ]
     },
     "metadata": {},
     "output_type": "display_data"
    },
    {
     "data": {
      "text/html": [
       "\n",
       "    <div style=\"font-size: 15pt; \n",
       "                font-family: Times New Roman; \n",
       "                direction: rtl; \n",
       "                color:;\n",
       "                width: 80%\">\n",
       "\n",
       "                31:8&nbsp;&nbsp;&nbsp;&nbsp;9&nbsp;&nbsp;WYq0&nbsp;&nbsp;&nbsp;&nbsp;&nbsp;&nbsp;...........................וְאֶשְׂמְחָ֗ה בְּחַ֫סְדֶּ֥ךָ  \n",
       "    </div>\n",
       "    "
      ],
      "text/plain": [
       "<IPython.core.display.HTML object>"
      ]
     },
     "metadata": {},
     "output_type": "display_data"
    },
    {
     "data": {
      "text/html": [
       "\n",
       "    <div style=\"font-size: 15pt; \n",
       "                font-family: Times New Roman; \n",
       "                direction: rtl; \n",
       "                color:;\n",
       "                width: 80%\">\n",
       "\n",
       "                31:8&nbsp;&nbsp;&nbsp;&nbsp;10&nbsp;&nbsp;xQt0&nbsp;&nbsp;&nbsp;&nbsp;&nbsp;&nbsp;..............................אֲשֶׁ֣ר רָ֭אִיתָ אֶת־עָנְיִ֑י  \n",
       "    </div>\n",
       "    "
      ],
      "text/plain": [
       "<IPython.core.display.HTML object>"
      ]
     },
     "metadata": {},
     "output_type": "display_data"
    },
    {
     "data": {
      "text/html": [
       "\n",
       "    <div style=\"font-size: 15pt; \n",
       "                font-family: Times New Roman; \n",
       "                direction: rtl; \n",
       "                color:;\n",
       "                width: 80%\">\n",
       "\n",
       "                31:8&nbsp;&nbsp;&nbsp;&nbsp;11&nbsp;&nbsp;ZQt0&nbsp;&nbsp;&nbsp;&nbsp;&nbsp;&nbsp;.................................יָ֝דַ֗עְתָּ בְּצָרֹ֥ות נַפְשִֽׁי׃  \n",
       "    </div>\n",
       "    "
      ],
      "text/plain": [
       "<IPython.core.display.HTML object>"
      ]
     },
     "metadata": {},
     "output_type": "display_data"
    },
    {
     "data": {
      "text/html": [
       "\n",
       "    <div style=\"font-size: 15pt; \n",
       "                font-family: Times New Roman; \n",
       "                direction: rtl; \n",
       "                color:;\n",
       "                width: 80%\">\n",
       "\n",
       "                31:9&nbsp;&nbsp;&nbsp;&nbsp;12&nbsp;&nbsp;WxQ0&nbsp;&nbsp;&nbsp;&nbsp;&nbsp;&nbsp;....................................וְלֹ֣א הִ֭סְגַּרְתַּנִי בְּיַד־אֹויֵ֑ב  \n",
       "    </div>\n",
       "    "
      ],
      "text/plain": [
       "<IPython.core.display.HTML object>"
      ]
     },
     "metadata": {},
     "output_type": "display_data"
    },
    {
     "data": {
      "text/html": [
       "\n",
       "    <div style=\"font-size: 15pt; \n",
       "                font-family: Times New Roman; \n",
       "                direction: rtl; \n",
       "                color:;\n",
       "                width: 80%\">\n",
       "\n",
       "                31:9&nbsp;&nbsp;&nbsp;&nbsp;11&nbsp;&nbsp;ZQt0&nbsp;&nbsp;&nbsp;&nbsp;&nbsp;&nbsp;.................................הֶֽעֱמַ֖דְתָּ בַמֶּרְחָ֣ב רַגְלָֽי׃  \n",
       "    </div>\n",
       "    "
      ],
      "text/plain": [
       "<IPython.core.display.HTML object>"
      ]
     },
     "metadata": {},
     "output_type": "display_data"
    },
    {
     "data": {
      "text/html": [
       "\n",
       "    <div style=\"font-size: 15pt; \n",
       "                font-family: Times New Roman; \n",
       "                direction: rtl; \n",
       "                color:;\n",
       "                width: 80%\">\n",
       "\n",
       "                31:10&nbsp;&nbsp;&nbsp;&nbsp;5&nbsp;&nbsp;ZIm0&nbsp;&nbsp;&nbsp;&nbsp;&nbsp;&nbsp;...............חָנֵּ֥נִי  \n",
       "    </div>\n",
       "    "
      ],
      "text/plain": [
       "<IPython.core.display.HTML object>"
      ]
     },
     "metadata": {},
     "output_type": "display_data"
    },
    {
     "data": {
      "text/html": [
       "\n",
       "    <div style=\"font-size: 15pt; \n",
       "                font-family: Times New Roman; \n",
       "                direction: rtl; \n",
       "                color:;\n",
       "                width: 80%\">\n",
       "\n",
       "                31:10&nbsp;&nbsp;&nbsp;&nbsp;9&nbsp;&nbsp;Voct&nbsp;&nbsp;&nbsp;&nbsp;&nbsp;&nbsp;...........................יְהוָה֮  \n",
       "    </div>\n",
       "    "
      ],
      "text/plain": [
       "<IPython.core.display.HTML object>"
      ]
     },
     "metadata": {},
     "output_type": "display_data"
    },
    {
     "data": {
      "text/html": [
       "\n",
       "    <div style=\"font-size: 15pt; \n",
       "                font-family: Times New Roman; \n",
       "                direction: rtl; \n",
       "                color:;\n",
       "                width: 80%\">\n",
       "\n",
       "                31:10&nbsp;&nbsp;&nbsp;&nbsp;8&nbsp;&nbsp;xQt0&nbsp;&nbsp;&nbsp;&nbsp;&nbsp;&nbsp;........................כִּ֤י צַ֫ר־לִ֥י  \n",
       "    </div>\n",
       "    "
      ],
      "text/plain": [
       "<IPython.core.display.HTML object>"
      ]
     },
     "metadata": {},
     "output_type": "display_data"
    },
    {
     "data": {
      "text/html": [
       "\n",
       "    <div style=\"font-size: 15pt; \n",
       "                font-family: Times New Roman; \n",
       "                direction: rtl; \n",
       "                color:;\n",
       "                width: 80%\">\n",
       "\n",
       "                31:10&nbsp;&nbsp;&nbsp;&nbsp;10&nbsp;&nbsp;ZQtX&nbsp;&nbsp;&nbsp;&nbsp;&nbsp;&nbsp;..............................עָשְׁשָׁ֖ה בְכַ֥עַס עֵינִ֗י נַפְשִׁ֥י וּבִטְנִֽי׃  \n",
       "    </div>\n",
       "    "
      ],
      "text/plain": [
       "<IPython.core.display.HTML object>"
      ]
     },
     "metadata": {},
     "output_type": "display_data"
    },
    {
     "data": {
      "text/html": [
       "\n",
       "    <div style=\"font-size: 15pt; \n",
       "                font-family: Times New Roman; \n",
       "                direction: rtl; \n",
       "                color:;\n",
       "                width: 80%\">\n",
       "\n",
       "                31:11&nbsp;&nbsp;&nbsp;&nbsp;9&nbsp;&nbsp;xQtX&nbsp;&nbsp;&nbsp;&nbsp;&nbsp;&nbsp;...........................כִּ֤י כָל֪וּ בְיָגֹ֡ון חַיַּי֮  \n",
       "    </div>\n",
       "    "
      ],
      "text/plain": [
       "<IPython.core.display.HTML object>"
      ]
     },
     "metadata": {},
     "output_type": "display_data"
    },
    {
     "data": {
      "text/html": [
       "\n",
       "    <div style=\"font-size: 15pt; \n",
       "                font-family: Times New Roman; \n",
       "                direction: rtl; \n",
       "                color:;\n",
       "                width: 80%\">\n",
       "\n",
       "                31:11&nbsp;&nbsp;&nbsp;&nbsp;11&nbsp;&nbsp;Ellp&nbsp;&nbsp;&nbsp;&nbsp;&nbsp;&nbsp;.................................וּשְׁנֹותַ֪י בַּאֲנָ֫חָ֥ה  \n",
       "    </div>\n",
       "    "
      ],
      "text/plain": [
       "<IPython.core.display.HTML object>"
      ]
     },
     "metadata": {},
     "output_type": "display_data"
    },
    {
     "data": {
      "text/html": [
       "\n",
       "    <div style=\"font-size: 15pt; \n",
       "                font-family: Times New Roman; \n",
       "                direction: rtl; \n",
       "                color:;\n",
       "                width: 80%\">\n",
       "\n",
       "                31:11&nbsp;&nbsp;&nbsp;&nbsp;10&nbsp;&nbsp;ZQtX&nbsp;&nbsp;&nbsp;&nbsp;&nbsp;&nbsp;..............................כָּשַׁ֣ל בַּעֲוֹנִ֣י כֹחִ֑י  \n",
       "    </div>\n",
       "    "
      ],
      "text/plain": [
       "<IPython.core.display.HTML object>"
      ]
     },
     "metadata": {},
     "output_type": "display_data"
    },
    {
     "data": {
      "text/html": [
       "\n",
       "    <div style=\"font-size: 15pt; \n",
       "                font-family: Times New Roman; \n",
       "                direction: rtl; \n",
       "                color:;\n",
       "                width: 80%\">\n",
       "\n",
       "                31:11&nbsp;&nbsp;&nbsp;&nbsp;11&nbsp;&nbsp;WXQt&nbsp;&nbsp;&nbsp;&nbsp;&nbsp;&nbsp;.................................וַעֲצָמַ֥י עָשֵֽׁשׁוּ׃  \n",
       "    </div>\n",
       "    "
      ],
      "text/plain": [
       "<IPython.core.display.HTML object>"
      ]
     },
     "metadata": {},
     "output_type": "display_data"
    },
    {
     "data": {
      "text/html": [
       "\n",
       "    <div style=\"font-size: 15pt; \n",
       "                font-family: Times New Roman; \n",
       "                direction: rtl; \n",
       "                color:;\n",
       "                width: 80%\">\n",
       "\n",
       "                31:12&nbsp;&nbsp;&nbsp;&nbsp;7&nbsp;&nbsp;xQt0&nbsp;&nbsp;&nbsp;&nbsp;&nbsp;&nbsp;.....................מִכָּל־צֹרְרַ֨י הָיִ֪יתִי חֶרְפָּ֡ה  \n",
       "    </div>\n",
       "    "
      ],
      "text/plain": [
       "<IPython.core.display.HTML object>"
      ]
     },
     "metadata": {},
     "output_type": "display_data"
    },
    {
     "data": {
      "text/html": [
       "\n",
       "    <div style=\"font-size: 15pt; \n",
       "                font-family: Times New Roman; \n",
       "                direction: rtl; \n",
       "                color:;\n",
       "                width: 80%\">\n",
       "\n",
       "                31:12&nbsp;&nbsp;&nbsp;&nbsp;10&nbsp;&nbsp;Ellp&nbsp;&nbsp;&nbsp;&nbsp;&nbsp;&nbsp;..............................וְלִשֲׁכֵנַ֨י׀ מְאֹד֮  \n",
       "    </div>\n",
       "    "
      ],
      "text/plain": [
       "<IPython.core.display.HTML object>"
      ]
     },
     "metadata": {},
     "output_type": "display_data"
    },
    {
     "data": {
      "text/html": [
       "\n",
       "    <div style=\"font-size: 15pt; \n",
       "                font-family: Times New Roman; \n",
       "                direction: rtl; \n",
       "                color:;\n",
       "                width: 80%\">\n",
       "\n",
       "                31:12&nbsp;&nbsp;&nbsp;&nbsp;11&nbsp;&nbsp;NmCl&nbsp;&nbsp;&nbsp;&nbsp;&nbsp;&nbsp;.................................וּפַ֪חַד לִֽמְיֻדָּ֫עָ֥י  \n",
       "    </div>\n",
       "    "
      ],
      "text/plain": [
       "<IPython.core.display.HTML object>"
      ]
     },
     "metadata": {},
     "output_type": "display_data"
    },
    {
     "data": {
      "text/html": [
       "\n",
       "    <div style=\"font-size: 15pt; \n",
       "                font-family: Times New Roman; \n",
       "                direction: rtl; \n",
       "                color:;\n",
       "                width: 80%\">\n",
       "\n",
       "                31:12&nbsp;&nbsp;&nbsp;&nbsp;9&nbsp;&nbsp;ZQt0&nbsp;&nbsp;&nbsp;&nbsp;&nbsp;&nbsp;...........................נָדְד֥וּ מִמֶּֽנִּי׃  \n",
       "    </div>\n",
       "    "
      ],
      "text/plain": [
       "<IPython.core.display.HTML object>"
      ]
     },
     "metadata": {},
     "output_type": "display_data"
    },
    {
     "data": {
      "text/html": [
       "\n",
       "    <div style=\"font-size: 15pt; \n",
       "                font-family: Times New Roman; \n",
       "                direction: rtl; \n",
       "                color:;\n",
       "                width: 80%\">\n",
       "\n",
       "                31:12&nbsp;&nbsp;&nbsp;&nbsp;10&nbsp;&nbsp;Ptcp&nbsp;&nbsp;&nbsp;&nbsp;&nbsp;&nbsp;..............................רֹאַ֥י בַּח֑וּץ  \n",
       "    </div>\n",
       "    "
      ],
      "text/plain": [
       "<IPython.core.display.HTML object>"
      ]
     },
     "metadata": {},
     "output_type": "display_data"
    },
    {
     "data": {
      "text/html": [
       "\n",
       "    <div style=\"font-size: 15pt; \n",
       "                font-family: Times New Roman; \n",
       "                direction: rtl; \n",
       "                color:;\n",
       "                width: 80%\">\n",
       "\n",
       "                31:13&nbsp;&nbsp;&nbsp;&nbsp;8&nbsp;&nbsp;ZQt0&nbsp;&nbsp;&nbsp;&nbsp;&nbsp;&nbsp;........................נִ֭שְׁכַּחְתִּי כְּמֵ֣ת מִלֵּ֑ב  \n",
       "    </div>\n",
       "    "
      ],
      "text/plain": [
       "<IPython.core.display.HTML object>"
      ]
     },
     "metadata": {},
     "output_type": "display_data"
    },
    {
     "data": {
      "text/html": [
       "\n",
       "    <div style=\"font-size: 15pt; \n",
       "                font-family: Times New Roman; \n",
       "                direction: rtl; \n",
       "                color:;\n",
       "                width: 80%\">\n",
       "\n",
       "                31:13&nbsp;&nbsp;&nbsp;&nbsp;8&nbsp;&nbsp;ZQt0&nbsp;&nbsp;&nbsp;&nbsp;&nbsp;&nbsp;........................הָ֝יִ֗יתִי כִּכְלִ֥י אֹבֵֽד׃  \n",
       "    </div>\n",
       "    "
      ],
      "text/plain": [
       "<IPython.core.display.HTML object>"
      ]
     },
     "metadata": {},
     "output_type": "display_data"
    },
    {
     "data": {
      "text/html": [
       "\n",
       "    <div style=\"font-size: 15pt; \n",
       "                font-family: Times New Roman; \n",
       "                direction: rtl; \n",
       "                color:;\n",
       "                width: 80%\">\n",
       "\n",
       "                31:14&nbsp;&nbsp;&nbsp;&nbsp;9&nbsp;&nbsp;xQt0&nbsp;&nbsp;&nbsp;&nbsp;&nbsp;&nbsp;...........................כִּ֤י שָׁמַ֨עְתִּי׀ דִּבַּ֥ת רַבִּים֮  \n",
       "    </div>\n",
       "    "
      ],
      "text/plain": [
       "<IPython.core.display.HTML object>"
      ]
     },
     "metadata": {},
     "output_type": "display_data"
    },
    {
     "data": {
      "text/html": [
       "\n",
       "    <div style=\"font-size: 15pt; \n",
       "                font-family: Times New Roman; \n",
       "                direction: rtl; \n",
       "                color:;\n",
       "                width: 80%\">\n",
       "\n",
       "                31:14&nbsp;&nbsp;&nbsp;&nbsp;12&nbsp;&nbsp;NmCl&nbsp;&nbsp;&nbsp;&nbsp;&nbsp;&nbsp;....................................מָגֹ֪ור מִסָּ֫בִ֥יב  \n",
       "    </div>\n",
       "    "
      ],
      "text/plain": [
       "<IPython.core.display.HTML object>"
      ]
     },
     "metadata": {},
     "output_type": "display_data"
    },
    {
     "data": {
      "text/html": [
       "\n",
       "    <div style=\"font-size: 15pt; \n",
       "                font-family: Times New Roman; \n",
       "                direction: rtl; \n",
       "                color:;\n",
       "                width: 80%\">\n",
       "\n",
       "                31:14&nbsp;&nbsp;&nbsp;&nbsp;11&nbsp;&nbsp;InfC&nbsp;&nbsp;&nbsp;&nbsp;&nbsp;&nbsp;.................................בְּהִוָּסְדָ֣ם יַ֣חַד עָלַ֑י  \n",
       "    </div>\n",
       "    "
      ],
      "text/plain": [
       "<IPython.core.display.HTML object>"
      ]
     },
     "metadata": {},
     "output_type": "display_data"
    },
    {
     "data": {
      "text/html": [
       "\n",
       "    <div style=\"font-size: 15pt; \n",
       "                font-family: Times New Roman; \n",
       "                direction: rtl; \n",
       "                color:;\n",
       "                width: 80%\">\n",
       "\n",
       "                31:14&nbsp;&nbsp;&nbsp;&nbsp;10&nbsp;&nbsp;ZQt0&nbsp;&nbsp;&nbsp;&nbsp;&nbsp;&nbsp;..............................זָמָֽמוּ׃  \n",
       "    </div>\n",
       "    "
      ],
      "text/plain": [
       "<IPython.core.display.HTML object>"
      ]
     },
     "metadata": {},
     "output_type": "display_data"
    },
    {
     "data": {
      "text/html": [
       "\n",
       "    <div style=\"font-size: 15pt; \n",
       "                font-family: Times New Roman; \n",
       "                direction: rtl; \n",
       "                color:;\n",
       "                width: 80%\">\n",
       "\n",
       "                31:14&nbsp;&nbsp;&nbsp;&nbsp;11&nbsp;&nbsp;InfC&nbsp;&nbsp;&nbsp;&nbsp;&nbsp;&nbsp;.................................לָקַ֖חַת נַפְשִׁ֣י  \n",
       "    </div>\n",
       "    "
      ],
      "text/plain": [
       "<IPython.core.display.HTML object>"
      ]
     },
     "metadata": {},
     "output_type": "display_data"
    },
    {
     "data": {
      "text/html": [
       "\n",
       "    <div style=\"font-size: 15pt; \n",
       "                font-family: Times New Roman; \n",
       "                direction: rtl; \n",
       "                color:;\n",
       "                width: 80%\">\n",
       "\n",
       "                31:15&nbsp;&nbsp;&nbsp;&nbsp;6&nbsp;&nbsp;WXQt&nbsp;&nbsp;&nbsp;&nbsp;&nbsp;&nbsp;..................וַאֲנִ֤י׀ עָלֶ֣יךָ בָטַ֣חְתִּי  \n",
       "    </div>\n",
       "    "
      ],
      "text/plain": [
       "<IPython.core.display.HTML object>"
      ]
     },
     "metadata": {},
     "output_type": "display_data"
    },
    {
     "data": {
      "text/html": [
       "\n",
       "    <div style=\"font-size: 15pt; \n",
       "                font-family: Times New Roman; \n",
       "                direction: rtl; \n",
       "                color:;\n",
       "                width: 80%\">\n",
       "\n",
       "                31:15&nbsp;&nbsp;&nbsp;&nbsp;9&nbsp;&nbsp;Voct&nbsp;&nbsp;&nbsp;&nbsp;&nbsp;&nbsp;...........................יְהוָ֑ה  \n",
       "    </div>\n",
       "    "
      ],
      "text/plain": [
       "<IPython.core.display.HTML object>"
      ]
     },
     "metadata": {},
     "output_type": "display_data"
    },
    {
     "data": {
      "text/html": [
       "\n",
       "    <div style=\"font-size: 15pt; \n",
       "                font-family: Times New Roman; \n",
       "                direction: rtl; \n",
       "                color:;\n",
       "                width: 80%\">\n",
       "\n",
       "                31:15&nbsp;&nbsp;&nbsp;&nbsp;8&nbsp;&nbsp;ZQt0&nbsp;&nbsp;&nbsp;&nbsp;&nbsp;&nbsp;........................אָ֝מַ֗רְתִּי  \n",
       "    </div>\n",
       "    "
      ],
      "text/plain": [
       "<IPython.core.display.HTML object>"
      ]
     },
     "metadata": {},
     "output_type": "display_data"
    },
    {
     "data": {
      "text/html": [
       "\n",
       "    <div style=\"font-size: 15pt; \n",
       "                font-family: Times New Roman; \n",
       "                direction: rtl; \n",
       "                color:;\n",
       "                width: 80%\">\n",
       "\n",
       "                31:15&nbsp;&nbsp;&nbsp;&nbsp;9&nbsp;&nbsp;NmCl&nbsp;&nbsp;&nbsp;&nbsp;&nbsp;&nbsp;...........................אֱלֹהַ֥י אָֽתָּה׃  \n",
       "    </div>\n",
       "    "
      ],
      "text/plain": [
       "<IPython.core.display.HTML object>"
      ]
     },
     "metadata": {},
     "output_type": "display_data"
    },
    {
     "data": {
      "text/html": [
       "\n",
       "    <div style=\"font-size: 15pt; \n",
       "                font-family: Times New Roman; \n",
       "                direction: rtl; \n",
       "                color:;\n",
       "                width: 80%\">\n",
       "\n",
       "                31:16&nbsp;&nbsp;&nbsp;&nbsp;10&nbsp;&nbsp;NmCl&nbsp;&nbsp;&nbsp;&nbsp;&nbsp;&nbsp;..............................בְּיָדְךָ֥ עִתֹּתָ֑י  \n",
       "    </div>\n",
       "    "
      ],
      "text/plain": [
       "<IPython.core.display.HTML object>"
      ]
     },
     "metadata": {},
     "output_type": "display_data"
    },
    {
     "data": {
      "text/html": [
       "\n",
       "    <div style=\"font-size: 15pt; \n",
       "                font-family: Times New Roman; \n",
       "                direction: rtl; \n",
       "                color:;\n",
       "                width: 80%\">\n",
       "\n",
       "                31:16&nbsp;&nbsp;&nbsp;&nbsp;7&nbsp;&nbsp;ZIm0&nbsp;&nbsp;&nbsp;&nbsp;&nbsp;&nbsp;.....................הַצִּ֘ילֵ֤נִי מִיַּד־אֹ֝ויְבַ֗י וּמֵרֹדְפָֽי׃  \n",
       "    </div>\n",
       "    "
      ],
      "text/plain": [
       "<IPython.core.display.HTML object>"
      ]
     },
     "metadata": {},
     "output_type": "display_data"
    },
    {
     "data": {
      "text/html": [
       "\n",
       "    <div style=\"font-size: 15pt; \n",
       "                font-family: Times New Roman; \n",
       "                direction: rtl; \n",
       "                color:;\n",
       "                width: 80%\">\n",
       "\n",
       "                31:17&nbsp;&nbsp;&nbsp;&nbsp;8&nbsp;&nbsp;ZIm0&nbsp;&nbsp;&nbsp;&nbsp;&nbsp;&nbsp;........................הָאִ֣ירָה פָ֭נֶיךָ עַל־עַבְדֶּ֑ךָ  \n",
       "    </div>\n",
       "    "
      ],
      "text/plain": [
       "<IPython.core.display.HTML object>"
      ]
     },
     "metadata": {},
     "output_type": "display_data"
    },
    {
     "data": {
      "text/html": [
       "\n",
       "    <div style=\"font-size: 15pt; \n",
       "                font-family: Times New Roman; \n",
       "                direction: rtl; \n",
       "                color:;\n",
       "                width: 80%\">\n",
       "\n",
       "                31:17&nbsp;&nbsp;&nbsp;&nbsp;7&nbsp;&nbsp;ZIm0&nbsp;&nbsp;&nbsp;&nbsp;&nbsp;&nbsp;.....................הֹ֖ושִׁיעֵ֣נִי בְחַסְדֶּֽךָ׃  \n",
       "    </div>\n",
       "    "
      ],
      "text/plain": [
       "<IPython.core.display.HTML object>"
      ]
     },
     "metadata": {},
     "output_type": "display_data"
    },
    {
     "data": {
      "text/html": [
       "\n",
       "    <div style=\"font-size: 15pt; \n",
       "                font-family: Times New Roman; \n",
       "                direction: rtl; \n",
       "                color:;\n",
       "                width: 80%\">\n",
       "\n",
       "                31:18&nbsp;&nbsp;&nbsp;&nbsp;10&nbsp;&nbsp;Voct&nbsp;&nbsp;&nbsp;&nbsp;&nbsp;&nbsp;..............................יְֽהוָ֗ה  \n",
       "    </div>\n",
       "    "
      ],
      "text/plain": [
       "<IPython.core.display.HTML object>"
      ]
     },
     "metadata": {},
     "output_type": "display_data"
    },
    {
     "data": {
      "text/html": [
       "\n",
       "    <div style=\"font-size: 15pt; \n",
       "                font-family: Times New Roman; \n",
       "                direction: rtl; \n",
       "                color:;\n",
       "                width: 80%\">\n",
       "\n",
       "                31:18&nbsp;&nbsp;&nbsp;&nbsp;9&nbsp;&nbsp;xYq0&nbsp;&nbsp;&nbsp;&nbsp;&nbsp;&nbsp;...........................אַל־אֵ֭בֹושָׁה  \n",
       "    </div>\n",
       "    "
      ],
      "text/plain": [
       "<IPython.core.display.HTML object>"
      ]
     },
     "metadata": {},
     "output_type": "display_data"
    },
    {
     "data": {
      "text/html": [
       "\n",
       "    <div style=\"font-size: 15pt; \n",
       "                font-family: Times New Roman; \n",
       "                direction: rtl; \n",
       "                color:;\n",
       "                width: 80%\">\n",
       "\n",
       "                31:18&nbsp;&nbsp;&nbsp;&nbsp;11&nbsp;&nbsp;xQt0&nbsp;&nbsp;&nbsp;&nbsp;&nbsp;&nbsp;.................................כִּ֣י קְרָאתִ֑יךָ  \n",
       "    </div>\n",
       "    "
      ],
      "text/plain": [
       "<IPython.core.display.HTML object>"
      ]
     },
     "metadata": {},
     "output_type": "display_data"
    },
    {
     "data": {
      "text/html": [
       "\n",
       "    <div style=\"font-size: 15pt; \n",
       "                font-family: Times New Roman; \n",
       "                direction: rtl; \n",
       "                color:;\n",
       "                width: 80%\">\n",
       "\n",
       "                31:18&nbsp;&nbsp;&nbsp;&nbsp;10&nbsp;&nbsp;ZYqX&nbsp;&nbsp;&nbsp;&nbsp;&nbsp;&nbsp;..............................יֵבֹ֥שׁוּ רְ֝שָׁעִ֗ים  \n",
       "    </div>\n",
       "    "
      ],
      "text/plain": [
       "<IPython.core.display.HTML object>"
      ]
     },
     "metadata": {},
     "output_type": "display_data"
    },
    {
     "data": {
      "text/html": [
       "\n",
       "    <div style=\"font-size: 15pt; \n",
       "                font-family: Times New Roman; \n",
       "                direction: rtl; \n",
       "                color:;\n",
       "                width: 80%\">\n",
       "\n",
       "                31:18&nbsp;&nbsp;&nbsp;&nbsp;12&nbsp;&nbsp;ZYq0&nbsp;&nbsp;&nbsp;&nbsp;&nbsp;&nbsp;....................................יִדְּמ֥וּ לִשְׁאֹֽול׃  \n",
       "    </div>\n",
       "    "
      ],
      "text/plain": [
       "<IPython.core.display.HTML object>"
      ]
     },
     "metadata": {},
     "output_type": "display_data"
    },
    {
     "data": {
      "text/html": [
       "\n",
       "    <div style=\"font-size: 15pt; \n",
       "                font-family: Times New Roman; \n",
       "                direction: rtl; \n",
       "                color:;\n",
       "                width: 80%\">\n",
       "\n",
       "                31:19&nbsp;&nbsp;&nbsp;&nbsp;11&nbsp;&nbsp;ZYqX&nbsp;&nbsp;&nbsp;&nbsp;&nbsp;&nbsp;.................................תֵּ֥אָלַ֗מְנָה שִׂפְתֵ֫י שָׁ֥קֶר  \n",
       "    </div>\n",
       "    "
      ],
      "text/plain": [
       "<IPython.core.display.HTML object>"
      ]
     },
     "metadata": {},
     "output_type": "display_data"
    },
    {
     "data": {
      "text/html": [
       "\n",
       "    <div style=\"font-size: 15pt; \n",
       "                font-family: Times New Roman; \n",
       "                direction: rtl; \n",
       "                color:;\n",
       "                width: 80%\">\n",
       "\n",
       "                31:19&nbsp;&nbsp;&nbsp;&nbsp;12&nbsp;&nbsp;Ptcp&nbsp;&nbsp;&nbsp;&nbsp;&nbsp;&nbsp;....................................הַדֹּבְרֹ֖ות עַל־צַדִּ֥יק עָתָ֗ק בְּגַאֲוָ֥ה וָבֽוּז׃  \n",
       "    </div>\n",
       "    "
      ],
      "text/plain": [
       "<IPython.core.display.HTML object>"
      ]
     },
     "metadata": {},
     "output_type": "display_data"
    },
    {
     "data": {
      "text/html": [
       "\n",
       "    <div style=\"font-size: 15pt; \n",
       "                font-family: Times New Roman; \n",
       "                direction: rtl; \n",
       "                color:;\n",
       "                width: 80%\">\n",
       "\n",
       "                31:20&nbsp;&nbsp;&nbsp;&nbsp;8&nbsp;&nbsp;AjCl&nbsp;&nbsp;&nbsp;&nbsp;&nbsp;&nbsp;........................מָ֤ה רַֽב־טוּבְךָ֮  \n",
       "    </div>\n",
       "    "
      ],
      "text/plain": [
       "<IPython.core.display.HTML object>"
      ]
     },
     "metadata": {},
     "output_type": "display_data"
    },
    {
     "data": {
      "text/html": [
       "\n",
       "    <div style=\"font-size: 15pt; \n",
       "                font-family: Times New Roman; \n",
       "                direction: rtl; \n",
       "                color:;\n",
       "                width: 80%\">\n",
       "\n",
       "                31:20&nbsp;&nbsp;&nbsp;&nbsp;10&nbsp;&nbsp;xQt0&nbsp;&nbsp;&nbsp;&nbsp;&nbsp;&nbsp;..............................אֲשֶׁר־צָפַ֪נְתָּ לִּֽירֵ֫אֶ֥יךָ  \n",
       "    </div>\n",
       "    "
      ],
      "text/plain": [
       "<IPython.core.display.HTML object>"
      ]
     },
     "metadata": {},
     "output_type": "display_data"
    },
    {
     "data": {
      "text/html": [
       "\n",
       "    <div style=\"font-size: 15pt; \n",
       "                font-family: Times New Roman; \n",
       "                direction: rtl; \n",
       "                color:;\n",
       "                width: 80%\">\n",
       "\n",
       "                31:20&nbsp;&nbsp;&nbsp;&nbsp;11&nbsp;&nbsp;ZQt0&nbsp;&nbsp;&nbsp;&nbsp;&nbsp;&nbsp;.................................פָּ֭עַלְתָּ  \n",
       "    </div>\n",
       "    "
      ],
      "text/plain": [
       "<IPython.core.display.HTML object>"
      ]
     },
     "metadata": {},
     "output_type": "display_data"
    },
    {
     "data": {
      "text/html": [
       "\n",
       "    <div style=\"font-size: 15pt; \n",
       "                font-family: Times New Roman; \n",
       "                direction: rtl; \n",
       "                color:;\n",
       "                width: 80%\">\n",
       "\n",
       "                31:20&nbsp;&nbsp;&nbsp;&nbsp;13&nbsp;&nbsp;Ptcp&nbsp;&nbsp;&nbsp;&nbsp;&nbsp;&nbsp;.......................................לַחֹסִ֣ים בָּ֑ךְ  \n",
       "    </div>\n",
       "    "
      ],
      "text/plain": [
       "<IPython.core.display.HTML object>"
      ]
     },
     "metadata": {},
     "output_type": "display_data"
    },
    {
     "data": {
      "text/html": [
       "\n",
       "    <div style=\"font-size: 15pt; \n",
       "                font-family: Times New Roman; \n",
       "                direction: rtl; \n",
       "                color:;\n",
       "                width: 80%\">\n",
       "\n",
       "                31:20&nbsp;&nbsp;&nbsp;&nbsp;12&nbsp;&nbsp;Defc&nbsp;&nbsp;&nbsp;&nbsp;&nbsp;&nbsp;....................................נֶ֝֗גֶד בְּנֵ֣י אָדָם׃  \n",
       "    </div>\n",
       "    "
      ],
      "text/plain": [
       "<IPython.core.display.HTML object>"
      ]
     },
     "metadata": {},
     "output_type": "display_data"
    },
    {
     "data": {
      "text/html": [
       "\n",
       "    <div style=\"font-size: 15pt; \n",
       "                font-family: Times New Roman; \n",
       "                direction: rtl; \n",
       "                color:;\n",
       "                width: 80%\">\n",
       "\n",
       "                31:21&nbsp;&nbsp;&nbsp;&nbsp;9&nbsp;&nbsp;ZYq0&nbsp;&nbsp;&nbsp;&nbsp;&nbsp;&nbsp;...........................תַּסְתִּירֵ֤ם׀ בְּסֵ֥תֶר פָּנֶיךָ֮ מֵֽרֻכְסֵ֫י אִ֥ישׁ  \n",
       "    </div>\n",
       "    "
      ],
      "text/plain": [
       "<IPython.core.display.HTML object>"
      ]
     },
     "metadata": {},
     "output_type": "display_data"
    },
    {
     "data": {
      "text/html": [
       "\n",
       "    <div style=\"font-size: 15pt; \n",
       "                font-family: Times New Roman; \n",
       "                direction: rtl; \n",
       "                color:;\n",
       "                width: 80%\">\n",
       "\n",
       "                31:21&nbsp;&nbsp;&nbsp;&nbsp;9&nbsp;&nbsp;ZYq0&nbsp;&nbsp;&nbsp;&nbsp;&nbsp;&nbsp;...........................תִּצְפְּנֵ֥ם בְּסֻכָּ֗ה מֵרִ֥יב לְשֹׁנֹֽות׃  \n",
       "    </div>\n",
       "    "
      ],
      "text/plain": [
       "<IPython.core.display.HTML object>"
      ]
     },
     "metadata": {},
     "output_type": "display_data"
    },
    {
     "data": {
      "text/html": [
       "\n",
       "    <div style=\"font-size: 15pt; \n",
       "                font-family: Times New Roman; \n",
       "                direction: rtl; \n",
       "                color:;\n",
       "                width: 80%\">\n",
       "\n",
       "                31:22&nbsp;&nbsp;&nbsp;&nbsp;11&nbsp;&nbsp;Ptcp&nbsp;&nbsp;&nbsp;&nbsp;&nbsp;&nbsp;.................................בָּר֥וּךְ יְהוָ֑ה  \n",
       "    </div>\n",
       "    "
      ],
      "text/plain": [
       "<IPython.core.display.HTML object>"
      ]
     },
     "metadata": {},
     "output_type": "display_data"
    },
    {
     "data": {
      "text/html": [
       "\n",
       "    <div style=\"font-size: 15pt; \n",
       "                font-family: Times New Roman; \n",
       "                direction: rtl; \n",
       "                color:;\n",
       "                width: 80%\">\n",
       "\n",
       "                31:22&nbsp;&nbsp;&nbsp;&nbsp;12&nbsp;&nbsp;xQt0&nbsp;&nbsp;&nbsp;&nbsp;&nbsp;&nbsp;....................................כִּ֥י הִפְלִ֘יא חַסְדֹּ֥ו לִ֝֗י בְּעִ֣יר מָצֹֽור׃  \n",
       "    </div>\n",
       "    "
      ],
      "text/plain": [
       "<IPython.core.display.HTML object>"
      ]
     },
     "metadata": {},
     "output_type": "display_data"
    },
    {
     "data": {
      "text/html": [
       "\n",
       "    <div style=\"font-size: 15pt; \n",
       "                font-family: Times New Roman; \n",
       "                direction: rtl; \n",
       "                color:;\n",
       "                width: 80%\">\n",
       "\n",
       "                31:23&nbsp;&nbsp;&nbsp;&nbsp;10&nbsp;&nbsp;WXQt&nbsp;&nbsp;&nbsp;&nbsp;&nbsp;&nbsp;..............................וַאֲנִ֤י׀ אָ֘מַ֤רְתִּי בְחָפְזִ֗י  \n",
       "    </div>\n",
       "    "
      ],
      "text/plain": [
       "<IPython.core.display.HTML object>"
      ]
     },
     "metadata": {},
     "output_type": "display_data"
    },
    {
     "data": {
      "text/html": [
       "\n",
       "    <div style=\"font-size: 15pt; \n",
       "                font-family: Times New Roman; \n",
       "                direction: rtl; \n",
       "                color:;\n",
       "                width: 80%\">\n",
       "\n",
       "                31:23&nbsp;&nbsp;&nbsp;&nbsp;12&nbsp;&nbsp;ZQt0&nbsp;&nbsp;&nbsp;&nbsp;&nbsp;&nbsp;....................................נִגְרַזְתִּי֮ מִנֶּ֪גֶד עֵ֫ינֶ֥יךָ  \n",
       "    </div>\n",
       "    "
      ],
      "text/plain": [
       "<IPython.core.display.HTML object>"
      ]
     },
     "metadata": {},
     "output_type": "display_data"
    },
    {
     "data": {
      "text/html": [
       "\n",
       "    <div style=\"font-size: 15pt; \n",
       "                font-family: Times New Roman; \n",
       "                direction: rtl; \n",
       "                color:;\n",
       "                width: 80%\">\n",
       "\n",
       "                31:23&nbsp;&nbsp;&nbsp;&nbsp;11&nbsp;&nbsp;xQt0&nbsp;&nbsp;&nbsp;&nbsp;&nbsp;&nbsp;.................................אָכֵ֗ן שָׁ֭מַעְתָּ קֹ֥ול תַּחֲנוּנַ֗י  \n",
       "    </div>\n",
       "    "
      ],
      "text/plain": [
       "<IPython.core.display.HTML object>"
      ]
     },
     "metadata": {},
     "output_type": "display_data"
    },
    {
     "data": {
      "text/html": [
       "\n",
       "    <div style=\"font-size: 15pt; \n",
       "                font-family: Times New Roman; \n",
       "                direction: rtl; \n",
       "                color:;\n",
       "                width: 80%\">\n",
       "\n",
       "                31:23&nbsp;&nbsp;&nbsp;&nbsp;12&nbsp;&nbsp;InfC&nbsp;&nbsp;&nbsp;&nbsp;&nbsp;&nbsp;....................................בְּשַׁוְּעִ֥י אֵלֶֽיךָ׃  \n",
       "    </div>\n",
       "    "
      ],
      "text/plain": [
       "<IPython.core.display.HTML object>"
      ]
     },
     "metadata": {},
     "output_type": "display_data"
    },
    {
     "name": "stdout",
     "output_type": "stream",
     "text": [
      "\n"
     ]
    },
    {
     "data": {
      "text/html": [
       "<span style=\"font-size: 14pt; font-family: Times New Roman\">Psalms 44</span>"
      ],
      "text/plain": [
       "<IPython.core.display.HTML object>"
      ]
     },
     "metadata": {},
     "output_type": "display_data"
    },
    {
     "name": "stdout",
     "output_type": "stream",
     "text": [
      "\n"
     ]
    },
    {
     "data": {
      "text/html": [
       "\n",
       "    <div style=\"font-size: 15pt; \n",
       "                font-family: Times New Roman; \n",
       "                direction: rtl; \n",
       "                color:blue;\n",
       "                width: 80%\">\n",
       "\n",
       "                44:9&nbsp;&nbsp;&nbsp;&nbsp;8&nbsp;&nbsp;WxY0&nbsp;&nbsp;&nbsp;&nbsp;&nbsp;&nbsp;........................וְשִׁמְךָ֓׀ לְעֹולָ֖ם נֹודֶ֣ה  \n",
       "    </div>\n",
       "    "
      ],
      "text/plain": [
       "<IPython.core.display.HTML object>"
      ]
     },
     "metadata": {},
     "output_type": "display_data"
    },
    {
     "data": {
      "text/html": [
       "\n",
       "    <div style=\"font-size: 15pt; \n",
       "                font-family: Times New Roman; \n",
       "                direction: rtl; \n",
       "                color:;\n",
       "                width: 80%\">\n",
       "\n",
       "                44:9&nbsp;&nbsp;&nbsp;&nbsp;9&nbsp;&nbsp;MSyn&nbsp;&nbsp;&nbsp;&nbsp;&nbsp;&nbsp;...........................סֶֽלָה׃  \n",
       "    </div>\n",
       "    "
      ],
      "text/plain": [
       "<IPython.core.display.HTML object>"
      ]
     },
     "metadata": {},
     "output_type": "display_data"
    },
    {
     "name": "stdout",
     "output_type": "stream",
     "text": [
      "\n"
     ]
    },
    {
     "data": {
      "text/html": [
       "<span style=\"font-size: 14pt; font-family: Times New Roman\">Psalms 52</span>"
      ],
      "text/plain": [
       "<IPython.core.display.HTML object>"
      ]
     },
     "metadata": {},
     "output_type": "display_data"
    },
    {
     "name": "stdout",
     "output_type": "stream",
     "text": [
      "\n"
     ]
    },
    {
     "data": {
      "text/html": [
       "\n",
       "    <div style=\"font-size: 15pt; \n",
       "                font-family: Times New Roman; \n",
       "                direction: rtl; \n",
       "                color:blue;\n",
       "                width: 80%\">\n",
       "\n",
       "                52:11&nbsp;&nbsp;&nbsp;&nbsp;3&nbsp;&nbsp;ZYq0&nbsp;&nbsp;&nbsp;&nbsp;&nbsp;&nbsp;.........אֹודְךָ֣ לְ֭עֹולָם  \n",
       "    </div>\n",
       "    "
      ],
      "text/plain": [
       "<IPython.core.display.HTML object>"
      ]
     },
     "metadata": {},
     "output_type": "display_data"
    },
    {
     "data": {
      "text/html": [
       "\n",
       "    <div style=\"font-size: 15pt; \n",
       "                font-family: Times New Roman; \n",
       "                direction: rtl; \n",
       "                color:;\n",
       "                width: 80%\">\n",
       "\n",
       "                52:11&nbsp;&nbsp;&nbsp;&nbsp;5&nbsp;&nbsp;xQt0&nbsp;&nbsp;&nbsp;&nbsp;&nbsp;&nbsp;...............כִּ֣י עָשִׂ֑יתָ  \n",
       "    </div>\n",
       "    "
      ],
      "text/plain": [
       "<IPython.core.display.HTML object>"
      ]
     },
     "metadata": {},
     "output_type": "display_data"
    },
    {
     "data": {
      "text/html": [
       "\n",
       "    <div style=\"font-size: 15pt; \n",
       "                font-family: Times New Roman; \n",
       "                direction: rtl; \n",
       "                color:;\n",
       "                width: 80%\">\n",
       "\n",
       "                52:11&nbsp;&nbsp;&nbsp;&nbsp;4&nbsp;&nbsp;WYq0&nbsp;&nbsp;&nbsp;&nbsp;&nbsp;&nbsp;............וַאֲקַוֶּ֖ה שִׁמְךָ֥  \n",
       "    </div>\n",
       "    "
      ],
      "text/plain": [
       "<IPython.core.display.HTML object>"
      ]
     },
     "metadata": {},
     "output_type": "display_data"
    },
    {
     "data": {
      "text/html": [
       "\n",
       "    <div style=\"font-size: 15pt; \n",
       "                font-family: Times New Roman; \n",
       "                direction: rtl; \n",
       "                color:;\n",
       "                width: 80%\">\n",
       "\n",
       "                52:11&nbsp;&nbsp;&nbsp;&nbsp;5&nbsp;&nbsp;xQt0&nbsp;&nbsp;&nbsp;&nbsp;&nbsp;&nbsp;...............כִֽי־טֹ֝֗וב נֶ֣גֶד חֲסִידֶֽיךָ׃  \n",
       "    </div>\n",
       "    "
      ],
      "text/plain": [
       "<IPython.core.display.HTML object>"
      ]
     },
     "metadata": {},
     "output_type": "display_data"
    },
    {
     "name": "stdout",
     "output_type": "stream",
     "text": [
      "\n"
     ]
    },
    {
     "data": {
      "text/html": [
       "<span style=\"font-size: 14pt; font-family: Times New Roman\">Psalms 71</span>"
      ],
      "text/plain": [
       "<IPython.core.display.HTML object>"
      ]
     },
     "metadata": {},
     "output_type": "display_data"
    },
    {
     "name": "stdout",
     "output_type": "stream",
     "text": [
      "\n"
     ]
    },
    {
     "data": {
      "text/html": [
       "\n",
       "    <div style=\"font-size: 15pt; \n",
       "                font-family: Times New Roman; \n",
       "                direction: rtl; \n",
       "                color:blue;\n",
       "                width: 80%\">\n",
       "\n",
       "                71:1&nbsp;&nbsp;&nbsp;&nbsp;2&nbsp;&nbsp;xYq0&nbsp;&nbsp;&nbsp;&nbsp;&nbsp;&nbsp;......אַל־אֵבֹ֥ושָׁה לְעֹולָֽם׃  \n",
       "    </div>\n",
       "    "
      ],
      "text/plain": [
       "<IPython.core.display.HTML object>"
      ]
     },
     "metadata": {},
     "output_type": "display_data"
    },
    {
     "data": {
      "text/html": [
       "\n",
       "    <div style=\"font-size: 15pt; \n",
       "                font-family: Times New Roman; \n",
       "                direction: rtl; \n",
       "                color:;\n",
       "                width: 80%\">\n",
       "\n",
       "                71:2&nbsp;&nbsp;&nbsp;&nbsp;4&nbsp;&nbsp;xYq0&nbsp;&nbsp;&nbsp;&nbsp;&nbsp;&nbsp;............בְּצִדְקָתְךָ֗ תַּצִּילֵ֥נִי  \n",
       "    </div>\n",
       "    "
      ],
      "text/plain": [
       "<IPython.core.display.HTML object>"
      ]
     },
     "metadata": {},
     "output_type": "display_data"
    },
    {
     "data": {
      "text/html": [
       "\n",
       "    <div style=\"font-size: 15pt; \n",
       "                font-family: Times New Roman; \n",
       "                direction: rtl; \n",
       "                color:;\n",
       "                width: 80%\">\n",
       "\n",
       "                71:2&nbsp;&nbsp;&nbsp;&nbsp;5&nbsp;&nbsp;WYq0&nbsp;&nbsp;&nbsp;&nbsp;&nbsp;&nbsp;...............וּֽתְפַלְּטֵ֑נִי  \n",
       "    </div>\n",
       "    "
      ],
      "text/plain": [
       "<IPython.core.display.HTML object>"
      ]
     },
     "metadata": {},
     "output_type": "display_data"
    },
    {
     "data": {
      "text/html": [
       "\n",
       "    <div style=\"font-size: 15pt; \n",
       "                font-family: Times New Roman; \n",
       "                direction: rtl; \n",
       "                color:;\n",
       "                width: 80%\">\n",
       "\n",
       "                71:2&nbsp;&nbsp;&nbsp;&nbsp;3&nbsp;&nbsp;ZIm0&nbsp;&nbsp;&nbsp;&nbsp;&nbsp;&nbsp;.........הַטֵּֽה־אֵלַ֥י אָ֝זְנְךָ֗  \n",
       "    </div>\n",
       "    "
      ],
      "text/plain": [
       "<IPython.core.display.HTML object>"
      ]
     },
     "metadata": {},
     "output_type": "display_data"
    },
    {
     "data": {
      "text/html": [
       "\n",
       "    <div style=\"font-size: 15pt; \n",
       "                font-family: Times New Roman; \n",
       "                direction: rtl; \n",
       "                color:;\n",
       "                width: 80%\">\n",
       "\n",
       "                71:2&nbsp;&nbsp;&nbsp;&nbsp;4&nbsp;&nbsp;WIm0&nbsp;&nbsp;&nbsp;&nbsp;&nbsp;&nbsp;............וְהֹושִׁיעֵֽנִי׃  \n",
       "    </div>\n",
       "    "
      ],
      "text/plain": [
       "<IPython.core.display.HTML object>"
      ]
     },
     "metadata": {},
     "output_type": "display_data"
    },
    {
     "data": {
      "text/html": [
       "\n",
       "    <div style=\"font-size: 15pt; \n",
       "                font-family: Times New Roman; \n",
       "                direction: rtl; \n",
       "                color:;\n",
       "                width: 80%\">\n",
       "\n",
       "                71:3&nbsp;&nbsp;&nbsp;&nbsp;3&nbsp;&nbsp;ZIm0&nbsp;&nbsp;&nbsp;&nbsp;&nbsp;&nbsp;.........הֱיֵ֤ה לִ֨י׀ לְצ֥וּר מָעֹ֡ון  \n",
       "    </div>\n",
       "    "
      ],
      "text/plain": [
       "<IPython.core.display.HTML object>"
      ]
     },
     "metadata": {},
     "output_type": "display_data"
    },
    {
     "name": "stdout",
     "output_type": "stream",
     "text": [
      "\n"
     ]
    },
    {
     "data": {
      "text/html": [
       "<span style=\"font-size: 14pt; font-family: Times New Roman\">Psalms 89</span>"
      ],
      "text/plain": [
       "<IPython.core.display.HTML object>"
      ]
     },
     "metadata": {},
     "output_type": "display_data"
    },
    {
     "name": "stdout",
     "output_type": "stream",
     "text": [
      "\n"
     ]
    },
    {
     "data": {
      "text/html": [
       "\n",
       "    <div style=\"font-size: 15pt; \n",
       "                font-family: Times New Roman; \n",
       "                direction: rtl; \n",
       "                color:blue;\n",
       "                width: 80%\">\n",
       "\n",
       "                89:29&nbsp;&nbsp;&nbsp;&nbsp;12&nbsp;&nbsp;xYq0&nbsp;&nbsp;&nbsp;&nbsp;&nbsp;&nbsp;....................................לְ֭עֹולָ֗ם אֶשְׁמָר־לֹ֣ו חַסְדִּ֑י  \n",
       "    </div>\n",
       "    "
      ],
      "text/plain": [
       "<IPython.core.display.HTML object>"
      ]
     },
     "metadata": {},
     "output_type": "display_data"
    },
    {
     "data": {
      "text/html": [
       "\n",
       "    <div style=\"font-size: 15pt; \n",
       "                font-family: Times New Roman; \n",
       "                direction: rtl; \n",
       "                color:;\n",
       "                width: 80%\">\n",
       "\n",
       "                89:29&nbsp;&nbsp;&nbsp;&nbsp;14&nbsp;&nbsp;Ptcp&nbsp;&nbsp;&nbsp;&nbsp;&nbsp;&nbsp;..........................................וּ֝בְרִיתִ֗י נֶאֱמֶ֥נֶת לֹֽו׃  \n",
       "    </div>\n",
       "    "
      ],
      "text/plain": [
       "<IPython.core.display.HTML object>"
      ]
     },
     "metadata": {},
     "output_type": "display_data"
    },
    {
     "data": {
      "text/html": [
       "\n",
       "    <div style=\"font-size: 15pt; \n",
       "                font-family: Times New Roman; \n",
       "                direction: rtl; \n",
       "                color:;\n",
       "                width: 80%\">\n",
       "\n",
       "                89:30&nbsp;&nbsp;&nbsp;&nbsp;13&nbsp;&nbsp;WQt0&nbsp;&nbsp;&nbsp;&nbsp;&nbsp;&nbsp;.......................................וְשַׂמְתִּ֣י לָעַ֣ד זַרְעֹ֑ו  \n",
       "    </div>\n",
       "    "
      ],
      "text/plain": [
       "<IPython.core.display.HTML object>"
      ]
     },
     "metadata": {},
     "output_type": "display_data"
    },
    {
     "data": {
      "text/html": [
       "\n",
       "    <div style=\"font-size: 15pt; \n",
       "                font-family: Times New Roman; \n",
       "                direction: rtl; \n",
       "                color:;\n",
       "                width: 80%\">\n",
       "\n",
       "                89:30&nbsp;&nbsp;&nbsp;&nbsp;14&nbsp;&nbsp;Ellp&nbsp;&nbsp;&nbsp;&nbsp;&nbsp;&nbsp;..........................................וְ֝כִסְאֹ֗ו כִּימֵ֥י שָׁמָֽיִם׃  \n",
       "    </div>\n",
       "    "
      ],
      "text/plain": [
       "<IPython.core.display.HTML object>"
      ]
     },
     "metadata": {},
     "output_type": "display_data"
    },
    {
     "name": "stdout",
     "output_type": "stream",
     "text": [
      "\n"
     ]
    },
    {
     "data": {
      "text/html": [
       "<span style=\"font-size: 14pt; font-family: Times New Roman\">Psalms 111</span>"
      ],
      "text/plain": [
       "<IPython.core.display.HTML object>"
      ]
     },
     "metadata": {},
     "output_type": "display_data"
    },
    {
     "name": "stdout",
     "output_type": "stream",
     "text": [
      "\n"
     ]
    },
    {
     "data": {
      "text/html": [
       "\n",
       "    <div style=\"font-size: 15pt; \n",
       "                font-family: Times New Roman; \n",
       "                direction: rtl; \n",
       "                color:blue;\n",
       "                width: 80%\">\n",
       "\n",
       "                111:5&nbsp;&nbsp;&nbsp;&nbsp;6&nbsp;&nbsp;ZYq0&nbsp;&nbsp;&nbsp;&nbsp;&nbsp;&nbsp;..................יִזְכֹּ֖ר לְעֹולָ֣ם בְּרִיתֹֽו׃  \n",
       "    </div>\n",
       "    "
      ],
      "text/plain": [
       "<IPython.core.display.HTML object>"
      ]
     },
     "metadata": {},
     "output_type": "display_data"
    },
    {
     "data": {
      "text/html": [
       "\n",
       "    <div style=\"font-size: 15pt; \n",
       "                font-family: Times New Roman; \n",
       "                direction: rtl; \n",
       "                color:;\n",
       "                width: 80%\">\n",
       "\n",
       "                111:6&nbsp;&nbsp;&nbsp;&nbsp;7&nbsp;&nbsp;xQt0&nbsp;&nbsp;&nbsp;&nbsp;&nbsp;&nbsp;.....................כֹּ֣חַ מַ֭עֲשָׂיו הִגִּ֣יד לְעַמֹּ֑ו  \n",
       "    </div>\n",
       "    "
      ],
      "text/plain": [
       "<IPython.core.display.HTML object>"
      ]
     },
     "metadata": {},
     "output_type": "display_data"
    },
    {
     "data": {
      "text/html": [
       "\n",
       "    <div style=\"font-size: 15pt; \n",
       "                font-family: Times New Roman; \n",
       "                direction: rtl; \n",
       "                color:;\n",
       "                width: 80%\">\n",
       "\n",
       "                111:6&nbsp;&nbsp;&nbsp;&nbsp;8&nbsp;&nbsp;InfC&nbsp;&nbsp;&nbsp;&nbsp;&nbsp;&nbsp;........................לָתֵ֥ת לָ֝הֶ֗ם נַחֲלַ֥ת גֹּויִֽם׃  \n",
       "    </div>\n",
       "    "
      ],
      "text/plain": [
       "<IPython.core.display.HTML object>"
      ]
     },
     "metadata": {},
     "output_type": "display_data"
    },
    {
     "name": "stdout",
     "output_type": "stream",
     "text": [
      "\n"
     ]
    },
    {
     "data": {
      "text/html": [
       "<span style=\"font-size: 14pt; font-family: Times New Roman\">Psalms 119</span>"
      ],
      "text/plain": [
       "<IPython.core.display.HTML object>"
      ]
     },
     "metadata": {},
     "output_type": "display_data"
    },
    {
     "name": "stdout",
     "output_type": "stream",
     "text": [
      "\n"
     ]
    },
    {
     "data": {
      "text/html": [
       "\n",
       "    <div style=\"font-size: 15pt; \n",
       "                font-family: Times New Roman; \n",
       "                direction: rtl; \n",
       "                color:blue;\n",
       "                width: 80%\">\n",
       "\n",
       "                119:93&nbsp;&nbsp;&nbsp;&nbsp;2&nbsp;&nbsp;xYq0&nbsp;&nbsp;&nbsp;&nbsp;&nbsp;&nbsp;......לְ֭עֹולָם לֹא־אֶשְׁכַּ֣ח פִּקּוּדֶ֑יךָ  \n",
       "    </div>\n",
       "    "
      ],
      "text/plain": [
       "<IPython.core.display.HTML object>"
      ]
     },
     "metadata": {},
     "output_type": "display_data"
    },
    {
     "data": {
      "text/html": [
       "\n",
       "    <div style=\"font-size: 15pt; \n",
       "                font-family: Times New Roman; \n",
       "                direction: rtl; \n",
       "                color:;\n",
       "                width: 80%\">\n",
       "\n",
       "                119:93&nbsp;&nbsp;&nbsp;&nbsp;5&nbsp;&nbsp;xQt0&nbsp;&nbsp;&nbsp;&nbsp;&nbsp;&nbsp;...............כִּ֥י בָ֝֗ם חִיִּיתָֽנִי׃  \n",
       "    </div>\n",
       "    "
      ],
      "text/plain": [
       "<IPython.core.display.HTML object>"
      ]
     },
     "metadata": {},
     "output_type": "display_data"
    },
    {
     "data": {
      "text/html": [
       "\n",
       "    <div style=\"font-size: 15pt; \n",
       "                font-family: Times New Roman; \n",
       "                direction: rtl; \n",
       "                color:;\n",
       "                width: 80%\">\n",
       "\n",
       "                119:94&nbsp;&nbsp;&nbsp;&nbsp;4&nbsp;&nbsp;NmCl&nbsp;&nbsp;&nbsp;&nbsp;&nbsp;&nbsp;............לְֽךָ־אֲ֭נִי  \n",
       "    </div>\n",
       "    "
      ],
      "text/plain": [
       "<IPython.core.display.HTML object>"
      ]
     },
     "metadata": {},
     "output_type": "display_data"
    },
    {
     "data": {
      "text/html": [
       "\n",
       "    <div style=\"font-size: 15pt; \n",
       "                font-family: Times New Roman; \n",
       "                direction: rtl; \n",
       "                color:;\n",
       "                width: 80%\">\n",
       "\n",
       "                119:94&nbsp;&nbsp;&nbsp;&nbsp;6&nbsp;&nbsp;ZIm0&nbsp;&nbsp;&nbsp;&nbsp;&nbsp;&nbsp;..................הֹושִׁיעֵ֑נִי  \n",
       "    </div>\n",
       "    "
      ],
      "text/plain": [
       "<IPython.core.display.HTML object>"
      ]
     },
     "metadata": {},
     "output_type": "display_data"
    },
    {
     "data": {
      "text/html": [
       "\n",
       "    <div style=\"font-size: 15pt; \n",
       "                font-family: Times New Roman; \n",
       "                direction: rtl; \n",
       "                color:;\n",
       "                width: 80%\">\n",
       "\n",
       "                119:94&nbsp;&nbsp;&nbsp;&nbsp;7&nbsp;&nbsp;xQt0&nbsp;&nbsp;&nbsp;&nbsp;&nbsp;&nbsp;.....................כִּ֖י פִקּוּדֶ֣יךָ דָרָֽשְׁתִּי׃  \n",
       "    </div>\n",
       "    "
      ],
      "text/plain": [
       "<IPython.core.display.HTML object>"
      ]
     },
     "metadata": {},
     "output_type": "display_data"
    },
    {
     "data": {
      "text/html": [
       "\n",
       "    <div style=\"font-size: 15pt; \n",
       "                font-family: Times New Roman; \n",
       "                direction: rtl; \n",
       "                color:;\n",
       "                width: 80%\">\n",
       "\n",
       "                119:95&nbsp;&nbsp;&nbsp;&nbsp;5&nbsp;&nbsp;xQtX&nbsp;&nbsp;&nbsp;&nbsp;&nbsp;&nbsp;...............לִ֤י קִוּ֣וּ רְשָׁעִ֣ים  \n",
       "    </div>\n",
       "    "
      ],
      "text/plain": [
       "<IPython.core.display.HTML object>"
      ]
     },
     "metadata": {},
     "output_type": "display_data"
    },
    {
     "data": {
      "text/html": [
       "\n",
       "    <div style=\"font-size: 15pt; \n",
       "                font-family: Times New Roman; \n",
       "                direction: rtl; \n",
       "                color:;\n",
       "                width: 80%\">\n",
       "\n",
       "                119:95&nbsp;&nbsp;&nbsp;&nbsp;7&nbsp;&nbsp;InfC&nbsp;&nbsp;&nbsp;&nbsp;&nbsp;&nbsp;.....................לְאַבְּדֵ֑נִי  \n",
       "    </div>\n",
       "    "
      ],
      "text/plain": [
       "<IPython.core.display.HTML object>"
      ]
     },
     "metadata": {},
     "output_type": "display_data"
    },
    {
     "data": {
      "text/html": [
       "\n",
       "    <div style=\"font-size: 15pt; \n",
       "                font-family: Times New Roman; \n",
       "                direction: rtl; \n",
       "                color:;\n",
       "                width: 80%\">\n",
       "\n",
       "                119:95&nbsp;&nbsp;&nbsp;&nbsp;6&nbsp;&nbsp;xYq0&nbsp;&nbsp;&nbsp;&nbsp;&nbsp;&nbsp;..................עֵ֝דֹתֶ֗יךָ אֶתְבֹּונָֽן׃  \n",
       "    </div>\n",
       "    "
      ],
      "text/plain": [
       "<IPython.core.display.HTML object>"
      ]
     },
     "metadata": {},
     "output_type": "display_data"
    },
    {
     "data": {
      "text/html": [
       "\n",
       "    <div style=\"font-size: 15pt; \n",
       "                font-family: Times New Roman; \n",
       "                direction: rtl; \n",
       "                color:;\n",
       "                width: 80%\">\n",
       "\n",
       "                119:96&nbsp;&nbsp;&nbsp;&nbsp;3&nbsp;&nbsp;xQt0&nbsp;&nbsp;&nbsp;&nbsp;&nbsp;&nbsp;.........לְֽכָל תִּ֭כְלָה רָאִ֣יתִי קֵ֑ץ  \n",
       "    </div>\n",
       "    "
      ],
      "text/plain": [
       "<IPython.core.display.HTML object>"
      ]
     },
     "metadata": {},
     "output_type": "display_data"
    },
    {
     "data": {
      "text/html": [
       "\n",
       "    <div style=\"font-size: 15pt; \n",
       "                font-family: Times New Roman; \n",
       "                direction: rtl; \n",
       "                color:;\n",
       "                width: 80%\">\n",
       "\n",
       "                119:96&nbsp;&nbsp;&nbsp;&nbsp;4&nbsp;&nbsp;AjCl&nbsp;&nbsp;&nbsp;&nbsp;&nbsp;&nbsp;............רְחָבָ֖ה מִצְוָתְךָ֣ מְאֹֽד׃  \n",
       "    </div>\n",
       "    "
      ],
      "text/plain": [
       "<IPython.core.display.HTML object>"
      ]
     },
     "metadata": {},
     "output_type": "display_data"
    },
    {
     "name": "stdout",
     "output_type": "stream",
     "text": [
      "\n"
     ]
    },
    {
     "data": {
      "text/html": [
       "<span style=\"font-size: 14pt; font-family: Times New Roman\">Psalms 146</span>"
      ],
      "text/plain": [
       "<IPython.core.display.HTML object>"
      ]
     },
     "metadata": {},
     "output_type": "display_data"
    },
    {
     "name": "stdout",
     "output_type": "stream",
     "text": [
      "\n"
     ]
    },
    {
     "data": {
      "text/html": [
       "\n",
       "    <div style=\"font-size: 15pt; \n",
       "                font-family: Times New Roman; \n",
       "                direction: rtl; \n",
       "                color:blue;\n",
       "                width: 80%\">\n",
       "\n",
       "                146:10&nbsp;&nbsp;&nbsp;&nbsp;3&nbsp;&nbsp;ZYqX&nbsp;&nbsp;&nbsp;&nbsp;&nbsp;&nbsp;.........יִמְלֹ֤ךְ יְהוָ֨ה׀ לְעֹולָ֗ם  \n",
       "    </div>\n",
       "    "
      ],
      "text/plain": [
       "<IPython.core.display.HTML object>"
      ]
     },
     "metadata": {},
     "output_type": "display_data"
    },
    {
     "data": {
      "text/html": [
       "\n",
       "    <div style=\"font-size: 15pt; \n",
       "                font-family: Times New Roman; \n",
       "                direction: rtl; \n",
       "                color:;\n",
       "                width: 80%\">\n",
       "\n",
       "                146:10&nbsp;&nbsp;&nbsp;&nbsp;4&nbsp;&nbsp;Defc&nbsp;&nbsp;&nbsp;&nbsp;&nbsp;&nbsp;............אֱלֹהַ֣יִךְ  \n",
       "    </div>\n",
       "    "
      ],
      "text/plain": [
       "<IPython.core.display.HTML object>"
      ]
     },
     "metadata": {},
     "output_type": "display_data"
    },
    {
     "data": {
      "text/html": [
       "\n",
       "    <div style=\"font-size: 15pt; \n",
       "                font-family: Times New Roman; \n",
       "                direction: rtl; \n",
       "                color:;\n",
       "                width: 80%\">\n",
       "\n",
       "                146:10&nbsp;&nbsp;&nbsp;&nbsp;6&nbsp;&nbsp;Voct&nbsp;&nbsp;&nbsp;&nbsp;&nbsp;&nbsp;..................צִ֭יֹּון  \n",
       "    </div>\n",
       "    "
      ],
      "text/plain": [
       "<IPython.core.display.HTML object>"
      ]
     },
     "metadata": {},
     "output_type": "display_data"
    },
    {
     "data": {
      "text/html": [
       "\n",
       "    <div style=\"font-size: 15pt; \n",
       "                font-family: Times New Roman; \n",
       "                direction: rtl; \n",
       "                color:;\n",
       "                width: 80%\">\n",
       "\n",
       "                146:10&nbsp;&nbsp;&nbsp;&nbsp;5&nbsp;&nbsp;NmCl&nbsp;&nbsp;&nbsp;&nbsp;&nbsp;&nbsp;...............לְדֹ֥ר וָדֹ֗ר  \n",
       "    </div>\n",
       "    "
      ],
      "text/plain": [
       "<IPython.core.display.HTML object>"
      ]
     },
     "metadata": {},
     "output_type": "display_data"
    },
    {
     "name": "stdout",
     "output_type": "stream",
     "text": [
      "\n"
     ]
    },
    {
     "data": {
      "text/html": [
       "<span style=\"font-size: 14pt; font-family: Times New Roman\">Lamentations 3</span>"
      ],
      "text/plain": [
       "<IPython.core.display.HTML object>"
      ]
     },
     "metadata": {},
     "output_type": "display_data"
    },
    {
     "name": "stdout",
     "output_type": "stream",
     "text": [
      "\n"
     ]
    },
    {
     "data": {
      "text/html": [
       "\n",
       "    <div style=\"font-size: 15pt; \n",
       "                font-family: Times New Roman; \n",
       "                direction: rtl; \n",
       "                color:blue;\n",
       "                width: 80%\">\n",
       "\n",
       "                3:31&nbsp;&nbsp;&nbsp;&nbsp;9&nbsp;&nbsp;xYqX&nbsp;&nbsp;&nbsp;&nbsp;&nbsp;&nbsp;...........................כִּ֣י לֹ֥א יִזְנַ֛ח לְעֹולָ֖ם אֲדֹנָֽי׃  \n",
       "    </div>\n",
       "    "
      ],
      "text/plain": [
       "<IPython.core.display.HTML object>"
      ]
     },
     "metadata": {},
     "output_type": "display_data"
    },
    {
     "data": {
      "text/html": [
       "\n",
       "    <div style=\"font-size: 15pt; \n",
       "                font-family: Times New Roman; \n",
       "                direction: rtl; \n",
       "                color:;\n",
       "                width: 80%\">\n",
       "\n",
       "                3:32&nbsp;&nbsp;&nbsp;&nbsp;12&nbsp;&nbsp;xQt0&nbsp;&nbsp;&nbsp;&nbsp;&nbsp;&nbsp;....................................כִּ֣י אִם־הֹוגָ֔ה  \n",
       "    </div>\n",
       "    "
      ],
      "text/plain": [
       "<IPython.core.display.HTML object>"
      ]
     },
     "metadata": {},
     "output_type": "display_data"
    },
    {
     "data": {
      "text/html": [
       "\n",
       "    <div style=\"font-size: 15pt; \n",
       "                font-family: Times New Roman; \n",
       "                direction: rtl; \n",
       "                color:;\n",
       "                width: 80%\">\n",
       "\n",
       "                3:32&nbsp;&nbsp;&nbsp;&nbsp;13&nbsp;&nbsp;WQt0&nbsp;&nbsp;&nbsp;&nbsp;&nbsp;&nbsp;.......................................וְרִחַ֖ם כְּרֹ֥ב חֲסָדָֽיו׃ \n",
       "    </div>\n",
       "    "
      ],
      "text/plain": [
       "<IPython.core.display.HTML object>"
      ]
     },
     "metadata": {},
     "output_type": "display_data"
    },
    {
     "data": {
      "text/html": [
       "\n",
       "    <div style=\"font-size: 15pt; \n",
       "                font-family: Times New Roman; \n",
       "                direction: rtl; \n",
       "                color:;\n",
       "                width: 80%\">\n",
       "\n",
       "                3:33&nbsp;&nbsp;&nbsp;&nbsp;11&nbsp;&nbsp;xQt0&nbsp;&nbsp;&nbsp;&nbsp;&nbsp;&nbsp;.................................כִּ֣י לֹ֤א עִנָּה֙ מִלִּבֹּ֔ו  \n",
       "    </div>\n",
       "    "
      ],
      "text/plain": [
       "<IPython.core.display.HTML object>"
      ]
     },
     "metadata": {},
     "output_type": "display_data"
    },
    {
     "data": {
      "text/html": [
       "\n",
       "    <div style=\"font-size: 15pt; \n",
       "                font-family: Times New Roman; \n",
       "                direction: rtl; \n",
       "                color:;\n",
       "                width: 80%\">\n",
       "\n",
       "                3:33&nbsp;&nbsp;&nbsp;&nbsp;12&nbsp;&nbsp;Way0&nbsp;&nbsp;&nbsp;&nbsp;&nbsp;&nbsp;....................................וַיַּגֶּ֖ה בְּנֵי־אִֽישׁ׃ ס  \n",
       "    </div>\n",
       "    "
      ],
      "text/plain": [
       "<IPython.core.display.HTML object>"
      ]
     },
     "metadata": {},
     "output_type": "display_data"
    },
    {
     "data": {
      "text/html": [
       "\n",
       "    <div style=\"font-size: 15pt; \n",
       "                font-family: Times New Roman; \n",
       "                direction: rtl; \n",
       "                color:;\n",
       "                width: 80%\">\n",
       "\n",
       "                3:36&nbsp;&nbsp;&nbsp;&nbsp;10&nbsp;&nbsp;XQtl&nbsp;&nbsp;&nbsp;&nbsp;&nbsp;&nbsp;..............................אֲדֹנָ֖י לֹ֥א רָאָֽה׃ ס  \n",
       "    </div>\n",
       "    "
      ],
      "text/plain": [
       "<IPython.core.display.HTML object>"
      ]
     },
     "metadata": {},
     "output_type": "display_data"
    },
    {
     "name": "stdout",
     "output_type": "stream",
     "text": [
      "\n"
     ]
    },
    {
     "data": {
      "text/html": [
       "<span style=\"font-size: 14pt; font-family: Times New Roman\">Lamentations 5</span>"
      ],
      "text/plain": [
       "<IPython.core.display.HTML object>"
      ]
     },
     "metadata": {},
     "output_type": "display_data"
    },
    {
     "name": "stdout",
     "output_type": "stream",
     "text": [
      "\n"
     ]
    },
    {
     "data": {
      "text/html": [
       "\n",
       "    <div style=\"font-size: 15pt; \n",
       "                font-family: Times New Roman; \n",
       "                direction: rtl; \n",
       "                color:blue;\n",
       "                width: 80%\">\n",
       "\n",
       "                5:19&nbsp;&nbsp;&nbsp;&nbsp;1&nbsp;&nbsp;XYqt&nbsp;&nbsp;&nbsp;&nbsp;&nbsp;&nbsp;...אַתָּ֤ה יְהוָה֙ לְעֹולָ֣ם תֵּשֵׁ֔ב  \n",
       "    </div>\n",
       "    "
      ],
      "text/plain": [
       "<IPython.core.display.HTML object>"
      ]
     },
     "metadata": {},
     "output_type": "display_data"
    },
    {
     "data": {
      "text/html": [
       "\n",
       "    <div style=\"font-size: 15pt; \n",
       "                font-family: Times New Roman; \n",
       "                direction: rtl; \n",
       "                color:;\n",
       "                width: 80%\">\n",
       "\n",
       "                5:19&nbsp;&nbsp;&nbsp;&nbsp;4&nbsp;&nbsp;NmCl&nbsp;&nbsp;&nbsp;&nbsp;&nbsp;&nbsp;............כִּסְאֲךָ֖ לְדֹ֥ר וָדֹֽור׃  \n",
       "    </div>\n",
       "    "
      ],
      "text/plain": [
       "<IPython.core.display.HTML object>"
      ]
     },
     "metadata": {},
     "output_type": "display_data"
    },
    {
     "data": {
      "text/html": [
       "\n",
       "    <div style=\"font-size: 15pt; \n",
       "                font-family: Times New Roman; \n",
       "                direction: rtl; \n",
       "                color:;\n",
       "                width: 80%\">\n",
       "\n",
       "                5:20&nbsp;&nbsp;&nbsp;&nbsp;3&nbsp;&nbsp;xYq0&nbsp;&nbsp;&nbsp;&nbsp;&nbsp;&nbsp;.........לָ֤מָּה לָנֶ֨צַח֙ תִּשְׁכָּחֵ֔נוּ  \n",
       "    </div>\n",
       "    "
      ],
      "text/plain": [
       "<IPython.core.display.HTML object>"
      ]
     },
     "metadata": {},
     "output_type": "display_data"
    },
    {
     "data": {
      "text/html": [
       "\n",
       "    <div style=\"font-size: 15pt; \n",
       "                font-family: Times New Roman; \n",
       "                direction: rtl; \n",
       "                color:;\n",
       "                width: 80%\">\n",
       "\n",
       "                5:20&nbsp;&nbsp;&nbsp;&nbsp;4&nbsp;&nbsp;ZYq0&nbsp;&nbsp;&nbsp;&nbsp;&nbsp;&nbsp;............תַּֽעַזְבֵ֖נוּ לְאֹ֥רֶךְ יָמִֽים׃  \n",
       "    </div>\n",
       "    "
      ],
      "text/plain": [
       "<IPython.core.display.HTML object>"
      ]
     },
     "metadata": {},
     "output_type": "display_data"
    },
    {
     "data": {
      "text/html": [
       "\n",
       "    <div style=\"font-size: 15pt; \n",
       "                font-family: Times New Roman; \n",
       "                direction: rtl; \n",
       "                color:;\n",
       "                width: 80%\">\n",
       "\n",
       "                5:21&nbsp;&nbsp;&nbsp;&nbsp;2&nbsp;&nbsp;ZIm0&nbsp;&nbsp;&nbsp;&nbsp;&nbsp;&nbsp;......הֲשִׁיבֵ֨נוּ  \n",
       "    </div>\n",
       "    "
      ],
      "text/plain": [
       "<IPython.core.display.HTML object>"
      ]
     },
     "metadata": {},
     "output_type": "display_data"
    },
    {
     "data": {
      "text/html": [
       "\n",
       "    <div style=\"font-size: 15pt; \n",
       "                font-family: Times New Roman; \n",
       "                direction: rtl; \n",
       "                color:;\n",
       "                width: 80%\">\n",
       "\n",
       "                5:21&nbsp;&nbsp;&nbsp;&nbsp;6&nbsp;&nbsp;Voct&nbsp;&nbsp;&nbsp;&nbsp;&nbsp;&nbsp;..................יְהוָ֤ה׀  \n",
       "    </div>\n",
       "    "
      ],
      "text/plain": [
       "<IPython.core.display.HTML object>"
      ]
     },
     "metadata": {},
     "output_type": "display_data"
    },
    {
     "data": {
      "text/html": [
       "\n",
       "    <div style=\"font-size: 15pt; \n",
       "                font-family: Times New Roman; \n",
       "                direction: rtl; \n",
       "                color:;\n",
       "                width: 80%\">\n",
       "\n",
       "                5:21&nbsp;&nbsp;&nbsp;&nbsp;5&nbsp;&nbsp;Defc&nbsp;&nbsp;&nbsp;&nbsp;&nbsp;&nbsp;...............אֵלֶ֨יךָ֙  \n",
       "    </div>\n",
       "    "
      ],
      "text/plain": [
       "<IPython.core.display.HTML object>"
      ]
     },
     "metadata": {},
     "output_type": "display_data"
    },
    {
     "data": {
      "text/html": [
       "\n",
       "    <div style=\"font-size: 15pt; \n",
       "                font-family: Times New Roman; \n",
       "                direction: rtl; \n",
       "                color:;\n",
       "                width: 80%\">\n",
       "\n",
       "                5:21&nbsp;&nbsp;&nbsp;&nbsp;4&nbsp;&nbsp;WYq0&nbsp;&nbsp;&nbsp;&nbsp;&nbsp;&nbsp;............וְֽנָשׁ֔וּבָה  \n",
       "    </div>\n",
       "    "
      ],
      "text/plain": [
       "<IPython.core.display.HTML object>"
      ]
     },
     "metadata": {},
     "output_type": "display_data"
    },
    {
     "data": {
      "text/html": [
       "\n",
       "    <div style=\"font-size: 15pt; \n",
       "                font-family: Times New Roman; \n",
       "                direction: rtl; \n",
       "                color:;\n",
       "                width: 80%\">\n",
       "\n",
       "                5:21&nbsp;&nbsp;&nbsp;&nbsp;3&nbsp;&nbsp;ZIm0&nbsp;&nbsp;&nbsp;&nbsp;&nbsp;&nbsp;.........חַדֵּ֥שׁ יָמֵ֖ינוּ כְּקֶֽדֶם׃  \n",
       "    </div>\n",
       "    "
      ],
      "text/plain": [
       "<IPython.core.display.HTML object>"
      ]
     },
     "metadata": {},
     "output_type": "display_data"
    },
    {
     "data": {
      "text/html": [
       "\n",
       "    <div style=\"font-size: 15pt; \n",
       "                font-family: Times New Roman; \n",
       "                direction: rtl; \n",
       "                color:;\n",
       "                width: 80%\">\n",
       "\n",
       "                5:22&nbsp;&nbsp;&nbsp;&nbsp;4&nbsp;&nbsp;xQt0&nbsp;&nbsp;&nbsp;&nbsp;&nbsp;&nbsp;............כִּ֚י אִם־מָאֹ֣ס מְאַסְתָּ֔נוּ  \n",
       "    </div>\n",
       "    "
      ],
      "text/plain": [
       "<IPython.core.display.HTML object>"
      ]
     },
     "metadata": {},
     "output_type": "display_data"
    },
    {
     "data": {
      "text/html": [
       "\n",
       "    <div style=\"font-size: 15pt; \n",
       "                font-family: Times New Roman; \n",
       "                direction: rtl; \n",
       "                color:;\n",
       "                width: 80%\">\n",
       "\n",
       "                5:22&nbsp;&nbsp;&nbsp;&nbsp;5&nbsp;&nbsp;ZQt0&nbsp;&nbsp;&nbsp;&nbsp;&nbsp;&nbsp;...............קָצַ֥פְתָּ עָלֵ֖ינוּ עַד־מְאֹֽד׃  \n",
       "    </div>\n",
       "    "
      ],
      "text/plain": [
       "<IPython.core.display.HTML object>"
      ]
     },
     "metadata": {},
     "output_type": "display_data"
    },
    {
     "name": "stdout",
     "output_type": "stream",
     "text": [
      "\n"
     ]
    }
   ],
   "source": [
    "# display all time spans\n",
    "\n",
    "for span in l_olam_spans:\n",
    "    \n",
    "    span_clauses = span['span_clause_atoms']\n",
    "    \n",
    "    display_span(span_clauses)"
   ]
  },
  {
   "cell_type": "code",
   "execution_count": 109,
   "metadata": {
    "collapsed": true
   },
   "outputs": [],
   "source": [
    "# export pickled timespans\n",
    "\n",
    "with open('l_olam_wayyiqtol.pickle', 'wb') as outfile:\n",
    "    \n",
    "    pickle.dump(lolam_span_with_wayyiqtol, outfile)"
   ]
  }
 ],
 "metadata": {
  "kernelspec": {
   "display_name": "Python 3",
   "language": "python",
   "name": "python3"
  },
  "language_info": {
   "codemirror_mode": {
    "name": "ipython",
    "version": 3
   },
   "file_extension": ".py",
   "mimetype": "text/x-python",
   "name": "python",
   "nbconvert_exporter": "python",
   "pygments_lexer": "ipython3",
   "version": "3.6.0"
  }
 },
 "nbformat": 4,
 "nbformat_minor": 2
}
